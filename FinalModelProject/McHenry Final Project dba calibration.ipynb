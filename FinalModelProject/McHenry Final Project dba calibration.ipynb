{
 "cells": [
  {
   "cell_type": "markdown",
   "metadata": {
    "colab_type": "text",
    "id": "aGqCJ4Bi-tqz"
   },
   "source": [
    "# FloPy McHenry Final Project 4/20"
   ]
  },
  {
   "cell_type": "markdown",
   "metadata": {},
   "source": [
    "https://flopy.readthedocs.io/en/3.3.5/code.html"
   ]
  },
  {
   "cell_type": "markdown",
   "metadata": {
    "colab_type": "text",
    "id": "e-P6TXXqJU05"
   },
   "source": [
    "# Introduction\n",
    "Flopy is a python package, developed to create and run MODFLOW groundwater flow models. The schematic below, illustrates how Flopy communicates with MODFLOW:\n",
    "\n",
    "<img src=\"https://i.imgur.com/n2Dj6QF.png\" title=\"Flopy to MODFLOW Flow Chart\" /></a>\n",
    "\n",
    "* <strong> <font size = 5> 1 </font> </strong> Aquifer properties are collected or estimated from some aquifer system, including dimensions, elevations, hydraulic conductivity, specific storage/yield and location/properties of wells, rivers, lakes or other hydrologic features. \n",
    "\n",
    "* <strong> <font size = 5> 2 </font> </strong> A model is created in a python script using the Flopy package to set up the different Packages MODFLOW uses to run its groundwater flow models, (DIS, BAS, LPF, RIV, WEL, ETC...), as python object. \n",
    "\n",
    "* <strong> <font size = 5> 3 </font> </strong> Flopy is called to write the MODFLOW input files from these objects. \n",
    "\n",
    "* <strong> <font size = 5> 4 </font> </strong> A Flopy function sends the files to a specified MODFLOW executable program that will be used to solve the groundwater flow model. \n",
    "\n",
    "* <strong> <font size = 5> 5 </font> </strong> The MODFLOW executable program outputs binary data into head and budget files. \n",
    "\n",
    "* <strong> <font size = 5> 6 </font> </strong> Flopy reads in binary head and budget data from the MODFLOW output files.\n",
    "\n",
    "* <strong> <font size = 5> 7 </font> </strong> Data is visualized using Flopy's plotting capabilities.        \n",
    "\n",
    "\n",
    "## Contents of script:\n",
    "\n",
    "* <strong><a href=\"#I\">I: Model Object</a></strong>\n",
    "\n",
    "\n",
    "#### Creating MODFLOW Packages in Flopy:\n",
    "* <strong><a href=\"#II\">II: DIS Package</a> </strong> \n",
    "    <ul>\n",
    "      <li> Discretizing time & space and setting up the MODFLOW DIS file.</li>  \n",
    "        </ul>\n",
    "    \n",
    "* <strong><a href=\"#III\">III: BAS Package</a> </strong>\n",
    "    <ul>\n",
    "      <li> Specifying cell activity and setting up the MODFLOW BAS file.</li>  \n",
    "        </ul>\n",
    "* <strong><a href=\"#IV\">IV: LPF Package</a> </strong>\n",
    "    <ul>\n",
    "      <li> Defining model properties and setting up the MODFLOW LPF file.</li>  \n",
    "        </ul>\n",
    "\n",
    "* <strong><a href=\"#V\">V: OC Package</a> </strong>\n",
    "    <ul>\n",
    "      <li> Specifying the data that the MODFLOW executable will record as output during the model run and setting up the MODFLOW OC package.</li>  \n",
    "        </ul>\n",
    "\n",
    "* <strong><a href=\"#VI\">VI: PCG Package</a> </strong>\n",
    "    <ul>\n",
    "      <li> Assigning the pre-conditioned conjugate gradient solver to the groundwater flow model by setting up the MODFLOW PCG package.</li>  \n",
    "        </ul>\n",
    "\n",
    "#### Writing Files and Running Model:\n",
    "\n",
    "* <strong><a href=\"#VII\">VII: Write MODFLOW Input Files</a> </strong>\n",
    "* <strong><a href=\"#VIII\">VIII: Run MODFLOW executable</a> </strong>\n",
    "\n",
    "#### Post Processing:\n",
    "* <strong><a href=\"#IX\">IX: Read MODFLOW output</a> </strong>\n",
    "* <strong><a href=\"#X\">X: Plot Results</a> </strong>\n",
    "* <strong><a href=\"#XI\">XI: Calibration</a> </strong>\n",
    "* <strong><a href=\"#XII\">XII: MT3DMS</a> </strong>\n",
    "    </li>\n",
    "<ol>\n",
    "\n"
   ]
  },
  {
   "cell_type": "markdown",
   "metadata": {
    "colab_type": "text",
    "id": "Ebx4wqUE-tq4"
   },
   "source": [
    "- First we will import the appropriate packages to run a modflow model in python and display the data"
   ]
  },
  {
   "cell_type": "code",
   "execution_count": 1,
   "metadata": {
    "colab": {
     "base_uri": "https://localhost:8080/",
     "height": 34
    },
    "colab_type": "code",
    "id": "UmQLU45S-tq5",
    "outputId": "8dc0b30f-cd0c-41f0-cf90-8777d8557b0b"
   },
   "outputs": [],
   "source": [
    "import flopy # if you get an error importing flopy, then install using: pip install flopy\n",
    "import numpy as np\n",
    "import matplotlib.pyplot as plt\n",
    "import matplotlib as mp\n",
    "import pandas as pd\n",
    "import seaborn as sns\n",
    "from simpledbf import Dbf5\n",
    "\n",
    "\n",
    "#jupyter specific--included to show plots in notebook\n",
    "%matplotlib inline "
   ]
  },
  {
   "cell_type": "markdown",
   "metadata": {
    "colab_type": "text",
    "id": "TYsgVFMC-tq9"
   },
   "source": [
    " <a name=\"I\"></a> \n",
    " ## I. Create Model Object\n",
    "\n",
    "- We define a Modflow model object using the following flopy function. The arguments are telling the 'model' what the modelname is and where the MODFLOW .exe file is to use to run the model on your computer. <strong> You will have to modify the exe_name variable to direct flopy to the modflow executable file on your computer!</strong> Note that the default model workspace is the location of your python notebook, so all MODFLOW files will be created there, but you may specify a different workspace if you'd like the files to be created somewhere else. (See: https://flopy.readthedocs.io/en/3.3.5/code.html for more options)"
   ]
  },
  {
   "cell_type": "code",
   "execution_count": 2,
   "metadata": {
    "colab": {},
    "colab_type": "code",
    "id": "RhU9t5Vg-tq9"
   },
   "outputs": [],
   "source": [
    "modelname = \"my_model\"\n",
    "m = flopy.modflow.Modflow(modelname, exe_name = 'mf2005')"
   ]
  },
  {
   "cell_type": "code",
   "execution_count": 3,
   "metadata": {},
   "outputs": [],
   "source": [
    "# define the function that converts data frame to array; reshapes it and saves as variable\n",
    "# 3D array of 10 layers by 205 rows by 225 columns\n",
    "def array_shaper(j,layer):\n",
    "    j = j.to_numpy()\n",
    "    j = np.reshape(j, (205,225,layer))\n",
    "    j = np.transpose(j, (2, 0, 1))\n",
    "    return j"
   ]
  },
  {
   "cell_type": "markdown",
   "metadata": {
    "colab_type": "text",
    "id": "Z5qFnrjJ-trA"
   },
   "source": [
    " <a name=\"II\"></a> \n",
    "## II. MODFLOW DIS package\n",
    "Now we attach the DIS package to our model. The DIS package specifies model discretization in space and time. It contains information regarding:\n",
    "- <strong> spatial discretization: </strong> (the number of rows, layers, and columns, as well as cell sizes)\n",
    "- <strong> temporal discretization: </strong> (number of stress periods, steady-state/transient model within a stress period, length of stress periods, and the number of time steps within stress periods)\n",
    "- length and time <strong> units  </strong>\n",
    "\n",
    "### Spatial Discretization\n",
    "- We define a 100 x 100 unit model domain, and discretize this into 10 rows and columns. "
   ]
  },
  {
   "cell_type": "code",
   "execution_count": 4,
   "metadata": {
    "colab": {},
    "colab_type": "code",
    "id": "lMGujmgg-trB"
   },
   "outputs": [],
   "source": [
    "#assign discretization variables\n",
    "\n",
    "nlay = 10\n",
    "nrow = 205\n",
    "ncol = 225\n",
    "dx = 625.\n",
    "dy = 625.\n",
    "Lx = dx*ncol\n",
    "Ly = dy*nrow\n",
    "#dz = (ztop - zbot) / nlay"
   ]
  },
  {
   "cell_type": "markdown",
   "metadata": {
    "colab_type": "text",
    "id": "4RVvBjto-trE"
   },
   "source": [
    "<img src=\"https://i.imgur.com/Abaeeyo.png\" title=\"discretization\" /></a>"
   ]
  },
  {
   "cell_type": "code",
   "execution_count": 5,
   "metadata": {},
   "outputs": [
    {
     "data": {
      "text/plain": [
       "<AxesSubplot:>"
      ]
     },
     "execution_count": 5,
     "metadata": {},
     "output_type": "execute_result"
    },
    {
     "data": {
      "image/png": "[encoded data removed]",
      "text/plain": [
       "<Figure size 432x288 with 2 Axes>"
      ]
     },
     "metadata": {
      "needs_background": "light"
     },
     "output_type": "display_data"
    }
   ],
   "source": [
    "top_raw = pd.read_csv('top_elevation.csv')\n",
    "ztop = array_shaper(top_raw,1)\n",
    "bottoms_raw = pd.read_csv('bottom_elevations.csv')\n",
    "zbot = array_shaper(bottoms_raw,10)\n",
    "sns.heatmap(zbot[9,:,:], cmap = 'rocket')"
   ]
  },
  {
   "cell_type": "markdown",
   "metadata": {
    "colab_type": "text",
    "id": "r_g1l4NG-trF"
   },
   "source": [
    "### Temporal Discretization\n",
    "\n",
    "To discretize time, we must first specify how many stress periods are involved in this model. This is done through flopy's variable 'nper'. As we are solving a steady-state model, we will only specify 1 stress period."
   ]
  },
  {
   "cell_type": "code",
   "execution_count": 6,
   "metadata": {
    "colab": {},
    "colab_type": "code",
    "id": "qGyoTItl-trG"
   },
   "outputs": [],
   "source": [
    "#specify number of stress periods\n",
    "nper = 1"
   ]
  },
  {
   "cell_type": "markdown",
   "metadata": {
    "colab_type": "text",
    "id": "MXtv1qBN-trJ"
   },
   "source": [
    "We then create a variable called \"steady\" as a list of boolean \"True/False\" flags, one for each stress period, indicating whether the finite difference solver should solve a steady-state or transient model. True=steady-state, False=Transient. Our list will only contain one boolean for the single, steady-state stress period."
   ]
  },
  {
   "cell_type": "code",
   "execution_count": 7,
   "metadata": {
    "colab": {
     "base_uri": "https://localhost:8080/",
     "height": 51
    },
    "colab_type": "code",
    "id": "72Nea-h5-trK",
    "outputId": "fc368da1-e3ef-4aa5-8b0e-d64eeab6d666",
    "scrolled": true
   },
   "outputs": [
    {
     "name": "stdout",
     "output_type": "stream",
     "text": [
      "steady-state data: \n",
      " [True]\n"
     ]
    }
   ],
   "source": [
    "#specify if stress period is transient or steady-state\n",
    "steady = [True]\n",
    "\n",
    "print(\"steady-state data: \\n\", steady)"
   ]
  },
  {
   "cell_type": "markdown",
   "metadata": {
    "colab_type": "text",
    "id": "emYj-jv_-trO"
   },
   "source": [
    "There are several other variables involved in the DIS package that allow the user to specify time-step properties of the stress period data (legnth of stress period, number of time steps per stress period, and time step multiplier). As this model is a single period, steady-state model, these options don't apply and hence we will not specify them."
   ]
  },
  {
   "cell_type": "markdown",
   "metadata": {
    "colab_type": "text",
    "id": "ZgOpDpMV-trP"
   },
   "source": [
    "### Create DIS object\n",
    "\n",
    "The spatial and temporal discretizations are used to create the flopy dis object which will later be used to create the MODFLOW \"dis\" package. "
   ]
  },
  {
   "cell_type": "code",
   "execution_count": 8,
   "metadata": {
    "colab": {},
    "colab_type": "code",
    "id": "mrGyylAl-trQ"
   },
   "outputs": [],
   "source": [
    "#create flopy discretization object, length and time are meters (2) and days (4)\n",
    "dis = flopy.modflow.ModflowDis(model=m, nlay=nlay, nrow=nrow, ncol=ncol, \n",
    "                               delr=dx, delc=dy, top=ztop, botm=zbot, \n",
    "                               itmuni = 4, lenuni = 2, \n",
    "                               nper=nper, steady=steady)"
   ]
  },
  {
   "cell_type": "code",
   "execution_count": 9,
   "metadata": {},
   "outputs": [
    {
     "data": {
      "text/plain": [
       "flopy.modflow.mfdis.ModflowDis"
      ]
     },
     "execution_count": 9,
     "metadata": {},
     "output_type": "execute_result"
    }
   ],
   "source": [
    "type(dis)"
   ]
  },
  {
   "cell_type": "code",
   "execution_count": 10,
   "metadata": {
    "colab": {
     "base_uri": "https://localhost:8080/",
     "height": 34
    },
    "colab_type": "code",
    "id": "TjJAK2nz-trT",
    "outputId": "3916bfaf-1d37-48a9-f525-e2d358d87e2b"
   },
   "outputs": [
    {
     "data": {
      "text/plain": [
       "10"
      ]
     },
     "execution_count": 10,
     "metadata": {},
     "output_type": "execute_result"
    }
   ],
   "source": [
    "m.dis.nlay"
   ]
  },
  {
   "cell_type": "markdown",
   "metadata": {
    "colab_type": "text",
    "id": "sWxtQ67b-trX"
   },
   "source": [
    "Confused about the arguments given to the flopy.modflow.ModflowDis() class assignment? \n",
    "Check out the Flopy documentation here: http://modflowpy.github.io/flopydoc/mfdis.html \n",
    "\n",
    "If you'd like to see the grid you've created, flopy has plotting capabilities to visualize \"ModelMap\" attributes such as the grid, which it pulls from the flopy \"dis\" class instance. Note that ModelMap uses matplotlib, so you will want to make sure you have that package imported at the top of your script as well!"
   ]
  },
  {
   "cell_type": "code",
   "execution_count": 11,
   "metadata": {
    "colab": {
     "base_uri": "https://localhost:8080/",
     "height": 301
    },
    "colab_type": "code",
    "id": "niUhwUK5-trZ",
    "outputId": "e1284cff-feb4-4509-a57d-60929512e4c1"
   },
   "outputs": [
    {
     "data": {
      "image/png": "[encoded data removed]",
      "text/plain": [
       "<Figure size 432x288 with 1 Axes>"
      ]
     },
     "metadata": {
      "needs_background": "light"
     },
     "output_type": "display_data"
    }
   ],
   "source": [
    "#use flopy to plot the grid of model 'm'\n",
    "modelmap = flopy.plot.map.PlotMapView(model=m, layer=0)\n",
    "grid = modelmap.plot_grid() \n",
    "plt.xlabel('Lx (m)',fontsize = 14)\n",
    "plt.ylabel('Ly (m)',fontsize = 14)\n",
    "plt.title('Grid', fontsize = 15, fontweight = 'bold')\n",
    "plt.show()"
   ]
  },
  {
   "cell_type": "markdown",
   "metadata": {
    "colab_type": "text",
    "id": "KCwlZfxG-tre"
   },
   "source": [
    " <a name=\"III\"></a> \n",
    "## III. MODFLOW BAS package\n",
    "\n",
    "Next, we attach the BAS package to our model. The BAS package specifies cell activity (how cells will participate in the model run) as well as starting heads to be used in the cells at the start of the groundwater flow simulation.\n",
    "\n",
    "### Define Cell Activity: IBOUND\n",
    "\n",
    "We assign the cell activity using a variable called <strong>IBOUND</strong>. Ibound is defined as an array of integers of form (nlay, nrow, ncol), or one for each cell with flags for the activity level:\n",
    "\n",
    "- <strong> >/= 1: active </strong> (cell has active finite difference equations calculating the head for this cell as well as flows between its neighbors) \n",
    "- <strong> = 0: inactive </strong> (cell has no active finite difference equations associated with it)\n",
    "- <strong> </= -1: constant head </strong>  (cell has active finite difference equation for flows between cells but not for head at the cell as it is kept constant throughout the simulation)\n",
    "\n",
    "For this model, the first and last column are set to be constant heads and the rest of the domain is set as active. "
   ]
  },
  {
   "cell_type": "code",
   "execution_count": 12,
   "metadata": {
    "colab": {
     "base_uri": "https://localhost:8080/",
     "height": 204
    },
    "colab_type": "code",
    "id": "v1mYp41--trg",
    "outputId": "f0f0c0dc-cee7-4976-a8db-09da83763f86"
   },
   "outputs": [
    {
     "name": "stdout",
     "output_type": "stream",
     "text": [
      "ibound values: \n",
      " [[[1 1 1 ... 1 1 1]\n",
      "  [1 1 1 ... 1 1 1]\n",
      "  [1 1 1 ... 1 1 1]\n",
      "  ...\n",
      "  [1 1 1 ... 1 1 1]\n",
      "  [1 1 1 ... 1 1 1]\n",
      "  [1 1 1 ... 1 1 1]]\n",
      "\n",
      " [[1 1 1 ... 1 1 1]\n",
      "  [1 1 1 ... 1 1 1]\n",
      "  [1 1 1 ... 1 1 1]\n",
      "  ...\n",
      "  [1 1 1 ... 1 1 1]\n",
      "  [1 1 1 ... 1 1 1]\n",
      "  [1 1 1 ... 1 1 1]]\n",
      "\n",
      " [[1 1 1 ... 1 1 1]\n",
      "  [1 1 1 ... 1 1 1]\n",
      "  [1 1 1 ... 1 1 1]\n",
      "  ...\n",
      "  [1 1 1 ... 1 1 1]\n",
      "  [1 1 1 ... 1 1 1]\n",
      "  [1 1 1 ... 1 1 1]]\n",
      "\n",
      " ...\n",
      "\n",
      " [[1 1 1 ... 1 1 1]\n",
      "  [1 1 1 ... 1 1 1]\n",
      "  [1 1 1 ... 1 1 1]\n",
      "  ...\n",
      "  [1 1 1 ... 1 1 1]\n",
      "  [1 1 1 ... 1 1 1]\n",
      "  [1 1 1 ... 1 1 1]]\n",
      "\n",
      " [[1 1 1 ... 1 1 1]\n",
      "  [1 1 1 ... 1 1 1]\n",
      "  [1 1 1 ... 1 1 1]\n",
      "  ...\n",
      "  [1 1 1 ... 1 1 1]\n",
      "  [1 1 1 ... 1 1 1]\n",
      "  [1 1 1 ... 1 1 1]]\n",
      "\n",
      " [[1 1 1 ... 1 1 1]\n",
      "  [1 1 1 ... 1 1 1]\n",
      "  [1 1 1 ... 1 1 1]\n",
      "  ...\n",
      "  [1 1 1 ... 1 1 1]\n",
      "  [1 1 1 ... 1 1 1]\n",
      "  [1 1 1 ... 1 1 1]]]\n"
     ]
    }
   ],
   "source": [
    "#create ibound as array of ints = 1\n",
    "ibound = np.ones((nlay, nrow, ncol), dtype=np.int32)\n",
    "\n",
    "\n",
    "print(\"ibound values: \\n\", ibound)"
   ]
  },
  {
   "cell_type": "markdown",
   "metadata": {
    "colab_type": "text",
    "id": "Jn6pjjh--trm"
   },
   "source": [
    "### Define Starting Heads\n",
    "\n",
    "Values for starting heads are given cell by cell with the variable <strong>strt</strong> defined as an array of floats of form (nlay, nrow, ncol). For this model the left and right boundaries are set to be constant heads in the IBOUND variable, so the starting heads assigned to these cells will be set throughout the model. Since we are interested in steady-state flow from a left boundary of h=10m and right boundary of h=0m we assign those conditions in the strt variable."
   ]
  },
  {
   "cell_type": "code",
   "execution_count": 13,
   "metadata": {
    "colab": {
     "base_uri": "https://localhost:8080/",
     "height": 204
    },
    "colab_type": "code",
    "id": "s5vtgQEq-trn",
    "outputId": "a4236f73-0a8f-45b2-af79-a8a07d19b674"
   },
   "outputs": [
    {
     "name": "stdout",
     "output_type": "stream",
     "text": [
      "starting head values: \n",
      " [array([[[980, 968, 978, ..., 866, 838, 854],\n",
      "        [976, 967, 977, ..., 907, 898, 936],\n",
      "        [973, 964, 967, ..., 921, 901, 903],\n",
      "        ...,\n",
      "        [844, 847, 856, ..., 784, 792, 821],\n",
      "        [852, 854, 859, ..., 776, 782, 837],\n",
      "        [853, 854, 857, ..., 783, 809, 840]]], dtype=int64), array([[[980, 968, 978, ..., 866, 838, 854],\n",
      "        [976, 967, 977, ..., 907, 898, 936],\n",
      "        [973, 964, 967, ..., 921, 901, 903],\n",
      "        ...,\n",
      "        [844, 847, 856, ..., 784, 792, 821],\n",
      "        [852, 854, 859, ..., 776, 782, 837],\n",
      "        [853, 854, 857, ..., 783, 809, 840]]], dtype=int64), array([[[980, 968, 978, ..., 866, 838, 854],\n",
      "        [976, 967, 977, ..., 907, 898, 936],\n",
      "        [973, 964, 967, ..., 921, 901, 903],\n",
      "        ...,\n",
      "        [844, 847, 856, ..., 784, 792, 821],\n",
      "        [852, 854, 859, ..., 776, 782, 837],\n",
      "        [853, 854, 857, ..., 783, 809, 840]]], dtype=int64), array([[[980, 968, 978, ..., 866, 838, 854],\n",
      "        [976, 967, 977, ..., 907, 898, 936],\n",
      "        [973, 964, 967, ..., 921, 901, 903],\n",
      "        ...,\n",
      "        [844, 847, 856, ..., 784, 792, 821],\n",
      "        [852, 854, 859, ..., 776, 782, 837],\n",
      "        [853, 854, 857, ..., 783, 809, 840]]], dtype=int64), array([[[980, 968, 978, ..., 866, 838, 854],\n",
      "        [976, 967, 977, ..., 907, 898, 936],\n",
      "        [973, 964, 967, ..., 921, 901, 903],\n",
      "        ...,\n",
      "        [844, 847, 856, ..., 784, 792, 821],\n",
      "        [852, 854, 859, ..., 776, 782, 837],\n",
      "        [853, 854, 857, ..., 783, 809, 840]]], dtype=int64), array([[[980, 968, 978, ..., 866, 838, 854],\n",
      "        [976, 967, 977, ..., 907, 898, 936],\n",
      "        [973, 964, 967, ..., 921, 901, 903],\n",
      "        ...,\n",
      "        [844, 847, 856, ..., 784, 792, 821],\n",
      "        [852, 854, 859, ..., 776, 782, 837],\n",
      "        [853, 854, 857, ..., 783, 809, 840]]], dtype=int64), array([[[980, 968, 978, ..., 866, 838, 854],\n",
      "        [976, 967, 977, ..., 907, 898, 936],\n",
      "        [973, 964, 967, ..., 921, 901, 903],\n",
      "        ...,\n",
      "        [844, 847, 856, ..., 784, 792, 821],\n",
      "        [852, 854, 859, ..., 776, 782, 837],\n",
      "        [853, 854, 857, ..., 783, 809, 840]]], dtype=int64), array([[[980, 968, 978, ..., 866, 838, 854],\n",
      "        [976, 967, 977, ..., 907, 898, 936],\n",
      "        [973, 964, 967, ..., 921, 901, 903],\n",
      "        ...,\n",
      "        [844, 847, 856, ..., 784, 792, 821],\n",
      "        [852, 854, 859, ..., 776, 782, 837],\n",
      "        [853, 854, 857, ..., 783, 809, 840]]], dtype=int64), array([[[980, 968, 978, ..., 866, 838, 854],\n",
      "        [976, 967, 977, ..., 907, 898, 936],\n",
      "        [973, 964, 967, ..., 921, 901, 903],\n",
      "        ...,\n",
      "        [844, 847, 856, ..., 784, 792, 821],\n",
      "        [852, 854, 859, ..., 776, 782, 837],\n",
      "        [853, 854, 857, ..., 783, 809, 840]]], dtype=int64), array([[[980, 968, 978, ..., 866, 838, 854],\n",
      "        [976, 967, 977, ..., 907, 898, 936],\n",
      "        [973, 964, 967, ..., 921, 901, 903],\n",
      "        ...,\n",
      "        [844, 847, 856, ..., 784, 792, 821],\n",
      "        [852, 854, 859, ..., 776, 782, 837],\n",
      "        [853, 854, 857, ..., 783, 809, 840]]], dtype=int64)]\n"
     ]
    }
   ],
   "source": [
    "#create strt as array of floats = 1\n",
    "strt = [ztop,ztop,ztop,ztop,ztop,ztop,ztop,ztop,ztop,ztop]\n",
    "\n",
    "#np.ones((nlay, nrow, ncol), dtype=np.float32)\n",
    "#set left side head to 10 m\n",
    "#strt[:, :, 0] = 10.\n",
    "#set right side head to 0 m\n",
    "#strt[:, :, -1] = 0.\n",
    "\n",
    "print(\"starting head values: \\n\", strt)"
   ]
  },
  {
   "cell_type": "markdown",
   "metadata": {
    "colab_type": "text",
    "id": "-i7QdIlz-tru"
   },
   "source": [
    "### Create BAS class\n",
    "\n",
    "We now use <strong>strt</strong> and <strong>IBOUND</strong> to make the 'bas' flopy class instance which will later be used to create the MODFLOW BAS package."
   ]
  },
  {
   "cell_type": "code",
   "execution_count": 14,
   "metadata": {
    "colab": {},
    "colab_type": "code",
    "id": "cgqQ_XDm-trw"
   },
   "outputs": [],
   "source": [
    "#create flopy bas class\n",
    "bas = flopy.modflow.ModflowBas(m, ibound=ibound, strt=strt)"
   ]
  },
  {
   "cell_type": "markdown",
   "metadata": {},
   "source": [
    "### Create RIV object\n",
    "\n",
    "Creating a MODFLOW river package."
   ]
  },
  {
   "cell_type": "code",
   "execution_count": 15,
   "metadata": {
    "scrolled": true
   },
   "outputs": [
    {
     "name": "stdout",
     "output_type": "stream",
     "text": [
      "{0: array([[    0.  ,    31.  ,   223.  ,   742.56, 17426.6 ,   739.56],\n",
      "       [    0.  ,    30.  ,   223.  ,   742.56, 26564.84,   739.56],\n",
      "       [    0.  ,    29.  ,   223.  ,   742.56, 28924.62,   739.56],\n",
      "       ...,\n",
      "       [    0.  ,   204.  ,   184.  ,   725.12, 11021.6 ,   724.12],\n",
      "       [    0.  ,   194.  ,   184.  ,   725.12,  7127.32,   724.12],\n",
      "       [    0.  ,   204.  ,   185.  ,   725.94,   622.98,   724.94]])}\n"
     ]
    }
   ],
   "source": [
    "rivs = pd.read_csv('rivers.csv')\n",
    "rivs = rivs[['layer','row','column','Stage','Conductanc','Bottom']]\n",
    "rivs['layer'] = rivs['layer']-1\n",
    "rivs['row'] = rivs['row']-1\n",
    "rivs['column'] = rivs['column']-1\n",
    "rivs = rivs.to_numpy()\n",
    "rivs = {0: rivs}\n",
    "print(rivs)"
   ]
  },
  {
   "cell_type": "code",
   "execution_count": 16,
   "metadata": {},
   "outputs": [],
   "source": [
    "riv = flopy.modflow.ModflowRiv(m, ipakcb=None, stress_period_data=rivs, dtype=None, extension='riv', options=None, unitnumber=None, filenames=None)"
   ]
  },
  {
   "cell_type": "markdown",
   "metadata": {
    "colab_type": "text",
    "id": "SypW_E9C-tr-"
   },
   "source": [
    " <a name=\"IV\"></a> \n",
    "## IV. MODFLOW LPF package"
   ]
  },
  {
   "cell_type": "markdown",
   "metadata": {
    "colab_type": "text",
    "id": "xkDrxDEm-tsA"
   },
   "source": [
    "The LPF package specifies Layer Properties associated with the flow in each cell. It holds information regarding horizontal and vertical hydraulic conductivity, layer confinement properties (confined/unconfined), specific storage, and specific yield among other flags for the model run for  which we will use flopy's default settings.\n",
    "\n",
    "### Define Hydraulic Conductivity\n",
    "\n",
    "Here we define \"hk\" as a variable for horizontal hydraulic conductivity of 1 m/d that will be the same in the x and y directions, and \"vka\" as a variable for vertical conductivity of 1 m/d. hk and vka are arrays of floats of form (nlay, nrow, ncol) with conductivity values for each cell. You may also a ratio of anisotropy in the y direction for the flopy LPF function, if hk should be anisotropic in the xy plane. http://modflowpy.github.io/flopydoc/mflpf.html has details regarding these options.\n"
   ]
  },
  {
   "cell_type": "code",
   "execution_count": 17,
   "metadata": {},
   "outputs": [
    {
     "data": {
      "text/html": [
       "<div>\n",
       "<style scoped>\n",
       "    .dataframe tbody tr th:only-of-type {\n",
       "        vertical-align: middle;\n",
       "    }\n",
       "\n",
       "    .dataframe tbody tr th {\n",
       "        vertical-align: top;\n",
       "    }\n",
       "\n",
       "    .dataframe thead th {\n",
       "        text-align: right;\n",
       "    }\n",
       "</style>\n",
       "<table border=\"1\" class=\"dataframe\">\n",
       "  <thead>\n",
       "    <tr style=\"text-align: right;\">\n",
       "      <th></th>\n",
       "      <th>row</th>\n",
       "      <th>column</th>\n",
       "      <th>node</th>\n",
       "      <th>Zone1</th>\n",
       "      <th>Kx1</th>\n",
       "      <th>Ky1</th>\n",
       "      <th>Kz1</th>\n",
       "      <th>Zone2</th>\n",
       "      <th>Kx2</th>\n",
       "      <th>Ky2</th>\n",
       "      <th>...</th>\n",
       "      <th>Ky8</th>\n",
       "      <th>Kz8</th>\n",
       "      <th>Zone9</th>\n",
       "      <th>Kx9</th>\n",
       "      <th>Ky9</th>\n",
       "      <th>Kz9</th>\n",
       "      <th>Zone10</th>\n",
       "      <th>Kx10</th>\n",
       "      <th>Ky10</th>\n",
       "      <th>Kz10</th>\n",
       "    </tr>\n",
       "  </thead>\n",
       "  <tbody>\n",
       "    <tr>\n",
       "      <th>0</th>\n",
       "      <td>1</td>\n",
       "      <td>1</td>\n",
       "      <td>0</td>\n",
       "      <td>73</td>\n",
       "      <td>2.52832</td>\n",
       "      <td>2.52832</td>\n",
       "      <td>0.043545</td>\n",
       "      <td>73</td>\n",
       "      <td>2.52832</td>\n",
       "      <td>2.52832</td>\n",
       "      <td>...</td>\n",
       "      <td>2.52832</td>\n",
       "      <td>0.043545</td>\n",
       "      <td>23</td>\n",
       "      <td>1.3507</td>\n",
       "      <td>1.3507</td>\n",
       "      <td>0.043406</td>\n",
       "      <td>23</td>\n",
       "      <td>1.3507</td>\n",
       "      <td>1.3507</td>\n",
       "      <td>0.043406</td>\n",
       "    </tr>\n",
       "    <tr>\n",
       "      <th>1</th>\n",
       "      <td>1</td>\n",
       "      <td>2</td>\n",
       "      <td>0</td>\n",
       "      <td>73</td>\n",
       "      <td>2.52832</td>\n",
       "      <td>2.52832</td>\n",
       "      <td>0.043545</td>\n",
       "      <td>73</td>\n",
       "      <td>2.52832</td>\n",
       "      <td>2.52832</td>\n",
       "      <td>...</td>\n",
       "      <td>2.52832</td>\n",
       "      <td>0.043545</td>\n",
       "      <td>23</td>\n",
       "      <td>1.3507</td>\n",
       "      <td>1.3507</td>\n",
       "      <td>0.043406</td>\n",
       "      <td>23</td>\n",
       "      <td>1.3507</td>\n",
       "      <td>1.3507</td>\n",
       "      <td>0.043406</td>\n",
       "    </tr>\n",
       "    <tr>\n",
       "      <th>2</th>\n",
       "      <td>1</td>\n",
       "      <td>3</td>\n",
       "      <td>0</td>\n",
       "      <td>73</td>\n",
       "      <td>2.52832</td>\n",
       "      <td>2.52832</td>\n",
       "      <td>0.043545</td>\n",
       "      <td>73</td>\n",
       "      <td>2.52832</td>\n",
       "      <td>2.52832</td>\n",
       "      <td>...</td>\n",
       "      <td>2.52832</td>\n",
       "      <td>0.043545</td>\n",
       "      <td>23</td>\n",
       "      <td>1.3507</td>\n",
       "      <td>1.3507</td>\n",
       "      <td>0.043406</td>\n",
       "      <td>23</td>\n",
       "      <td>1.3507</td>\n",
       "      <td>1.3507</td>\n",
       "      <td>0.043406</td>\n",
       "    </tr>\n",
       "    <tr>\n",
       "      <th>3</th>\n",
       "      <td>1</td>\n",
       "      <td>4</td>\n",
       "      <td>0</td>\n",
       "      <td>73</td>\n",
       "      <td>2.52832</td>\n",
       "      <td>2.52832</td>\n",
       "      <td>0.043545</td>\n",
       "      <td>73</td>\n",
       "      <td>2.52832</td>\n",
       "      <td>2.52832</td>\n",
       "      <td>...</td>\n",
       "      <td>2.52832</td>\n",
       "      <td>0.043545</td>\n",
       "      <td>23</td>\n",
       "      <td>1.3507</td>\n",
       "      <td>1.3507</td>\n",
       "      <td>0.043406</td>\n",
       "      <td>23</td>\n",
       "      <td>1.3507</td>\n",
       "      <td>1.3507</td>\n",
       "      <td>0.043406</td>\n",
       "    </tr>\n",
       "    <tr>\n",
       "      <th>4</th>\n",
       "      <td>1</td>\n",
       "      <td>5</td>\n",
       "      <td>0</td>\n",
       "      <td>73</td>\n",
       "      <td>2.52832</td>\n",
       "      <td>2.52832</td>\n",
       "      <td>0.043545</td>\n",
       "      <td>73</td>\n",
       "      <td>2.52832</td>\n",
       "      <td>2.52832</td>\n",
       "      <td>...</td>\n",
       "      <td>2.52832</td>\n",
       "      <td>0.043545</td>\n",
       "      <td>23</td>\n",
       "      <td>1.3507</td>\n",
       "      <td>1.3507</td>\n",
       "      <td>0.043406</td>\n",
       "      <td>23</td>\n",
       "      <td>1.3507</td>\n",
       "      <td>1.3507</td>\n",
       "      <td>0.043406</td>\n",
       "    </tr>\n",
       "  </tbody>\n",
       "</table>\n",
       "<p>5 rows × 43 columns</p>\n",
       "</div>"
      ],
      "text/plain": [
       "   row  column  node  Zone1      Kx1      Ky1       Kz1  Zone2      Kx2  \\\n",
       "0    1       1     0     73  2.52832  2.52832  0.043545     73  2.52832   \n",
       "1    1       2     0     73  2.52832  2.52832  0.043545     73  2.52832   \n",
       "2    1       3     0     73  2.52832  2.52832  0.043545     73  2.52832   \n",
       "3    1       4     0     73  2.52832  2.52832  0.043545     73  2.52832   \n",
       "4    1       5     0     73  2.52832  2.52832  0.043545     73  2.52832   \n",
       "\n",
       "       Ky2  ...      Ky8       Kz8  Zone9     Kx9     Ky9       Kz9  Zone10  \\\n",
       "0  2.52832  ...  2.52832  0.043545     23  1.3507  1.3507  0.043406      23   \n",
       "1  2.52832  ...  2.52832  0.043545     23  1.3507  1.3507  0.043406      23   \n",
       "2  2.52832  ...  2.52832  0.043545     23  1.3507  1.3507  0.043406      23   \n",
       "3  2.52832  ...  2.52832  0.043545     23  1.3507  1.3507  0.043406      23   \n",
       "4  2.52832  ...  2.52832  0.043545     23  1.3507  1.3507  0.043406      23   \n",
       "\n",
       "     Kx10    Ky10      Kz10  \n",
       "0  1.3507  1.3507  0.043406  \n",
       "1  1.3507  1.3507  0.043406  \n",
       "2  1.3507  1.3507  0.043406  \n",
       "3  1.3507  1.3507  0.043406  \n",
       "4  1.3507  1.3507  0.043406  \n",
       "\n",
       "[5 rows x 43 columns]"
      ]
     },
     "execution_count": 17,
     "metadata": {},
     "output_type": "execute_result"
    }
   ],
   "source": [
    "# read in dbf to pandas dataframe\n",
    "file = 'hydraulic_conductivity.dbf'\n",
    "dbf = Dbf5(file)\n",
    "df = dbf.to_dataframe()\n",
    "df.head()"
   ]
  },
  {
   "cell_type": "code",
   "execution_count": 18,
   "metadata": {},
   "outputs": [
    {
     "data": {
      "text/html": [
       "<div>\n",
       "<style scoped>\n",
       "    .dataframe tbody tr th:only-of-type {\n",
       "        vertical-align: middle;\n",
       "    }\n",
       "\n",
       "    .dataframe tbody tr th {\n",
       "        vertical-align: top;\n",
       "    }\n",
       "\n",
       "    .dataframe thead th {\n",
       "        text-align: right;\n",
       "    }\n",
       "</style>\n",
       "<table border=\"1\" class=\"dataframe\">\n",
       "  <thead>\n",
       "    <tr style=\"text-align: right;\">\n",
       "      <th></th>\n",
       "      <th>Zone1</th>\n",
       "      <th>Zone2</th>\n",
       "      <th>Zone3</th>\n",
       "      <th>Zone4</th>\n",
       "      <th>Zone5</th>\n",
       "      <th>Zone6</th>\n",
       "      <th>Zone7</th>\n",
       "      <th>Zone8</th>\n",
       "      <th>Zone9</th>\n",
       "      <th>Zone10</th>\n",
       "    </tr>\n",
       "  </thead>\n",
       "  <tbody>\n",
       "    <tr>\n",
       "      <th>0</th>\n",
       "      <td>73</td>\n",
       "      <td>73</td>\n",
       "      <td>73</td>\n",
       "      <td>73</td>\n",
       "      <td>73</td>\n",
       "      <td>73</td>\n",
       "      <td>73</td>\n",
       "      <td>73</td>\n",
       "      <td>23</td>\n",
       "      <td>23</td>\n",
       "    </tr>\n",
       "    <tr>\n",
       "      <th>1</th>\n",
       "      <td>73</td>\n",
       "      <td>73</td>\n",
       "      <td>73</td>\n",
       "      <td>73</td>\n",
       "      <td>73</td>\n",
       "      <td>73</td>\n",
       "      <td>74</td>\n",
       "      <td>73</td>\n",
       "      <td>23</td>\n",
       "      <td>23</td>\n",
       "    </tr>\n",
       "    <tr>\n",
       "      <th>2</th>\n",
       "      <td>73</td>\n",
       "      <td>73</td>\n",
       "      <td>73</td>\n",
       "      <td>73</td>\n",
       "      <td>73</td>\n",
       "      <td>73</td>\n",
       "      <td>74</td>\n",
       "      <td>73</td>\n",
       "      <td>23</td>\n",
       "      <td>23</td>\n",
       "    </tr>\n",
       "    <tr>\n",
       "      <th>3</th>\n",
       "      <td>73</td>\n",
       "      <td>73</td>\n",
       "      <td>73</td>\n",
       "      <td>73</td>\n",
       "      <td>73</td>\n",
       "      <td>73</td>\n",
       "      <td>74</td>\n",
       "      <td>73</td>\n",
       "      <td>23</td>\n",
       "      <td>23</td>\n",
       "    </tr>\n",
       "    <tr>\n",
       "      <th>4</th>\n",
       "      <td>73</td>\n",
       "      <td>73</td>\n",
       "      <td>73</td>\n",
       "      <td>73</td>\n",
       "      <td>73</td>\n",
       "      <td>73</td>\n",
       "      <td>74</td>\n",
       "      <td>73</td>\n",
       "      <td>23</td>\n",
       "      <td>23</td>\n",
       "    </tr>\n",
       "    <tr>\n",
       "      <th>...</th>\n",
       "      <td>...</td>\n",
       "      <td>...</td>\n",
       "      <td>...</td>\n",
       "      <td>...</td>\n",
       "      <td>...</td>\n",
       "      <td>...</td>\n",
       "      <td>...</td>\n",
       "      <td>...</td>\n",
       "      <td>...</td>\n",
       "      <td>...</td>\n",
       "    </tr>\n",
       "    <tr>\n",
       "      <th>46120</th>\n",
       "      <td>74</td>\n",
       "      <td>74</td>\n",
       "      <td>73</td>\n",
       "      <td>74</td>\n",
       "      <td>74</td>\n",
       "      <td>74</td>\n",
       "      <td>74</td>\n",
       "      <td>74</td>\n",
       "      <td>74</td>\n",
       "      <td>15</td>\n",
       "    </tr>\n",
       "    <tr>\n",
       "      <th>46121</th>\n",
       "      <td>74</td>\n",
       "      <td>74</td>\n",
       "      <td>73</td>\n",
       "      <td>74</td>\n",
       "      <td>74</td>\n",
       "      <td>74</td>\n",
       "      <td>74</td>\n",
       "      <td>74</td>\n",
       "      <td>74</td>\n",
       "      <td>15</td>\n",
       "    </tr>\n",
       "    <tr>\n",
       "      <th>46122</th>\n",
       "      <td>74</td>\n",
       "      <td>74</td>\n",
       "      <td>73</td>\n",
       "      <td>74</td>\n",
       "      <td>74</td>\n",
       "      <td>74</td>\n",
       "      <td>74</td>\n",
       "      <td>74</td>\n",
       "      <td>74</td>\n",
       "      <td>15</td>\n",
       "    </tr>\n",
       "    <tr>\n",
       "      <th>46123</th>\n",
       "      <td>74</td>\n",
       "      <td>74</td>\n",
       "      <td>73</td>\n",
       "      <td>74</td>\n",
       "      <td>74</td>\n",
       "      <td>74</td>\n",
       "      <td>74</td>\n",
       "      <td>74</td>\n",
       "      <td>74</td>\n",
       "      <td>15</td>\n",
       "    </tr>\n",
       "    <tr>\n",
       "      <th>46124</th>\n",
       "      <td>74</td>\n",
       "      <td>74</td>\n",
       "      <td>73</td>\n",
       "      <td>74</td>\n",
       "      <td>74</td>\n",
       "      <td>74</td>\n",
       "      <td>74</td>\n",
       "      <td>74</td>\n",
       "      <td>74</td>\n",
       "      <td>15</td>\n",
       "    </tr>\n",
       "  </tbody>\n",
       "</table>\n",
       "<p>46125 rows × 10 columns</p>\n",
       "</div>"
      ],
      "text/plain": [
       "       Zone1  Zone2  Zone3  Zone4  Zone5  Zone6  Zone7  Zone8  Zone9  Zone10\n",
       "0         73     73     73     73     73     73     73     73     23      23\n",
       "1         73     73     73     73     73     73     74     73     23      23\n",
       "2         73     73     73     73     73     73     74     73     23      23\n",
       "3         73     73     73     73     73     73     74     73     23      23\n",
       "4         73     73     73     73     73     73     74     73     23      23\n",
       "...      ...    ...    ...    ...    ...    ...    ...    ...    ...     ...\n",
       "46120     74     74     73     74     74     74     74     74     74      15\n",
       "46121     74     74     73     74     74     74     74     74     74      15\n",
       "46122     74     74     73     74     74     74     74     74     74      15\n",
       "46123     74     74     73     74     74     74     74     74     74      15\n",
       "46124     74     74     73     74     74     74     74     74     74      15\n",
       "\n",
       "[46125 rows x 10 columns]"
      ]
     },
     "execution_count": 18,
     "metadata": {},
     "output_type": "execute_result"
    }
   ],
   "source": [
    "# create dataframes of the 10 zones, Kx, Ky, and Kz\n",
    "\n",
    "zone = df[df.columns[pd.Series(df.columns).str.contains(\"Z\")]]\n",
    "x = df[df.columns[pd.Series(df.columns).str.contains(\"x\")]]\n",
    "y = df[df.columns[pd.Series(df.columns).str.contains(\"y\")]]\n",
    "z = df[df.columns[pd.Series(df.columns).str.contains(\"z\")]]\n",
    "\n",
    "zone"
   ]
  },
  {
   "cell_type": "code",
   "execution_count": 19,
   "metadata": {},
   "outputs": [],
   "source": [
    "# save function output to variables\n",
    "x_reshaped = array_shaper(x,10)\n",
    "z_reshaped = array_shaper(z,10)"
   ]
  },
  {
   "cell_type": "code",
   "execution_count": 20,
   "metadata": {},
   "outputs": [
    {
     "name": "stdout",
     "output_type": "stream",
     "text": [
      "(10, 205, 225)\n",
      "(10, 205, 225)\n"
     ]
    }
   ],
   "source": [
    "# check shape\n",
    "\n",
    "print(x_reshaped.shape)\n",
    "print(z_reshaped.shape)"
   ]
  },
  {
   "cell_type": "code",
   "execution_count": 21,
   "metadata": {},
   "outputs": [
    {
     "data": {
      "text/plain": [
       "<AxesSubplot:>"
      ]
     },
     "execution_count": 21,
     "metadata": {},
     "output_type": "execute_result"
    },
    {
     "data": {
      "image/png": "[encoded data removed]",
      "text/plain": [
       "<Figure size 432x288 with 2 Axes>"
      ]
     },
     "metadata": {
      "needs_background": "light"
     },
     "output_type": "display_data"
    }
   ],
   "source": [
    "x = z_reshaped[9,:,:]\n",
    "sns.heatmap(x, cmap = 'tab10')"
   ]
  },
  {
   "cell_type": "markdown",
   "metadata": {
    "colab_type": "text",
    "id": "t9eqiajw-tsG"
   },
   "source": [
    "### Define Specific Storage\n",
    "\n",
    "Specific storage is defined in a similar format to hydraulic conductivity with a value of $1 x 10^{-5} m^{-1}$ for each cell."
   ]
  },
  {
   "cell_type": "code",
   "execution_count": 22,
   "metadata": {
    "colab": {
     "base_uri": "https://localhost:8080/",
     "height": 204
    },
    "colab_type": "code",
    "id": "AaTXILZA-tsI",
    "outputId": "07473e24-e4e7-4a39-beae-8f70488af668"
   },
   "outputs": [
    {
     "name": "stdout",
     "output_type": "stream",
     "text": [
      "specific storage values: \n",
      " [[[1.e-05 1.e-05 1.e-05 ... 1.e-05 1.e-05 1.e-05]\n",
      "  [1.e-05 1.e-05 1.e-05 ... 1.e-05 1.e-05 1.e-05]\n",
      "  [1.e-05 1.e-05 1.e-05 ... 1.e-05 1.e-05 1.e-05]\n",
      "  ...\n",
      "  [1.e-05 1.e-05 1.e-05 ... 1.e-05 1.e-05 1.e-05]\n",
      "  [1.e-05 1.e-05 1.e-05 ... 1.e-05 1.e-05 1.e-05]\n",
      "  [1.e-05 1.e-05 1.e-05 ... 1.e-05 1.e-05 1.e-05]]\n",
      "\n",
      " [[1.e-05 1.e-05 1.e-05 ... 1.e-05 1.e-05 1.e-05]\n",
      "  [1.e-05 1.e-05 1.e-05 ... 1.e-05 1.e-05 1.e-05]\n",
      "  [1.e-05 1.e-05 1.e-05 ... 1.e-05 1.e-05 1.e-05]\n",
      "  ...\n",
      "  [1.e-05 1.e-05 1.e-05 ... 1.e-05 1.e-05 1.e-05]\n",
      "  [1.e-05 1.e-05 1.e-05 ... 1.e-05 1.e-05 1.e-05]\n",
      "  [1.e-05 1.e-05 1.e-05 ... 1.e-05 1.e-05 1.e-05]]\n",
      "\n",
      " [[1.e-05 1.e-05 1.e-05 ... 1.e-05 1.e-05 1.e-05]\n",
      "  [1.e-05 1.e-05 1.e-05 ... 1.e-05 1.e-05 1.e-05]\n",
      "  [1.e-05 1.e-05 1.e-05 ... 1.e-05 1.e-05 1.e-05]\n",
      "  ...\n",
      "  [1.e-05 1.e-05 1.e-05 ... 1.e-05 1.e-05 1.e-05]\n",
      "  [1.e-05 1.e-05 1.e-05 ... 1.e-05 1.e-05 1.e-05]\n",
      "  [1.e-05 1.e-05 1.e-05 ... 1.e-05 1.e-05 1.e-05]]\n",
      "\n",
      " ...\n",
      "\n",
      " [[1.e-05 1.e-05 1.e-05 ... 1.e-05 1.e-05 1.e-05]\n",
      "  [1.e-05 1.e-05 1.e-05 ... 1.e-05 1.e-05 1.e-05]\n",
      "  [1.e-05 1.e-05 1.e-05 ... 1.e-05 1.e-05 1.e-05]\n",
      "  ...\n",
      "  [1.e-05 1.e-05 1.e-05 ... 1.e-05 1.e-05 1.e-05]\n",
      "  [1.e-05 1.e-05 1.e-05 ... 1.e-05 1.e-05 1.e-05]\n",
      "  [1.e-05 1.e-05 1.e-05 ... 1.e-05 1.e-05 1.e-05]]\n",
      "\n",
      " [[1.e-05 1.e-05 1.e-05 ... 1.e-05 1.e-05 1.e-05]\n",
      "  [1.e-05 1.e-05 1.e-05 ... 1.e-05 1.e-05 1.e-05]\n",
      "  [1.e-05 1.e-05 1.e-05 ... 1.e-05 1.e-05 1.e-05]\n",
      "  ...\n",
      "  [1.e-05 1.e-05 1.e-05 ... 1.e-05 1.e-05 1.e-05]\n",
      "  [1.e-05 1.e-05 1.e-05 ... 1.e-05 1.e-05 1.e-05]\n",
      "  [1.e-05 1.e-05 1.e-05 ... 1.e-05 1.e-05 1.e-05]]\n",
      "\n",
      " [[1.e-05 1.e-05 1.e-05 ... 1.e-05 1.e-05 1.e-05]\n",
      "  [1.e-05 1.e-05 1.e-05 ... 1.e-05 1.e-05 1.e-05]\n",
      "  [1.e-05 1.e-05 1.e-05 ... 1.e-05 1.e-05 1.e-05]\n",
      "  ...\n",
      "  [1.e-05 1.e-05 1.e-05 ... 1.e-05 1.e-05 1.e-05]\n",
      "  [1.e-05 1.e-05 1.e-05 ... 1.e-05 1.e-05 1.e-05]\n",
      "  [1.e-05 1.e-05 1.e-05 ... 1.e-05 1.e-05 1.e-05]]]\n"
     ]
    }
   ],
   "source": [
    "#define specific storage\n",
    "ss = np.ones((nlay,nrow,ncol), dtype=np.float)\n",
    "ss[:,:,:] = 1e-5\n",
    "\n",
    "print(\"specific storage values: \\n\", ss)"
   ]
  },
  {
   "cell_type": "markdown",
   "metadata": {
    "colab_type": "text",
    "id": "eHzb7TBp-tsQ"
   },
   "source": [
    "### Define Aquifer Confinement Properties\n",
    "\n",
    "Layers may be specified in flopy with variable <strong> laytyp </strong>, an array of (nlay) integer flags to say whether a model is:\n",
    "\n",
    "- <strong> =0 Confined:</strong>  Aquifer layers will be treated as confined\n",
    "- <strong> >0 Convertible:</strong> Aquifer layers will be treated as confined if the water level is above the top of the aquifer cell and unconfined if the water level is below the top of the aquifer cell.\n",
    "\n",
    "This single-layer model will be treated as confined."
   ]
  },
  {
   "cell_type": "code",
   "execution_count": 23,
   "metadata": {
    "colab": {
     "base_uri": "https://localhost:8080/",
     "height": 51
    },
    "colab_type": "code",
    "id": "OWc1ue9W-tsQ",
    "outputId": "25c1863a-e5c2-42ba-8b8e-ce493a701cbc"
   },
   "outputs": [
    {
     "name": "stdout",
     "output_type": "stream",
     "text": [
      "layer type values: \n",
      " [0 0 0 0 0 0 0 0 0 0]\n"
     ]
    }
   ],
   "source": [
    "#define layer type as confined\n",
    "laytyp = np.zeros((nlay,), dtype=np.int32)\n",
    "\n",
    "print(\"layer type values: \\n\", laytyp)"
   ]
  },
  {
   "cell_type": "markdown",
   "metadata": {
    "colab_type": "text",
    "id": "AUAWWJh3-tsT"
   },
   "source": [
    "### Define LPF object\n",
    "We now use <strong>hk</strong>, <strong>vk</strong>,  <strong>ss</strong>, and <strong>laytyp</strong> to make the 'lpf' flopy object which will be used to create the MODFLOW LPF package. <strong>ipakcb</strong> is a flag to say whether we will save cell by cell buget data (flows etc) (ipakcb>0 = save data). (<strong>Note:</strong> Flopy claims that budget data saves by using the ipakcb default settings, but it seems that ipakcb must be explicitly specified in order to be saved.)"
   ]
  },
  {
   "cell_type": "code",
   "execution_count": 24,
   "metadata": {
    "colab": {},
    "colab_type": "code",
    "id": "wTt_as_r-tsT"
   },
   "outputs": [],
   "source": [
    "lpf = flopy.modflow.ModflowLpf(model=m, hk=0.5*x_reshaped, vka=z_reshaped, ss=ss, laytyp=laytyp, ipakcb=1)"
   ]
  },
  {
   "cell_type": "markdown",
   "metadata": {},
   "source": [
    "### Create DRN class"
   ]
  },
  {
   "cell_type": "code",
   "execution_count": 25,
   "metadata": {},
   "outputs": [],
   "source": [
    "ztop2 = ztop[0,:,:]"
   ]
  },
  {
   "cell_type": "code",
   "execution_count": 26,
   "metadata": {},
   "outputs": [],
   "source": [
    "\n",
    "drains = []\n",
    "for index, value in np.ndenumerate(x_reshaped[0,:,:]):\n",
    "    if value<20:\n",
    "        drains.append([0,index[0],index[1],ztop2[index],5000])\n",
    "    \n",
    "drns = {0: drains}\n"
   ]
  },
  {
   "cell_type": "code",
   "execution_count": 27,
   "metadata": {},
   "outputs": [],
   "source": [
    "drn = flopy.modflow.ModflowDrn(m, ipakcb=None, stress_period_data=drns, dtype=None, extension='drn', options=None, unitnumber=None, filenames=None)"
   ]
  },
  {
   "cell_type": "markdown",
   "metadata": {
    "colab_type": "text",
    "id": "Cv4uiIrE-tr3"
   },
   "source": [
    "If you wish to visualize the ibound variable assigned to this bas package, flopy ModelMap may be also used to display ibound. "
   ]
  },
  {
   "cell_type": "code",
   "execution_count": 28,
   "metadata": {
    "colab": {
     "base_uri": "https://localhost:8080/",
     "height": 301
    },
    "colab_type": "code",
    "id": "Q8I20pkr-tr4",
    "outputId": "09d0d93d-95b3-4694-c795-8ae73c91f3f5",
    "scrolled": false
   },
   "outputs": [
    {
     "data": {
      "image/png": "[encoded data removed]",
      "text/plain": [
       "<Figure size 432x288 with 1 Axes>"
      ]
     },
     "metadata": {
      "needs_background": "light"
     },
     "output_type": "display_data"
    }
   ],
   "source": [
    "#plot grid and ibound\n",
    "modelmap = flopy.plot.PlotMapView(model=m, layer=0)\n",
    "#grid = modelmap.plot_grid()\n",
    "drn_plot = modelmap.plot_bc(ftype='DRN')\n",
    "riv_plot = modelmap.plot_bc(ftype='RIV')\n",
    "#ib = modelmap.plot_ibound()\n",
    "#add labels and legend\n",
    "plt.xlabel('Lx (m)',fontsize = 14)\n",
    "plt.ylabel('Ly (m)',fontsize = 14)\n",
    "plt.title('Ibound', fontsize = 15, fontweight = 'bold')\n",
    "plt.legend(handles=[mp.patches.Patch(color='green',label='River',ec='black'),\n",
    "                    mp.patches.Patch(color='yellow',label='Drain',ec='black')],\n",
    "                   bbox_to_anchor=(1.5,1.0))\n",
    "plt.show(modelmap)"
   ]
  },
  {
   "cell_type": "markdown",
   "metadata": {},
   "source": [
    "### Recharge"
   ]
  },
  {
   "cell_type": "code",
   "execution_count": 29,
   "metadata": {},
   "outputs": [],
   "source": [
    "recharge = 0*x_reshaped[0,:,:]\n",
    "for index, value in np.ndenumerate(x_reshaped[0,:,:]):\n",
    "    if value<20:\n",
    "        recharge[index] = 0.001 # ft/day\n",
    "    else:\n",
    "        recharge[index] = 0.001 # ft/day\n",
    "        \n",
    "    \n",
    "recharge = {0: recharge}"
   ]
  },
  {
   "cell_type": "code",
   "execution_count": 30,
   "metadata": {},
   "outputs": [],
   "source": [
    "rch = flopy.modflow.ModflowRch(m,nrchop=3,ipakcb=None,rech=recharge,irch=0,extension='rch')"
   ]
  },
  {
   "cell_type": "markdown",
   "metadata": {},
   "source": [
    "## V. MODFLOW WELL Package\n",
    "\n"
   ]
  },
  {
   "cell_type": "code",
   "execution_count": 31,
   "metadata": {},
   "outputs": [
    {
     "name": "stdout",
     "output_type": "stream",
     "text": [
      "     Layer  row y  col x   flux\n",
      "9        0    116     35  -8816\n",
      "10       0    110     35  -1924\n",
      "11       0    110     36  -5771\n",
      "23       0    160     48 -31722\n",
      "24       0    160     48 -16284\n",
      "..     ...    ...    ...    ...\n",
      "298      0    111    221  -5916\n",
      "299      0    111    221  -5916\n",
      "302      0    169    222  -3791\n",
      "314      0    165    225 -20872\n",
      "315      0    103    225 -10045\n",
      "\n",
      "[108 rows x 4 columns]\n",
      "{0: array([[      0,     115,      34,   -8816],\n",
      "       [      0,     109,      34,   -1924],\n",
      "       [      0,     109,      35,   -5771],\n",
      "       [      0,     159,      47,  -31722],\n",
      "       [      0,     159,      47,  -16284],\n",
      "       [      0,      58,      50,  -49609],\n",
      "       [      0,      58,      53,  -28069],\n",
      "       [      0,      60,      54,  -22495],\n",
      "       [      0,      22,      75,    -791],\n",
      "       [      0,      57,      75, -112242],\n",
      "       [      0,      57,      75, -112242],\n",
      "       [      0,      57,      83,  -43486],\n",
      "       [      0,      57,      87,  -53236],\n",
      "       [      0,      57,      87,   -1692],\n",
      "       [      0,      59,      87,    -924],\n",
      "       [      0,      59,      87,   -1420],\n",
      "       [      0,     101,     110,  -59204],\n",
      "       [      0,     101,     111,  -59204],\n",
      "       [      0,     103,     111,  -59204],\n",
      "       [      0,     105,     117, -109951],\n",
      "       [      0,     105,     118, -109951],\n",
      "       [      0,     108,     118, -109951],\n",
      "       [      0,     187,     119,   -8851],\n",
      "       [      0,      91,     130,  -11324],\n",
      "       [      0,      80,     131,    -806],\n",
      "       [      0,      80,     131,   -2120],\n",
      "       [      0,      32,     133,  -23167],\n",
      "       [      0,      94,     134,   -1164],\n",
      "       [      0,      25,     135,  -91810],\n",
      "       [      0,      18,     138,   -1397],\n",
      "       [      0,      54,     138,   -9878],\n",
      "       [      0,     129,     139,   -2560],\n",
      "       [      0,     129,     140,   -2259],\n",
      "       [      0,     129,     140,    -583],\n",
      "       [      0,      53,     140,  -15179],\n",
      "       [      0,      17,     142,  -59556],\n",
      "       [      0,     161,     144,   -1377],\n",
      "       [      0,     131,     145,  -40868],\n",
      "       [      0,       1,     146,  -74658],\n",
      "       [      0,     153,     147,   -1046],\n",
      "       [      0,     132,     147,   -1963],\n",
      "       [      0,      80,     148,    -616],\n",
      "       [      0,      22,     149,  -41402],\n",
      "       [      0,     141,     149,   -1102],\n",
      "       [      0,     141,     149,    -650],\n",
      "       [      0,       7,     150,  -55309],\n",
      "       [      0,      42,     150,  -75089],\n",
      "       [      0,      16,     151,   -2793],\n",
      "       [      0,     110,     153,   -1925],\n",
      "       [      0,      61,     156,   -1242],\n",
      "       [      0,      45,     160,  -35514],\n",
      "       [      0,     131,     160,  -12288],\n",
      "       [      0,      91,     163,  -28290],\n",
      "       [      0,      91,     163,  -27458],\n",
      "       [      0,     201,     165,  -14839],\n",
      "       [      0,      65,     168,   -7653],\n",
      "       [      0,      59,     168, -102200],\n",
      "       [      0,      59,     168,  -53056],\n",
      "       [      0,     108,     169,    -510],\n",
      "       [      0,      39,     171,  -39736],\n",
      "       [      0,     140,     171,   -1185],\n",
      "       [      0,     194,     174,  -13241],\n",
      "       [      0,      18,     175,  -26632],\n",
      "       [      0,     187,     177,  -14132],\n",
      "       [      0,     139,     178,  -12492],\n",
      "       [      0,      61,     178,  -55588],\n",
      "       [      0,     130,     179,   -1224],\n",
      "       [      0,     115,     179,  -58594],\n",
      "       [      0,     140,     179,  -18651],\n",
      "       [      0,     141,     179,   -1352],\n",
      "       [      0,     115,     180,  -74383],\n",
      "       [      0,      43,     181,   -8162],\n",
      "       [      0,     138,     182,  -40509],\n",
      "       [      0,     133,     185,   -1721],\n",
      "       [      0,     133,     185,   -2072],\n",
      "       [      0,     133,     186,    -655],\n",
      "       [      0,       3,     188,  -84773],\n",
      "       [      0,       1,     189,  -39744],\n",
      "       [      0,       4,     189,   -7379],\n",
      "       [      0,     176,     191,   -2942],\n",
      "       [      0,      25,     192,  -46830],\n",
      "       [      0,     105,     192,  -22101],\n",
      "       [      0,     105,     192,  -43063],\n",
      "       [      0,      31,     193,  -68105],\n",
      "       [      0,      36,     197,  -51262],\n",
      "       [      0,     173,     199,   -3638],\n",
      "       [      0,     169,     199,  -33846],\n",
      "       [      0,     169,     199,  -33846],\n",
      "       [      0,      31,     199,  -12523],\n",
      "       [      0,     135,     203,    -567],\n",
      "       [      0,     123,     203,  -11335],\n",
      "       [      0,      31,     203,  -35400],\n",
      "       [      0,      32,     204,  -26739],\n",
      "       [      0,      70,     204,  -27458],\n",
      "       [      0,      68,     205,   -3880],\n",
      "       [      0,      68,     205,   -1940],\n",
      "       [      0,     152,     208,    -738],\n",
      "       [      0,     139,     209,  -21317],\n",
      "       [      0,      80,     210,   -4763],\n",
      "       [      0,      81,     210,   -3468],\n",
      "       [      0,      75,     215,  -13570],\n",
      "       [      0,      75,     215,  -12129],\n",
      "       [      0,     151,     218,  -30960],\n",
      "       [      0,     110,     220,   -5916],\n",
      "       [      0,     110,     220,   -5916],\n",
      "       [      0,     168,     221,   -3791],\n",
      "       [      0,     164,     224,  -20872],\n",
      "       [      0,     102,     224,  -10045]], dtype=int64)}\n"
     ]
    }
   ],
   "source": [
    "# Below ids the setup for well stress period 59\n",
    "\n",
    "Well_stress = pd.read_csv('minwelldata.csv')\n",
    "Well_stress=Well_stress[['Layer', 'row y', 'col x', 'flux']]\n",
    "Well_stress = Well_stress[Well_stress.flux <-500]\n",
    "print (Well_stress)\n",
    "\n",
    "# Daniel, I think in your video you used the next 4 lines to remove column names before coverting to dictionary. \n",
    "# In this code they add -1s to dataframe, but wells plot and it runs (where we were last time).\n",
    "\n",
    "# Well_stress['Layer']=Well_stress['Layer']-1\n",
    "Well_stress['row y']=Well_stress['row y']-1\n",
    "Well_stress['col x']=Well_stress['col x']-1\n",
    "# Well_stress['flux']=Well_stress['flux']-1\n",
    "\n",
    "Well_stress=Well_stress.to_numpy()\n",
    "Well_stress = {0: Well_stress}\n",
    "print(Well_stress)\n",
    "\n",
    "# This seems to create dictionary without indeces, but does not run through well plotting routine.\n",
    "\n",
    "# Any suggestions?"
   ]
  },
  {
   "cell_type": "code",
   "execution_count": 32,
   "metadata": {},
   "outputs": [],
   "source": [
    "# Create flopy wel class \n",
    "# ModflowWel(model, ipakcb=None, stress_period_data=None, dtype=None, extension='wel', options=None, binary=False, unitnumber=None, filenames=None, add_package=True)\n",
    "\n",
    "wel = flopy.modflow.ModflowWel(m, ipakcb=None, stress_period_data=Well_stress, dtype=None, extension='wel', options=None, binary=False, unitnumber=None, filenames=None,)"
   ]
  },
  {
   "cell_type": "code",
   "execution_count": 33,
   "metadata": {},
   "outputs": [
    {
     "data": {
      "image/png": "[encoded data removed]",
      "text/plain": [
       "<Figure size 432x288 with 1 Axes>"
      ]
     },
     "metadata": {
      "needs_background": "light"
     },
     "output_type": "display_data"
    }
   ],
   "source": [
    "#CHECK WELL LOCATION\n",
    "#use flopy to plot grid, ibound, and wells\n",
    "modelmap = flopy.plot.PlotMapView(model=m, layer=0)\n",
    "# grid = modelmap.plot_grid()\n",
    "ib = modelmap.plot_ibound()\n",
    "wel = modelmap.plot_bc(ftype='WEL')\n",
    "#add labels and legend\n",
    "plt.xlabel('Lx (ft)',fontsize = 14)\n",
    "plt.ylabel('Ly (ft)',fontsize = 14)\n",
    "plt.title('Well and Boundary Conditions', fontsize = 15, fontweight = 'bold')\n",
    "plt.legend(handles=[mp.patches.Patch(color='red',label='Well',ec='black'),\n",
    "                   mp.patches.Patch(color='blue',label='Const Head',ec='black'),\n",
    "                   mp.patches.Patch(color='white',label='Active Cell',ec='black'),\n",
    "                   mp.patches.Patch(color='black',label='Inactive Cell',ec='black')],\n",
    "                   bbox_to_anchor=(1.5,1.0))\n",
    "plt.show(modelmap)"
   ]
  },
  {
   "cell_type": "markdown",
   "metadata": {
    "colab_type": "text",
    "id": "lN9NnaJp-tsW"
   },
   "source": [
    " <a name=\"V\"></a> \n",
    "## V. MODFLOW OC Package\n",
    "\n",
    "The OC package tells MODFLOW which attributes of the head and flow solutions should be printed and saved for each stress period during the model run. \n",
    "\n",
    "### Create Output Control Stress Period Data \n",
    "To designate what data to save, we create variable <strong> spd </strong> as a  dictionary of stress period data to be used as an argument for the flopy oc function. This takes the form: \n",
    "\n",
    "spd = {(stress period, time step): ['PRINT HEAD', 'PRINT BUDGET', 'SAVE HEAD', 'SAVE DRAWDOWN', 'SAVE IBOUND', 'SAVE BUDGET']} \n",
    "\n",
    "<strong> Note </strong> that the list of strings may be modified if you wish to only save some of the data. Here we will choose to record and save budget and head values for our steady-state model with a single stress period/time step as we specified in the 'dis' object."
   ]
  },
  {
   "cell_type": "code",
   "execution_count": 34,
   "metadata": {
    "colab": {
     "base_uri": "https://localhost:8080/",
     "height": 51
    },
    "colab_type": "code",
    "id": "ZhS76ZhR-tsW",
    "outputId": "d9d4519b-16d7-4d21-ca91-1985e547c3b4"
   },
   "outputs": [
    {
     "name": "stdout",
     "output_type": "stream",
     "text": [
      "oc stress period data: \n",
      " {(0, 0): ['print head', 'print budget', 'save head', 'save budget']}\n"
     ]
    }
   ],
   "source": [
    "#create oc stress period data. \n",
    "spd = {(0, 0): ['print head', 'print budget', 'save head', 'save budget']}\n",
    "\n",
    "print(\"oc stress period data: \\n\", spd)"
   ]
  },
  {
   "cell_type": "markdown",
   "metadata": {
    "colab_type": "text",
    "id": "csjXWIGa-tsY"
   },
   "source": [
    "### Define OC object\n",
    "We will use <strong>spd</strong> to make the 'oc' flopy object which will later be used to create the MODFLOW OC package."
   ]
  },
  {
   "cell_type": "code",
   "execution_count": 35,
   "metadata": {
    "colab": {},
    "colab_type": "code",
    "id": "bXAWNdCl-tsZ"
   },
   "outputs": [],
   "source": [
    "oc = flopy.modflow.ModflowOc(model=m, stress_period_data=spd, compact=True)"
   ]
  },
  {
   "cell_type": "markdown",
   "metadata": {
    "colab_type": "text",
    "collapsed": true,
    "id": "AkSlPEE0-tsc"
   },
   "source": [
    " <a name=\"VI\"></a> \n",
    "## VI. MODFLOW PCG Package\n",
    "\n",
    "Attaching the PCG Package to a MODFLOW model, tells MODFLOW to use the Preconditioned Conjugate Gradient Package to solve the finite difference equation. Seeing as this model is steady-state in a very simple domain, the PCG package should have little trouble solving the parabolic groundwater flow equation with its default settings. However, MODFLOW has numerous other solver packages (Newton-Raphson (NWT), Direct Solver (DE4), Strongly Implicit Procedure (SIP), etc) that may be applicable to other models. Additionally, you may want to tweak the solving criterion depending on your model. If you are interested in the nitty gritty of these methods, the MODFLOW-2005 manual is a good resource: https://pubs.usgs.gov/tm/2005/tm6A16/PDF/TM6A16.pdf. \n",
    "\n",
    "Additionally, MODFLOW online describes these solvers: https://water.usgs.gov/ogw/modflow/MODFLOW-2005-Guide/index.html?oc.htm\n",
    "\n",
    "And Flopy documents its communication with the PCG MODFLOW package:\n",
    "http://modflowpy.github.io/flopydoc/mfpcg.html\n"
   ]
  },
  {
   "cell_type": "markdown",
   "metadata": {
    "colab_type": "text",
    "id": "AhjNM62Q-tsc"
   },
   "source": [
    "### Define PCG object\n",
    "\n",
    "Here we will create the flopy pcg object which will be used to create the MODFLOW PCG package."
   ]
  },
  {
   "cell_type": "code",
   "execution_count": 36,
   "metadata": {
    "colab": {},
    "colab_type": "code",
    "id": "MiM8z4kP-tsd"
   },
   "outputs": [],
   "source": [
    "#pcg = flopy.modflow.ModflowPcg(model=m)\n",
    "pcg = flopy.modflow.ModflowPcg(model=m,mxiter=100,iter1=50,hclose=0.001,rclose=1,relax=0.98,damp=0.7)"
   ]
  },
  {
   "cell_type": "markdown",
   "metadata": {},
   "source": [
    "### Define LMT object\n",
    "Finally, we need to create a linkage package to allow the MODFLOW model to connect to a solute transport model"
   ]
  },
  {
   "cell_type": "code",
   "execution_count": 37,
   "metadata": {},
   "outputs": [],
   "source": [
    "lmt = flopy.modflow.ModflowLmt(m)\n"
   ]
  },
  {
   "cell_type": "markdown",
   "metadata": {
    "colab_type": "text",
    "id": "Bziadt8U-tsf"
   },
   "source": [
    " <a name=\"VII\"></a> \n",
    "## VII. Write MODFLOW Input Files\n",
    "\n",
    "Now that we have created all the flopy class instances for the packages we wish to attach to our model (dis, bas, lpf, oc, and pcg), we can use flopy to write the MODFLOW input files for our MODFLOW executable to read. This is done simply with:"
   ]
  },
  {
   "cell_type": "code",
   "execution_count": 38,
   "metadata": {
    "colab": {},
    "colab_type": "code",
    "id": "nRNxjocD-tsg"
   },
   "outputs": [],
   "source": [
    "#write MODFLOW input files\n",
    "m.write_input()"
   ]
  },
  {
   "cell_type": "markdown",
   "metadata": {
    "colab_type": "text",
    "id": "0xUnV9K_-tsi"
   },
   "source": [
    "Flopy should have created 6 new files in your working directory that look something like:\n",
    "\n",
    "<img src=\"https://i.imgur.com/AjODHeO.png\" title=\"modflow_files\" /></a>\n",
    "\n",
    "The file to pay attention to is the \"my_model.nam\" file. This file governs which packages will be attached to your MODFLOW file. Inside the name file it will list all the packages to be attached to your model as well as specify that BINARY DATA files that it will write as an output. (my_model.hds, my_model.cbc)\n",
    "\n",
    "<img src=\"https://i.imgur.com/8KOHV9T.png\" title=\"nam_file\" /></a>\n",
    "\n",
    "Another file to pay attention to, post run, is the LIST file. This will have additional information on how the packages are attached to your model as well as MODFLOW mass-balance budgets during the model run. "
   ]
  },
  {
   "cell_type": "markdown",
   "metadata": {
    "colab_type": "text",
    "id": "Mdj15LLe-tsj"
   },
   "source": [
    " <a name=\"VIII\"></a> \n",
    "## VIII. Run MODFLOW Model\n",
    "\n",
    "We can now run the MODFLOW model with the packages specified in the .nam file using the executable specified in the definition of our flopy model 'm':"
   ]
  },
  {
   "cell_type": "code",
   "execution_count": 39,
   "metadata": {
    "colab": {
     "base_uri": "https://localhost:8080/",
     "height": 341
    },
    "colab_type": "code",
    "id": "46RApn-U-tsk",
    "outputId": "76cea2e7-bc1f-48a6-8f27-038d56aaac4b"
   },
   "outputs": [
    {
     "name": "stdout",
     "output_type": "stream",
     "text": [
      "FloPy is using the following  executable to run the model: .\\mf2005.EXE\n",
      "\n",
      "                                  MODFLOW-2005     \n",
      "    U.S. GEOLOGICAL SURVEY MODULAR FINITE-DIFFERENCE GROUND-WATER FLOW MODEL\n",
      "                             Version 1.12.00 2/3/2017                        \n",
      "\n",
      " Using NAME file: my_model.nam \n",
      " Run start date and time (yyyy/mm/dd hh:mm:ss): 2022/04/20  1:01:04\n",
      "\n",
      " Solving:  Stress period:     1    Time step:     1    Ground-Water Flow Eqn.\n",
      " Run end date and time (yyyy/mm/dd hh:mm:ss): 2022/04/20  1:01:21\n",
      " Elapsed run time: 17.190 Seconds\n",
      "\n",
      "  Normal termination of simulation\n"
     ]
    }
   ],
   "source": [
    "# Run the model\n",
    "success, mfoutput = m.run_model(pause=False, report=True)\n",
    "if not success:\n",
    "    raise Exception('MODFLOW did not terminate normally.')"
   ]
  },
  {
   "cell_type": "markdown",
   "metadata": {
    "colab_type": "text",
    "id": "w9Tz7FRB-tsn"
   },
   "source": [
    "If the run was successful, you should have seen a window reporting the run time data. "
   ]
  },
  {
   "cell_type": "markdown",
   "metadata": {
    "colab_type": "text",
    "id": "fycMgCk7-tsn"
   },
   "source": [
    " <a name=\"IX\"></a> \n",
    "## IX. Read Head/Flow Data\n",
    "\n",
    "We will now make use of flopy's binary file reader and plotting capabilities to read and display the model output."
   ]
  },
  {
   "cell_type": "markdown",
   "metadata": {
    "colab_type": "text",
    "id": "3BgOzzHT-tso"
   },
   "source": [
    "### Read Head Data\n",
    "\n",
    "Head data from the my_model.hds file will be stored as a flopy head object."
   ]
  },
  {
   "cell_type": "code",
   "execution_count": 40,
   "metadata": {
    "colab": {},
    "colab_type": "code",
    "id": "c6Xhze2B-tsp"
   },
   "outputs": [
    {
     "name": "stdout",
     "output_type": "stream",
     "text": [
      "flopy head object: \n",
      " <flopy.utils.binaryfile.HeadFile object at 0x0000018863A63130>\n"
     ]
    }
   ],
   "source": [
    "#extract binary data from head file as flopy head object\n",
    "headobj = flopy.utils.binaryfile.HeadFile(modelname+'.hds')\n",
    "\n",
    "print(\"flopy head object: \\n\", headobj)"
   ]
  },
  {
   "cell_type": "markdown",
   "metadata": {
    "colab_type": "text",
    "id": "FGcXE0-K-tss"
   },
   "source": [
    "This head object has different attributes that can be extracted from it such as the times used in the model run, head data, databytes and more. For information on how to access these functions see: http://modflowpy.github.io/flopydoc/binaryfile.html\n",
    "\n",
    "For this model, we will extract the head data after our single stress period (totim=1.0)."
   ]
  },
  {
   "cell_type": "code",
   "execution_count": 41,
   "metadata": {
    "colab": {},
    "colab_type": "code",
    "id": "Mm_sQnvB-tss"
   },
   "outputs": [],
   "source": [
    "#extract head data from head object\n",
    "head = headobj.get_data(totim=1.0)"
   ]
  },
  {
   "cell_type": "code",
   "execution_count": 42,
   "metadata": {
    "colab": {},
    "colab_type": "code",
    "id": "XWj475Qg-tsu"
   },
   "outputs": [
    {
     "data": {
      "text/plain": [
       "array([[[939.26526, 938.8311 , 938.4704 , ..., 777.4275 , 777.3823 ,\n",
       "         777.37976],\n",
       "        [938.6894 , 938.3928 , 938.1505 , ..., 777.4021 , 777.376  ,\n",
       "         777.39246],\n",
       "        [938.0496 , 937.81537, 937.5801 , ..., 777.3287 , 777.3051 ,\n",
       "         777.308  ],\n",
       "        ...,\n",
       "        [844.1946 , 847.1507 , 854.63007, ..., 768.8211 , 768.8059 ,\n",
       "         768.81604],\n",
       "        [852.04034, 854.0304 , 857.47925, ..., 768.97864, 768.93823,\n",
       "         768.9455 ],\n",
       "        [853.07635, 854.0892 , 857.0003 , ..., 769.06006, 769.01965,\n",
       "         769.00836]],\n",
       "\n",
       "       [[939.2424 , 938.80817, 938.44745, ..., 777.3445 , 777.31036,\n",
       "         777.2904 ],\n",
       "        [938.66644, 938.3699 , 938.1276 , ..., 777.29877, 777.27094,\n",
       "         777.25757],\n",
       "        [938.0267 , 937.7924 , 937.5571 , ..., 777.22046, 777.2015 ,\n",
       "         777.1964 ],\n",
       "        ...,\n",
       "        [844.2279 , 847.1715 , 854.60767, ..., 768.7991 , 768.7761 ,\n",
       "         768.7639 ],\n",
       "        [852.02954, 854.0168 , 857.4567 , ..., 768.9638 , 768.91614,\n",
       "         768.8856 ],\n",
       "        [853.07587, 854.0923 , 856.978  , ..., 769.0414 , 768.98096,\n",
       "         768.947  ]],\n",
       "\n",
       "       [[939.21954, 938.7853 , 938.42456, ..., 777.30615, 777.272  ,\n",
       "         777.23584],\n",
       "        [938.64355, 938.3469 , 938.1047 , ..., 777.25684, 777.22546,\n",
       "         777.19556],\n",
       "        [938.0037 , 937.7695 , 937.5342 , ..., 777.1774 , 777.15717,\n",
       "         777.14294],\n",
       "        ...,\n",
       "        [844.26025, 847.1919 , 854.5859 , ..., 768.50653, 768.4875 ,\n",
       "         768.4728 ],\n",
       "        [852.01917, 854.00354, 857.4347 , ..., 768.6333 , 768.60095,\n",
       "         768.57367],\n",
       "        [853.0754 , 854.0953 , 856.9564 , ..., 768.6929 , 768.6508 ,\n",
       "         768.6251 ]],\n",
       "\n",
       "       ...,\n",
       "\n",
       "       [[935.39417, 934.2294 , 933.2842 , ..., 777.06793, 777.06396,\n",
       "         777.06354],\n",
       "        [933.4651 , 933.2811 , 932.9118 , ..., 777.0089 , 777.00555,\n",
       "         777.01416],\n",
       "        [932.8238 , 932.69446, 932.4443 , ..., 776.8993 , 776.8959 ,\n",
       "         776.9007 ],\n",
       "        ...,\n",
       "        [844.8538 , 847.5981 , 854.0648 , ..., 768.20044, 768.1934 ,\n",
       "         768.19006],\n",
       "        [851.7936 , 853.70123, 856.879  , ..., 768.28784, 768.2788 ,\n",
       "         768.27454],\n",
       "        [853.0632 , 854.1592 , 856.4399 , ..., 768.3319 , 768.3224 ,\n",
       "         768.31824]],\n",
       "\n",
       "       [[935.3911 , 934.22845, 933.2842 , ..., 777.0678 , 777.0638 ,\n",
       "         777.0609 ],\n",
       "        [933.46625, 933.2814 , 932.9116 , ..., 777.0088 , 777.0055 ,\n",
       "         777.017  ],\n",
       "        [932.8237 , 932.69434, 932.44403, ..., 776.8991 , 776.8957 ,\n",
       "         776.90063],\n",
       "        ...,\n",
       "        [844.859  , 847.6006 , 854.06146, ..., 768.187  , 768.1816 ,\n",
       "         768.1802 ],\n",
       "        [851.7918 , 853.69916, 856.87616, ..., 768.2727 , 768.26666,\n",
       "         768.265  ],\n",
       "        [853.0631 , 854.15955, 856.43695, ..., 768.31836, 768.31177,\n",
       "         768.3103 ]],\n",
       "\n",
       "       [[935.391  , 934.2284 , 933.28424, ..., 777.0678 , 777.0638 ,\n",
       "         777.0609 ],\n",
       "        [933.46625, 933.2814 , 932.9116 , ..., 777.0088 , 777.0055 ,\n",
       "         777.017  ],\n",
       "        [932.8237 , 932.69434, 932.44403, ..., 776.8991 , 776.8957 ,\n",
       "         776.90063],\n",
       "        ...,\n",
       "        [844.8616 , 847.6018 , 854.0598 , ..., 768.187  , 768.1816 ,\n",
       "         768.1802 ],\n",
       "        [851.7909 , 853.6981 , 856.8747 , ..., 768.2727 , 768.26666,\n",
       "         768.265  ],\n",
       "        [853.06305, 854.15967, 856.4355 , ..., 768.31836, 768.31177,\n",
       "         768.3103 ]]], dtype=float32)"
      ]
     },
     "execution_count": 42,
     "metadata": {},
     "output_type": "execute_result"
    }
   ],
   "source": [
    "head"
   ]
  },
  {
   "cell_type": "markdown",
   "metadata": {
    "colab_type": "text",
    "id": "w2kzCLhs-tsw"
   },
   "source": [
    "### Read Flow Data\n",
    "\n",
    "Flopy's binary budget data reader will be used to read in the budget data from my_model.cbc as a flopy budget object. (See: http://modflowpy.github.io/flopydoc/binaryfile.html#flopy.utils.binaryfile.CellBudgetFile for more info)"
   ]
  },
  {
   "cell_type": "code",
   "execution_count": 43,
   "metadata": {
    "colab": {},
    "colab_type": "code",
    "id": "8Iwx6e7i-tsx"
   },
   "outputs": [
    {
     "name": "stdout",
     "output_type": "stream",
     "text": [
      "flopy budget object: \n",
      " <flopy.utils.binaryfile.CellBudgetFile object at 0x000001886913BBE0>\n"
     ]
    }
   ],
   "source": [
    "#extract binary data from budget file as flopy budget object\n",
    "budgobj = flopy.utils.binaryfile.CellBudgetFile(modelname+'.cbc')\n",
    "\n",
    "print(\"flopy budget object: \\n\", budgobj)"
   ]
  },
  {
   "cell_type": "markdown",
   "metadata": {
    "colab_type": "text",
    "id": "uKNDrYb_-tsz"
   },
   "source": [
    "We can now extract the data from this by passing a string in the CellBudgetFile function's \"text\" argument to call which part of the data we want to get. Here we will access the flow data for the right face  and front face of each grid cell and save the data as variables 'frf' and 'fff' which are output as arrays."
   ]
  },
  {
   "cell_type": "code",
   "execution_count": 44,
   "metadata": {
    "colab": {},
    "colab_type": "code",
    "id": "S99JbvlX-ts0"
   },
   "outputs": [
    {
     "name": "stdout",
     "output_type": "stream",
     "text": [
      "Flow through Right Face of Grid Cells m^3/d \n",
      " [array([[[ 5.48816621e-01,  4.56012279e-01,  5.46987951e-01, ...,\n",
      "          2.68428779e+00,  1.55299678e-01,  0.00000000e+00],\n",
      "        [ 3.74876142e-01,  3.06314260e-01,  5.67453444e-01, ...,\n",
      "          1.55163705e+00, -9.79883552e-01,  0.00000000e+00],\n",
      "        [ 2.96112239e-01,  2.97424287e-01,  5.23570836e-01, ...,\n",
      "          1.39941311e+00, -1.68690041e-01,  0.00000000e+00],\n",
      "        ...,\n",
      "        [-3.73694587e+00, -9.45511913e+00, -2.71549892e+00, ...,\n",
      "          9.04660761e-01, -6.04238570e-01,  0.00000000e+00],\n",
      "        [-2.51576495e+00, -4.35991955e+00, -5.66214144e-01, ...,\n",
      "          2.40322709e+00, -4.31019127e-01,  0.00000000e+00],\n",
      "        [-1.28036642e+00, -3.68011999e+00,  7.31104803e+00, ...,\n",
      "          2.40311885e+00,  6.73190653e-01,  0.00000000e+00]],\n",
      "\n",
      "       [[ 5.48877239e-01,  4.56009746e-01,  5.46979010e-01, ...,\n",
      "          2.37988388e+02,  1.43847855e+02,  0.00000000e+00],\n",
      "        [ 3.74902040e-01,  3.06279272e-01,  5.67474544e-01, ...,\n",
      "          2.64469940e+02,  1.44944916e+02,  0.00000000e+00],\n",
      "        [ 2.96132326e-01,  2.97410786e-01,  5.23601174e-01, ...,\n",
      "          1.83984955e+02,  4.96267548e+01,  0.00000000e+00],\n",
      "        ...,\n",
      "        [-3.72120333e+00, -9.40047932e+00, -2.71543288e+00, ...,\n",
      "          5.20132370e+01,  4.14235840e+01,  0.00000000e+00],\n",
      "        [-2.51212525e+00, -4.34870338e+00, -5.66333055e-01, ...,\n",
      "          7.48568268e+01,  8.79977646e+01,  0.00000000e+00],\n",
      "        [-1.28495526e+00, -3.64803624e+00,  7.23265839e+00, ...,\n",
      "          1.36416656e+02,  1.46209473e+02,  0.00000000e+00]],\n",
      "\n",
      "       [[ 5.48998475e-01,  4.56004649e-01,  5.46961248e-01, ...,\n",
      "          4.32327054e-02,  4.57020625e-02,  0.00000000e+00],\n",
      "        [ 3.74953806e-01,  3.06209326e-01,  5.67516923e-01, ...,\n",
      "          3.96885052e-02,  3.77796143e-02,  0.00000000e+00],\n",
      "        [ 2.96172500e-01,  2.97383785e-01,  5.23661852e-01, ...,\n",
      "          2.56265700e-02,  1.79531127e-02,  0.00000000e+00],\n",
      "        ...,\n",
      "        [-3.70603824e+00, -9.34719467e+00, -2.71530747e+00, ...,\n",
      "          9.99708176e-01,  7.89723575e-01,  0.00000000e+00],\n",
      "        [-2.50853705e+00, -4.33758211e+00, -5.66564322e-01, ...,\n",
      "          1.88221586e+00,  1.61120999e+00,  0.00000000e+00],\n",
      "        [-1.28937268e+00, -3.61688495e+00,  7.15637255e+00, ...,\n",
      "          2.58133411e+00,  1.62315738e+00,  0.00000000e+00]],\n",
      "\n",
      "       ...,\n",
      "\n",
      "       [[ 3.98369560e+01,  4.07999763e+01,  2.87378426e+01, ...,\n",
      "          1.41701505e-01,  1.15392888e-02,  0.00000000e+00],\n",
      "        [ 6.52663517e+00,  1.64135418e+01,  2.26746178e+01, ...,\n",
      "          1.29395008e-01, -3.03102136e-01,  0.00000000e+00],\n",
      "        [ 4.62499905e+00,  1.09238987e+01,  1.82623386e+01, ...,\n",
      "          1.47191107e-01, -1.82370722e-01,  0.00000000e+00],\n",
      "        ...,\n",
      "        [-3.66970822e-02, -8.64767954e-02, -2.85210051e-02, ...,\n",
      "          4.16408360e-01,  2.00336710e-01,  0.00000000e+00],\n",
      "        [-2.55099069e-02, -4.24950384e-02, -5.87643217e-03, ...,\n",
      "          5.37655413e-01,  2.52371073e-01,  0.00000000e+00],\n",
      "        [-1.46559710e-02, -3.04989647e-02,  5.78655340e-02, ...,\n",
      "          5.65718412e-01,  2.45185390e-01,  0.00000000e+00]],\n",
      "\n",
      "       [[ 7.85189509e-01,  6.37690306e-01,  3.62239748e-01, ...,\n",
      "          5.27318241e-03,  7.45006232e-03,  0.00000000e+00],\n",
      "        [ 1.24824435e-01,  2.49729857e-01,  2.78986007e-01, ...,\n",
      "          4.29238798e-03, -2.94838827e-02,  0.00000000e+00],\n",
      "        [ 8.73982236e-02,  1.69018403e-01,  2.28670806e-01, ...,\n",
      "          4.49081697e-03, -6.47531543e-03,  0.00000000e+00],\n",
      "        ...,\n",
      "        [-3.66615020e-02, -8.63987878e-02, -2.85244435e-02, ...,\n",
      "          1.94242725e+01,  4.41426325e+00,  0.00000000e+00],\n",
      "        [-2.55059712e-02, -4.24846336e-02, -5.87632786e-03, ...,\n",
      "          2.18609753e+01,  5.02148199e+00,  0.00000000e+00],\n",
      "        [-1.46616986e-02, -3.04549541e-02,  5.77559583e-02, ...,\n",
      "          2.10215416e+01,  3.99452806e+00,  0.00000000e+00]],\n",
      "\n",
      "       [[ 7.85125971e-01,  6.37669742e-01,  3.62246245e-01, ...,\n",
      "          5.28188143e-03,  3.72531498e-03,  0.00000000e+00],\n",
      "        [ 1.24849245e-01,  2.49738291e-01,  2.78986901e-01, ...,\n",
      "          4.29385807e-03, -1.50619885e-02,  0.00000000e+00],\n",
      "        [ 8.73989016e-02,  1.69019744e-01,  2.28670582e-01, ...,\n",
      "          4.49601328e-03, -6.47158455e-03,  0.00000000e+00],\n",
      "        ...,\n",
      "        [-3.66437212e-02, -8.63597915e-02, -2.85261627e-02, ...,\n",
      "          7.24570709e-05,  1.88416325e-05,  0.00000000e+00],\n",
      "        [-2.55040005e-02, -4.24794182e-02, -5.87628083e-03, ...,\n",
      "          8.05238742e-05,  2.20830552e-05,  0.00000000e+00],\n",
      "        [-1.46645587e-02, -3.04329637e-02,  5.77012002e-02, ...,\n",
      "          8.80500593e-05,  1.99455899e-05,  0.00000000e+00]]],\n",
      "      dtype=float32)] \n",
      " Flow through Front Face of Grid Cells m^3/d \n",
      " [array([[[ 7.2801840e-01,  5.5407792e-01,  4.0437990e-01, ...,\n",
      "          1.5102810e+00,  3.7763032e-01, -7.5755292e-01],\n",
      "        [ 8.0878174e-01,  7.3001784e-01,  7.2112781e-01, ...,\n",
      "          4.3645763e+00,  4.2123518e+00,  5.0235457e+00],\n",
      "        [ 8.7891656e-01,  8.2471913e-01,  7.7274030e-01, ...,\n",
      "          8.1305227e+00,  7.3959975e+00,  8.3261662e+00],\n",
      "        ...,\n",
      "        [-9.9182348e+00, -8.6970539e+00, -3.6018543e+00, ...,\n",
      "         -9.3659916e+00, -7.8674245e+00, -7.6942053e+00],\n",
      "        [-1.3097339e+00, -7.4335434e-02,  6.0546416e-01, ...,\n",
      "         -4.8422890e+00, -4.8423977e+00, -3.7381878e+00],\n",
      "        [ 0.0000000e+00,  0.0000000e+00,  0.0000000e+00, ...,\n",
      "          0.0000000e+00,  0.0000000e+00,  0.0000000e+00]],\n",
      "\n",
      "       [[ 7.2807944e-01,  5.5410421e-01,  4.0437376e-01, ...,\n",
      "          3.8415918e+02,  3.0481122e+02,  3.2214633e+02],\n",
      "        [ 8.0878836e-01,  7.3001868e-01,  7.2115010e-01, ...,\n",
      "          7.5784955e+02,  6.6082141e+02,  6.8748499e+02],\n",
      "        [ 8.7894022e-01,  8.2473356e-01,  7.7274615e-01, ...,\n",
      "          1.1205435e+03,  1.0336040e+03,  9.5502765e+02],\n",
      "        ...,\n",
      "        [-9.8625441e+00, -8.6534662e+00, -3.6016910e+00, ...,\n",
      "         -2.5854837e+02, -3.1695294e+02, -6.1108002e+02],\n",
      "        [-1.3226798e+00, -9.5509633e-02,  6.0515755e-01, ...,\n",
      "         -1.1361691e+02, -1.6314496e+02, -3.3934125e+02],\n",
      "        [ 0.0000000e+00,  0.0000000e+00,  0.0000000e+00, ...,\n",
      "          0.0000000e+00,  0.0000000e+00,  0.0000000e+00]],\n",
      "\n",
      "       [[ 7.2820151e-01,  5.5415684e-01,  4.0436149e-01, ...,\n",
      "          6.2339295e-02,  5.8795098e-02,  5.0872646e-02],\n",
      "        [ 8.0880159e-01,  7.3002028e-01,  7.2119480e-01, ...,\n",
      "          1.0040418e-01,  8.6342238e-02,  6.6515736e-02],\n",
      "        [ 8.7898761e-01,  8.2476252e-01,  7.7275783e-01, ...,\n",
      "          1.4706662e-01,  1.4274217e-01,  1.2700483e-01],\n",
      "        ...,\n",
      "        [-9.8084822e+00, -8.6109819e+00, -3.6013691e+00, ...,\n",
      "         -6.9481454e+00, -6.3064404e+00, -5.7385712e+00],\n",
      "        [-1.3351803e+00, -1.1601587e-01,  6.0468125e-01, ...,\n",
      "         -3.5386572e+00, -2.9913912e+00, -3.1884835e+00],\n",
      "        [ 0.0000000e+00,  0.0000000e+00,  0.0000000e+00, ...,\n",
      "          0.0000000e+00,  0.0000000e+00,  0.0000000e+00]],\n",
      "\n",
      "       ...,\n",
      "\n",
      "       [[ 5.9722054e+01,  3.7749340e+01,  1.8118103e+01, ...,\n",
      "          2.2717588e+00,  2.0967813e+00,  1.4499580e+00],\n",
      "        [ 2.0663975e+01,  2.3357389e+01,  2.3050627e+01, ...,\n",
      "          4.6948371e+00,  4.3023758e+00,  3.8693159e+00],\n",
      "        [ 1.9215891e+01,  2.2053980e+01,  2.5186344e+01, ...,\n",
      "          7.7756681e+00,  7.0125780e+00,  6.0280452e+00],\n",
      "        ...,\n",
      "        [-9.2801683e-02, -8.1614509e-02, -3.7632756e-02, ...,\n",
      "         -5.1960835e+00, -5.0748363e+00, -5.0228019e+00],\n",
      "        [-1.6977808e-02, -6.1238720e-03,  5.8722049e-03, ...,\n",
      "         -2.6193485e+00, -2.5912855e+00, -2.5984712e+00],\n",
      "        [ 0.0000000e+00,  0.0000000e+00,  0.0000000e+00, ...,\n",
      "          0.0000000e+00,  0.0000000e+00,  0.0000000e+00]],\n",
      "\n",
      "       [[ 1.2999609e+00,  6.3959587e-01,  2.5163540e-01, ...,\n",
      "          7.6992430e-02,  7.6011635e-02,  4.1732516e+00],\n",
      "        [ 4.3389642e-01,  3.9647025e-01,  3.1575879e-01, ...,\n",
      "          1.4296880e-01,  1.4316723e-01,  2.9700094e-01],\n",
      "        [ 3.9486161e-01,  3.8007858e-01,  3.5429931e-01, ...,\n",
      "          2.2133662e-01,  2.2385737e-01,  2.2366133e-01],\n",
      "        ...,\n",
      "        [-9.2708848e-02, -8.1553310e-02, -3.7639156e-02, ...,\n",
      "         -3.3351117e+02, -2.8604590e+02, -2.4201625e+02],\n",
      "        [-1.7000709e-02, -6.1564357e-03,  5.8732410e-03, ...,\n",
      "         -1.6881433e+02, -1.4179126e+02, -1.1786082e+02],\n",
      "        [ 0.0000000e+00,  0.0000000e+00,  0.0000000e+00, ...,\n",
      "          0.0000000e+00,  0.0000000e+00,  0.0000000e+00]],\n",
      "\n",
      "       [[ 1.2998483e+00,  6.3957155e-01,  2.5164008e-01, ...,\n",
      "          7.6988198e-02,  7.6000169e-02,  5.7212867e-02],\n",
      "        [ 4.3392786e-01,  3.9647758e-01,  3.1575900e-01, ...,\n",
      "          1.4297456e-01,  1.4317670e-01,  1.5176710e-01],\n",
      "        [ 3.9486262e-01,  3.8007915e-01,  3.5429871e-01, ...,\n",
      "          2.2143301e-01,  2.2397016e-01,  2.2377919e-01],\n",
      "        ...,\n",
      "        [-9.2662446e-02, -8.1522726e-02, -3.7642356e-02, ...,\n",
      "         -1.1458690e-03, -1.1378023e-03, -1.1345608e-03],\n",
      "        [-1.7012149e-02, -6.1727068e-03,  5.8737500e-03, ...,\n",
      "         -6.1068538e-04, -6.0315919e-04, -6.0529669e-04],\n",
      "        [ 0.0000000e+00,  0.0000000e+00,  0.0000000e+00, ...,\n",
      "          0.0000000e+00,  0.0000000e+00,  0.0000000e+00]]], dtype=float32)]\n"
     ]
    }
   ],
   "source": [
    "frf = budgobj.get_data(text='flow right face', totim=1.0)\n",
    "fff = budgobj.get_data(text='flow front face', totim=1.0)\n",
    "\n",
    "print(\"Flow through Right Face of Grid Cells m^3/d \\n\", frf,\n",
    "     \"\\n Flow through Front Face of Grid Cells m^3/d \\n\", fff)"
   ]
  },
  {
   "cell_type": "markdown",
   "metadata": {
    "colab_type": "text",
    "id": "88VU5HnG-ts2"
   },
   "source": [
    "Here, it is good to check if results seem reasonable; for this steady-state model, it makes sense that  we see a constant value in the \"Flow Right Face\" output array as the higher head on the left side of the model induces flow from left to right. The \"Flow Front Face\" array, has very small positive and negative values in it, suggesting that there are potential numerical oscillations in our solution. However, these fluctuations are so small that the output may still be appropriate depending on the application/precision we are looking for. \n",
    "\n",
    "It is good to look for numerical nuances in modeling practice, but the data is much easier to visualize by plotting with flopy's plotting cababilities. "
   ]
  },
  {
   "cell_type": "markdown",
   "metadata": {
    "colab_type": "text",
    "id": "_njupWDf-ts3"
   },
   "source": [
    " <a name=\"X\"></a> \n",
    "## X. Plotting"
   ]
  },
  {
   "cell_type": "code",
   "execution_count": 45,
   "metadata": {
    "colab": {},
    "colab_type": "code",
    "id": "O3iu7UM_-ts4"
   },
   "outputs": [
    {
     "data": {
      "image/png": "[encoded data removed]",
      "text/plain": [
       "<Figure size 720x720 with 2 Axes>"
      ]
     },
     "metadata": {
      "needs_background": "light"
     },
     "output_type": "display_data"
    }
   ],
   "source": [
    "#plot results\n",
    "plt.figure(figsize=(10,10)) #create 10 x 10 figure\n",
    "modelmap = flopy.plot.map.PlotMapView(model=m, layer=8) #use modelmap to attach plot to model\n",
    "#grid = modelmap.plot_grid() #plot model grid\n",
    "riv_plot = modelmap.plot_bc(ftype='RIV')\n",
    "\n",
    "contour_levels = np.linspace(head[8].min(),head[8].max(),11) #set contour levels for contouring head\n",
    "head_contours = modelmap.contour_array(head, levels=contour_levels) #create head contours\n",
    "#flows = modelmap.plot_discharge(frf[0], fff[0], head=head) #create discharge arrows\n",
    "\n",
    "#display parameters\n",
    "plt.xlabel('Lx (m)',fontsize = 14)\n",
    "plt.ylabel('Ly (m)',fontsize = 14)\n",
    "plt.title('Steady-State Model, Flow(m^3/d) and Head(m) Results', fontsize = 15, fontweight = 'bold')\n",
    "plt.colorbar(head_contours,aspect=5)\n",
    "plt.show(modelmap)"
   ]
  },
  {
   "cell_type": "markdown",
   "metadata": {
    "colab_type": "text",
    "id": "-ShG7QiT-ts7"
   },
   "source": [
    "### 3D Surface Plot \n",
    "\n",
    "<strong> Note: </strong> This is not part of flopy's plotting, and uses a matplotlib function from a 3d projection toolkit. Flopy takes cell indexing where the top left of the grid is the (0,0) cell index while the Length & Width units start at 0 in the lower left of the grid. This seems a little wierd, but it makes it easy to match up an array of cell by cell numbers to their respective locations on the grid when assigning properties or observing output data. Flopy's plotting functions automatically flip the resultant head data to display on its proper grid, however, for the 3d plots below, you'll see the function np.flipud() is used to flip the data array to plot in the same direction."
   ]
  },
  {
   "cell_type": "code",
   "execution_count": 46,
   "metadata": {
    "colab": {},
    "colab_type": "code",
    "id": "JtuQ2kTL-ts7",
    "scrolled": true
   },
   "outputs": [
    {
     "data": {
      "image/png": "[encoded data removed]",
      "text/plain": [
       "<Figure size 864x360 with 2 Axes>"
      ]
     },
     "metadata": {
      "needs_background": "light"
     },
     "output_type": "display_data"
    }
   ],
   "source": [
    "#import 3d axes toolkit from matplotlib\n",
    "from mpl_toolkits.mplot3d import Axes3D\n",
    "\n",
    "#create 3d figure\n",
    "fig_3d = plt.figure(figsize=(12,5))\n",
    "ax = fig_3d.gca(projection='3d')\n",
    "\n",
    "#set X, Y, Z variables for 3d plot to be our model domain and head solution\n",
    "X = np.arange(0,Lx,dx)\n",
    "Y = np.arange(0,Ly,dy)\n",
    "X, Y = np.meshgrid(X, Y)\n",
    "Z = np.flipud(head[8])\n",
    "\n",
    "#create surface and labels\n",
    "surf = ax.plot_surface(X,Y,Z, cmap = 'viridis', linewidth=0, label='head')\n",
    "fig_3d.colorbar(surf,shrink=0.5,aspect=5).set_label('Head (m)',fontsize=10,fontweight='bold')\n",
    "ax.set_xlabel('Lx (m)', fontsize=15, fontweight='bold')\n",
    "ax.set_ylabel('Ly (m)', fontsize=15, fontweight='bold')\n",
    "ax.set_title('Steady-State Model Head Profile', fontsize=15, fontweight='bold')\n",
    "plt.show(surf)"
   ]
  },
  {
   "cell_type": "markdown",
   "metadata": {},
   "source": [
    " <a name=\"XI\"></a> \n",
    " ## XI. Calibration\n",
    "\n",
    "Now let's import observed heads into a dataframe and compare to observed heads."
   ]
  },
  {
   "cell_type": "code",
   "execution_count": 47,
   "metadata": {},
   "outputs": [
    {
     "name": "stdout",
     "output_type": "stream",
     "text": [
      "Mean Error is -1.0074158950373229 feet\n",
      "Absolute Mean Error is 16.487733910440916 feet\n"
     ]
    },
    {
     "data": {
      "image/png": "[encoded data removed]",
      "text/plain": [
       "<Figure size 360x360 with 1 Axes>"
      ]
     },
     "metadata": {
      "needs_background": "light"
     },
     "output_type": "display_data"
    }
   ],
   "source": [
    "# read ob heads\n",
    "calheads = pd.read_csv('obheads.csv')\n",
    "# convert row, column, layer into Python indexing\n",
    "calheads['row'] = calheads['row']-1\n",
    "calheads['column'] = calheads['column']-1\n",
    "calheads['layer'] = calheads['layer']-1\n",
    "#create an empty list to append simulated heads \n",
    "simheads = []\n",
    "# iterate over the observed heads, pull the corresponding simulated head\n",
    "for index, values in calheads.iterrows():\n",
    "    simheads.append(head[values['layer'],values['row'],values['column']])\n",
    "# add simulated heads to the dataframe              \n",
    "calheads['sim'] = pd.Series(simheads)\n",
    "#print(calheads)\n",
    "\n",
    "#here we can investigate different layers\n",
    "calheads = calheads[calheads['layer'] >= 0]\n",
    "\n",
    "# plot simulated vs observed heads\n",
    "f = plt.figure()\n",
    "f.set_figwidth(5)\n",
    "f.set_figheight(5)\n",
    "plt.scatter(calheads['obhead'],calheads['sim'])\n",
    "plt.grid(color='gray', linestyle='--', linewidth=0.5)\n",
    "plt.xlim(700, 1000)\n",
    "plt.ylim(700, 1000)\n",
    "plt.xlabel('Observed Head (ft)')\n",
    "plt.ylabel('Simulated Head (ft)')\n",
    "plt.title('Calibration')\n",
    "\n",
    "# calculate some basic statistics\n",
    "\n",
    "# 1. Mean Error\n",
    "calheads['ME'] = calheads['obhead']-calheads['sim']\n",
    "print('Mean Error is ' + str(calheads['ME'].mean()) + ' feet')\n",
    "\n",
    "# 2. Absolute Mean Error\n",
    "calheads['AME'] = calheads['ME'].abs()\n",
    "print('Absolute Mean Error is ' + str(calheads['AME'].mean())+ ' feet')\n"
   ]
  },
  {
   "cell_type": "markdown",
   "metadata": {},
   "source": [
    "## Calibration results\n",
    "\n",
    "It is important to keep track of changes you have made and how those changes impacted calibration.\n",
    "\n",
    "- high k recharge 0.001; low k recharge 0.0001 - ME 9, AME 15\n",
    "- high k recharge 0.002; low k recharge 0.001 - ME -3, AME 17\n",
    "- high k recharge 0.001; low k recharge 0.001 - ME 5, AME 15\n",
    "- double hydraulic conductivity - ME 12 , AME 17\n",
    "- halve hydraulic conductivity - ME -1 , AME 16\n",
    "\n",
    "Ideas for additional calibration\n",
    "- change river conductance\n",
    "- change drain conductance\n",
    "- change river stage (at least investigate but maybe not a good idea everywhere)"
   ]
  },
  {
   "cell_type": "markdown",
   "metadata": {},
   "source": [
    " <a name=\"XII\"></a> \n",
    " ## XII. MT3DMS\n",
    " \n",
    "In the following code block, we develop run the solute transport modeling code MT3DMS (https://hydro.geo.ua.edu/mt3d/mt3dms2.htm). The packages are discussed in the FloPy documentation here: https://flopy.readthedocs.io/en/3.3.5/code.html. Let's walk through the process of building MT3DMS step-by-step."
   ]
  },
  {
   "cell_type": "markdown",
   "metadata": {},
   "source": [
    "First, Let's assign a name for our solute transport model and associated packages. Often, this is the same name as the MODFLOW model, but with *_mt* added at the end"
   ]
  },
  {
   "cell_type": "code",
   "execution_count": 48,
   "metadata": {},
   "outputs": [],
   "source": [
    "modelname = \"my_model_mt\""
   ]
  },
  {
   "cell_type": "markdown",
   "metadata": {},
   "source": [
    "Next, let's create something that represents our MT3DMS model. In the following code, we assign the name of our MT3DMS model, the executable that we are going to use (it is located in the directory of this ipynb file on GitHub and should be automatically recognized by the code), and the name of the MODFLOW file that will serve the base of this solute transport solution. MT3DMS will actually take the flow simulation from MODFLOW and allow the addition/reaction of contaminants."
   ]
  },
  {
   "cell_type": "code",
   "execution_count": 49,
   "metadata": {},
   "outputs": [],
   "source": [
    "mt = flopy.mt3d.Mt3dms(modelname=modelname,exe_name='MT3DMS',modflowmodel=m)\n"
   ]
  },
  {
   "cell_type": "markdown",
   "metadata": {},
   "source": [
    "Before moving on, let's do a quick exploration of what kind of file mt is (take a moment to run the code cell below). This is.... a *flopy.mt3d.mt.Mt3dms* data type? We haven't talked about this before, but we are actually now working with object oriented coding. Technically, the above code is not a function, but instead a class definition. When we run the code, we create an instance of this class (I call these instances \"objects\"). More details on this can be found at: https://docs.python.org/3/tutorial/classes.html. For this project, we don't need to concern ourselves with the precise definitions, but I did want to just give you a brief overview because this is so different than what we worked with earlier in the semester."
   ]
  },
  {
   "cell_type": "code",
   "execution_count": 50,
   "metadata": {},
   "outputs": [
    {
     "data": {
      "text/plain": [
       "flopy.mt3d.mt.Mt3dms"
      ]
     },
     "execution_count": 50,
     "metadata": {},
     "output_type": "execute_result"
    }
   ],
   "source": [
    "type(mt)"
   ]
  },
  {
   "cell_type": "markdown",
   "metadata": {},
   "source": [
    "Now, it's time to create another object. This time, we are going to use the Block Transport package class (https://flopy.readthedocs.io/en/3.3.5/source/flopy.mt3d.mtbtn.html). This code defines both model properties and time discretization for the flow solution. In the following code block, we assign the model as *mt*, which is the MT3DMS object that we defined above. We are then adding details by assigning a porosity of 0.3 (this is a value that you may consider changing during calibration). *perlen* defines how long the simulation runs. In our case, we are running from 1950 to 2020, so for 70 years. This is because national road salt applications were estimated to begin in 1950 and are still applied through today. You may consider adjusting the start date of the simulation during your calibration process, although think about whether this is realistic and why you might need to do this. *timeprs* defines which times will be printed (this saves on memory to ensure that the simulated results are not saved for every time step. *dt0* defines the length of time that the simulation will run in the first MT3D time step. *ttsmult* defines a multiplier applied to a time step, and *ttsmax* defines the maximum value of your time step. Feel free to explore how different values change your solution, but be careful, adding too many stress periods can create long run-times.  "
   ]
  },
  {
   "cell_type": "code",
   "execution_count": 51,
   "metadata": {},
   "outputs": [],
   "source": [
    "# reminder, all time units in the model must be in days\n",
    "btn = flopy.mt3d.Mt3dBtn(\n",
    "    model=mt,\n",
    "    prsity=0.3,\n",
    "    perlen=70*365, # simulation runs for 70 years\n",
    "    timprs=[10 * 365, 20*365, 30*365, 40*365, 50 * 365, 60*365, 70 * 365], # times that will be printed in 10 year intervals\n",
    "    dt0=365, # the first MTD time step will run for 365 days\n",
    "    ttsmult=1, # often a multipler is applied to each time step; we are not going to do that here, meaning that each time step will be for 365 days\n",
    "    ttsmax=365, # if we applied a multipler, this would set the max value of a time step\n",
    ")"
   ]
  },
  {
   "cell_type": "markdown",
   "metadata": {},
   "source": [
    "Next, we are going to create advection and dispersion objects. I am settling for defaults on these with one exception; I set *mixelm* to 0, which just changes the solution approach (this allows for a smoother, more rapid solution in our example). "
   ]
  },
  {
   "cell_type": "code",
   "execution_count": 52,
   "metadata": {},
   "outputs": [],
   "source": [
    "# advection package\n",
    "adv = flopy.mt3d.Mt3dAdv(mt,mixelm=0) #mixelm is a parameter that defines how the math behind MT3D is resolved\n",
    "# dispersion package, accepted defaults, may want to vary some of those\n",
    "dsp = flopy.mt3d.Mt3dDsp(mt)"
   ]
  },
  {
   "cell_type": "markdown",
   "metadata": {},
   "source": [
    "How are we going to add chloride into our model? For this, we need to define the \"source and sink mixing class\". Most importantly, this is how we are going to add chloride input into our model via recharge. You are going to experiment with this, but briefly, \"crch\" requires an array of chloride concentrations in recharge. Here we assign a ubiquitous 100 mg/L. Your task will be to add something more realistic based on road networks.  "
   ]
  },
  {
   "cell_type": "code",
   "execution_count": 53,
   "metadata": {},
   "outputs": [],
   "source": [
    "# Reminder: Daniel said that concentration in recharge is something to adjust for calibration to chloride\n",
    "crch1 = 100*np.ones((nrow, ncol), dtype=float) # concentration in the recharge\n",
    "ssm = flopy.mt3d.Mt3dSsm(mt, crch=crch1)"
   ]
  },
  {
   "cell_type": "markdown",
   "metadata": {},
   "source": [
    "The rest of this code defines the solver settings with GCG package (let's use defaults), writes the model runs, runs those files, and saves the chloride as an object from the binary \"ucn\" package. From this object, we can extract the times and concentration arrays associated with this data."
   ]
  },
  {
   "cell_type": "code",
   "execution_count": 54,
   "metadata": {
    "scrolled": true
   },
   "outputs": [
    {
     "name": "stdout",
     "output_type": "stream",
     "text": [
      "FloPy is using the following  executable to run the model: .\\MT3DMS.EXE\n",
      " MT3DMS - Modular 3-D Multi-Species Transport Model [Version 5.30]\n",
      " Developed at University of Alabama for U.S. Department of Defense\n",
      "\n",
      " Using NAME File: my_model_mt.nam                                   \n",
      "\n",
      " STRESS PERIOD NO.    1\n",
      "\n",
      " TIME STEP NO.    1\n",
      " FROM TIME =   0.0000     TO    25550.    \n",
      "\n",
      " Transport Step:    1   Step Size:   365.0     Total Elapsed Time:   365.00    \n",
      " Outer Iter.  1  Inner Iter.  1:  Max. DC =   54.91      [K,I,J]    1   61  225\n",
      " Outer Iter.  1  Inner Iter.  2:  Max. DC =   11.82      [K,I,J]    1   14   75\n",
      " Outer Iter.  1  Inner Iter.  3:  Max. DC =   1.613      [K,I,J]    3   13   75\n",
      " Outer Iter.  1  Inner Iter.  4:  Max. DC =  0.7156      [K,I,J]    3   13   75\n",
      " Outer Iter.  1  Inner Iter.  5:  Max. DC =  0.1383      [K,I,J]    1   14   75\n",
      " Outer Iter.  1  Inner Iter.  6:  Max. DC =  0.5022E-01  [K,I,J]    3  137  219\n",
      " Outer Iter.  1  Inner Iter.  7:  Max. DC =  0.1880E-01  [K,I,J]    3  137  219\n",
      " Outer Iter.  1  Inner Iter.  8:  Max. DC =  0.6073E-02  [K,I,J]    3  137  219\n",
      " Outer Iter.  1  Inner Iter.  9:  Max. DC =  0.7938E-03  [K,I,J]    3  137  218\n",
      " Outer Iter.  1  Inner Iter. 10:  Max. DC =  0.3966E-03  [K,I,J]    3  137  218\n",
      " Outer Iter.  1  Inner Iter. 11:  Max. DC =  0.6717E-03  [K,I,J]    3  137  218\n",
      " Outer Iter.  1  Inner Iter. 12:  Max. DC =  0.7510E-05  [K,I,J]    3  137  218\n",
      " Transport Step:    2   Step Size:   365.0     Total Elapsed Time:   730.00    \n",
      " Outer Iter.  1  Inner Iter.  1:  Max. DC =  0.5010      [K,I,J]    2   57   15\n",
      " Outer Iter.  1  Inner Iter.  2:  Max. DC =  0.1059      [K,I,J]    3  203   47\n",
      " Outer Iter.  1  Inner Iter.  3:  Max. DC =  0.2457E-01  [K,I,J]    3   13   75\n",
      " Outer Iter.  1  Inner Iter.  4:  Max. DC =  0.1312E-01  [K,I,J]    3   13   75\n",
      " Outer Iter.  1  Inner Iter.  5:  Max. DC =  0.2439E-02  [K,I,J]    3   13   75\n",
      " Outer Iter.  1  Inner Iter.  6:  Max. DC =  0.2259E-03  [K,I,J]    3  137  219\n",
      " Outer Iter.  1  Inner Iter.  7:  Max. DC =  0.9798E-04  [K,I,J]    3  137  219\n",
      " Outer Iter.  1  Inner Iter.  8:  Max. DC =  0.1423E-04  [K,I,J]    3    1  172\n",
      " Outer Iter.  1  Inner Iter.  9:  Max. DC =  0.3725E-05  [K,I,J]    3    1  172\n",
      " Transport Step:    3   Step Size:   365.0     Total Elapsed Time:   1095.0    \n",
      " Outer Iter.  1  Inner Iter.  1:  Max. DC =  0.2566      [K,I,J]    3   57   15\n",
      " Outer Iter.  1  Inner Iter.  2:  Max. DC =  0.4703E-01  [K,I,J]    3  203   47\n",
      " Outer Iter.  1  Inner Iter.  3:  Max. DC =  0.7987E-02  [K,I,J]    3  203   47\n",
      " Outer Iter.  1  Inner Iter.  4:  Max. DC =  0.3738E-02  [K,I,J]    3   13   75\n",
      " Outer Iter.  1  Inner Iter.  5:  Max. DC =  0.1205E-02  [K,I,J]    3   13   75\n",
      " Outer Iter.  1  Inner Iter.  6:  Max. DC =  0.1254E-03  [K,I,J]    3  137  219\n",
      " Outer Iter.  1  Inner Iter.  7:  Max. DC =  0.4804E-04  [K,I,J]    3  137  219\n",
      " Outer Iter.  1  Inner Iter.  8:  Max. DC =  0.9069E-05  [K,I,J]    3   13   75\n",
      " Transport Step:    4   Step Size:   365.0     Total Elapsed Time:   1460.0    \n",
      " Outer Iter.  1  Inner Iter.  1:  Max. DC =  0.1840      [K,I,J]    4  183   29\n",
      " Outer Iter.  1  Inner Iter.  2:  Max. DC =  0.2015E-01  [K,I,J]    3  205  190\n",
      " Outer Iter.  1  Inner Iter.  3:  Max. DC =  0.4003E-02  [K,I,J]    3  203   47\n",
      " Outer Iter.  1  Inner Iter.  4:  Max. DC =  0.1152E-02  [K,I,J]    3   13   75\n",
      " Outer Iter.  1  Inner Iter.  5:  Max. DC =  0.5088E-03  [K,I,J]    3   13   75\n",
      " Outer Iter.  1  Inner Iter.  6:  Max. DC =  0.7968E-04  [K,I,J]    3  137  219\n",
      " Outer Iter.  1  Inner Iter.  7:  Max. DC =  0.2195E-04  [K,I,J]    3  137  219\n",
      " Outer Iter.  1  Inner Iter.  8:  Max. DC =  0.6432E-05  [K,I,J]    3   13   75\n",
      " Transport Step:    5   Step Size:   365.0     Total Elapsed Time:   1825.0    \n",
      " Outer Iter.  1  Inner Iter.  1:  Max. DC =  0.1503      [K,I,J]    5  184    2\n",
      " Outer Iter.  1  Inner Iter.  2:  Max. DC =  0.1168E-01  [K,I,J]    3   36   36\n",
      " Outer Iter.  1  Inner Iter.  3:  Max. DC =  0.1993E-02  [K,I,J]    3   37   39\n",
      " Outer Iter.  1  Inner Iter.  4:  Max. DC =  0.4219E-03  [K,I,J]    3   37   39\n",
      " Outer Iter.  1  Inner Iter.  5:  Max. DC =  0.1792E-03  [K,I,J]    3   13   75\n",
      " Outer Iter.  1  Inner Iter.  6:  Max. DC =  0.5587E-04  [K,I,J]    3  137  219\n",
      " Outer Iter.  1  Inner Iter.  7:  Max. DC =  0.1001E-04  [K,I,J]    3  137  219\n",
      " Outer Iter.  1  Inner Iter.  8:  Max. DC =  0.3126E-05  [K,I,J]    3   13   75\n",
      " Transport Step:    6   Step Size:   365.0     Total Elapsed Time:   2190.0    \n",
      " Outer Iter.  1  Inner Iter.  1:  Max. DC =  0.1249      [K,I,J]    5  184   18\n",
      " Outer Iter.  1  Inner Iter.  2:  Max. DC =  0.8501E-02  [K,I,J]    3   36   36\n",
      " Outer Iter.  1  Inner Iter.  3:  Max. DC =  0.9766E-03  [K,I,J]    3   49   26\n",
      " Outer Iter.  1  Inner Iter.  4:  Max. DC =  0.2368E-03  [K,I,J]    3   49   26\n",
      " Outer Iter.  1  Inner Iter.  5:  Max. DC =  0.7814E-04  [K,I,J]    3  137  219\n",
      " Outer Iter.  1  Inner Iter.  6:  Max. DC =  0.3339E-04  [K,I,J]    3  137  219\n",
      " Outer Iter.  1  Inner Iter.  7:  Max. DC =  0.4882E-05  [K,I,J]    3  137  219\n",
      " Transport Step:    7   Step Size:   365.0     Total Elapsed Time:   2555.0    \n",
      " Outer Iter.  1  Inner Iter.  1:  Max. DC =  0.1076      [K,I,J]    5  202    6\n",
      " Outer Iter.  1  Inner Iter.  2:  Max. DC =  0.6153E-02  [K,I,J]    3   34   38\n",
      " Outer Iter.  1  Inner Iter.  3:  Max. DC =  0.1488E-02  [K,I,J]    3  170   82\n",
      " Outer Iter.  1  Inner Iter.  4:  Max. DC =  0.2636E-03  [K,I,J]    3  170   82\n",
      " Outer Iter.  1  Inner Iter.  5:  Max. DC =  0.2831E-04  [K,I,J]    3  137  219\n",
      " Outer Iter.  1  Inner Iter.  6:  Max. DC =  0.1315E-04  [K,I,J]    3  137  219\n",
      " Outer Iter.  1  Inner Iter.  7:  Max. DC =  0.5960E-05  [K,I,J]    3  170   82\n",
      " Transport Step:    8   Step Size:   365.0     Total Elapsed Time:   2920.0    \n",
      " Outer Iter.  1  Inner Iter.  1:  Max. DC =  0.9467E-01  [K,I,J]    5  182    2\n",
      " Outer Iter.  1  Inner Iter.  2:  Max. DC =  0.6873E-02  [K,I,J]    3  170   82\n",
      " Outer Iter.  1  Inner Iter.  3:  Max. DC =  0.1554E-02  [K,I,J]    3  170   82\n",
      " Outer Iter.  1  Inner Iter.  4:  Max. DC =  0.6259E-03  [K,I,J]    3  170   82\n",
      " Outer Iter.  1  Inner Iter.  5:  Max. DC =  0.4894E-04  [K,I,J]    3  199   47\n",
      " Outer Iter.  1  Inner Iter.  6:  Max. DC =  0.5217E-05  [K,I,J]    3  137  219\n",
      " Transport Step:    9   Step Size:   365.0     Total Elapsed Time:   3285.0    \n",
      " Outer Iter.  1  Inner Iter.  1:  Max. DC =  0.8429E-01  [K,I,J]    5  196   10\n",
      " Outer Iter.  1  Inner Iter.  2:  Max. DC =  0.8865E-02  [K,I,J]    3  170   82\n",
      " Outer Iter.  1  Inner Iter.  3:  Max. DC =  0.3729E-02  [K,I,J]    3  170   82\n",
      " Outer Iter.  1  Inner Iter.  4:  Max. DC =  0.3399E-03  [K,I,J]    3   54   85\n",
      " Outer Iter.  1  Inner Iter.  5:  Max. DC =  0.6342E-04  [K,I,J]    3  171   14\n",
      " Outer Iter.  1  Inner Iter.  6:  Max. DC =  0.1663E-04  [K,I,J]    3   54   85\n",
      " Outer Iter.  1  Inner Iter.  7:  Max. DC =  0.1967E-05  [K,I,J]    3   54   85\n",
      " Transport Step:   10   Step Size:   365.0     Total Elapsed Time:   3650.0    \n",
      " Outer Iter.  1  Inner Iter.  1:  Max. DC =  0.7640E-01  [K,I,J]    5  190   33\n",
      " Outer Iter.  1  Inner Iter.  2:  Max. DC =  0.2256E-01  [K,I,J]    3  170   82\n",
      " Outer Iter.  1  Inner Iter.  3:  Max. DC =  0.1754E-01  [K,I,J]    3  170   82\n",
      " Outer Iter.  1  Inner Iter.  4:  Max. DC =  0.3690E-04  [K,I,J]    3   54   85\n",
      " Outer Iter.  1  Inner Iter.  5:  Max. DC =  0.2709E-03  [K,I,J]    3   54   85\n",
      " Outer Iter.  1  Inner Iter.  6:  Max. DC =  0.4590E-05  [K,I,J]    3   54   85\n",
      " Transport Step:   11   Step Size:   365.0     Total Elapsed Time:   4015.0    \n",
      " Outer Iter.  1  Inner Iter.  1:  Max. DC =  0.6933E-01  [K,I,J]    5  174   13\n",
      " Outer Iter.  1  Inner Iter.  2:  Max. DC =  0.8314E-03  [K,I,J]    3  170   82\n",
      " Outer Iter.  1  Inner Iter.  3:  Max. DC =  0.5650E-02  [K,I,J]    3  170   82\n",
      " Outer Iter.  1  Inner Iter.  4:  Max. DC =  0.1720E-03  [K,I,J]    3   54   85\n",
      " Outer Iter.  1  Inner Iter.  5:  Max. DC =  0.7522E-04  [K,I,J]    1  176  171\n",
      " Outer Iter.  1  Inner Iter.  6:  Max. DC =  0.1079E-04  [K,I,J]    3  169   75\n",
      " Outer Iter.  1  Inner Iter.  7:  Max. DC =  0.7153E-06  [K,I,J]    1  176  171\n",
      " Transport Step:   12   Step Size:   365.0     Total Elapsed Time:   4380.0    \n",
      " Outer Iter.  1  Inner Iter.  1:  Max. DC =  0.6341E-01  [K,I,J]    5  186    5\n",
      " Outer Iter.  1  Inner Iter.  2:  Max. DC =  0.2459E-02  [K,I,J]    3  170   82\n"
     ]
    },
    {
     "name": "stdout",
     "output_type": "stream",
     "text": [
      " Outer Iter.  1  Inner Iter.  3:  Max. DC =  0.2741E-02  [K,I,J]    1  176  171\n",
      " Outer Iter.  1  Inner Iter.  4:  Max. DC =  0.1863E-03  [K,I,J]    3   54   85\n",
      " Outer Iter.  1  Inner Iter.  5:  Max. DC =  0.9143E-04  [K,I,J]    1  176  171\n",
      " Outer Iter.  1  Inner Iter.  6:  Max. DC =  0.4303E-04  [K,I,J]    1  176  171\n",
      " Outer Iter.  1  Inner Iter.  7:  Max. DC =  0.9537E-06  [K,I,J]    1  176  171\n",
      " Transport Step:   13   Step Size:   365.0     Total Elapsed Time:   4745.0    \n",
      " Outer Iter.  1  Inner Iter.  1:  Max. DC =  0.5915E-01  [K,I,J]    5  186    5\n",
      " Outer Iter.  1  Inner Iter.  2:  Max. DC =  0.3176E-02  [K,I,J]    3  170   82\n",
      " Outer Iter.  1  Inner Iter.  3:  Max. DC =  0.1985E-02  [K,I,J]    1  176  171\n",
      " Outer Iter.  1  Inner Iter.  4:  Max. DC =  0.1982E-03  [K,I,J]    1  176  171\n",
      " Outer Iter.  1  Inner Iter.  5:  Max. DC =  0.1371E-05  [K,I,J]    1  176  171\n",
      " Transport Step:   14   Step Size:   365.0     Total Elapsed Time:   5110.0    \n",
      " Outer Iter.  1  Inner Iter.  1:  Max. DC =  0.5460E-01  [K,I,J]    5  160    4\n",
      " Outer Iter.  1  Inner Iter.  2:  Max. DC =  0.3372E-02  [K,I,J]    3  170   82\n",
      " Outer Iter.  1  Inner Iter.  3:  Max. DC =  0.1622E-02  [K,I,J]    1  176  171\n",
      " Outer Iter.  1  Inner Iter.  4:  Max. DC =  0.2149E-03  [K,I,J]    1  176  171\n",
      " Outer Iter.  1  Inner Iter.  5:  Max. DC =  0.1985E-04  [K,I,J]    1  176  171\n",
      " Outer Iter.  1  Inner Iter.  6:  Max. DC =  0.1627E-04  [K,I,J]    1  176  171\n",
      " Outer Iter.  1  Inner Iter.  7:  Max. DC =  0.1729E-05  [K,I,J]    1  176  171\n",
      " Transport Step:   15   Step Size:   365.0     Total Elapsed Time:   5475.0    \n",
      " Outer Iter.  1  Inner Iter.  1:  Max. DC =  0.5164E-01  [K,I,J]    5   60   11\n",
      " Outer Iter.  1  Inner Iter.  2:  Max. DC =  0.3393E-02  [K,I,J]    3  170   82\n",
      " Outer Iter.  1  Inner Iter.  3:  Max. DC =  0.1398E-02  [K,I,J]    1  176  171\n",
      " Outer Iter.  1  Inner Iter.  4:  Max. DC =  0.2281E-03  [K,I,J]    1  176  171\n",
      " Outer Iter.  1  Inner Iter.  5:  Max. DC =  0.2146E-04  [K,I,J]    1  176  171\n",
      " Outer Iter.  1  Inner Iter.  6:  Max. DC =  0.1150E-04  [K,I,J]    1  176  171\n",
      " Outer Iter.  1  Inner Iter.  7:  Max. DC =  0.2146E-05  [K,I,J]    1  176  171\n",
      " Transport Step:   16   Step Size:   365.0     Total Elapsed Time:   5840.0    \n",
      " Outer Iter.  1  Inner Iter.  1:  Max. DC =  0.4833E-01  [K,I,J]    5   60   11\n",
      " Outer Iter.  1  Inner Iter.  2:  Max. DC =  0.3326E-02  [K,I,J]    3  170   82\n",
      " Outer Iter.  1  Inner Iter.  3:  Max. DC =  0.1249E-02  [K,I,J]    1  176  171\n",
      " Outer Iter.  1  Inner Iter.  4:  Max. DC =  0.2392E-03  [K,I,J]    1  176  171\n",
      " Outer Iter.  1  Inner Iter.  5:  Max. DC =  0.2092E-04  [K,I,J]    1  176  171\n",
      " Outer Iter.  1  Inner Iter.  6:  Max. DC =  0.9954E-05  [K,I,J]    1  176  171\n",
      " Transport Step:   17   Step Size:   365.0     Total Elapsed Time:   6205.0    \n",
      " Outer Iter.  1  Inner Iter.  1:  Max. DC =  0.4485E-01  [K,I,J]    5   62    9\n",
      " Outer Iter.  1  Inner Iter.  2:  Max. DC =  0.3214E-02  [K,I,J]    3  170   82\n",
      " Outer Iter.  1  Inner Iter.  3:  Max. DC =  0.1154E-02  [K,I,J]    3  174   61\n",
      " Outer Iter.  1  Inner Iter.  4:  Max. DC =  0.2498E-03  [K,I,J]    3  174   61\n",
      " Outer Iter.  1  Inner Iter.  5:  Max. DC =  0.1991E-04  [K,I,J]    1  176  171\n",
      " Outer Iter.  1  Inner Iter.  6:  Max. DC =  0.1013E-04  [K,I,J]    1  176  171\n",
      " Outer Iter.  1  Inner Iter.  7:  Max. DC =  0.4590E-05  [K,I,J]    1  176  171\n",
      " Transport Step:   18   Step Size:   365.0     Total Elapsed Time:   6570.0    \n",
      " Outer Iter.  1  Inner Iter.  1:  Max. DC =  0.4275E-01  [K,I,J]    5   62    9\n",
      " Outer Iter.  1  Inner Iter.  2:  Max. DC =  0.3079E-02  [K,I,J]    3  170   82\n",
      " Outer Iter.  1  Inner Iter.  3:  Max. DC =  0.1081E-02  [K,I,J]    3  174   61\n",
      " Outer Iter.  1  Inner Iter.  4:  Max. DC =  0.2567E-03  [K,I,J]    3  174   61\n",
      " Outer Iter.  1  Inner Iter.  5:  Max. DC =  0.1878E-04  [K,I,J]    1  176  171\n",
      " Outer Iter.  1  Inner Iter.  6:  Max. DC =  0.1490E-04  [K,I,J]    1  176  171\n",
      " Outer Iter.  1  Inner Iter.  7:  Max. DC =  0.9835E-05  [K,I,J]    1  176  171\n",
      " Transport Step:   19   Step Size:   365.0     Total Elapsed Time:   6935.0    \n",
      " Outer Iter.  1  Inner Iter.  1:  Max. DC =  0.4083E-01  [K,I,J]    5  107   21\n",
      " Outer Iter.  1  Inner Iter.  2:  Max. DC =  0.2930E-02  [K,I,J]    3  170   82\n",
      " Outer Iter.  1  Inner Iter.  3:  Max. DC =  0.1018E-02  [K,I,J]    3  174   61\n",
      " Outer Iter.  1  Inner Iter.  4:  Max. DC =  0.2583E-03  [K,I,J]    3  174   61\n",
      " Outer Iter.  1  Inner Iter.  5:  Max. DC =  0.1770E-04  [K,I,J]    1  176  171\n",
      " Outer Iter.  1  Inner Iter.  6:  Max. DC =  0.2527E-04  [K,I,J]    1  176  171\n",
      " Outer Iter.  1  Inner Iter.  7:  Max. DC =  0.2110E-04  [K,I,J]    1  176  171\n",
      " Outer Iter.  1  Inner Iter.  8:  Max. DC =  0.1192E-06  [K,I,J]    1  176  171\n",
      " Transport Step:   20   Step Size:   365.0     Total Elapsed Time:   7300.0    \n",
      " Outer Iter.  1  Inner Iter.  1:  Max. DC =  0.3938E-01  [K,I,J]    5  107   21\n",
      " Outer Iter.  1  Inner Iter.  2:  Max. DC =  0.2776E-02  [K,I,J]    3  170   82\n",
      " Outer Iter.  1  Inner Iter.  3:  Max. DC =  0.9599E-03  [K,I,J]    3  174   61\n",
      " Outer Iter.  1  Inner Iter.  4:  Max. DC =  0.2549E-03  [K,I,J]    3  174   61\n",
      " Outer Iter.  1  Inner Iter.  5:  Max. DC =  0.1663E-04  [K,I,J]    1  176  171\n",
      " Outer Iter.  1  Inner Iter.  6:  Max. DC =  0.3839E-04  [K,I,J]    1  176  171\n",
      " Outer Iter.  1  Inner Iter.  7:  Max. DC =  0.4232E-04  [K,I,J]    1  176  171\n",
      " Outer Iter.  1  Inner Iter.  8:  Max. DC =  0.2384E-06  [K,I,J]    1  176  171\n",
      " Transport Step:   21   Step Size:   365.0     Total Elapsed Time:   7665.0    \n",
      " Outer Iter.  1  Inner Iter.  1:  Max. DC =  0.3768E-01  [K,I,J]    5  107   21\n",
      " Outer Iter.  1  Inner Iter.  2:  Max. DC =  0.2620E-02  [K,I,J]    3  170   82\n",
      " Outer Iter.  1  Inner Iter.  3:  Max. DC =  0.9044E-03  [K,I,J]    3  174   61\n",
      " Outer Iter.  1  Inner Iter.  4:  Max. DC =  0.2468E-03  [K,I,J]    3  174   61\n",
      " Outer Iter.  1  Inner Iter.  5:  Max. DC =  0.1568E-04  [K,I,J]    1  176  171\n",
      " Outer Iter.  1  Inner Iter.  6:  Max. DC =  0.1436E-04  [K,I,J]    1  176  171\n",
      " Outer Iter.  1  Inner Iter.  7:  Max. DC =  0.1800E-04  [K,I,J]    1  176  171\n",
      " Outer Iter.  1  Inner Iter.  8:  Max. DC =  0.1490E-07  [K,I,J]    3    9  180\n",
      " Transport Step:   22   Step Size:   365.0     Total Elapsed Time:   8030.0    \n",
      " Outer Iter.  1  Inner Iter.  1:  Max. DC =  0.3596E-01  [K,I,J]    5  107   22\n",
      " Outer Iter.  1  Inner Iter.  2:  Max. DC =  0.2469E-02  [K,I,J]    3  205  190\n",
      " Outer Iter.  1  Inner Iter.  3:  Max. DC =  0.8518E-03  [K,I,J]    3  174   61\n",
      " Outer Iter.  1  Inner Iter.  4:  Max. DC =  0.2355E-03  [K,I,J]    3  174   61\n",
      " Outer Iter.  1  Inner Iter.  5:  Max. DC =  0.1478E-04  [K,I,J]    1  176  171\n",
      " Outer Iter.  1  Inner Iter.  6:  Max. DC =  0.1091E-04  [K,I,J]    1  176  171\n",
      " Outer Iter.  1  Inner Iter.  7:  Max. DC =  0.1442E-04  [K,I,J]    1  176  171\n",
      " Outer Iter.  1  Inner Iter.  8:  Max. DC =  0.7451E-07  [K,I,J]    3   15  167\n",
      " Transport Step:   23   Step Size:   365.0     Total Elapsed Time:   8395.0    \n",
      " Outer Iter.  1  Inner Iter.  1:  Max. DC =  0.3425E-01  [K,I,J]    5  107   22\n",
      " Outer Iter.  1  Inner Iter.  2:  Max. DC =  0.2387E-02  [K,I,J]    3  205  190\n",
      " Outer Iter.  1  Inner Iter.  3:  Max. DC =  0.8140E-03  [K,I,J]    3   73    3\n",
      " Outer Iter.  1  Inner Iter.  4:  Max. DC =  0.2222E-03  [K,I,J]    3  174   61\n",
      " Outer Iter.  1  Inner Iter.  5:  Max. DC =  0.1401E-04  [K,I,J]    1  176  171\n",
      " Outer Iter.  1  Inner Iter.  6:  Max. DC =  0.1299E-04  [K,I,J]    1  176  171\n",
      " Outer Iter.  1  Inner Iter.  7:  Max. DC =  0.1633E-04  [K,I,J]    1  176  171\n",
      " Outer Iter.  1  Inner Iter.  8:  Max. DC =  0.5960E-07  [K,I,J]    1    3   99\n",
      " Transport Step:   24   Step Size:   365.0     Total Elapsed Time:   8760.0    \n",
      " Outer Iter.  1  Inner Iter.  1:  Max. DC =  0.3243E-01  [K,I,J]    5  107   22\n",
      " Outer Iter.  1  Inner Iter.  2:  Max. DC =  0.2304E-02  [K,I,J]    3  205  190\n",
      " Outer Iter.  1  Inner Iter.  3:  Max. DC =  0.7915E-03  [K,I,J]    3   73    3\n",
      " Outer Iter.  1  Inner Iter.  4:  Max. DC =  0.2083E-03  [K,I,J]    1  176  171\n",
      " Outer Iter.  1  Inner Iter.  5:  Max. DC =  0.1329E-04  [K,I,J]    1  176  171\n",
      " Outer Iter.  1  Inner Iter.  6:  Max. DC =  0.2366E-04  [K,I,J]    1  176  171\n",
      " Outer Iter.  1  Inner Iter.  7:  Max. DC =  0.2682E-04  [K,I,J]    1  176  171\n"
     ]
    },
    {
     "name": "stdout",
     "output_type": "stream",
     "text": [
      " Outer Iter.  1  Inner Iter.  8:  Max. DC =  0.7451E-07  [K,I,J]    3   15  167\n",
      " Transport Step:   25   Step Size:   365.0     Total Elapsed Time:   9125.0    \n",
      " Outer Iter.  1  Inner Iter.  1:  Max. DC =  0.3103E-01  [K,I,J]    5  109   21\n",
      " Outer Iter.  1  Inner Iter.  2:  Max. DC =  0.2222E-02  [K,I,J]    3  205  190\n",
      " Outer Iter.  1  Inner Iter.  3:  Max. DC =  0.7676E-03  [K,I,J]    3   73    3\n",
      " Outer Iter.  1  Inner Iter.  4:  Max. DC =  0.1969E-03  [K,I,J]    1  176  171\n",
      " Outer Iter.  1  Inner Iter.  5:  Max. DC =  0.1264E-04  [K,I,J]    1  176  171\n",
      " Outer Iter.  1  Inner Iter.  6:  Max. DC =  0.5482E-03  [K,I,J]    1  107  148\n",
      " Outer Iter.  1  Inner Iter.  7:  Max. DC =  0.5512E-03  [K,I,J]    1  107  148\n",
      " Outer Iter.  1  Inner Iter.  8:  Max. DC =  0.1192E-06  [K,I,J]    3  203   47\n",
      " Transport Step:   26   Step Size:   365.0     Total Elapsed Time:   9490.0    \n",
      " Outer Iter.  1  Inner Iter.  1:  Max. DC =  0.3013E-01  [K,I,J]    5  111   16\n",
      " Outer Iter.  1  Inner Iter.  2:  Max. DC =  0.2141E-02  [K,I,J]    3  205  190\n",
      " Outer Iter.  1  Inner Iter.  3:  Max. DC =  0.7428E-03  [K,I,J]    3   73    3\n",
      " Outer Iter.  1  Inner Iter.  4:  Max. DC =  0.1861E-03  [K,I,J]    1  176  171\n",
      " Outer Iter.  1  Inner Iter.  5:  Max. DC =  0.1210E-04  [K,I,J]    1  176  171\n",
      " Outer Iter.  1  Inner Iter.  6:  Max. DC =  0.2885E-04  [K,I,J]    1  107  148\n",
      " Outer Iter.  1  Inner Iter.  7:  Max. DC =  0.2563E-04  [K,I,J]    1  107  148\n",
      " Outer Iter.  1  Inner Iter.  8:  Max. DC =  0.5960E-07  [K,I,J]    1  106  149\n",
      " Transport Step:   27   Step Size:   365.0     Total Elapsed Time:   9855.0    \n",
      " Outer Iter.  1  Inner Iter.  1:  Max. DC =  0.2944E-01  [K,I,J]    5  111   16\n",
      " Outer Iter.  1  Inner Iter.  2:  Max. DC =  0.2062E-02  [K,I,J]    3  205  190\n",
      " Outer Iter.  1  Inner Iter.  3:  Max. DC =  0.7173E-03  [K,I,J]    3   73    3\n",
      " Outer Iter.  1  Inner Iter.  4:  Max. DC =  0.1815E-03  [K,I,J]    1  107  148\n",
      " Outer Iter.  1  Inner Iter.  5:  Max. DC =  0.1210E-04  [K,I,J]    1  107  148\n",
      " Outer Iter.  1  Inner Iter.  6:  Max. DC =  0.1568E-04  [K,I,J]    1  107  148\n",
      " Outer Iter.  1  Inner Iter.  7:  Max. DC =  0.1240E-04  [K,I,J]    1  107  148\n",
      " Outer Iter.  1  Inner Iter.  8:  Max. DC =  0.5960E-07  [K,I,J]    1  106  149\n",
      " Transport Step:   28   Step Size:   365.0     Total Elapsed Time:   10220.    \n",
      " Outer Iter.  1  Inner Iter.  1:  Max. DC =  0.2864E-01  [K,I,J]    5  111   16\n",
      " Outer Iter.  1  Inner Iter.  2:  Max. DC =  0.1986E-02  [K,I,J]    3  205  190\n",
      " Outer Iter.  1  Inner Iter.  3:  Max. DC =  0.6989E-03  [K,I,J]    1  107  148\n",
      " Outer Iter.  1  Inner Iter.  4:  Max. DC =  0.1796E-03  [K,I,J]    1  107  148\n",
      " Outer Iter.  1  Inner Iter.  5:  Max. DC =  0.1210E-04  [K,I,J]    1  107  148\n",
      " Outer Iter.  1  Inner Iter.  6:  Max. DC =  0.1168E-04  [K,I,J]    1  107  148\n",
      " Outer Iter.  1  Inner Iter.  7:  Max. DC =  0.8345E-05  [K,I,J]    1  107  148\n",
      " Transport Step:   29   Step Size:   365.0     Total Elapsed Time:   10585.    \n",
      " Outer Iter.  1  Inner Iter.  1:  Max. DC =  0.2774E-01  [K,I,J]    5  111   16\n",
      " Outer Iter.  1  Inner Iter.  2:  Max. DC =  0.1912E-02  [K,I,J]    3  205  190\n",
      " Outer Iter.  1  Inner Iter.  3:  Max. DC =  0.6977E-03  [K,I,J]    1  107  148\n",
      " Outer Iter.  1  Inner Iter.  4:  Max. DC =  0.1774E-03  [K,I,J]    1  107  148\n",
      " Outer Iter.  1  Inner Iter.  5:  Max. DC =  0.1210E-04  [K,I,J]    1  107  148\n",
      " Outer Iter.  1  Inner Iter.  6:  Max. DC =  0.9716E-05  [K,I,J]    1  107  148\n",
      " Transport Step:   30   Step Size:   365.0     Total Elapsed Time:   10950.    \n",
      " Outer Iter.  1  Inner Iter.  1:  Max. DC =  0.2676E-01  [K,I,J]    5  111   16\n",
      " Outer Iter.  1  Inner Iter.  2:  Max. DC =  0.1842E-02  [K,I,J]    3  205  190\n",
      " Outer Iter.  1  Inner Iter.  3:  Max. DC =  0.6959E-03  [K,I,J]    1  107  148\n",
      " Outer Iter.  1  Inner Iter.  4:  Max. DC =  0.1755E-03  [K,I,J]    1  107  148\n",
      " Outer Iter.  1  Inner Iter.  5:  Max. DC =  0.1210E-04  [K,I,J]    1  107  148\n",
      " Outer Iter.  1  Inner Iter.  6:  Max. DC =  0.8404E-05  [K,I,J]    1  107  148\n",
      " Transport Step:   31   Step Size:   365.0     Total Elapsed Time:   11315.    \n",
      " Outer Iter.  1  Inner Iter.  1:  Max. DC =  0.2572E-01  [K,I,J]    5  111   16\n",
      " Outer Iter.  1  Inner Iter.  2:  Max. DC =  0.1772E-02  [K,I,J]    3  205  190\n",
      " Outer Iter.  1  Inner Iter.  3:  Max. DC =  0.6943E-03  [K,I,J]    1  107  148\n",
      " Outer Iter.  1  Inner Iter.  4:  Max. DC =  0.1736E-03  [K,I,J]    1  107  148\n",
      " Outer Iter.  1  Inner Iter.  5:  Max. DC =  0.1216E-04  [K,I,J]    1  107  148\n",
      " Outer Iter.  1  Inner Iter.  6:  Max. DC =  0.6914E-05  [K,I,J]    1  107  148\n",
      " Transport Step:   32   Step Size:   365.0     Total Elapsed Time:   11680.    \n",
      " Outer Iter.  1  Inner Iter.  1:  Max. DC =  0.2488E-01  [K,I,J]    5  108   22\n",
      " Outer Iter.  1  Inner Iter.  2:  Max. DC =  0.1705E-02  [K,I,J]    3  205  190\n",
      " Outer Iter.  1  Inner Iter.  3:  Max. DC =  0.6921E-03  [K,I,J]    1  107  148\n",
      " Outer Iter.  1  Inner Iter.  4:  Max. DC =  0.1717E-03  [K,I,J]    1  107  148\n",
      " Outer Iter.  1  Inner Iter.  5:  Max. DC =  0.1216E-04  [K,I,J]    1  107  148\n",
      " Outer Iter.  1  Inner Iter.  6:  Max. DC =  0.4828E-05  [K,I,J]    1  107  148\n",
      " Transport Step:   33   Step Size:   365.0     Total Elapsed Time:   12045.    \n",
      " Outer Iter.  1  Inner Iter.  1:  Max. DC =  0.2418E-01  [K,I,J]    5  108   22\n",
      " Outer Iter.  1  Inner Iter.  2:  Max. DC =  0.1641E-02  [K,I,J]    3  205  190\n",
      " Outer Iter.  1  Inner Iter.  3:  Max. DC =  0.6898E-03  [K,I,J]    1  107  148\n",
      " Outer Iter.  1  Inner Iter.  4:  Max. DC =  0.1698E-03  [K,I,J]    1  107  148\n",
      " Outer Iter.  1  Inner Iter.  5:  Max. DC =  0.1222E-04  [K,I,J]    1  107  148\n",
      " Outer Iter.  1  Inner Iter.  6:  Max. DC =  0.3219E-05  [K,I,J]    1  107  148\n",
      " Transport Step:   34   Step Size:   365.0     Total Elapsed Time:   12410.    \n",
      " Outer Iter.  1  Inner Iter.  1:  Max. DC =  0.2342E-01  [K,I,J]    5  108   22\n",
      " Outer Iter.  1  Inner Iter.  2:  Max. DC =  0.1578E-02  [K,I,J]    3  205  190\n",
      " Outer Iter.  1  Inner Iter.  3:  Max. DC =  0.6872E-03  [K,I,J]    1  107  148\n",
      " Outer Iter.  1  Inner Iter.  4:  Max. DC =  0.1678E-03  [K,I,J]    1  107  148\n",
      " Outer Iter.  1  Inner Iter.  5:  Max. DC =  0.1228E-04  [K,I,J]    1  107  148\n",
      " Outer Iter.  1  Inner Iter.  6:  Max. DC =  0.2623E-05  [K,I,J]    1  107  148\n",
      " Transport Step:   35   Step Size:   365.0     Total Elapsed Time:   12775.    \n",
      " Outer Iter.  1  Inner Iter.  1:  Max. DC =  0.2262E-01  [K,I,J]    5  108   22\n",
      " Outer Iter.  1  Inner Iter.  2:  Max. DC =  0.1518E-02  [K,I,J]    3  205  190\n",
      " Outer Iter.  1  Inner Iter.  3:  Max. DC =  0.6846E-03  [K,I,J]    1  107  148\n",
      " Outer Iter.  1  Inner Iter.  4:  Max. DC =  0.1659E-03  [K,I,J]    1  107  148\n",
      " Outer Iter.  1  Inner Iter.  5:  Max. DC =  0.1234E-04  [K,I,J]    1  107  148\n",
      " Outer Iter.  1  Inner Iter.  6:  Max. DC =  0.2503E-05  [K,I,J]    1  107  148\n",
      " Transport Step:   36   Step Size:   365.0     Total Elapsed Time:   13140.    \n",
      " Outer Iter.  1  Inner Iter.  1:  Max. DC =  0.2178E-01  [K,I,J]    5  108   22\n",
      " Outer Iter.  1  Inner Iter.  2:  Max. DC =  0.1460E-02  [K,I,J]    3  205  190\n",
      " Outer Iter.  1  Inner Iter.  3:  Max. DC =  0.6819E-03  [K,I,J]    1  107  148\n",
      " Outer Iter.  1  Inner Iter.  4:  Max. DC =  0.1639E-03  [K,I,J]    1  107  148\n",
      " Outer Iter.  1  Inner Iter.  5:  Max. DC =  0.1234E-04  [K,I,J]    1  107  148\n",
      " Outer Iter.  1  Inner Iter.  6:  Max. DC =  0.2444E-05  [K,I,J]    1  107  148\n",
      " Transport Step:   37   Step Size:   365.0     Total Elapsed Time:   13505.    \n",
      " Outer Iter.  1  Inner Iter.  1:  Max. DC =  0.2120E-01  [K,I,J]    5  114   16\n",
      " Outer Iter.  1  Inner Iter.  2:  Max. DC =  0.1403E-02  [K,I,J]    3  205  190\n",
      " Outer Iter.  1  Inner Iter.  3:  Max. DC =  0.6790E-03  [K,I,J]    1  107  148\n",
      " Outer Iter.  1  Inner Iter.  4:  Max. DC =  0.1618E-03  [K,I,J]    1  107  148\n",
      " Outer Iter.  1  Inner Iter.  5:  Max. DC =  0.1234E-04  [K,I,J]    1  107  148\n",
      " Outer Iter.  1  Inner Iter.  6:  Max. DC =  0.2444E-05  [K,I,J]    1  107  148\n",
      " Transport Step:   38   Step Size:   365.0     Total Elapsed Time:   13870.    \n",
      " Outer Iter.  1  Inner Iter.  1:  Max. DC =  0.2082E-01  [K,I,J]    5  114   16\n",
      " Outer Iter.  1  Inner Iter.  2:  Max. DC =  0.1349E-02  [K,I,J]    3  205  190\n",
      " Outer Iter.  1  Inner Iter.  3:  Max. DC =  0.6756E-03  [K,I,J]    1  107  148\n",
      " Outer Iter.  1  Inner Iter.  4:  Max. DC =  0.1594E-03  [K,I,J]    1  107  148\n",
      " Outer Iter.  1  Inner Iter.  5:  Max. DC =  0.1234E-04  [K,I,J]    1  107  148\n"
     ]
    },
    {
     "name": "stdout",
     "output_type": "stream",
     "text": [
      " Outer Iter.  1  Inner Iter.  6:  Max. DC =  0.2444E-05  [K,I,J]    1  107  148\n",
      " Transport Step:   39   Step Size:   365.0     Total Elapsed Time:   14235.    \n",
      " Outer Iter.  1  Inner Iter.  1:  Max. DC =  0.2039E-01  [K,I,J]    5  114   16\n",
      " Outer Iter.  1  Inner Iter.  2:  Max. DC =  0.1296E-02  [K,I,J]    3  205  190\n",
      " Outer Iter.  1  Inner Iter.  3:  Max. DC =  0.6726E-03  [K,I,J]    1  107  148\n",
      " Outer Iter.  1  Inner Iter.  4:  Max. DC =  0.1572E-03  [K,I,J]    1  107  148\n",
      " Outer Iter.  1  Inner Iter.  5:  Max. DC =  0.1234E-04  [K,I,J]    1  107  148\n",
      " Outer Iter.  1  Inner Iter.  6:  Max. DC =  0.2444E-05  [K,I,J]    1  107  148\n",
      " Transport Step:   40   Step Size:   365.0     Total Elapsed Time:   14600.    \n",
      " Outer Iter.  1  Inner Iter.  1:  Max. DC =  0.1993E-01  [K,I,J]    5  114   16\n",
      " Outer Iter.  1  Inner Iter.  2:  Max. DC =  0.1245E-02  [K,I,J]    3  205  190\n",
      " Outer Iter.  1  Inner Iter.  3:  Max. DC =  0.6697E-03  [K,I,J]    1  107  148\n",
      " Outer Iter.  1  Inner Iter.  4:  Max. DC =  0.1550E-03  [K,I,J]    1  107  148\n",
      " Outer Iter.  1  Inner Iter.  5:  Max. DC =  0.1234E-04  [K,I,J]    1  107  148\n",
      " Outer Iter.  1  Inner Iter.  6:  Max. DC =  0.2384E-05  [K,I,J]    1  107  148\n",
      " Transport Step:   41   Step Size:   365.0     Total Elapsed Time:   14965.    \n",
      " Outer Iter.  1  Inner Iter.  1:  Max. DC =  0.1943E-01  [K,I,J]    5  114   16\n",
      " Outer Iter.  1  Inner Iter.  2:  Max. DC =  0.1243E-02  [K,I,J]    1  107  148\n",
      " Outer Iter.  1  Inner Iter.  3:  Max. DC =  0.6668E-03  [K,I,J]    1  107  148\n",
      " Outer Iter.  1  Inner Iter.  4:  Max. DC =  0.1529E-03  [K,I,J]    1  107  148\n",
      " Outer Iter.  1  Inner Iter.  5:  Max. DC =  0.1240E-04  [K,I,J]    1  107  148\n",
      " Outer Iter.  1  Inner Iter.  6:  Max. DC =  0.2384E-05  [K,I,J]    1  107  148\n",
      " Transport Step:   42   Step Size:   365.0     Total Elapsed Time:   15330.    \n",
      " Outer Iter.  1  Inner Iter.  1:  Max. DC =  0.1891E-01  [K,I,J]    5  114   16\n",
      " Outer Iter.  1  Inner Iter.  2:  Max. DC =  0.1244E-02  [K,I,J]    1  107  148\n",
      " Outer Iter.  1  Inner Iter.  3:  Max. DC =  0.6633E-03  [K,I,J]    1  107  148\n",
      " Outer Iter.  1  Inner Iter.  4:  Max. DC =  0.1506E-03  [K,I,J]    1  107  148\n",
      " Outer Iter.  1  Inner Iter.  5:  Max. DC =  0.1234E-04  [K,I,J]    1  107  148\n",
      " Outer Iter.  1  Inner Iter.  6:  Max. DC =  0.2384E-05  [K,I,J]    1  107  148\n",
      " Transport Step:   43   Step Size:   365.0     Total Elapsed Time:   15695.    \n",
      " Outer Iter.  1  Inner Iter.  1:  Max. DC =  0.1846E-01  [K,I,J]    5  114   21\n",
      " Outer Iter.  1  Inner Iter.  2:  Max. DC =  0.1244E-02  [K,I,J]    1  107  148\n",
      " Outer Iter.  1  Inner Iter.  3:  Max. DC =  0.6596E-03  [K,I,J]    1  107  148\n",
      " Outer Iter.  1  Inner Iter.  4:  Max. DC =  0.1484E-03  [K,I,J]    1  107  148\n",
      " Outer Iter.  1  Inner Iter.  5:  Max. DC =  0.1234E-04  [K,I,J]    1  107  148\n",
      " Outer Iter.  1  Inner Iter.  6:  Max. DC =  0.2384E-05  [K,I,J]    1  107  148\n",
      " Transport Step:   44   Step Size:   365.0     Total Elapsed Time:   16060.    \n",
      " Outer Iter.  1  Inner Iter.  1:  Max. DC =  0.1809E-01  [K,I,J]    5  114   21\n",
      " Outer Iter.  1  Inner Iter.  2:  Max. DC =  0.1243E-02  [K,I,J]    1  107  148\n",
      " Outer Iter.  1  Inner Iter.  3:  Max. DC =  0.6554E-03  [K,I,J]    1  107  148\n",
      " Outer Iter.  1  Inner Iter.  4:  Max. DC =  0.1462E-03  [K,I,J]    1  107  148\n",
      " Outer Iter.  1  Inner Iter.  5:  Max. DC =  0.1228E-04  [K,I,J]    1  107  148\n",
      " Outer Iter.  1  Inner Iter.  6:  Max. DC =  0.2384E-05  [K,I,J]    1  107  148\n",
      " Transport Step:   45   Step Size:   365.0     Total Elapsed Time:   16425.    \n",
      " Outer Iter.  1  Inner Iter.  1:  Max. DC =  0.1770E-01  [K,I,J]    5  114   21\n",
      " Outer Iter.  1  Inner Iter.  2:  Max. DC =  0.1241E-02  [K,I,J]    1  107  148\n",
      " Outer Iter.  1  Inner Iter.  3:  Max. DC =  0.6510E-03  [K,I,J]    1  107  148\n",
      " Outer Iter.  1  Inner Iter.  4:  Max. DC =  0.1439E-03  [K,I,J]    1  107  148\n",
      " Outer Iter.  1  Inner Iter.  5:  Max. DC =  0.1216E-04  [K,I,J]    1  107  148\n",
      " Outer Iter.  1  Inner Iter.  6:  Max. DC =  0.2325E-05  [K,I,J]    1  107  148\n",
      " Transport Step:   46   Step Size:   365.0     Total Elapsed Time:   16790.    \n",
      " Outer Iter.  1  Inner Iter.  1:  Max. DC =  0.1729E-01  [K,I,J]    5  114   21\n",
      " Outer Iter.  1  Inner Iter.  2:  Max. DC =  0.1237E-02  [K,I,J]    1  107  148\n",
      " Outer Iter.  1  Inner Iter.  3:  Max. DC =  0.6459E-03  [K,I,J]    1  107  148\n",
      " Outer Iter.  1  Inner Iter.  4:  Max. DC =  0.1417E-03  [K,I,J]    1  107  148\n",
      " Outer Iter.  1  Inner Iter.  5:  Max. DC =  0.1204E-04  [K,I,J]    1  107  148\n",
      " Outer Iter.  1  Inner Iter.  6:  Max. DC =  0.2325E-05  [K,I,J]    1  106  149\n",
      " Transport Step:   47   Step Size:   365.0     Total Elapsed Time:   17155.    \n",
      " Outer Iter.  1  Inner Iter.  1:  Max. DC =  0.1686E-01  [K,I,J]    5  114   21\n",
      " Outer Iter.  1  Inner Iter.  2:  Max. DC =  0.1231E-02  [K,I,J]    1  107  148\n",
      " Outer Iter.  1  Inner Iter.  3:  Max. DC =  0.6402E-03  [K,I,J]    1  107  148\n",
      " Outer Iter.  1  Inner Iter.  4:  Max. DC =  0.1394E-03  [K,I,J]    1  107  148\n",
      " Outer Iter.  1  Inner Iter.  5:  Max. DC =  0.1192E-04  [K,I,J]    1  107  148\n",
      " Outer Iter.  1  Inner Iter.  6:  Max. DC =  0.2325E-05  [K,I,J]    1  106  149\n",
      " Transport Step:   48   Step Size:   365.0     Total Elapsed Time:   17520.    \n",
      " Outer Iter.  1  Inner Iter.  1:  Max. DC =  0.1642E-01  [K,I,J]    5  114   21\n",
      " Outer Iter.  1  Inner Iter.  2:  Max. DC =  0.1224E-02  [K,I,J]    1  107  148\n",
      " Outer Iter.  1  Inner Iter.  3:  Max. DC =  0.6337E-03  [K,I,J]    1  107  148\n",
      " Outer Iter.  1  Inner Iter.  4:  Max. DC =  0.1371E-03  [K,I,J]    1  107  148\n",
      " Outer Iter.  1  Inner Iter.  5:  Max. DC =  0.1174E-04  [K,I,J]    1  107  148\n",
      " Outer Iter.  1  Inner Iter.  6:  Max. DC =  0.2325E-05  [K,I,J]    1  106  149\n",
      " Transport Step:   49   Step Size:   365.0     Total Elapsed Time:   17885.    \n",
      " Outer Iter.  1  Inner Iter.  1:  Max. DC =  0.1627E-01  [K,I,J]    3  201   38\n",
      " Outer Iter.  1  Inner Iter.  2:  Max. DC =  0.1214E-02  [K,I,J]    1  107  148\n",
      " Outer Iter.  1  Inner Iter.  3:  Max. DC =  0.6268E-03  [K,I,J]    1  107  148\n",
      " Outer Iter.  1  Inner Iter.  4:  Max. DC =  0.1348E-03  [K,I,J]    1  107  148\n",
      " Outer Iter.  1  Inner Iter.  5:  Max. DC =  0.1156E-04  [K,I,J]    1  107  148\n",
      " Outer Iter.  1  Inner Iter.  6:  Max. DC =  0.2325E-05  [K,I,J]    1  106  149\n",
      " Transport Step:   50   Step Size:   365.0     Total Elapsed Time:   18250.    \n",
      " Outer Iter.  1  Inner Iter.  1:  Max. DC =  0.1614E-01  [K,I,J]    3  201   38\n",
      " Outer Iter.  1  Inner Iter.  2:  Max. DC =  0.1202E-02  [K,I,J]    1  107  148\n",
      " Outer Iter.  1  Inner Iter.  3:  Max. DC =  0.6194E-03  [K,I,J]    1  107  148\n",
      " Outer Iter.  1  Inner Iter.  4:  Max. DC =  0.1325E-03  [K,I,J]    1  107  148\n",
      " Outer Iter.  1  Inner Iter.  5:  Max. DC =  0.1138E-04  [K,I,J]    1  107  148\n",
      " Outer Iter.  1  Inner Iter.  6:  Max. DC =  0.2325E-05  [K,I,J]    1  106  149\n",
      " Transport Step:   51   Step Size:   365.0     Total Elapsed Time:   18615.    \n",
      " Outer Iter.  1  Inner Iter.  1:  Max. DC =  0.1599E-01  [K,I,J]    2  201   38\n",
      " Outer Iter.  1  Inner Iter.  2:  Max. DC =  0.1188E-02  [K,I,J]    1  107  148\n",
      " Outer Iter.  1  Inner Iter.  3:  Max. DC =  0.6113E-03  [K,I,J]    1  107  148\n",
      " Outer Iter.  1  Inner Iter.  4:  Max. DC =  0.1302E-03  [K,I,J]    1  107  148\n",
      " Outer Iter.  1  Inner Iter.  5:  Max. DC =  0.1121E-04  [K,I,J]    1  107  148\n",
      " Outer Iter.  1  Inner Iter.  6:  Max. DC =  0.2325E-05  [K,I,J]    1  106  149\n",
      " Transport Step:   52   Step Size:   365.0     Total Elapsed Time:   18980.    \n",
      " Outer Iter.  1  Inner Iter.  1:  Max. DC =  0.1582E-01  [K,I,J]    2  201   38\n",
      " Outer Iter.  1  Inner Iter.  2:  Max. DC =  0.1173E-02  [K,I,J]    1  107  148\n",
      " Outer Iter.  1  Inner Iter.  3:  Max. DC =  0.6024E-03  [K,I,J]    1  107  148\n",
      " Outer Iter.  1  Inner Iter.  4:  Max. DC =  0.1277E-03  [K,I,J]    1  107  148\n",
      " Outer Iter.  1  Inner Iter.  5:  Max. DC =  0.1097E-04  [K,I,J]    1  107  148\n",
      " Outer Iter.  1  Inner Iter.  6:  Max. DC =  0.2384E-05  [K,I,J]    1  106  149\n",
      " Transport Step:   53   Step Size:   365.0     Total Elapsed Time:   19345.    \n",
      " Outer Iter.  1  Inner Iter.  1:  Max. DC =  0.1567E-01  [K,I,J]    2  200   34\n",
      " Outer Iter.  1  Inner Iter.  2:  Max. DC =  0.1155E-02  [K,I,J]    1  107  148\n",
      " Outer Iter.  1  Inner Iter.  3:  Max. DC =  0.5926E-03  [K,I,J]    1  107  148\n",
      " Outer Iter.  1  Inner Iter.  4:  Max. DC =  0.1251E-03  [K,I,J]    1  107  148\n",
      " Outer Iter.  1  Inner Iter.  5:  Max. DC =  0.1073E-04  [K,I,J]    1  107  148\n"
     ]
    },
    {
     "name": "stdout",
     "output_type": "stream",
     "text": [
      " Outer Iter.  1  Inner Iter.  6:  Max. DC =  0.2384E-05  [K,I,J]    1  106  149\n",
      " Transport Step:   54   Step Size:   365.0     Total Elapsed Time:   19710.    \n",
      " Outer Iter.  1  Inner Iter.  1:  Max. DC =  0.1554E-01  [K,I,J]    2  200   34\n",
      " Outer Iter.  1  Inner Iter.  2:  Max. DC =  0.1135E-02  [K,I,J]    1  107  148\n",
      " Outer Iter.  1  Inner Iter.  3:  Max. DC =  0.5820E-03  [K,I,J]    1  107  148\n",
      " Outer Iter.  1  Inner Iter.  4:  Max. DC =  0.1224E-03  [K,I,J]    1  107  148\n",
      " Outer Iter.  1  Inner Iter.  5:  Max. DC =  0.1049E-04  [K,I,J]    1  107  148\n",
      " Outer Iter.  1  Inner Iter.  6:  Max. DC =  0.2384E-05  [K,I,J]    1  106  149\n",
      " Transport Step:   55   Step Size:   365.0     Total Elapsed Time:   20075.    \n",
      " Outer Iter.  1  Inner Iter.  1:  Max. DC =  0.1538E-01  [K,I,J]    2  200   34\n",
      " Outer Iter.  1  Inner Iter.  2:  Max. DC =  0.1112E-02  [K,I,J]    1  107  148\n",
      " Outer Iter.  1  Inner Iter.  3:  Max. DC =  0.5706E-03  [K,I,J]    1  107  148\n",
      " Outer Iter.  1  Inner Iter.  4:  Max. DC =  0.1196E-03  [K,I,J]    1  107  148\n",
      " Outer Iter.  1  Inner Iter.  5:  Max. DC =  0.1019E-04  [K,I,J]    1  107  148\n",
      " Outer Iter.  1  Inner Iter.  6:  Max. DC =  0.2384E-05  [K,I,J]    1  106  149\n",
      " Transport Step:   56   Step Size:   365.0     Total Elapsed Time:   20440.    \n",
      " Outer Iter.  1  Inner Iter.  1:  Max. DC =  0.1521E-01  [K,I,J]    2  200   34\n",
      " Outer Iter.  1  Inner Iter.  2:  Max. DC =  0.1089E-02  [K,I,J]    1  107  148\n",
      " Outer Iter.  1  Inner Iter.  3:  Max. DC =  0.5583E-03  [K,I,J]    1  107  148\n",
      " Outer Iter.  1  Inner Iter.  4:  Max. DC =  0.1166E-03  [K,I,J]    1  107  148\n",
      " Outer Iter.  1  Inner Iter.  5:  Max. DC =  0.9894E-05  [K,I,J]    1  107  148\n",
      " Transport Step:   57   Step Size:   365.0     Total Elapsed Time:   20805.    \n",
      " Outer Iter.  1  Inner Iter.  1:  Max. DC =  0.1501E-01  [K,I,J]    2  200   34\n",
      " Outer Iter.  1  Inner Iter.  2:  Max. DC =  0.1063E-02  [K,I,J]    1  107  148\n",
      " Outer Iter.  1  Inner Iter.  3:  Max. DC =  0.5455E-03  [K,I,J]    1  107  148\n",
      " Outer Iter.  1  Inner Iter.  4:  Max. DC =  0.1135E-03  [K,I,J]    1  107  148\n",
      " Outer Iter.  1  Inner Iter.  5:  Max. DC =  0.9239E-05  [K,I,J]    1  107  148\n",
      " Transport Step:   58   Step Size:   365.0     Total Elapsed Time:   21170.    \n",
      " Outer Iter.  1  Inner Iter.  1:  Max. DC =  0.1480E-01  [K,I,J]    2  200   34\n",
      " Outer Iter.  1  Inner Iter.  2:  Max. DC =  0.1036E-02  [K,I,J]    1  107  148\n",
      " Outer Iter.  1  Inner Iter.  3:  Max. DC =  0.5316E-03  [K,I,J]    1  107  148\n",
      " Outer Iter.  1  Inner Iter.  4:  Max. DC =  0.1103E-03  [K,I,J]    1  107  148\n",
      " Outer Iter.  1  Inner Iter.  5:  Max. DC =  0.9060E-05  [K,I,J]    1  107  148\n",
      " Transport Step:   59   Step Size:   365.0     Total Elapsed Time:   21535.    \n",
      " Outer Iter.  1  Inner Iter.  1:  Max. DC =  0.1458E-01  [K,I,J]    2  200   34\n",
      " Outer Iter.  1  Inner Iter.  2:  Max. DC =  0.1008E-02  [K,I,J]    1  107  148\n",
      " Outer Iter.  1  Inner Iter.  3:  Max. DC =  0.5171E-03  [K,I,J]    1  107  148\n",
      " Outer Iter.  1  Inner Iter.  4:  Max. DC =  0.1070E-03  [K,I,J]    1  107  148\n",
      " Outer Iter.  1  Inner Iter.  5:  Max. DC =  0.8583E-05  [K,I,J]    1  107  148\n",
      " Transport Step:   60   Step Size:   365.0     Total Elapsed Time:   21900.    \n",
      " Outer Iter.  1  Inner Iter.  1:  Max. DC =  0.1434E-01  [K,I,J]    2  200   34\n",
      " Outer Iter.  1  Inner Iter.  2:  Max. DC =  0.9785E-03  [K,I,J]    1  107  148\n",
      " Outer Iter.  1  Inner Iter.  3:  Max. DC =  0.5018E-03  [K,I,J]    1  107  148\n",
      " Outer Iter.  1  Inner Iter.  4:  Max. DC =  0.1037E-03  [K,I,J]    1  107  148\n",
      " Outer Iter.  1  Inner Iter.  5:  Max. DC =  0.8225E-05  [K,I,J]    1  107  148\n",
      " Transport Step:   61   Step Size:   365.0     Total Elapsed Time:   22265.    \n",
      " Outer Iter.  1  Inner Iter.  1:  Max. DC =  0.1409E-01  [K,I,J]    2  200   34\n",
      " Outer Iter.  1  Inner Iter.  2:  Max. DC =  0.9478E-03  [K,I,J]    1  107  148\n",
      " Outer Iter.  1  Inner Iter.  3:  Max. DC =  0.4927E-03  [K,I,J]    1  106  149\n",
      " Outer Iter.  1  Inner Iter.  4:  Max. DC =  0.1004E-03  [K,I,J]    1  107  148\n",
      " Outer Iter.  1  Inner Iter.  5:  Max. DC =  0.7808E-05  [K,I,J]    1  107  148\n",
      " Transport Step:   62   Step Size:   365.0     Total Elapsed Time:   22630.    \n",
      " Outer Iter.  1  Inner Iter.  1:  Max. DC =  0.1383E-01  [K,I,J]    8  119   31\n",
      " Outer Iter.  1  Inner Iter.  2:  Max. DC =  0.9166E-03  [K,I,J]    1  107  148\n",
      " Outer Iter.  1  Inner Iter.  3:  Max. DC =  0.4839E-03  [K,I,J]    1  106  149\n",
      " Outer Iter.  1  Inner Iter.  4:  Max. DC =  0.9710E-04  [K,I,J]    1  107  148\n",
      " Outer Iter.  1  Inner Iter.  5:  Max. DC =  0.7451E-05  [K,I,J]    1  107  148\n",
      " Transport Step:   63   Step Size:   365.0     Total Elapsed Time:   22995.    \n",
      " Outer Iter.  1  Inner Iter.  1:  Max. DC =  0.1357E-01  [K,I,J]    8  119   31\n",
      " Outer Iter.  1  Inner Iter.  2:  Max. DC =  0.8847E-03  [K,I,J]    1  107  148\n",
      " Outer Iter.  1  Inner Iter.  3:  Max. DC =  0.4747E-03  [K,I,J]    1  106  149\n",
      " Outer Iter.  1  Inner Iter.  4:  Max. DC =  0.9382E-04  [K,I,J]    1  107  148\n",
      " Outer Iter.  1  Inner Iter.  5:  Max. DC =  0.7033E-05  [K,I,J]    1  107  148\n",
      " Transport Step:   64   Step Size:   365.0     Total Elapsed Time:   23360.    \n",
      " Outer Iter.  1  Inner Iter.  1:  Max. DC =  0.1330E-01  [K,I,J]    8  119   31\n",
      " Outer Iter.  1  Inner Iter.  2:  Max. DC =  0.8525E-03  [K,I,J]    1  107  148\n",
      " Outer Iter.  1  Inner Iter.  3:  Max. DC =  0.4646E-03  [K,I,J]    1  106  149\n",
      " Outer Iter.  1  Inner Iter.  4:  Max. DC =  0.9054E-04  [K,I,J]    1  107  148\n",
      " Outer Iter.  1  Inner Iter.  5:  Max. DC =  0.6616E-05  [K,I,J]    1  107  148\n",
      " Transport Step:   65   Step Size:   365.0     Total Elapsed Time:   23725.    \n",
      " Outer Iter.  1  Inner Iter.  1:  Max. DC =  0.1302E-01  [K,I,J]    8  119   31\n",
      " Outer Iter.  1  Inner Iter.  2:  Max. DC =  0.8203E-03  [K,I,J]    1  107  148\n",
      " Outer Iter.  1  Inner Iter.  3:  Max. DC =  0.4538E-03  [K,I,J]    1  106  149\n",
      " Outer Iter.  1  Inner Iter.  4:  Max. DC =  0.8726E-04  [K,I,J]    1  107  148\n",
      " Outer Iter.  1  Inner Iter.  5:  Max. DC =  0.6199E-05  [K,I,J]    1  107  148\n",
      " Transport Step:   66   Step Size:   365.0     Total Elapsed Time:   24090.    \n",
      " Outer Iter.  1  Inner Iter.  1:  Max. DC =  0.1273E-01  [K,I,J]    8  119   31\n",
      " Outer Iter.  1  Inner Iter.  2:  Max. DC =  0.7880E-03  [K,I,J]    1  107  148\n",
      " Outer Iter.  1  Inner Iter.  3:  Max. DC =  0.4424E-03  [K,I,J]    1  106  149\n",
      " Outer Iter.  1  Inner Iter.  4:  Max. DC =  0.8398E-04  [K,I,J]    1  107  148\n",
      " Outer Iter.  1  Inner Iter.  5:  Max. DC =  0.5782E-05  [K,I,J]    1  107  148\n",
      " Transport Step:   67   Step Size:   365.0     Total Elapsed Time:   24455.    \n",
      " Outer Iter.  1  Inner Iter.  1:  Max. DC =  0.1256E-01  [K,I,J]    8   54   17\n",
      " Outer Iter.  1  Inner Iter.  2:  Max. DC =  0.7560E-03  [K,I,J]    1  107  148\n",
      " Outer Iter.  1  Inner Iter.  3:  Max. DC =  0.4305E-03  [K,I,J]    1  106  149\n",
      " Outer Iter.  1  Inner Iter.  4:  Max. DC =  0.8082E-04  [K,I,J]    1  107  148\n",
      " Outer Iter.  1  Inner Iter.  5:  Max. DC =  0.5364E-05  [K,I,J]    1  107  148\n",
      " Transport Step:   68   Step Size:   365.0     Total Elapsed Time:   24820.    \n",
      " Outer Iter.  1  Inner Iter.  1:  Max. DC =  0.1242E-01  [K,I,J]    9  125   32\n",
      " Outer Iter.  1  Inner Iter.  2:  Max. DC =  0.7244E-03  [K,I,J]    1  107  148\n",
      " Outer Iter.  1  Inner Iter.  3:  Max. DC =  0.4182E-03  [K,I,J]    1  106  149\n",
      " Outer Iter.  1  Inner Iter.  4:  Max. DC =  0.7778E-04  [K,I,J]    1  107  148\n",
      " Outer Iter.  1  Inner Iter.  5:  Max. DC =  0.5007E-05  [K,I,J]    1  107  148\n",
      " Transport Step:   69   Step Size:   365.0     Total Elapsed Time:   25185.    \n",
      " Outer Iter.  1  Inner Iter.  1:  Max. DC =  0.1238E-01  [K,I,J]    9  127   32\n",
      " Outer Iter.  1  Inner Iter.  2:  Max. DC =  0.6932E-03  [K,I,J]    1  107  148\n",
      " Outer Iter.  1  Inner Iter.  3:  Max. DC =  0.4054E-03  [K,I,J]    1  106  149\n",
      " Outer Iter.  1  Inner Iter.  4:  Max. DC =  0.7480E-04  [K,I,J]    1  107  148\n",
      " Outer Iter.  1  Inner Iter.  5:  Max. DC =  0.4649E-05  [K,I,J]    1  107  148\n",
      " Transport Step:   70   Step Size:   365.0     Total Elapsed Time:   25550.    \n",
      " Outer Iter.  1  Inner Iter.  1:  Max. DC =  0.1233E-01  [K,I,J]    9  127   32\n",
      " Outer Iter.  1  Inner Iter.  2:  Max. DC =  0.6626E-03  [K,I,J]    1  107  148\n",
      " Outer Iter.  1  Inner Iter.  3:  Max. DC =  0.3924E-03  [K,I,J]    1  106  149\n",
      " Outer Iter.  1  Inner Iter.  4:  Max. DC =  0.7194E-04  [K,I,J]    1  107  148\n"
     ]
    },
    {
     "name": "stdout",
     "output_type": "stream",
     "text": [
      " Outer Iter.  1  Inner Iter.  5:  Max. DC =  0.4292E-05  [K,I,J]    1  107  148\n",
      "\n",
      " Program completed.   Total CPU time:  000 minutes 28.516 seconds\n"
     ]
    }
   ],
   "source": [
    "\n",
    "gcg = flopy.mt3d.Mt3dGcg(mt)\n",
    "mt.write_input()\n",
    "mt.run_model()\n",
    "fname = \"MT3D001.UCN\"\n",
    "ucnobj = flopy.utils.UcnFile(fname)\n",
    "times = ucnobj.get_times()\n",
    "conc = ucnobj.get_alldata()\n"
   ]
  },
  {
   "cell_type": "markdown",
   "metadata": {},
   "source": [
    "Our concentration data is a 4D array. The first array is the time dimension and has seven entries for the example problem (this may change as your code evolves). The entries are the times that are specified when defining the btn class. The remaining entries are layer, row, and column, respectively."
   ]
  },
  {
   "cell_type": "code",
   "execution_count": 55,
   "metadata": {},
   "outputs": [
    {
     "data": {
      "text/plain": [
       "[3650.0, 7300.0, 10950.0, 14600.0, 18250.0, 21900.0, 25550.0]"
      ]
     },
     "execution_count": 55,
     "metadata": {},
     "output_type": "execute_result"
    }
   ],
   "source": [
    "times"
   ]
  },
  {
   "cell_type": "code",
   "execution_count": 57,
   "metadata": {},
   "outputs": [
    {
     "data": {
      "text/plain": [
       "(7, 10, 205, 225)"
      ]
     },
     "execution_count": 57,
     "metadata": {},
     "output_type": "execute_result"
    }
   ],
   "source": [
    "#start of simulation, 10 years, 50 years, 70 year\n",
    "np.shape(conc)"
   ]
  },
  {
   "cell_type": "markdown",
   "metadata": {},
   "source": [
    "Finally, we plot the chloride for the specified time and layer. In the below example, we plot \"conc[3,8,:,:]\", which is the concentration at 40 years, in Layer 9 (8 with Python indexing) which represents the basal sands overlying the bedrock, all rows and columns."
   ]
  },
  {
   "cell_type": "code",
   "execution_count": 59,
   "metadata": {},
   "outputs": [
    {
     "data": {
      "text/plain": [
       "Text(0.5, 1.0, '40 years, Glasford aquifer')"
      ]
     },
     "execution_count": 59,
     "metadata": {},
     "output_type": "execute_result"
    },
    {
     "data": {
      "image/png": "[encoded data removed]",
      "text/plain": [
       "<Figure size 432x288 with 2 Axes>"
      ]
     },
     "metadata": {
      "needs_background": "light"
     },
     "output_type": "display_data"
    }
   ],
   "source": [
    "t_map = 3\n",
    "plt.figure()\n",
    "sns.heatmap(conc[t_map,8,:,:], cmap = 'Reds')\n",
    "plt.xlabel(\"DISTANCE ALONG X-AXIS, IN FEET\")\n",
    "plt.ylabel(\"DISTANCE ALONG Y-AXIS, IN FEET\")\n",
    "plt.title(str(int(times[t_map]/365))+ \" years, Glasford aquifer\")\n"
   ]
  },
  {
   "cell_type": "code",
   "execution_count": null,
   "metadata": {},
   "outputs": [],
   "source": []
  }
 ],
 "metadata": {
  "colab": {
   "name": "Flopy Tutorial 1- Steady-State, Confined Aquifer.ipynb",
   "provenance": [],
   "toc_visible": true
  },
  "kernelspec": {
   "display_name": "Python 3",
   "language": "python",
   "name": "python3"
  },
  "language_info": {
   "codemirror_mode": {
    "name": "ipython",
    "version": 3
   },
   "file_extension": ".py",
   "mimetype": "text/x-python",
   "name": "python",
   "nbconvert_exporter": "python",
   "pygments_lexer": "ipython3",
   "version": "3.8.5"
  }
 },
 "nbformat": 4,
 "nbformat_minor": 1
}
