{
 "cells": [
  {
   "cell_type": "code",
   "execution_count": 1,
   "id": "2bd83b5d",
   "metadata": {},
   "outputs": [],
   "source": [
    "import flopy\n",
    "import pandas as pd\n",
    "import numpy as np"
   ]
  },
  {
   "cell_type": "code",
   "execution_count": 2,
   "id": "3ecbb168",
   "metadata": {},
   "outputs": [],
   "source": [
    "top_raw = pd.read_csv(r'C:\\Users\\Annie\\Desktop\\UIUC\\Spring 2022\\Hydro w python\\top_elevation.csv')\n",
    "bottoms_raw = pd.read_csv(r'C:\\Users\\Annie\\Desktop\\UIUC\\Spring 2022\\Hydro w python\\bottom_elevations.csv')"
   ]
  },
  {
   "cell_type": "code",
   "execution_count": 73,
   "id": "2e70233a",
   "metadata": {},
   "outputs": [],
   "source": [
    "# define necessary parameters\n",
    "nlay = 10\n",
    "nrow = top_raw['row'].max()\n",
    "ncol = top_raw['column'].max()"
   ]
  },
  {
   "cell_type": "code",
   "execution_count": 64,
   "id": "f8298a24",
   "metadata": {},
   "outputs": [],
   "source": [
    "# create 2D array of floats for top elevations with shape (nrow,ncol)\n",
    "\n",
    "# create empty arrays with proper shape that will be populated with elevation data\n",
    "top_elevation = np.zeros(shape=(top_raw['row'].max(),top_raw['column'].max()))\n",
    "bottom_elevations = np.zeros(shape=(nlay,bottoms_raw['row'].max(),bottoms_raw['column'].max()))\n",
    "\n",
    "# loop through raw data to populate empty arrays with elevation data\n",
    "# top\n",
    "for i in range(len(top_raw['FID'])):\n",
    "    top_elevation[int(top_raw.iloc[[i]]['row'])-1][int(top_raw.iloc[[i]]['column'])-1] = float(top_raw.iloc[[i]]['top'])"
   ]
  },
  {
   "cell_type": "code",
   "execution_count": 67,
   "id": "da4fbaa5",
   "metadata": {},
   "outputs": [],
   "source": [
    "# looping through elevation data to populate bottom layer arrays\n",
    "for layer in range(nlay):\n",
    "    for i in range(len(bottoms_raw['FID'])):\n",
    "        bottom_elevations[layer][int(bottoms_raw.iloc[[i]]['row'])-1][int(bottoms_raw.iloc[[i]]['column'])-1] = float(bottoms_raw.iloc[[i]]['Bottom'+str(layer+1)])"
   ]
  },
  {
   "cell_type": "code",
   "execution_count": 69,
   "id": "3f814704",
   "metadata": {},
   "outputs": [
    {
     "name": "stdout",
     "output_type": "stream",
     "text": [
      "[[980. 968. 978. ... 866. 838. 854.]\n",
      " [976. 967. 977. ... 907. 898. 936.]\n",
      " [973. 964. 967. ... 921. 901. 903.]\n",
      " ...\n",
      " [844. 847. 856. ... 784. 792. 821.]\n",
      " [852. 854. 859. ... 776. 782. 837.]\n",
      " [853. 854. 857. ... 783. 809. 840.]]\n"
     ]
    },
    {
     "data": {
      "text/plain": [
       "array([[[979. , 967. , 977. , ..., 865. , 837. , 853. ],\n",
       "        [975. , 966. , 976. , ..., 906. , 897. , 935. ],\n",
       "        [972. , 963. , 966. , ..., 920. , 900. , 902. ],\n",
       "        ...,\n",
       "        [843. , 846. , 855. , ..., 783. , 791. , 820. ],\n",
       "        [851. , 853. , 858. , ..., 775. , 781. , 836. ],\n",
       "        [852. , 853. , 856. , ..., 782. , 808. , 839. ]],\n",
       "\n",
       "       [[978. , 966. , 976. , ..., 738. , 728. , 717. ],\n",
       "        [974. , 965. , 975. , ..., 747. , 736. , 725. ],\n",
       "        [971. , 962. , 965. , ..., 753.1, 741. , 730. ],\n",
       "        ...,\n",
       "        [842. , 845. , 854. , ..., 750. , 746. , 742. ],\n",
       "        [850. , 852. , 857. , ..., 753. , 748. , 744. ],\n",
       "        [851. , 852. , 855. , ..., 754. , 749. , 745. ]],\n",
       "\n",
       "       [[977. , 965. , 975. , ..., 737. , 727. , 716. ],\n",
       "        [973. , 964. , 974. , ..., 746. , 735. , 724. ],\n",
       "        [970. , 961. , 964. , ..., 752.1, 740. , 729. ],\n",
       "        ...,\n",
       "        [841. , 844. , 853. , ..., 709. , 704. , 699. ],\n",
       "        [849. , 851. , 856. , ..., 707. , 701.9, 696.8],\n",
       "        [850. , 851. , 854. , ..., 706. , 700. , 694. ]],\n",
       "\n",
       "       ...,\n",
       "\n",
       "       [[697. , 689. , 680. , ..., 612. , 612. , 616. ],\n",
       "        [694. , 686. , 677. , ..., 611. , 611. , 612. ],\n",
       "        [691. , 684. , 675. , ..., 609. , 609. , 611. ],\n",
       "        ...,\n",
       "        [803. , 803. , 803. , ..., 663. , 662. , 661. ],\n",
       "        [803. , 803. , 804. , ..., 662. , 661. , 660. ],\n",
       "        [803. , 804. , 804. , ..., 661. , 660. , 659. ]],\n",
       "\n",
       "       [[696. , 688. , 679. , ..., 611. , 611. , 612. ],\n",
       "        [693. , 685. , 676. , ..., 610. , 610. , 611. ],\n",
       "        [690. , 683. , 674. , ..., 608. , 608. , 610. ],\n",
       "        ...,\n",
       "        [802. , 802. , 802. , ..., 599. , 605. , 612. ],\n",
       "        [802. , 802. , 803. , ..., 595. , 604.9, 613. ],\n",
       "        [802. , 803. , 803. , ..., 603. , 610. , 618. ]],\n",
       "\n",
       "       [[695. , 687. , 678. , ..., 610. , 610. , 611. ],\n",
       "        [692. , 684. , 675. , ..., 609. , 609. , 610. ],\n",
       "        [689. , 682. , 673. , ..., 607. , 607. , 609. ],\n",
       "        ...,\n",
       "        [801. , 801. , 801. , ..., 598. , 604. , 611. ],\n",
       "        [801. , 801. , 802. , ..., 594. , 603.9, 612. ],\n",
       "        [801. , 802. , 802. , ..., 602. , 609. , 617. ]]])"
      ]
     },
     "execution_count": 69,
     "metadata": {},
     "output_type": "execute_result"
    }
   ],
   "source": [
    "print(top_elevation)\n",
    "bottom_elevations"
   ]
  },
  {
   "cell_type": "code",
   "execution_count": 71,
   "id": "82815c48",
   "metadata": {},
   "outputs": [],
   "source": [
    "# change units to meters from feet\n",
    "top_elevation_m = 0.3048*top_elevation\n",
    "bottom_elevations_m = 0.3048*bottom_elevations"
   ]
  },
  {
   "cell_type": "code",
   "execution_count": 74,
   "id": "167ff7e7",
   "metadata": {},
   "outputs": [],
   "source": [
    "# create model object\n",
    "modelname = \"my_pumping_model\"\n",
    "m = flopy.modflow.Modflow(modelname, exe_name = 'mf2005')\n",
    "\n",
    "# create flopy discretization object, length and time are meters (2) and days (4)\n",
    "dis = flopy.modflow.ModflowDis(model=m, nlay=nlay, nrow=nrow, ncol=ncol, top=top_elevation_m, botm=bottom_elevations_m, \n",
    "                               itmuni = 4, lenuni = 2)"
   ]
  },
  {
   "cell_type": "code",
   "execution_count": null,
   "id": "7dc05a23",
   "metadata": {},
   "outputs": [],
   "source": []
  }
 ],
 "metadata": {
  "kernelspec": {
   "display_name": "Python 3 (ipykernel)",
   "language": "python",
   "name": "python3"
  },
  "language_info": {
   "codemirror_mode": {
    "name": "ipython",
    "version": 3
   },
   "file_extension": ".py",
   "mimetype": "text/x-python",
   "name": "python",
   "nbconvert_exporter": "python",
   "pygments_lexer": "ipython3",
   "version": "3.7.11"
  }
 },
 "nbformat": 4,
 "nbformat_minor": 5
}
