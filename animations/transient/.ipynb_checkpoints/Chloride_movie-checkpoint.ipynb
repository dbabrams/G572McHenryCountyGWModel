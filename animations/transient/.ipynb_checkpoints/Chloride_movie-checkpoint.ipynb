{
 "cells": [
  {
   "cell_type": "code",
   "execution_count": null,
   "id": "694627d6-39fc-4333-ac07-3fb065d3cee7",
   "metadata": {},
   "outputs": [],
   "source": [
    "import cv2\n",
    "import os\n",
    "from moviepy.editor import * \n",
    "\n",
    "# make mp4\n",
    "image_folder= \"C:/users/andrewm4/Documents/Hydro_572/animations/transient_steps/\"\n",
    "video_name = \"C:/users/andrewm4/Documents/Hydro_572/animations/transient_steps/transient_chloride.mp4\"\n",
    "\n",
    "# images = [img for img in os.listdir(image_folder) if img.endswith(\".png\")]\n",
    "# frame = cv2.imread(os.path.join(image_folder, images[0]))\n",
    "# height, width, layers = frame.shape\n",
    "\n",
    "# video = cv2.VideoWriter(video_name, 0, 1, (width,height)) \n",
    "\n",
    "# for image in images:\n",
    "#     video.write(cv2.imread(os.path.join(image_folder, image)))\n",
    "\n",
    "# cv2.destroyAllWindows()\n",
    "# video.release()\n",
    "\n"
   ]
  },
  {
   "cell_type": "code",
   "execution_count": null,
   "id": "0e60cf31-1f57-47f2-af5a-58843b679bf3",
   "metadata": {},
   "outputs": [],
   "source": [
    "images = [img for img in os.listdir(image_folder) if img.endswith(\".png\")]"
   ]
  },
  {
   "cell_type": "code",
   "execution_count": null,
   "id": "bc57451e-352b-4a7f-939e-abcbb27c0300",
   "metadata": {},
   "outputs": [],
   "source": [
    "frame = cv2.imread(os.path.join(image_folder, images[0]))"
   ]
  },
  {
   "cell_type": "code",
   "execution_count": null,
   "id": "68db9ef5-405a-43ff-a3f9-30df245b78f4",
   "metadata": {},
   "outputs": [],
   "source": [
    "height, width, layers = frame.shape"
   ]
  },
  {
   "cell_type": "code",
   "execution_count": null,
   "id": "795978ee-5307-49f6-b828-b0292f547b0c",
   "metadata": {},
   "outputs": [],
   "source": [
    "video = cv2.VideoWriter(video_name, 0, 1, (width,height)) "
   ]
  },
  {
   "cell_type": "code",
   "execution_count": null,
   "id": "474da109-d7cb-4e67-a5ee-3fbec4dd1c1d",
   "metadata": {},
   "outputs": [],
   "source": [
    "for image in images:\n",
    "    video.write(cv2.imread(os.path.join(image_folder, image)))"
   ]
  },
  {
   "cell_type": "code",
   "execution_count": null,
   "id": "c3b843b2-951a-4051-af83-5151113cc9d4",
   "metadata": {},
   "outputs": [],
   "source": [
    "cv2.destroyAllWindows()\n",
    "video.release()"
   ]
  },
  {
   "cell_type": "code",
   "execution_count": null,
   "id": "0ef71017-e9b6-44e7-a952-b228d1d5091c",
   "metadata": {},
   "outputs": [],
   "source": [
    "# gif\n",
    "clip = (VideoFileClip(video_name))\n",
    "clip.write_gif(\"C:/users/andrewm4/Documents/Hydro_572/animations/transient_steps/transient_chloride.gif\")"
   ]
  }
 ],
 "metadata": {
  "kernelspec": {
   "display_name": "Python 3 (ipykernel)",
   "language": "python",
   "name": "python3"
  },
  "language_info": {
   "codemirror_mode": {
    "name": "ipython",
    "version": 3
   },
   "file_extension": ".py",
   "mimetype": "text/x-python",
   "name": "python",
   "nbconvert_exporter": "python",
   "pygments_lexer": "ipython3",
   "version": "3.8.8"
  }
 },
 "nbformat": 4,
 "nbformat_minor": 5
}
