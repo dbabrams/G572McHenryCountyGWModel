{
 "cells": [
  {
   "cell_type": "raw",
   "id": "b417012a-0b67-434b-8c71-b9372a7fd676",
   "metadata": {},
   "source": [
    "import cv2\n",
    "import os\n",
    "from moviepy.editor import * \n",
    "from tqdm import tqdm\n",
    "\n",
    "# make mp4\n",
    "image_folder= \"C:/users/andrewm4/Documents/Hydro_572/animations/transient_steps/\"\n",
    "video_name = \"C:/users/andrewm4/Documents/Hydro_572/animations/transient_steps/transient_chloride.mp4\"\n",
    "\n",
    "# images = [img for img in os.listdir(image_folder) if img.endswith(\".png\")]\n",
    "# frame = cv2.imread(os.path.join(image_folder, images[0]))\n",
    "# height, width, layers = frame.shape\n",
    "\n",
    "# video = cv2.VideoWriter(video_name, 0, 1, (width,height)) \n",
    "\n",
    "# for image in images:\n",
    "#     video.write(cv2.imread(os.path.join(image_folder, image)))\n",
    "\n",
    "# cv2.destroyAllWindows()\n",
    "# video.release()\n",
    "\n"
   ]
  },
  {
   "cell_type": "raw",
   "id": "7f71601a-f969-473a-9389-c1ae69f6e2ad",
   "metadata": {},
   "source": [
    "images = [img for img in os.listdir(image_folder) if img.endswith(\".png\")]"
   ]
  },
  {
   "cell_type": "raw",
   "id": "c59d1f52-bf3e-41de-9887-7c32d16e3ca5",
   "metadata": {},
   "source": [
    "frame = cv2.imread(os.path.join(image_folder, images[0]))"
   ]
  },
  {
   "cell_type": "raw",
   "id": "ae762a8a-0b22-4b81-9557-104682d07c83",
   "metadata": {},
   "source": [
    "height, width, layers = frame.shape"
   ]
  },
  {
   "cell_type": "raw",
   "id": "406e03b4-5259-4fa9-bf66-8e34092c9a92",
   "metadata": {},
   "source": [
    "video = cv2.VideoWriter(video_name, 0, 1, (width,height)) "
   ]
  },
  {
   "cell_type": "raw",
   "id": "a25cbb90-404d-4c2f-ad39-454799faebb5",
   "metadata": {},
   "source": [
    "for image in images:\n",
    "    video.write(cv2.imread(os.path.join(image_folder, image)))"
   ]
  },
  {
   "cell_type": "raw",
   "id": "c75e240f-4cdb-44ba-960f-265bc00ce303",
   "metadata": {},
   "source": [
    "cv2.destroyAllWindows()"
   ]
  },
  {
   "cell_type": "raw",
   "id": "69b74322-c89e-4724-9ae0-94bba928588e",
   "metadata": {},
   "source": [
    "tqdm(video.release())"
   ]
  },
  {
   "cell_type": "raw",
   "id": "8c1af0ee-6318-4f8d-ac31-f7b24aca0013",
   "metadata": {},
   "source": [
    "# gif\n",
    "clip = (VideoFileClip(video_name))\n",
    "clip.write_gif(\"C:/users/andrewm4/Documents/Hydro_572/animations/transient_steps/transient_chloride.gif\")"
   ]
  },
  {
   "cell_type": "raw",
   "id": "ff6d7b01-48ec-4a94-9342-d796eb00195d",
   "metadata": {},
   "source": [
    "import imageio\n",
    "#images = []\n",
    "for filename in \"C:/users/andrewm4/Documents/Hydro_572/animations/transient_steps\":\n",
    "    images.append(imageio.imread(filename))\n",
    "imageio.mimsave(video_name, images)"
   ]
  },
  {
   "cell_type": "code",
   "execution_count": 16,
   "id": "d4c19122-a08e-4371-9edf-d32ed46ba14d",
   "metadata": {},
   "outputs": [],
   "source": [
    "import glob\n",
    "from PIL import Image\n",
    "\n",
    "# filepaths\n",
    "fp_in = \"C:/users/andrewm4/Documents/Hydro_572/animations/transient_steps/transient_steps_*.png\"\n",
    "fp_out = \"C:/users/andrewm4/Documents/Hydro_572/animations/transient_steps/transient_chloride_2000-2050.gif\"\n",
    "\n",
    "# https://pillow.readthedocs.io/en/stable/handbook/image-file-formats.html#gif\n",
    "imgs = (Image.open(f) for f in sorted(glob.glob(fp_in)))\n",
    "img = next(imgs)  # extract first image from iterator\n",
    "img.save(fp=fp_out, format='GIF', append_images=imgs,\n",
    "         save_all=True, duration=600, loop=0)"
   ]
  },
  {
   "cell_type": "code",
   "execution_count": null,
   "id": "d87f7541-a233-4281-b5b5-6ce5446b4fe7",
   "metadata": {},
   "outputs": [],
   "source": []
  }
 ],
 "metadata": {
  "kernelspec": {
   "display_name": "Python 3 (ipykernel)",
   "language": "python",
   "name": "python3"
  },
  "language_info": {
   "codemirror_mode": {
    "name": "ipython",
    "version": 3
   },
   "file_extension": ".py",
   "mimetype": "text/x-python",
   "name": "python",
   "nbconvert_exporter": "python",
   "pygments_lexer": "ipython3",
   "version": "3.8.8"
  }
 },
 "nbformat": 4,
 "nbformat_minor": 5
}
