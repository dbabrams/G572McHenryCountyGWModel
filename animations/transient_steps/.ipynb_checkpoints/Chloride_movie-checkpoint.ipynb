{
 "cells": [
  {
   "cell_type": "raw",
   "id": "b417012a-0b67-434b-8c71-b9372a7fd676",
   "metadata": {},
   "source": [
    "import cv2\n",
    "import os\n",
    "from moviepy.editor import * \n",
    "from tqdm import tqdm\n",
    "\n",
    "# make mp4\n",
    "image_folder= \"C:/users/andrewm4/Documents/Hydro_572/animations/transient_steps/\"\n",
    "video_name = \"C:/users/andrewm4/Documents/Hydro_572/animations/transient_steps/transient_chloride.mp4\"\n",
    "\n",
    "# images = [img for img in os.listdir(image_folder) if img.endswith(\".png\")]\n",
    "# frame = cv2.imread(os.path.join(image_folder, images[0]))\n",
    "# height, width, layers = frame.shape\n",
    "\n",
    "# video = cv2.VideoWriter(video_name, 0, 1, (width,height)) \n",
    "\n",
    "# for image in images:\n",
    "#     video.write(cv2.imread(os.path.join(image_folder, image)))\n",
    "\n",
    "# cv2.destroyAllWindows()\n",
    "# video.release()\n",
    "\n"
   ]
  },
  {
   "cell_type": "code",
   "execution_count": 17,
   "id": "d4c19122-a08e-4371-9edf-d32ed46ba14d",
   "metadata": {},
   "outputs": [],
   "source": [
    "import glob\n",
    "from PIL import Image\n",
    "\n",
    "# filepaths\n",
    "fp_in = \"C:/users/andrewm4/Documents/Hydro_572/animations/steady_state/steady_state_*.png\"\n",
    "fp_out = \"C:/users/andrewm4/Documents/Hydro_572/animations/steady_state/steady_state_chloride_1960-2020.gif\"\n",
    "\n",
    "# https://pillow.readthedocs.io/en/stable/handbook/image-file-formats.html#gif\n",
    "imgs = (Image.open(f) for f in sorted(glob.glob(fp_in)))\n",
    "img = next(imgs)  # extract first image from iterator\n",
    "img.save(fp=fp_out, format='GIF', append_images=imgs,\n",
    "         save_all=True, duration=600, loop=0)"
   ]
  }
 ],
 "metadata": {
  "kernelspec": {
   "display_name": "Python 3 (ipykernel)",
   "language": "python",
   "name": "python3"
  },
  "language_info": {
   "codemirror_mode": {
    "name": "ipython",
    "version": 3
   },
   "file_extension": ".py",
   "mimetype": "text/x-python",
   "name": "python",
   "nbconvert_exporter": "python",
   "pygments_lexer": "ipython3",
   "version": "3.8.8"
  }
 },
 "nbformat": 4,
 "nbformat_minor": 5
}
