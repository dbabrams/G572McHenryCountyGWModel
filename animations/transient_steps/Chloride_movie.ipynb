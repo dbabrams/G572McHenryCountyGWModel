{
 "cells": [
  {
   "cell_type": "code",
   "execution_count": 18,
   "id": "d4c19122-a08e-4371-9edf-d32ed46ba14d",
   "metadata": {},
   "outputs": [],
   "source": [
    "import glob\n",
    "from PIL import Image\n",
    "\n",
    "# filepaths\n",
    "fp_in = \"C:/users/andrewm4/Documents/Hydro_572/animations/steady_state/steady_state_roads_*.png\"\n",
    "fp_out = \"C:/users/andrewm4/Documents/Hydro_572/animations/steady_state/steady_state_roads_chloride_1960-2020.gif\"\n",
    "\n",
    "# https://pillow.readthedocs.io/en/stable/handbook/image-file-formats.html#gif\n",
    "imgs = (Image.open(f) for f in sorted(glob.glob(fp_in)))\n",
    "img = next(imgs)  # extract first image from iterator\n",
    "img.save(fp=fp_out, format='GIF', append_images=imgs,\n",
    "         save_all=True, duration=600, loop=0)"
   ]
  }
 ],
 "metadata": {
  "kernelspec": {
   "display_name": "Python 3 (ipykernel)",
   "language": "python",
   "name": "python3"
  },
  "language_info": {
   "codemirror_mode": {
    "name": "ipython",
    "version": 3
   },
   "file_extension": ".py",
   "mimetype": "text/x-python",
   "name": "python",
   "nbconvert_exporter": "python",
   "pygments_lexer": "ipython3",
   "version": "3.8.8"
  }
 },
 "nbformat": 4,
 "nbformat_minor": 5
}
