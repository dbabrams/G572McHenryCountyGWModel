{
 "cells": [
  {
   "cell_type": "code",
   "execution_count": null,
   "id": "63b3d6e7-0140-4533-8d11-ced3d451dc1b",
   "metadata": {},
   "outputs": [],
   "source": [
    "# read ob chlorides\n",
    "calchlor = pd.read_csv('obchlorides.csv')\n",
    "# convert row, column, layer into Python indexing\n",
    "calchlor['row'] = calchlor['row']-1\n",
    "calchlor['column'] = calchlor['column']-1\n",
    "calchlor['layer'] = calchlor['layer']-1\n",
    "#create an empty list to append simulated chloride \n",
    "simchlor = []\n",
    "# iterate over the observed chloride levels, pull the corresponding simulated chloride\n",
    "for index, values in calchlor.iterrows():\n",
    "    simchlor.append(conc[5,int(values['layer']),int(values['row']),int(values['column'])])\n",
    "# add simulated heads to the dataframe              \n",
    "calchlor['sim'] = pd.Series(simchlor)\n",
    "#print(calchlor)\n",
    "\n",
    "#here we can investigate different layers\n",
    "#calchlor = calchlor[calchlor['layer'] >= 2]\n",
    "\n",
    "# plot simulated vs observed chloride levels\n",
    "f = plt.figure()\n",
    "f.set_figwidth(10)\n",
    "f.set_figheight(8)\n",
    "plt.scatter(calchlor['ppmchloride'],calchlor['sim'], s = 70)\n",
    "plt.grid(color='gray', linestyle='--', linewidth=0.5)\n",
    "plt.xlim(0, 50)\n",
    "plt.ylim(0, 50)\n",
    "plt.xlabel('Observed Chloride (ppm)')\n",
    "plt.ylabel('Simulated Chloride (ppm)')\n",
    "plt.title('Calibration')\n",
    "# calculate some basic statistics\n",
    "\n",
    "# 1. Mean Error\n",
    "calchlor['ME'] = calchlor['ppmchloride']-calchlor['sim']\n",
    "print('Mean Error is ' + str(calchlor['ME'].mean()) + ' ppm')\n",
    "\n",
    "# 2. Absolute Mean Error\n",
    "calchlor['AME'] = calchlor['ME'].abs()\n",
    "print('Absolute Mean Error is ' + str(calchlor['AME'].mean())+ ' ppm')"
   ]
  },
  {
   "cell_type": "markdown",
   "id": "adad4a20-3cde-4543-8f56-2aae6408b766",
   "metadata": {},
   "source": [
    "## Calibration results\n",
    "### Changing only timeframe\n",
    "at 70 years, ME = 2.09505737954906 ppm, AME = 12.440550890949785 ppm -- this is what would happen if salt was applied beginning around 1940 <p>\n",
    "at 60 years (de-icing starting in 1950), ME = 4.477031509371094 ppm, AME = 11.518766472336408 ppm\n",
    "</p>\n",
    "\n",
    "### major roads & municipalities\n",
    "#### 400 ppm for zones 75, 76, 70 years\n",
    "doubling the concentration might be useful since the simulated chloride is much lower than observed\n",
    "\n",
    "ME = 12.402655412027505 ppm, AME = 16.798525599686517 ppm\n",
    "\n",
    "#### 73: 50, 74: 200, 75: 200, 76: 800, 60 years\n",
    "ME = 7.616585865779475 ppm, \n",
    "AME = 14.721857456664837 ppm\n",
    "#### 73: 100, 74: 300, 75: 200, 76: 800, 60 years, porosity = 0.4\n",
    "ME = 0.6342892624061175 ppm, AME = 13.605498155529544 ppm\n",
    "#### 73: 100, 74: 300, 75: 200, 76: 800, 60 years, porosity = 0.4, dsp al = 0.2\n",
    "ME = 0.598, AME = 13.47\n",
    "\n",
    "### major roads only\n",
    "#### 73: 50, 74: 200, 75: 200, 76: 800, 60 years\n",
    "ME = 0.6214921432904396 ppm, AME = 15.799478041358512 ppm\n",
    "#### 73: 100, 74: 300, 75: 200, 76: 800, 60 years, porosity = 0.3\n",
    "ME = 0.24629091210203408 ppm, AME = 15.687897481894128 ppm\n",
    "#### 73: 100, 74: 300, 75: 200, 76: 800, 70 years, porosity=0.6\n",
    "ME = 1.4009099029724605 ppm, AME = 17.53108706604635 ppm\n",
    "\n",
    "### winner so far\n",
    "#### 73: 100, 74: 300, 75: 200, 76: 800, 60 years, porosity = 0.4, dsp al = 0.2\n",
    "ME = 0.598, AME = 13.47\n"
   ]
  },
  {
   "cell_type": "code",
   "execution_count": null,
   "id": "e47006f8-d47f-4e99-87b2-a6c681525533",
   "metadata": {},
   "outputs": [],
   "source": []
  }
 ],
 "metadata": {
  "kernelspec": {
   "display_name": "geol572",
   "language": "python",
   "name": "geol572"
  },
  "language_info": {
   "codemirror_mode": {
    "name": "ipython",
    "version": 3
   },
   "file_extension": ".py",
   "mimetype": "text/x-python",
   "name": "python",
   "nbconvert_exporter": "python",
   "pygments_lexer": "ipython3",
   "version": "3.6.13"
  }
 },
 "nbformat": 4,
 "nbformat_minor": 5
}
