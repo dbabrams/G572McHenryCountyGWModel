{
 "cells": [
  {
   "cell_type": "markdown",
   "metadata": {
    "colab_type": "text",
    "id": "aGqCJ4Bi-tqz"
   },
   "source": [
    "# FloPy McHenry Final Project 4/20"
   ]
  },
  {
   "cell_type": "markdown",
   "metadata": {},
   "source": [
    "https://flopy.readthedocs.io/en/3.3.5/code.html"
   ]
  },
  {
   "cell_type": "markdown",
   "metadata": {
    "colab_type": "text",
    "id": "e-P6TXXqJU05"
   },
   "source": [
    "# Introduction\n",
    "Flopy is a python package, developed to create and run MODFLOW groundwater flow models. The schematic below, illustrates how Flopy communicates with MODFLOW:\n",
    "\n",
    "<img src=\"https://i.imgur.com/n2Dj6QF.png\" title=\"Flopy to MODFLOW Flow Chart\" /></a>\n",
    "\n",
    "* <strong> <font size = 5> 1 </font> </strong> Aquifer properties are collected or estimated from some aquifer system, including dimensions, elevations, hydraulic conductivity, specific storage/yield and location/properties of wells, rivers, lakes or other hydrologic features. \n",
    "\n",
    "* <strong> <font size = 5> 2 </font> </strong> A model is created in a python script using the Flopy package to set up the different Packages MODFLOW uses to run its groundwater flow models, (DIS, BAS, LPF, RIV, WEL, ETC...), as python object. \n",
    "\n",
    "* <strong> <font size = 5> 3 </font> </strong> Flopy is called to write the MODFLOW input files from these objects. \n",
    "\n",
    "* <strong> <font size = 5> 4 </font> </strong> A Flopy function sends the files to a specified MODFLOW executable program that will be used to solve the groundwater flow model. \n",
    "\n",
    "* <strong> <font size = 5> 5 </font> </strong> The MODFLOW executable program outputs binary data into head and budget files. \n",
    "\n",
    "* <strong> <font size = 5> 6 </font> </strong> Flopy reads in binary head and budget data from the MODFLOW output files.\n",
    "\n",
    "* <strong> <font size = 5> 7 </font> </strong> Data is visualized using Flopy's plotting capabilities.        \n",
    "\n",
    "\n",
    "## Contents of script:\n",
    "\n",
    "* <strong><a href=\"#I\">I: Model Object</a></strong>\n",
    "\n",
    "\n",
    "#### Creating MODFLOW Packages in Flopy:\n",
    "* <strong><a href=\"#II\">II: DIS Package</a> </strong> \n",
    "    <ul>\n",
    "      <li> Discretizing time & space and setting up the MODFLOW DIS file.</li>  \n",
    "        </ul>\n",
    "    \n",
    "* <strong><a href=\"#III\">III: BAS Package</a> </strong>\n",
    "    <ul>\n",
    "      <li> Specifying cell activity and setting up the MODFLOW BAS file.</li>  \n",
    "        </ul>\n",
    "* <strong><a href=\"#IV\">IV: LPF Package</a> </strong>\n",
    "    <ul>\n",
    "      <li> Defining model properties and setting up the MODFLOW LPF file.</li>  \n",
    "        </ul>\n",
    "\n",
    "* <strong><a href=\"#V\">V: OC Package</a> </strong>\n",
    "    <ul>\n",
    "      <li> Specifying the data that the MODFLOW executable will record as output during the model run and setting up the MODFLOW OC package.</li>  \n",
    "        </ul>\n",
    "\n",
    "* <strong><a href=\"#VI\">VI: PCG Package</a> </strong>\n",
    "    <ul>\n",
    "      <li> Assigning the pre-conditioned conjugate gradient solver to the groundwater flow model by setting up the MODFLOW PCG package.</li>  \n",
    "        </ul>\n",
    "\n",
    "#### Writing Files and Running Model:\n",
    "\n",
    "* <strong><a href=\"#VII\">VII: Write MODFLOW Input Files</a> </strong>\n",
    "* <strong><a href=\"#VIII\">VIII: Run MODFLOW executable</a> </strong>\n",
    "\n",
    "#### Post Processing:\n",
    "* <strong><a href=\"#IX\">IX: Read MODFLOW output</a> </strong>\n",
    "* <strong><a href=\"#X\">X: Plot Results</a> </strong>\n",
    "* <strong><a href=\"#XI\">XI: Calibration</a> </strong>\n",
    "* <strong><a href=\"#XII\">XII: MT3DMS</a> </strong>\n",
    "    </li>\n",
    "<ol>\n",
    "\n"
   ]
  },
  {
   "cell_type": "markdown",
   "metadata": {
    "colab_type": "text",
    "id": "Ebx4wqUE-tq4"
   },
   "source": [
    "- First we will import the appropriate packages to run a modflow model in python and display the data"
   ]
  },
  {
   "cell_type": "code",
   "execution_count": 1,
   "metadata": {
    "colab": {
     "base_uri": "https://localhost:8080/",
     "height": 34
    },
    "colab_type": "code",
    "id": "UmQLU45S-tq5",
    "outputId": "8dc0b30f-cd0c-41f0-cf90-8777d8557b0b"
   },
   "outputs": [],
   "source": [
    "import flopy # if you get an error importing flopy, then install using: pip install flopy\n",
    "import numpy as np\n",
    "import matplotlib.pyplot as plt\n",
    "import matplotlib as mp\n",
    "import pandas as pd\n",
    "import seaborn as sns\n",
    "\n",
    "from simpledbf import Dbf5\n",
    "\n",
    "\n",
    "#jupyter specific--included to show plots in notebook\n",
    "%matplotlib inline "
   ]
  },
  {
   "cell_type": "markdown",
   "metadata": {
    "colab_type": "text",
    "id": "TYsgVFMC-tq9"
   },
   "source": [
    " <a name=\"I\"></a> \n",
    " ## I. Create Model Object\n",
    "\n",
    "- We define a Modflow model object using the following flopy function. The arguments are telling the 'model' what the modelname is and where the MODFLOW .exe file is to use to run the model on your computer. <strong> You will have to modify the exe_name variable to direct flopy to the modflow executable file on your computer!</strong> Note that the default model workspace is the location of your python notebook, so all MODFLOW files will be created there, but you may specify a different workspace if you'd like the files to be created somewhere else. (See: https://flopy.readthedocs.io/en/3.3.5/code.html for more options)"
   ]
  },
  {
   "cell_type": "code",
   "execution_count": 2,
   "metadata": {
    "colab": {},
    "colab_type": "code",
    "id": "RhU9t5Vg-tq9"
   },
   "outputs": [],
   "source": [
    "modelname = \"my_model\"\n",
    "m = flopy.modflow.Modflow(modelname, exe_name = 'mf2005')"
   ]
  },
  {
   "cell_type": "code",
   "execution_count": 3,
   "metadata": {},
   "outputs": [],
   "source": [
    "# define the function that converts data frame to array; reshapes it and saves as variable\n",
    "# 3D array of 10 layers by 205 rows by 225 columns\n",
    "def array_shaper(j,layer):\n",
    "    j = j.to_numpy()\n",
    "    j = np.reshape(j, (205,225,layer))\n",
    "    j = np.transpose(j, (2, 0, 1))\n",
    "    return j"
   ]
  },
  {
   "cell_type": "markdown",
   "metadata": {
    "colab_type": "text",
    "id": "Z5qFnrjJ-trA"
   },
   "source": [
    " <a name=\"II\"></a> \n",
    "## II. MODFLOW DIS package\n",
    "Now we attach the DIS package to our model. The DIS package specifies model discretization in space and time. It contains information regarding:\n",
    "- <strong> spatial discretization: </strong> (the number of rows, layers, and columns, as well as cell sizes)\n",
    "- <strong> temporal discretization: </strong> (number of stress periods, steady-state/transient model within a stress period, length of stress periods, and the number of time steps within stress periods)\n",
    "- length and time <strong> units  </strong>\n",
    "\n",
    "### Spatial Discretization\n",
    "- We define a 100 x 100 unit model domain, and discretize this into 10 rows and columns. "
   ]
  },
  {
   "cell_type": "code",
   "execution_count": 4,
   "metadata": {
    "colab": {},
    "colab_type": "code",
    "id": "lMGujmgg-trB"
   },
   "outputs": [],
   "source": [
    "#assign discretization variables\n",
    "\n",
    "nlay = 10\n",
    "nrow = 205\n",
    "ncol = 225\n",
    "dx = 625.\n",
    "dy = 625.\n",
    "Lx = dx*ncol\n",
    "Ly = dy*nrow\n",
    "#dz = (ztop - zbot) / nlay"
   ]
  },
  {
   "cell_type": "markdown",
   "metadata": {
    "colab_type": "text",
    "id": "4RVvBjto-trE"
   },
   "source": [
    "<img src=\"https://i.imgur.com/Abaeeyo.png\" title=\"discretization\" /></a>"
   ]
  },
  {
   "cell_type": "code",
   "execution_count": 5,
   "metadata": {},
   "outputs": [
    {
     "data": {
      "text/plain": [
       "<AxesSubplot:>"
      ]
     },
     "execution_count": 5,
     "metadata": {},
     "output_type": "execute_result"
    },
    {
     "data": {
      "image/png": "[encoded data removed]",
      "text/plain": [
       "<Figure size 432x288 with 2 Axes>"
      ]
     },
     "metadata": {
      "needs_background": "light"
     },
     "output_type": "display_data"
    }
   ],
   "source": [
    "top_raw = pd.read_csv('top_elevation.csv')\n",
    "ztop = array_shaper(top_raw,1)\n",
    "bottoms_raw = pd.read_csv('bottom_elevations.csv')\n",
    "zbot = array_shaper(bottoms_raw,10)\n",
    "sns.heatmap(zbot[9,:,:], cmap = 'rocket')"
   ]
  },
  {
   "cell_type": "markdown",
   "metadata": {
    "colab_type": "text",
    "id": "r_g1l4NG-trF"
   },
   "source": [
    "### Temporal Discretization\n",
    "\n",
    "To discretize time, we must first specify how many stress periods are involved in this model. This is done through flopy's variable 'nper'. As we are solving a steady-state model, we will only specify 1 stress period."
   ]
  },
  {
   "cell_type": "code",
   "execution_count": 6,
   "metadata": {
    "colab": {},
    "colab_type": "code",
    "id": "qGyoTItl-trG"
   },
   "outputs": [],
   "source": [
    "#specify number of stress periods\n",
    "nper = 1"
   ]
  },
  {
   "cell_type": "markdown",
   "metadata": {
    "colab_type": "text",
    "id": "MXtv1qBN-trJ"
   },
   "source": [
    "We then create a variable called \"steady\" as a list of boolean \"True/False\" flags, one for each stress period, indicating whether the finite difference solver should solve a steady-state or transient model. True=steady-state, False=Transient. Our list will only contain one boolean for the single, steady-state stress period."
   ]
  },
  {
   "cell_type": "code",
   "execution_count": 7,
   "metadata": {
    "colab": {
     "base_uri": "https://localhost:8080/",
     "height": 51
    },
    "colab_type": "code",
    "id": "72Nea-h5-trK",
    "outputId": "fc368da1-e3ef-4aa5-8b0e-d64eeab6d666",
    "scrolled": true
   },
   "outputs": [
    {
     "name": "stdout",
     "output_type": "stream",
     "text": [
      "steady-state data: \n",
      " [True]\n"
     ]
    }
   ],
   "source": [
    "#specify if stress period is transient or steady-state\n",
    "steady = [True]\n",
    "\n",
    "print(\"steady-state data: \\n\", steady)"
   ]
  },
  {
   "cell_type": "markdown",
   "metadata": {
    "colab_type": "text",
    "id": "emYj-jv_-trO"
   },
   "source": [
    "There are several other variables involved in the DIS package that allow the user to specify time-step properties of the stress period data (legnth of stress period, number of time steps per stress period, and time step multiplier). As this model is a single period, steady-state model, these options don't apply and hence we will not specify them."
   ]
  },
  {
   "cell_type": "markdown",
   "metadata": {
    "colab_type": "text",
    "id": "ZgOpDpMV-trP"
   },
   "source": [
    "### Create DIS object\n",
    "\n",
    "The spatial and temporal discretizations are used to create the flopy dis object which will later be used to create the MODFLOW \"dis\" package. "
   ]
  },
  {
   "cell_type": "code",
   "execution_count": 8,
   "metadata": {
    "colab": {},
    "colab_type": "code",
    "id": "mrGyylAl-trQ"
   },
   "outputs": [],
   "source": [
    "#create flopy discretization object, length and time are meters (2) and days (4)\n",
    "dis = flopy.modflow.ModflowDis(model=m, nlay=nlay, nrow=nrow, ncol=ncol, \n",
    "                               delr=dx, delc=dy, top=ztop, botm=zbot, \n",
    "                               itmuni = 4, lenuni = 2, \n",
    "                               nper=nper, steady=steady)"
   ]
  },
  {
   "cell_type": "code",
   "execution_count": 9,
   "metadata": {},
   "outputs": [
    {
     "data": {
      "text/plain": [
       "flopy.modflow.mfdis.ModflowDis"
      ]
     },
     "execution_count": 9,
     "metadata": {},
     "output_type": "execute_result"
    }
   ],
   "source": [
    "type(dis)"
   ]
  },
  {
   "cell_type": "code",
   "execution_count": 10,
   "metadata": {
    "colab": {
     "base_uri": "https://localhost:8080/",
     "height": 34
    },
    "colab_type": "code",
    "id": "TjJAK2nz-trT",
    "outputId": "3916bfaf-1d37-48a9-f525-e2d358d87e2b"
   },
   "outputs": [
    {
     "data": {
      "text/plain": [
       "10"
      ]
     },
     "execution_count": 10,
     "metadata": {},
     "output_type": "execute_result"
    }
   ],
   "source": [
    "m.dis.nlay"
   ]
  },
  {
   "cell_type": "markdown",
   "metadata": {
    "colab_type": "text",
    "id": "sWxtQ67b-trX"
   },
   "source": [
    "Confused about the arguments given to the flopy.modflow.ModflowDis() class assignment? \n",
    "Check out the Flopy documentation here: http://modflowpy.github.io/flopydoc/mfdis.html \n",
    "\n",
    "If you'd like to see the grid you've created, flopy has plotting capabilities to visualize \"ModelMap\" attributes such as the grid, which it pulls from the flopy \"dis\" class instance. Note that ModelMap uses matplotlib, so you will want to make sure you have that package imported at the top of your script as well!"
   ]
  },
  {
   "cell_type": "code",
   "execution_count": 11,
   "metadata": {
    "colab": {
     "base_uri": "https://localhost:8080/",
     "height": 301
    },
    "colab_type": "code",
    "id": "niUhwUK5-trZ",
    "outputId": "e1284cff-feb4-4509-a57d-60929512e4c1"
   },
   "outputs": [
    {
     "data": {
      "image/png": "[encoded data removed]",
      "text/plain": [
       "<Figure size 432x288 with 1 Axes>"
      ]
     },
     "metadata": {
      "needs_background": "light"
     },
     "output_type": "display_data"
    }
   ],
   "source": [
    "#use flopy to plot the grid of model 'm'\n",
    "modelmap = flopy.plot.map.PlotMapView(model=m, layer=0)\n",
    "grid = modelmap.plot_grid() \n",
    "plt.xlabel('Lx (m)',fontsize = 14)\n",
    "plt.ylabel('Ly (m)',fontsize = 14)\n",
    "plt.title('Grid', fontsize = 15, fontweight = 'bold')\n",
    "plt.show()"
   ]
  },
  {
   "cell_type": "markdown",
   "metadata": {
    "colab_type": "text",
    "id": "KCwlZfxG-tre"
   },
   "source": [
    " <a name=\"III\"></a> \n",
    "## III. MODFLOW BAS package\n",
    "\n",
    "Next, we attach the BAS package to our model. The BAS package specifies cell activity (how cells will participate in the model run) as well as starting heads to be used in the cells at the start of the groundwater flow simulation.\n",
    "\n",
    "### Define Cell Activity: IBOUND\n",
    "\n",
    "We assign the cell activity using a variable called <strong>IBOUND</strong>. Ibound is defined as an array of integers of form (nlay, nrow, ncol), or one for each cell with flags for the activity level:\n",
    "\n",
    "- <strong> >/= 1: active </strong> (cell has active finite difference equations calculating the head for this cell as well as flows between its neighbors) \n",
    "- <strong> = 0: inactive </strong> (cell has no active finite difference equations associated with it)\n",
    "- <strong> </= -1: constant head </strong>  (cell has active finite difference equation for flows between cells but not for head at the cell as it is kept constant throughout the simulation)\n",
    "\n",
    "For this model, the first and last column are set to be constant heads and the rest of the domain is set as active. "
   ]
  },
  {
   "cell_type": "code",
   "execution_count": 12,
   "metadata": {
    "colab": {
     "base_uri": "https://localhost:8080/",
     "height": 204
    },
    "colab_type": "code",
    "id": "v1mYp41--trg",
    "outputId": "f0f0c0dc-cee7-4976-a8db-09da83763f86"
   },
   "outputs": [
    {
     "name": "stdout",
     "output_type": "stream",
     "text": [
      "ibound values: \n",
      " [[[1 1 1 ... 1 1 1]\n",
      "  [1 1 1 ... 1 1 1]\n",
      "  [1 1 1 ... 1 1 1]\n",
      "  ...\n",
      "  [1 1 1 ... 1 1 1]\n",
      "  [1 1 1 ... 1 1 1]\n",
      "  [1 1 1 ... 1 1 1]]\n",
      "\n",
      " [[1 1 1 ... 1 1 1]\n",
      "  [1 1 1 ... 1 1 1]\n",
      "  [1 1 1 ... 1 1 1]\n",
      "  ...\n",
      "  [1 1 1 ... 1 1 1]\n",
      "  [1 1 1 ... 1 1 1]\n",
      "  [1 1 1 ... 1 1 1]]\n",
      "\n",
      " [[1 1 1 ... 1 1 1]\n",
      "  [1 1 1 ... 1 1 1]\n",
      "  [1 1 1 ... 1 1 1]\n",
      "  ...\n",
      "  [1 1 1 ... 1 1 1]\n",
      "  [1 1 1 ... 1 1 1]\n",
      "  [1 1 1 ... 1 1 1]]\n",
      "\n",
      " ...\n",
      "\n",
      " [[1 1 1 ... 1 1 1]\n",
      "  [1 1 1 ... 1 1 1]\n",
      "  [1 1 1 ... 1 1 1]\n",
      "  ...\n",
      "  [1 1 1 ... 1 1 1]\n",
      "  [1 1 1 ... 1 1 1]\n",
      "  [1 1 1 ... 1 1 1]]\n",
      "\n",
      " [[1 1 1 ... 1 1 1]\n",
      "  [1 1 1 ... 1 1 1]\n",
      "  [1 1 1 ... 1 1 1]\n",
      "  ...\n",
      "  [1 1 1 ... 1 1 1]\n",
      "  [1 1 1 ... 1 1 1]\n",
      "  [1 1 1 ... 1 1 1]]\n",
      "\n",
      " [[1 1 1 ... 1 1 1]\n",
      "  [1 1 1 ... 1 1 1]\n",
      "  [1 1 1 ... 1 1 1]\n",
      "  ...\n",
      "  [1 1 1 ... 1 1 1]\n",
      "  [1 1 1 ... 1 1 1]\n",
      "  [1 1 1 ... 1 1 1]]]\n"
     ]
    }
   ],
   "source": [
    "#create ibound as array of ints = 1\n",
    "ibound = np.ones((nlay, nrow, ncol), dtype=np.int32)\n",
    "\n",
    "\n",
    "print(\"ibound values: \\n\", ibound)"
   ]
  },
  {
   "cell_type": "markdown",
   "metadata": {
    "colab_type": "text",
    "id": "Jn6pjjh--trm"
   },
   "source": [
    "### Define Starting Heads\n",
    "\n",
    "Values for starting heads are given cell by cell with the variable <strong>strt</strong> defined as an array of floats of form (nlay, nrow, ncol). For this model the left and right boundaries are set to be constant heads in the IBOUND variable, so the starting heads assigned to these cells will be set throughout the model. Since we are interested in steady-state flow from a left boundary of h=10m and right boundary of h=0m we assign those conditions in the strt variable."
   ]
  },
  {
   "cell_type": "code",
   "execution_count": 13,
   "metadata": {
    "colab": {
     "base_uri": "https://localhost:8080/",
     "height": 204
    },
    "colab_type": "code",
    "id": "s5vtgQEq-trn",
    "outputId": "a4236f73-0a8f-45b2-af79-a8a07d19b674"
   },
   "outputs": [
    {
     "name": "stdout",
     "output_type": "stream",
     "text": [
      "starting head values: \n",
      " [array([[[980, 968, 978, ..., 866, 838, 854],\n",
      "        [976, 967, 977, ..., 907, 898, 936],\n",
      "        [973, 964, 967, ..., 921, 901, 903],\n",
      "        ...,\n",
      "        [844, 847, 856, ..., 784, 792, 821],\n",
      "        [852, 854, 859, ..., 776, 782, 837],\n",
      "        [853, 854, 857, ..., 783, 809, 840]]], dtype=int64), array([[[980, 968, 978, ..., 866, 838, 854],\n",
      "        [976, 967, 977, ..., 907, 898, 936],\n",
      "        [973, 964, 967, ..., 921, 901, 903],\n",
      "        ...,\n",
      "        [844, 847, 856, ..., 784, 792, 821],\n",
      "        [852, 854, 859, ..., 776, 782, 837],\n",
      "        [853, 854, 857, ..., 783, 809, 840]]], dtype=int64), array([[[980, 968, 978, ..., 866, 838, 854],\n",
      "        [976, 967, 977, ..., 907, 898, 936],\n",
      "        [973, 964, 967, ..., 921, 901, 903],\n",
      "        ...,\n",
      "        [844, 847, 856, ..., 784, 792, 821],\n",
      "        [852, 854, 859, ..., 776, 782, 837],\n",
      "        [853, 854, 857, ..., 783, 809, 840]]], dtype=int64), array([[[980, 968, 978, ..., 866, 838, 854],\n",
      "        [976, 967, 977, ..., 907, 898, 936],\n",
      "        [973, 964, 967, ..., 921, 901, 903],\n",
      "        ...,\n",
      "        [844, 847, 856, ..., 784, 792, 821],\n",
      "        [852, 854, 859, ..., 776, 782, 837],\n",
      "        [853, 854, 857, ..., 783, 809, 840]]], dtype=int64), array([[[980, 968, 978, ..., 866, 838, 854],\n",
      "        [976, 967, 977, ..., 907, 898, 936],\n",
      "        [973, 964, 967, ..., 921, 901, 903],\n",
      "        ...,\n",
      "        [844, 847, 856, ..., 784, 792, 821],\n",
      "        [852, 854, 859, ..., 776, 782, 837],\n",
      "        [853, 854, 857, ..., 783, 809, 840]]], dtype=int64), array([[[980, 968, 978, ..., 866, 838, 854],\n",
      "        [976, 967, 977, ..., 907, 898, 936],\n",
      "        [973, 964, 967, ..., 921, 901, 903],\n",
      "        ...,\n",
      "        [844, 847, 856, ..., 784, 792, 821],\n",
      "        [852, 854, 859, ..., 776, 782, 837],\n",
      "        [853, 854, 857, ..., 783, 809, 840]]], dtype=int64), array([[[980, 968, 978, ..., 866, 838, 854],\n",
      "        [976, 967, 977, ..., 907, 898, 936],\n",
      "        [973, 964, 967, ..., 921, 901, 903],\n",
      "        ...,\n",
      "        [844, 847, 856, ..., 784, 792, 821],\n",
      "        [852, 854, 859, ..., 776, 782, 837],\n",
      "        [853, 854, 857, ..., 783, 809, 840]]], dtype=int64), array([[[980, 968, 978, ..., 866, 838, 854],\n",
      "        [976, 967, 977, ..., 907, 898, 936],\n",
      "        [973, 964, 967, ..., 921, 901, 903],\n",
      "        ...,\n",
      "        [844, 847, 856, ..., 784, 792, 821],\n",
      "        [852, 854, 859, ..., 776, 782, 837],\n",
      "        [853, 854, 857, ..., 783, 809, 840]]], dtype=int64), array([[[980, 968, 978, ..., 866, 838, 854],\n",
      "        [976, 967, 977, ..., 907, 898, 936],\n",
      "        [973, 964, 967, ..., 921, 901, 903],\n",
      "        ...,\n",
      "        [844, 847, 856, ..., 784, 792, 821],\n",
      "        [852, 854, 859, ..., 776, 782, 837],\n",
      "        [853, 854, 857, ..., 783, 809, 840]]], dtype=int64), array([[[980, 968, 978, ..., 866, 838, 854],\n",
      "        [976, 967, 977, ..., 907, 898, 936],\n",
      "        [973, 964, 967, ..., 921, 901, 903],\n",
      "        ...,\n",
      "        [844, 847, 856, ..., 784, 792, 821],\n",
      "        [852, 854, 859, ..., 776, 782, 837],\n",
      "        [853, 854, 857, ..., 783, 809, 840]]], dtype=int64)]\n"
     ]
    }
   ],
   "source": [
    "#create strt as array of floats = 1\n",
    "strt = [ztop,ztop,ztop,ztop,ztop,ztop,ztop,ztop,ztop,ztop]\n",
    "\n",
    "#np.ones((nlay, nrow, ncol), dtype=np.float32)\n",
    "#set left side head to 10 m\n",
    "#strt[:, :, 0] = 10.\n",
    "#set right side head to 0 m\n",
    "#strt[:, :, -1] = 0.\n",
    "\n",
    "print(\"starting head values: \\n\", strt)"
   ]
  },
  {
   "cell_type": "markdown",
   "metadata": {
    "colab_type": "text",
    "id": "-i7QdIlz-tru"
   },
   "source": [
    "### Create BAS class\n",
    "\n",
    "We now use <strong>strt</strong> and <strong>IBOUND</strong> to make the 'bas' flopy class instance which will later be used to create the MODFLOW BAS package."
   ]
  },
  {
   "cell_type": "code",
   "execution_count": 14,
   "metadata": {
    "colab": {},
    "colab_type": "code",
    "id": "cgqQ_XDm-trw"
   },
   "outputs": [],
   "source": [
    "#create flopy bas class\n",
    "bas = flopy.modflow.ModflowBas(m, ibound=ibound, strt=strt)"
   ]
  },
  {
   "cell_type": "markdown",
   "metadata": {},
   "source": [
    "### Create RIV object\n",
    "\n",
    "Creating a MODFLOW river package."
   ]
  },
  {
   "cell_type": "code",
   "execution_count": 15,
   "metadata": {
    "scrolled": true
   },
   "outputs": [
    {
     "name": "stdout",
     "output_type": "stream",
     "text": [
      "{0: array([[    0.  ,    31.  ,   223.  ,   742.56, 17426.6 ,   739.56],\n",
      "       [    0.  ,    30.  ,   223.  ,   742.56, 26564.84,   739.56],\n",
      "       [    0.  ,    29.  ,   223.  ,   742.56, 28924.62,   739.56],\n",
      "       ...,\n",
      "       [    0.  ,   204.  ,   184.  ,   725.12, 11021.6 ,   724.12],\n",
      "       [    0.  ,   194.  ,   184.  ,   725.12,  7127.32,   724.12],\n",
      "       [    0.  ,   204.  ,   185.  ,   725.94,   622.98,   724.94]])}\n"
     ]
    }
   ],
   "source": [
    "rivs = pd.read_csv('rivers.csv')\n",
    "rivs = rivs[['layer','row','column','Stage','Conductanc','Bottom']]\n",
    "rivs['layer'] = rivs['layer']-1\n",
    "rivs['row'] = rivs['row']-1\n",
    "rivs['column'] = rivs['column']-1\n",
    "rivs = rivs.to_numpy()\n",
    "rivs = {0: rivs}\n",
    "print(rivs)"
   ]
  },
  {
   "cell_type": "code",
   "execution_count": 16,
   "metadata": {},
   "outputs": [],
   "source": [
    "riv = flopy.modflow.ModflowRiv(m, ipakcb=None, stress_period_data=rivs, dtype=None, extension='riv', options=None, unitnumber=None, filenames=None)"
   ]
  },
  {
   "cell_type": "markdown",
   "metadata": {
    "colab_type": "text",
    "id": "SypW_E9C-tr-"
   },
   "source": [
    " <a name=\"IV\"></a> \n",
    "## IV. MODFLOW LPF package"
   ]
  },
  {
   "cell_type": "markdown",
   "metadata": {
    "colab_type": "text",
    "id": "xkDrxDEm-tsA"
   },
   "source": [
    "The LPF package specifies Layer Properties associated with the flow in each cell. It holds information regarding horizontal and vertical hydraulic conductivity, layer confinement properties (confined/unconfined), specific storage, and specific yield among other flags for the model run for  which we will use flopy's default settings.\n",
    "\n",
    "### Define Hydraulic Conductivity\n",
    "\n",
    "Here we define \"hk\" as a variable for horizontal hydraulic conductivity of 1 m/d that will be the same in the x and y directions, and \"vka\" as a variable for vertical conductivity of 1 m/d. hk and vka are arrays of floats of form (nlay, nrow, ncol) with conductivity values for each cell. You may also a ratio of anisotropy in the y direction for the flopy LPF function, if hk should be anisotropic in the xy plane. http://modflowpy.github.io/flopydoc/mflpf.html has details regarding these options.\n"
   ]
  },
  {
   "cell_type": "code",
   "execution_count": 17,
   "metadata": {},
   "outputs": [
    {
     "data": {
      "text/html": [
       "<div>\n",
       "<style scoped>\n",
       "    .dataframe tbody tr th:only-of-type {\n",
       "        vertical-align: middle;\n",
       "    }\n",
       "\n",
       "    .dataframe tbody tr th {\n",
       "        vertical-align: top;\n",
       "    }\n",
       "\n",
       "    .dataframe thead th {\n",
       "        text-align: right;\n",
       "    }\n",
       "</style>\n",
       "<table border=\"1\" class=\"dataframe\">\n",
       "  <thead>\n",
       "    <tr style=\"text-align: right;\">\n",
       "      <th></th>\n",
       "      <th>row</th>\n",
       "      <th>column</th>\n",
       "      <th>node</th>\n",
       "      <th>Zone1</th>\n",
       "      <th>Kx1</th>\n",
       "      <th>Ky1</th>\n",
       "      <th>Kz1</th>\n",
       "      <th>Zone2</th>\n",
       "      <th>Kx2</th>\n",
       "      <th>Ky2</th>\n",
       "      <th>...</th>\n",
       "      <th>Ky8</th>\n",
       "      <th>Kz8</th>\n",
       "      <th>Zone9</th>\n",
       "      <th>Kx9</th>\n",
       "      <th>Ky9</th>\n",
       "      <th>Kz9</th>\n",
       "      <th>Zone10</th>\n",
       "      <th>Kx10</th>\n",
       "      <th>Ky10</th>\n",
       "      <th>Kz10</th>\n",
       "    </tr>\n",
       "  </thead>\n",
       "  <tbody>\n",
       "    <tr>\n",
       "      <th>0</th>\n",
       "      <td>1</td>\n",
       "      <td>1</td>\n",
       "      <td>0</td>\n",
       "      <td>73</td>\n",
       "      <td>2.52832</td>\n",
       "      <td>2.52832</td>\n",
       "      <td>0.043545</td>\n",
       "      <td>73</td>\n",
       "      <td>2.52832</td>\n",
       "      <td>2.52832</td>\n",
       "      <td>...</td>\n",
       "      <td>2.52832</td>\n",
       "      <td>0.043545</td>\n",
       "      <td>23</td>\n",
       "      <td>1.3507</td>\n",
       "      <td>1.3507</td>\n",
       "      <td>0.043406</td>\n",
       "      <td>23</td>\n",
       "      <td>1.3507</td>\n",
       "      <td>1.3507</td>\n",
       "      <td>0.043406</td>\n",
       "    </tr>\n",
       "    <tr>\n",
       "      <th>1</th>\n",
       "      <td>1</td>\n",
       "      <td>2</td>\n",
       "      <td>0</td>\n",
       "      <td>73</td>\n",
       "      <td>2.52832</td>\n",
       "      <td>2.52832</td>\n",
       "      <td>0.043545</td>\n",
       "      <td>73</td>\n",
       "      <td>2.52832</td>\n",
       "      <td>2.52832</td>\n",
       "      <td>...</td>\n",
       "      <td>2.52832</td>\n",
       "      <td>0.043545</td>\n",
       "      <td>23</td>\n",
       "      <td>1.3507</td>\n",
       "      <td>1.3507</td>\n",
       "      <td>0.043406</td>\n",
       "      <td>23</td>\n",
       "      <td>1.3507</td>\n",
       "      <td>1.3507</td>\n",
       "      <td>0.043406</td>\n",
       "    </tr>\n",
       "    <tr>\n",
       "      <th>2</th>\n",
       "      <td>1</td>\n",
       "      <td>3</td>\n",
       "      <td>0</td>\n",
       "      <td>73</td>\n",
       "      <td>2.52832</td>\n",
       "      <td>2.52832</td>\n",
       "      <td>0.043545</td>\n",
       "      <td>73</td>\n",
       "      <td>2.52832</td>\n",
       "      <td>2.52832</td>\n",
       "      <td>...</td>\n",
       "      <td>2.52832</td>\n",
       "      <td>0.043545</td>\n",
       "      <td>23</td>\n",
       "      <td>1.3507</td>\n",
       "      <td>1.3507</td>\n",
       "      <td>0.043406</td>\n",
       "      <td>23</td>\n",
       "      <td>1.3507</td>\n",
       "      <td>1.3507</td>\n",
       "      <td>0.043406</td>\n",
       "    </tr>\n",
       "    <tr>\n",
       "      <th>3</th>\n",
       "      <td>1</td>\n",
       "      <td>4</td>\n",
       "      <td>0</td>\n",
       "      <td>73</td>\n",
       "      <td>2.52832</td>\n",
       "      <td>2.52832</td>\n",
       "      <td>0.043545</td>\n",
       "      <td>73</td>\n",
       "      <td>2.52832</td>\n",
       "      <td>2.52832</td>\n",
       "      <td>...</td>\n",
       "      <td>2.52832</td>\n",
       "      <td>0.043545</td>\n",
       "      <td>23</td>\n",
       "      <td>1.3507</td>\n",
       "      <td>1.3507</td>\n",
       "      <td>0.043406</td>\n",
       "      <td>23</td>\n",
       "      <td>1.3507</td>\n",
       "      <td>1.3507</td>\n",
       "      <td>0.043406</td>\n",
       "    </tr>\n",
       "    <tr>\n",
       "      <th>4</th>\n",
       "      <td>1</td>\n",
       "      <td>5</td>\n",
       "      <td>0</td>\n",
       "      <td>73</td>\n",
       "      <td>2.52832</td>\n",
       "      <td>2.52832</td>\n",
       "      <td>0.043545</td>\n",
       "      <td>73</td>\n",
       "      <td>2.52832</td>\n",
       "      <td>2.52832</td>\n",
       "      <td>...</td>\n",
       "      <td>2.52832</td>\n",
       "      <td>0.043545</td>\n",
       "      <td>23</td>\n",
       "      <td>1.3507</td>\n",
       "      <td>1.3507</td>\n",
       "      <td>0.043406</td>\n",
       "      <td>23</td>\n",
       "      <td>1.3507</td>\n",
       "      <td>1.3507</td>\n",
       "      <td>0.043406</td>\n",
       "    </tr>\n",
       "  </tbody>\n",
       "</table>\n",
       "<p>5 rows × 43 columns</p>\n",
       "</div>"
      ],
      "text/plain": [
       "   row  column  node  Zone1      Kx1      Ky1       Kz1  Zone2      Kx2  \\\n",
       "0    1       1     0     73  2.52832  2.52832  0.043545     73  2.52832   \n",
       "1    1       2     0     73  2.52832  2.52832  0.043545     73  2.52832   \n",
       "2    1       3     0     73  2.52832  2.52832  0.043545     73  2.52832   \n",
       "3    1       4     0     73  2.52832  2.52832  0.043545     73  2.52832   \n",
       "4    1       5     0     73  2.52832  2.52832  0.043545     73  2.52832   \n",
       "\n",
       "       Ky2  ...      Ky8       Kz8  Zone9     Kx9     Ky9       Kz9  Zone10  \\\n",
       "0  2.52832  ...  2.52832  0.043545     23  1.3507  1.3507  0.043406      23   \n",
       "1  2.52832  ...  2.52832  0.043545     23  1.3507  1.3507  0.043406      23   \n",
       "2  2.52832  ...  2.52832  0.043545     23  1.3507  1.3507  0.043406      23   \n",
       "3  2.52832  ...  2.52832  0.043545     23  1.3507  1.3507  0.043406      23   \n",
       "4  2.52832  ...  2.52832  0.043545     23  1.3507  1.3507  0.043406      23   \n",
       "\n",
       "     Kx10    Ky10      Kz10  \n",
       "0  1.3507  1.3507  0.043406  \n",
       "1  1.3507  1.3507  0.043406  \n",
       "2  1.3507  1.3507  0.043406  \n",
       "3  1.3507  1.3507  0.043406  \n",
       "4  1.3507  1.3507  0.043406  \n",
       "\n",
       "[5 rows x 43 columns]"
      ]
     },
     "execution_count": 17,
     "metadata": {},
     "output_type": "execute_result"
    }
   ],
   "source": [
    "# read in dbf to pandas dataframe\n",
    "file = 'hydraulic_conductivity.dbf'\n",
    "dbf = Dbf5(file)\n",
    "df = dbf.to_dataframe()\n",
    "df.head()"
   ]
  },
  {
   "cell_type": "code",
   "execution_count": 18,
   "metadata": {},
   "outputs": [
    {
     "data": {
      "text/html": [
       "<div>\n",
       "<style scoped>\n",
       "    .dataframe tbody tr th:only-of-type {\n",
       "        vertical-align: middle;\n",
       "    }\n",
       "\n",
       "    .dataframe tbody tr th {\n",
       "        vertical-align: top;\n",
       "    }\n",
       "\n",
       "    .dataframe thead th {\n",
       "        text-align: right;\n",
       "    }\n",
       "</style>\n",
       "<table border=\"1\" class=\"dataframe\">\n",
       "  <thead>\n",
       "    <tr style=\"text-align: right;\">\n",
       "      <th></th>\n",
       "      <th>Zone1</th>\n",
       "      <th>Zone2</th>\n",
       "      <th>Zone3</th>\n",
       "      <th>Zone4</th>\n",
       "      <th>Zone5</th>\n",
       "      <th>Zone6</th>\n",
       "      <th>Zone7</th>\n",
       "      <th>Zone8</th>\n",
       "      <th>Zone9</th>\n",
       "      <th>Zone10</th>\n",
       "    </tr>\n",
       "  </thead>\n",
       "  <tbody>\n",
       "    <tr>\n",
       "      <th>0</th>\n",
       "      <td>73</td>\n",
       "      <td>73</td>\n",
       "      <td>73</td>\n",
       "      <td>73</td>\n",
       "      <td>73</td>\n",
       "      <td>73</td>\n",
       "      <td>73</td>\n",
       "      <td>73</td>\n",
       "      <td>23</td>\n",
       "      <td>23</td>\n",
       "    </tr>\n",
       "    <tr>\n",
       "      <th>1</th>\n",
       "      <td>73</td>\n",
       "      <td>73</td>\n",
       "      <td>73</td>\n",
       "      <td>73</td>\n",
       "      <td>73</td>\n",
       "      <td>73</td>\n",
       "      <td>74</td>\n",
       "      <td>73</td>\n",
       "      <td>23</td>\n",
       "      <td>23</td>\n",
       "    </tr>\n",
       "    <tr>\n",
       "      <th>2</th>\n",
       "      <td>73</td>\n",
       "      <td>73</td>\n",
       "      <td>73</td>\n",
       "      <td>73</td>\n",
       "      <td>73</td>\n",
       "      <td>73</td>\n",
       "      <td>74</td>\n",
       "      <td>73</td>\n",
       "      <td>23</td>\n",
       "      <td>23</td>\n",
       "    </tr>\n",
       "    <tr>\n",
       "      <th>3</th>\n",
       "      <td>73</td>\n",
       "      <td>73</td>\n",
       "      <td>73</td>\n",
       "      <td>73</td>\n",
       "      <td>73</td>\n",
       "      <td>73</td>\n",
       "      <td>74</td>\n",
       "      <td>73</td>\n",
       "      <td>23</td>\n",
       "      <td>23</td>\n",
       "    </tr>\n",
       "    <tr>\n",
       "      <th>4</th>\n",
       "      <td>73</td>\n",
       "      <td>73</td>\n",
       "      <td>73</td>\n",
       "      <td>73</td>\n",
       "      <td>73</td>\n",
       "      <td>73</td>\n",
       "      <td>74</td>\n",
       "      <td>73</td>\n",
       "      <td>23</td>\n",
       "      <td>23</td>\n",
       "    </tr>\n",
       "    <tr>\n",
       "      <th>...</th>\n",
       "      <td>...</td>\n",
       "      <td>...</td>\n",
       "      <td>...</td>\n",
       "      <td>...</td>\n",
       "      <td>...</td>\n",
       "      <td>...</td>\n",
       "      <td>...</td>\n",
       "      <td>...</td>\n",
       "      <td>...</td>\n",
       "      <td>...</td>\n",
       "    </tr>\n",
       "    <tr>\n",
       "      <th>46120</th>\n",
       "      <td>74</td>\n",
       "      <td>74</td>\n",
       "      <td>73</td>\n",
       "      <td>74</td>\n",
       "      <td>74</td>\n",
       "      <td>74</td>\n",
       "      <td>74</td>\n",
       "      <td>74</td>\n",
       "      <td>74</td>\n",
       "      <td>15</td>\n",
       "    </tr>\n",
       "    <tr>\n",
       "      <th>46121</th>\n",
       "      <td>74</td>\n",
       "      <td>74</td>\n",
       "      <td>73</td>\n",
       "      <td>74</td>\n",
       "      <td>74</td>\n",
       "      <td>74</td>\n",
       "      <td>74</td>\n",
       "      <td>74</td>\n",
       "      <td>74</td>\n",
       "      <td>15</td>\n",
       "    </tr>\n",
       "    <tr>\n",
       "      <th>46122</th>\n",
       "      <td>74</td>\n",
       "      <td>74</td>\n",
       "      <td>73</td>\n",
       "      <td>74</td>\n",
       "      <td>74</td>\n",
       "      <td>74</td>\n",
       "      <td>74</td>\n",
       "      <td>74</td>\n",
       "      <td>74</td>\n",
       "      <td>15</td>\n",
       "    </tr>\n",
       "    <tr>\n",
       "      <th>46123</th>\n",
       "      <td>74</td>\n",
       "      <td>74</td>\n",
       "      <td>73</td>\n",
       "      <td>74</td>\n",
       "      <td>74</td>\n",
       "      <td>74</td>\n",
       "      <td>74</td>\n",
       "      <td>74</td>\n",
       "      <td>74</td>\n",
       "      <td>15</td>\n",
       "    </tr>\n",
       "    <tr>\n",
       "      <th>46124</th>\n",
       "      <td>74</td>\n",
       "      <td>74</td>\n",
       "      <td>73</td>\n",
       "      <td>74</td>\n",
       "      <td>74</td>\n",
       "      <td>74</td>\n",
       "      <td>74</td>\n",
       "      <td>74</td>\n",
       "      <td>74</td>\n",
       "      <td>15</td>\n",
       "    </tr>\n",
       "  </tbody>\n",
       "</table>\n",
       "<p>46125 rows × 10 columns</p>\n",
       "</div>"
      ],
      "text/plain": [
       "       Zone1  Zone2  Zone3  Zone4  Zone5  Zone6  Zone7  Zone8  Zone9  Zone10\n",
       "0         73     73     73     73     73     73     73     73     23      23\n",
       "1         73     73     73     73     73     73     74     73     23      23\n",
       "2         73     73     73     73     73     73     74     73     23      23\n",
       "3         73     73     73     73     73     73     74     73     23      23\n",
       "4         73     73     73     73     73     73     74     73     23      23\n",
       "...      ...    ...    ...    ...    ...    ...    ...    ...    ...     ...\n",
       "46120     74     74     73     74     74     74     74     74     74      15\n",
       "46121     74     74     73     74     74     74     74     74     74      15\n",
       "46122     74     74     73     74     74     74     74     74     74      15\n",
       "46123     74     74     73     74     74     74     74     74     74      15\n",
       "46124     74     74     73     74     74     74     74     74     74      15\n",
       "\n",
       "[46125 rows x 10 columns]"
      ]
     },
     "execution_count": 18,
     "metadata": {},
     "output_type": "execute_result"
    }
   ],
   "source": [
    "# create dataframes of the 10 zones, Kx, Ky, and Kz\n",
    "\n",
    "zone = df[df.columns[pd.Series(df.columns).str.contains(\"Z\")]]\n",
    "x = df[df.columns[pd.Series(df.columns).str.contains(\"x\")]]\n",
    "y = df[df.columns[pd.Series(df.columns).str.contains(\"y\")]]\n",
    "z = df[df.columns[pd.Series(df.columns).str.contains(\"z\")]]\n",
    "\n",
    "zone"
   ]
  },
  {
   "cell_type": "code",
   "execution_count": 19,
   "metadata": {},
   "outputs": [],
   "source": [
    "# save function output to variables\n",
    "x_reshaped = array_shaper(x,10)\n",
    "z_reshaped = array_shaper(z,10)"
   ]
  },
  {
   "cell_type": "code",
   "execution_count": 20,
   "metadata": {},
   "outputs": [
    {
     "name": "stdout",
     "output_type": "stream",
     "text": [
      "(10, 205, 225)\n",
      "(10, 205, 225)\n"
     ]
    }
   ],
   "source": [
    "# check shape\n",
    "\n",
    "print(x_reshaped.shape)\n",
    "print(z_reshaped.shape)"
   ]
  },
  {
   "cell_type": "code",
   "execution_count": 21,
   "metadata": {},
   "outputs": [
    {
     "data": {
      "text/plain": [
       "<AxesSubplot:>"
      ]
     },
     "execution_count": 21,
     "metadata": {},
     "output_type": "execute_result"
    },
    {
     "data": {
      "image/png": "[encoded data removed]",
      "text/plain": [
       "<Figure size 432x288 with 2 Axes>"
      ]
     },
     "metadata": {
      "needs_background": "light"
     },
     "output_type": "display_data"
    }
   ],
   "source": [
    "x = z_reshaped[9,:,:]\n",
    "sns.heatmap(x, cmap = 'tab10')"
   ]
  },
  {
   "cell_type": "markdown",
   "metadata": {
    "colab_type": "text",
    "id": "t9eqiajw-tsG"
   },
   "source": [
    "### Define Specific Storage\n",
    "\n",
    "Specific storage is defined in a similar format to hydraulic conductivity with a value of $1 x 10^{-5} m^{-1}$ for each cell."
   ]
  },
  {
   "cell_type": "code",
   "execution_count": 22,
   "metadata": {
    "colab": {
     "base_uri": "https://localhost:8080/",
     "height": 204
    },
    "colab_type": "code",
    "id": "AaTXILZA-tsI",
    "outputId": "07473e24-e4e7-4a39-beae-8f70488af668"
   },
   "outputs": [
    {
     "name": "stdout",
     "output_type": "stream",
     "text": [
      "specific storage values: \n",
      " [[[1.e-05 1.e-05 1.e-05 ... 1.e-05 1.e-05 1.e-05]\n",
      "  [1.e-05 1.e-05 1.e-05 ... 1.e-05 1.e-05 1.e-05]\n",
      "  [1.e-05 1.e-05 1.e-05 ... 1.e-05 1.e-05 1.e-05]\n",
      "  ...\n",
      "  [1.e-05 1.e-05 1.e-05 ... 1.e-05 1.e-05 1.e-05]\n",
      "  [1.e-05 1.e-05 1.e-05 ... 1.e-05 1.e-05 1.e-05]\n",
      "  [1.e-05 1.e-05 1.e-05 ... 1.e-05 1.e-05 1.e-05]]\n",
      "\n",
      " [[1.e-05 1.e-05 1.e-05 ... 1.e-05 1.e-05 1.e-05]\n",
      "  [1.e-05 1.e-05 1.e-05 ... 1.e-05 1.e-05 1.e-05]\n",
      "  [1.e-05 1.e-05 1.e-05 ... 1.e-05 1.e-05 1.e-05]\n",
      "  ...\n",
      "  [1.e-05 1.e-05 1.e-05 ... 1.e-05 1.e-05 1.e-05]\n",
      "  [1.e-05 1.e-05 1.e-05 ... 1.e-05 1.e-05 1.e-05]\n",
      "  [1.e-05 1.e-05 1.e-05 ... 1.e-05 1.e-05 1.e-05]]\n",
      "\n",
      " [[1.e-05 1.e-05 1.e-05 ... 1.e-05 1.e-05 1.e-05]\n",
      "  [1.e-05 1.e-05 1.e-05 ... 1.e-05 1.e-05 1.e-05]\n",
      "  [1.e-05 1.e-05 1.e-05 ... 1.e-05 1.e-05 1.e-05]\n",
      "  ...\n",
      "  [1.e-05 1.e-05 1.e-05 ... 1.e-05 1.e-05 1.e-05]\n",
      "  [1.e-05 1.e-05 1.e-05 ... 1.e-05 1.e-05 1.e-05]\n",
      "  [1.e-05 1.e-05 1.e-05 ... 1.e-05 1.e-05 1.e-05]]\n",
      "\n",
      " ...\n",
      "\n",
      " [[1.e-05 1.e-05 1.e-05 ... 1.e-05 1.e-05 1.e-05]\n",
      "  [1.e-05 1.e-05 1.e-05 ... 1.e-05 1.e-05 1.e-05]\n",
      "  [1.e-05 1.e-05 1.e-05 ... 1.e-05 1.e-05 1.e-05]\n",
      "  ...\n",
      "  [1.e-05 1.e-05 1.e-05 ... 1.e-05 1.e-05 1.e-05]\n",
      "  [1.e-05 1.e-05 1.e-05 ... 1.e-05 1.e-05 1.e-05]\n",
      "  [1.e-05 1.e-05 1.e-05 ... 1.e-05 1.e-05 1.e-05]]\n",
      "\n",
      " [[1.e-05 1.e-05 1.e-05 ... 1.e-05 1.e-05 1.e-05]\n",
      "  [1.e-05 1.e-05 1.e-05 ... 1.e-05 1.e-05 1.e-05]\n",
      "  [1.e-05 1.e-05 1.e-05 ... 1.e-05 1.e-05 1.e-05]\n",
      "  ...\n",
      "  [1.e-05 1.e-05 1.e-05 ... 1.e-05 1.e-05 1.e-05]\n",
      "  [1.e-05 1.e-05 1.e-05 ... 1.e-05 1.e-05 1.e-05]\n",
      "  [1.e-05 1.e-05 1.e-05 ... 1.e-05 1.e-05 1.e-05]]\n",
      "\n",
      " [[1.e-05 1.e-05 1.e-05 ... 1.e-05 1.e-05 1.e-05]\n",
      "  [1.e-05 1.e-05 1.e-05 ... 1.e-05 1.e-05 1.e-05]\n",
      "  [1.e-05 1.e-05 1.e-05 ... 1.e-05 1.e-05 1.e-05]\n",
      "  ...\n",
      "  [1.e-05 1.e-05 1.e-05 ... 1.e-05 1.e-05 1.e-05]\n",
      "  [1.e-05 1.e-05 1.e-05 ... 1.e-05 1.e-05 1.e-05]\n",
      "  [1.e-05 1.e-05 1.e-05 ... 1.e-05 1.e-05 1.e-05]]]\n"
     ]
    },
    {
     "name": "stderr",
     "output_type": "stream",
     "text": [
      "C:\\Users\\Owner\\AppData\\Local\\Temp/ipykernel_7940/3281996141.py:2: DeprecationWarning: `np.float` is a deprecated alias for the builtin `float`. To silence this warning, use `float` by itself. Doing this will not modify any behavior and is safe. If you specifically wanted the numpy scalar type, use `np.float64` here.\n",
      "Deprecated in NumPy 1.20; for more details and guidance: https://numpy.org/devdocs/release/1.20.0-notes.html#deprecations\n",
      "  ss = np.ones((nlay,nrow,ncol), dtype=np.float)\n"
     ]
    }
   ],
   "source": [
    "#define specific storage\n",
    "ss = np.ones((nlay,nrow,ncol), dtype=np.float)\n",
    "ss[:,:,:] = 1e-5\n",
    "\n",
    "print(\"specific storage values: \\n\", ss)"
   ]
  },
  {
   "cell_type": "markdown",
   "metadata": {
    "colab_type": "text",
    "id": "eHzb7TBp-tsQ"
   },
   "source": [
    "### Define Aquifer Confinement Properties\n",
    "\n",
    "Layers may be specified in flopy with variable <strong> laytyp </strong>, an array of (nlay) integer flags to say whether a model is:\n",
    "\n",
    "- <strong> =0 Confined:</strong>  Aquifer layers will be treated as confined\n",
    "- <strong> >0 Convertible:</strong> Aquifer layers will be treated as confined if the water level is above the top of the aquifer cell and unconfined if the water level is below the top of the aquifer cell.\n",
    "\n",
    "This single-layer model will be treated as confined."
   ]
  },
  {
   "cell_type": "code",
   "execution_count": 23,
   "metadata": {
    "colab": {
     "base_uri": "https://localhost:8080/",
     "height": 51
    },
    "colab_type": "code",
    "id": "OWc1ue9W-tsQ",
    "outputId": "25c1863a-e5c2-42ba-8b8e-ce493a701cbc"
   },
   "outputs": [
    {
     "name": "stdout",
     "output_type": "stream",
     "text": [
      "layer type values: \n",
      " [0 0 0 0 0 0 0 0 0 0]\n"
     ]
    }
   ],
   "source": [
    "#define layer type as confined\n",
    "laytyp = np.zeros((nlay,), dtype=np.int32)\n",
    "\n",
    "print(\"layer type values: \\n\", laytyp)"
   ]
  },
  {
   "cell_type": "markdown",
   "metadata": {
    "colab_type": "text",
    "id": "AUAWWJh3-tsT"
   },
   "source": [
    "### Define LPF object\n",
    "We now use <strong>hk</strong>, <strong>vk</strong>,  <strong>ss</strong>, and <strong>laytyp</strong> to make the 'lpf' flopy object which will be used to create the MODFLOW LPF package. <strong>ipakcb</strong> is a flag to say whether we will save cell by cell buget data (flows etc) (ipakcb>0 = save data). (<strong>Note:</strong> Flopy claims that budget data saves by using the ipakcb default settings, but it seems that ipakcb must be explicitly specified in order to be saved.)"
   ]
  },
  {
   "cell_type": "code",
   "execution_count": 24,
   "metadata": {
    "colab": {},
    "colab_type": "code",
    "id": "wTt_as_r-tsT"
   },
   "outputs": [],
   "source": [
    "lpf = flopy.modflow.ModflowLpf(model=m, hk=0.50*x_reshaped, vka=.75*z_reshaped, ss=ss, laytyp=laytyp, ipakcb=1)"
   ]
  },
  {
   "cell_type": "markdown",
   "metadata": {},
   "source": [
    "### Create DRN class"
   ]
  },
  {
   "cell_type": "code",
   "execution_count": 25,
   "metadata": {},
   "outputs": [],
   "source": [
    "ztop2 = ztop[0,:,:]"
   ]
  },
  {
   "cell_type": "code",
   "execution_count": 26,
   "metadata": {},
   "outputs": [],
   "source": [
    "\n",
    "drains = []\n",
    "for index, value in np.ndenumerate(x_reshaped[0,:,:]):\n",
    "    if value<20:\n",
    "        drains.append([0,index[0],index[1],ztop2[index],5000])\n",
    "    \n",
    "drns = {0: drains}\n"
   ]
  },
  {
   "cell_type": "code",
   "execution_count": 27,
   "metadata": {},
   "outputs": [],
   "source": [
    "drn = flopy.modflow.ModflowDrn(m, ipakcb=None, stress_period_data=drns, dtype=None, extension='drn', options=None, unitnumber=None, filenames=None)"
   ]
  },
  {
   "cell_type": "markdown",
   "metadata": {
    "colab_type": "text",
    "id": "Cv4uiIrE-tr3"
   },
   "source": [
    "If you wish to visualize the ibound variable assigned to this bas package, flopy ModelMap may be also used to display ibound. "
   ]
  },
  {
   "cell_type": "code",
   "execution_count": 28,
   "metadata": {
    "colab": {
     "base_uri": "https://localhost:8080/",
     "height": 301
    },
    "colab_type": "code",
    "id": "Q8I20pkr-tr4",
    "outputId": "09d0d93d-95b3-4694-c795-8ae73c91f3f5",
    "scrolled": false
   },
   "outputs": [
    {
     "data": {
      "image/png": "[encoded data removed]",
      "text/plain": [
       "<Figure size 432x288 with 1 Axes>"
      ]
     },
     "metadata": {
      "needs_background": "light"
     },
     "output_type": "display_data"
    }
   ],
   "source": [
    "#plot grid and ibound\n",
    "modelmap = flopy.plot.PlotMapView(model=m, layer=0)\n",
    "#grid = modelmap.plot_grid()\n",
    "drn_plot = modelmap.plot_bc(ftype='DRN')\n",
    "riv_plot = modelmap.plot_bc(ftype='RIV')\n",
    "#ib = modelmap.plot_ibound()\n",
    "#add labels and legend\n",
    "plt.xlabel('Lx (m)',fontsize = 14)\n",
    "plt.ylabel('Ly (m)',fontsize = 14)\n",
    "plt.title('Ibound', fontsize = 15, fontweight = 'bold')\n",
    "plt.legend(handles=[mp.patches.Patch(color='green',label='River',ec='black'),\n",
    "                    mp.patches.Patch(color='yellow',label='Drain',ec='black')],\n",
    "                   bbox_to_anchor=(1.5,1.0))\n",
    "plt.show(modelmap)"
   ]
  },
  {
   "cell_type": "markdown",
   "metadata": {},
   "source": [
    "### Recharge"
   ]
  },
  {
   "cell_type": "code",
   "execution_count": 29,
   "metadata": {},
   "outputs": [],
   "source": [
    "recharge = 0*x_reshaped[0,:,:]\n",
    "for index, value in np.ndenumerate(x_reshaped[0,:,:]):\n",
    "    if value<20:\n",
    "        recharge[index] = 0.000075 # ft/day\n",
    "    else:\n",
    "        recharge[index] = 0.0005 # ft/day\n",
    "        \n",
    "    \n",
    "recharge = {0: recharge}"
   ]
  },
  {
   "cell_type": "code",
   "execution_count": 30,
   "metadata": {},
   "outputs": [],
   "source": [
    "rch = flopy.modflow.ModflowRch(m,nrchop=3,ipakcb=None,rech=recharge,irch=0,extension='rch')"
   ]
  },
  {
   "cell_type": "markdown",
   "metadata": {},
   "source": [
    "## V. MODFLOW WELL Package\n",
    "\n"
   ]
  },
  {
   "cell_type": "code",
   "execution_count": 31,
   "metadata": {},
   "outputs": [
    {
     "name": "stdout",
     "output_type": "stream",
     "text": [
      "     Layer  row y  col x   flux\n",
      "9        0    116     35  -8816\n",
      "10       0    110     35  -1924\n",
      "11       0    110     36  -5771\n",
      "23       0    160     48 -31722\n",
      "24       0    160     48 -16284\n",
      "..     ...    ...    ...    ...\n",
      "298      0    111    221  -5916\n",
      "299      0    111    221  -5916\n",
      "302      0    169    222  -3791\n",
      "314      0    165    225 -20872\n",
      "315      0    103    225 -10045\n",
      "\n",
      "[108 rows x 4 columns]\n",
      "{0: array([[      0,     115,      34,   -8816],\n",
      "       [      0,     109,      34,   -1924],\n",
      "       [      0,     109,      35,   -5771],\n",
      "       [      0,     159,      47,  -31722],\n",
      "       [      0,     159,      47,  -16284],\n",
      "       [      0,      58,      50,  -49609],\n",
      "       [      0,      58,      53,  -28069],\n",
      "       [      0,      60,      54,  -22495],\n",
      "       [      0,      22,      75,    -791],\n",
      "       [      0,      57,      75, -112242],\n",
      "       [      0,      57,      75, -112242],\n",
      "       [      0,      57,      83,  -43486],\n",
      "       [      0,      57,      87,  -53236],\n",
      "       [      0,      57,      87,   -1692],\n",
      "       [      0,      59,      87,    -924],\n",
      "       [      0,      59,      87,   -1420],\n",
      "       [      0,     101,     110,  -59204],\n",
      "       [      0,     101,     111,  -59204],\n",
      "       [      0,     103,     111,  -59204],\n",
      "       [      0,     105,     117, -109951],\n",
      "       [      0,     105,     118, -109951],\n",
      "       [      0,     108,     118, -109951],\n",
      "       [      0,     187,     119,   -8851],\n",
      "       [      0,      91,     130,  -11324],\n",
      "       [      0,      80,     131,    -806],\n",
      "       [      0,      80,     131,   -2120],\n",
      "       [      0,      32,     133,  -23167],\n",
      "       [      0,      94,     134,   -1164],\n",
      "       [      0,      25,     135,  -91810],\n",
      "       [      0,      18,     138,   -1397],\n",
      "       [      0,      54,     138,   -9878],\n",
      "       [      0,     129,     139,   -2560],\n",
      "       [      0,     129,     140,   -2259],\n",
      "       [      0,     129,     140,    -583],\n",
      "       [      0,      53,     140,  -15179],\n",
      "       [      0,      17,     142,  -59556],\n",
      "       [      0,     161,     144,   -1377],\n",
      "       [      0,     131,     145,  -40868],\n",
      "       [      0,       1,     146,  -74658],\n",
      "       [      0,     153,     147,   -1046],\n",
      "       [      0,     132,     147,   -1963],\n",
      "       [      0,      80,     148,    -616],\n",
      "       [      0,      22,     149,  -41402],\n",
      "       [      0,     141,     149,   -1102],\n",
      "       [      0,     141,     149,    -650],\n",
      "       [      0,       7,     150,  -55309],\n",
      "       [      0,      42,     150,  -75089],\n",
      "       [      0,      16,     151,   -2793],\n",
      "       [      0,     110,     153,   -1925],\n",
      "       [      0,      61,     156,   -1242],\n",
      "       [      0,      45,     160,  -35514],\n",
      "       [      0,     131,     160,  -12288],\n",
      "       [      0,      91,     163,  -28290],\n",
      "       [      0,      91,     163,  -27458],\n",
      "       [      0,     201,     165,  -14839],\n",
      "       [      0,      65,     168,   -7653],\n",
      "       [      0,      59,     168, -102200],\n",
      "       [      0,      59,     168,  -53056],\n",
      "       [      0,     108,     169,    -510],\n",
      "       [      0,      39,     171,  -39736],\n",
      "       [      0,     140,     171,   -1185],\n",
      "       [      0,     194,     174,  -13241],\n",
      "       [      0,      18,     175,  -26632],\n",
      "       [      0,     187,     177,  -14132],\n",
      "       [      0,     139,     178,  -12492],\n",
      "       [      0,      61,     178,  -55588],\n",
      "       [      0,     130,     179,   -1224],\n",
      "       [      0,     115,     179,  -58594],\n",
      "       [      0,     140,     179,  -18651],\n",
      "       [      0,     141,     179,   -1352],\n",
      "       [      0,     115,     180,  -74383],\n",
      "       [      0,      43,     181,   -8162],\n",
      "       [      0,     138,     182,  -40509],\n",
      "       [      0,     133,     185,   -1721],\n",
      "       [      0,     133,     185,   -2072],\n",
      "       [      0,     133,     186,    -655],\n",
      "       [      0,       3,     188,  -84773],\n",
      "       [      0,       1,     189,  -39744],\n",
      "       [      0,       4,     189,   -7379],\n",
      "       [      0,     176,     191,   -2942],\n",
      "       [      0,      25,     192,  -46830],\n",
      "       [      0,     105,     192,  -22101],\n",
      "       [      0,     105,     192,  -43063],\n",
      "       [      0,      31,     193,  -68105],\n",
      "       [      0,      36,     197,  -51262],\n",
      "       [      0,     173,     199,   -3638],\n",
      "       [      0,     169,     199,  -33846],\n",
      "       [      0,     169,     199,  -33846],\n",
      "       [      0,      31,     199,  -12523],\n",
      "       [      0,     135,     203,    -567],\n",
      "       [      0,     123,     203,  -11335],\n",
      "       [      0,      31,     203,  -35400],\n",
      "       [      0,      32,     204,  -26739],\n",
      "       [      0,      70,     204,  -27458],\n",
      "       [      0,      68,     205,   -3880],\n",
      "       [      0,      68,     205,   -1940],\n",
      "       [      0,     152,     208,    -738],\n",
      "       [      0,     139,     209,  -21317],\n",
      "       [      0,      80,     210,   -4763],\n",
      "       [      0,      81,     210,   -3468],\n",
      "       [      0,      75,     215,  -13570],\n",
      "       [      0,      75,     215,  -12129],\n",
      "       [      0,     151,     218,  -30960],\n",
      "       [      0,     110,     220,   -5916],\n",
      "       [      0,     110,     220,   -5916],\n",
      "       [      0,     168,     221,   -3791],\n",
      "       [      0,     164,     224,  -20872],\n",
      "       [      0,     102,     224,  -10045]], dtype=int64)}\n"
     ]
    }
   ],
   "source": [
    "# Below ids the setup for well stress period 59\n",
    "\n",
    "Well_stress = pd.read_csv('minwelldata.csv')\n",
    "Well_stress=Well_stress[['Layer', 'row y', 'col x', 'flux']]\n",
    "Well_stress = Well_stress[Well_stress.flux <-500]\n",
    "print (Well_stress)\n",
    "\n",
    "# Daniel, I think in your video you used the next 4 lines to remove column names before coverting to dictionary. \n",
    "# In this code they add -1s to dataframe, but wells plot and it runs (where we were last time).\n",
    "\n",
    "# Well_stress['Layer']=Well_stress['Layer']-1\n",
    "Well_stress['row y']=Well_stress['row y']-1\n",
    "Well_stress['col x']=Well_stress['col x']-1\n",
    "# Well_stress['flux']=Well_stress['flux']-1\n",
    "\n",
    "Well_stress=Well_stress.to_numpy()\n",
    "Well_stress = {0: Well_stress}\n",
    "print(Well_stress)\n",
    "\n",
    "# This seems to create dictionary without indeces, but does not run through well plotting routine.\n",
    "\n",
    "# Any suggestions?"
   ]
  },
  {
   "cell_type": "code",
   "execution_count": 32,
   "metadata": {},
   "outputs": [],
   "source": [
    "# Create flopy wel class \n",
    "# ModflowWel(model, ipakcb=None, stress_period_data=None, dtype=None, extension='wel', options=None, binary=False, unitnumber=None, filenames=None, add_package=True)\n",
    "\n",
    "wel = flopy.modflow.ModflowWel(m, ipakcb=None, stress_period_data=Well_stress, dtype=None, extension='wel', options=None, binary=False, unitnumber=None, filenames=None,)"
   ]
  },
  {
   "cell_type": "code",
   "execution_count": 33,
   "metadata": {},
   "outputs": [
    {
     "data": {
      "image/png": "[encoded data removed]",
      "text/plain": [
       "<Figure size 432x288 with 1 Axes>"
      ]
     },
     "metadata": {
      "needs_background": "light"
     },
     "output_type": "display_data"
    }
   ],
   "source": [
    "#CHECK WELL LOCATION\n",
    "#use flopy to plot grid, ibound, and wells\n",
    "modelmap = flopy.plot.PlotMapView(model=m, layer=0)\n",
    "# grid = modelmap.plot_grid()\n",
    "ib = modelmap.plot_ibound()\n",
    "wel = modelmap.plot_bc(ftype='WEL')\n",
    "#add labels and legend\n",
    "plt.xlabel('Lx (ft)',fontsize = 14)\n",
    "plt.ylabel('Ly (ft)',fontsize = 14)\n",
    "plt.title('Well and Boundary Conditions', fontsize = 15, fontweight = 'bold')\n",
    "plt.legend(handles=[mp.patches.Patch(color='red',label='Well',ec='black'),\n",
    "                   mp.patches.Patch(color='blue',label='Const Head',ec='black'),\n",
    "                   mp.patches.Patch(color='white',label='Active Cell',ec='black'),\n",
    "                   mp.patches.Patch(color='black',label='Inactive Cell',ec='black')],\n",
    "                   bbox_to_anchor=(1.5,1.0))\n",
    "plt.show(modelmap)"
   ]
  },
  {
   "cell_type": "markdown",
   "metadata": {
    "colab_type": "text",
    "id": "lN9NnaJp-tsW"
   },
   "source": [
    " <a name=\"V\"></a> \n",
    "## V. MODFLOW OC Package\n",
    "\n",
    "The OC package tells MODFLOW which attributes of the head and flow solutions should be printed and saved for each stress period during the model run. \n",
    "\n",
    "### Create Output Control Stress Period Data \n",
    "To designate what data to save, we create variable <strong> spd </strong> as a  dictionary of stress period data to be used as an argument for the flopy oc function. This takes the form: \n",
    "\n",
    "spd = {(stress period, time step): ['PRINT HEAD', 'PRINT BUDGET', 'SAVE HEAD', 'SAVE DRAWDOWN', 'SAVE IBOUND', 'SAVE BUDGET']} \n",
    "\n",
    "<strong> Note </strong> that the list of strings may be modified if you wish to only save some of the data. Here we will choose to record and save budget and head values for our steady-state model with a single stress period/time step as we specified in the 'dis' object."
   ]
  },
  {
   "cell_type": "code",
   "execution_count": 34,
   "metadata": {
    "colab": {
     "base_uri": "https://localhost:8080/",
     "height": 51
    },
    "colab_type": "code",
    "id": "ZhS76ZhR-tsW",
    "outputId": "d9d4519b-16d7-4d21-ca91-1985e547c3b4"
   },
   "outputs": [
    {
     "name": "stdout",
     "output_type": "stream",
     "text": [
      "oc stress period data: \n",
      " {(0, 0): ['print head', 'print budget', 'save head', 'save budget']}\n"
     ]
    }
   ],
   "source": [
    "#create oc stress period data. \n",
    "spd = {(0, 0): ['print head', 'print budget', 'save head', 'save budget']}\n",
    "\n",
    "print(\"oc stress period data: \\n\", spd)"
   ]
  },
  {
   "cell_type": "markdown",
   "metadata": {
    "colab_type": "text",
    "id": "csjXWIGa-tsY"
   },
   "source": [
    "### Define OC object\n",
    "We will use <strong>spd</strong> to make the 'oc' flopy object which will later be used to create the MODFLOW OC package."
   ]
  },
  {
   "cell_type": "code",
   "execution_count": 35,
   "metadata": {
    "colab": {},
    "colab_type": "code",
    "id": "bXAWNdCl-tsZ"
   },
   "outputs": [],
   "source": [
    "oc = flopy.modflow.ModflowOc(model=m, stress_period_data=spd, compact=True)"
   ]
  },
  {
   "cell_type": "markdown",
   "metadata": {
    "colab_type": "text",
    "collapsed": true,
    "id": "AkSlPEE0-tsc"
   },
   "source": [
    " <a name=\"VI\"></a> \n",
    "## VI. MODFLOW PCG Package\n",
    "\n",
    "Attaching the PCG Package to a MODFLOW model, tells MODFLOW to use the Preconditioned Conjugate Gradient Package to solve the finite difference equation. Seeing as this model is steady-state in a very simple domain, the PCG package should have little trouble solving the parabolic groundwater flow equation with its default settings. However, MODFLOW has numerous other solver packages (Newton-Raphson (NWT), Direct Solver (DE4), Strongly Implicit Procedure (SIP), etc) that may be applicable to other models. Additionally, you may want to tweak the solving criterion depending on your model. If you are interested in the nitty gritty of these methods, the MODFLOW-2005 manual is a good resource: https://pubs.usgs.gov/tm/2005/tm6A16/PDF/TM6A16.pdf. \n",
    "\n",
    "Additionally, MODFLOW online describes these solvers: https://water.usgs.gov/ogw/modflow/MODFLOW-2005-Guide/index.html?oc.htm\n",
    "\n",
    "And Flopy documents its communication with the PCG MODFLOW package:\n",
    "http://modflowpy.github.io/flopydoc/mfpcg.html\n"
   ]
  },
  {
   "cell_type": "markdown",
   "metadata": {
    "colab_type": "text",
    "id": "AhjNM62Q-tsc"
   },
   "source": [
    "### Define PCG object\n",
    "\n",
    "Here we will create the flopy pcg object which will be used to create the MODFLOW PCG package."
   ]
  },
  {
   "cell_type": "code",
   "execution_count": 36,
   "metadata": {
    "colab": {},
    "colab_type": "code",
    "id": "MiM8z4kP-tsd"
   },
   "outputs": [],
   "source": [
    "#pcg = flopy.modflow.ModflowPcg(model=m)\n",
    "pcg = flopy.modflow.ModflowPcg(model=m,mxiter=100,iter1=50,hclose=0.001,rclose=1,relax=0.98,damp=0.7)"
   ]
  },
  {
   "cell_type": "markdown",
   "metadata": {},
   "source": [
    "### Define LMT object\n",
    "Finally, we need to create a linkage package to allow the MODFLOW model to connect to a solute transport model"
   ]
  },
  {
   "cell_type": "code",
   "execution_count": 37,
   "metadata": {},
   "outputs": [],
   "source": [
    "lmt = flopy.modflow.ModflowLmt(m)\n"
   ]
  },
  {
   "cell_type": "markdown",
   "metadata": {
    "colab_type": "text",
    "id": "Bziadt8U-tsf"
   },
   "source": [
    " <a name=\"VII\"></a> \n",
    "## VII. Write MODFLOW Input Files\n",
    "\n",
    "Now that we have created all the flopy class instances for the packages we wish to attach to our model (dis, bas, lpf, oc, and pcg), we can use flopy to write the MODFLOW input files for our MODFLOW executable to read. This is done simply with:"
   ]
  },
  {
   "cell_type": "code",
   "execution_count": 38,
   "metadata": {
    "colab": {},
    "colab_type": "code",
    "id": "nRNxjocD-tsg"
   },
   "outputs": [],
   "source": [
    "#write MODFLOW input files\n",
    "m.write_input()"
   ]
  },
  {
   "cell_type": "markdown",
   "metadata": {
    "colab_type": "text",
    "id": "0xUnV9K_-tsi"
   },
   "source": [
    "Flopy should have created 6 new files in your working directory that look something like:\n",
    "\n",
    "<img src=\"https://i.imgur.com/AjODHeO.png\" title=\"modflow_files\" /></a>\n",
    "\n",
    "The file to pay attention to is the \"my_model.nam\" file. This file governs which packages will be attached to your MODFLOW file. Inside the name file it will list all the packages to be attached to your model as well as specify that BINARY DATA files that it will write as an output. (my_model.hds, my_model.cbc)\n",
    "\n",
    "<img src=\"https://i.imgur.com/8KOHV9T.png\" title=\"nam_file\" /></a>\n",
    "\n",
    "Another file to pay attention to, post run, is the LIST file. This will have additional information on how the packages are attached to your model as well as MODFLOW mass-balance budgets during the model run. "
   ]
  },
  {
   "cell_type": "markdown",
   "metadata": {
    "colab_type": "text",
    "id": "Mdj15LLe-tsj"
   },
   "source": [
    " <a name=\"VIII\"></a> \n",
    "## VIII. Run MODFLOW Model\n",
    "\n",
    "We can now run the MODFLOW model with the packages specified in the .nam file using the executable specified in the definition of our flopy model 'm':"
   ]
  },
  {
   "cell_type": "code",
   "execution_count": 39,
   "metadata": {
    "colab": {
     "base_uri": "https://localhost:8080/",
     "height": 341
    },
    "colab_type": "code",
    "id": "46RApn-U-tsk",
    "outputId": "76cea2e7-bc1f-48a6-8f27-038d56aaac4b"
   },
   "outputs": [
    {
     "name": "stdout",
     "output_type": "stream",
     "text": [
      "FloPy is using the following executable to run the model: .\\mf2005.EXE\n",
      "\n",
      "                                  MODFLOW-2005     \n",
      "    U.S. GEOLOGICAL SURVEY MODULAR FINITE-DIFFERENCE GROUND-WATER FLOW MODEL\n",
      "                             Version 1.12.00 2/3/2017                        \n",
      "\n",
      " Using NAME file: my_model.nam \n",
      " Run start date and time (yyyy/mm/dd hh:mm:ss): 2022/04/23 15:14:23\n",
      "\n",
      " Solving:  Stress period:     1    Time step:     1    Ground-Water Flow Eqn.\n",
      " Run end date and time (yyyy/mm/dd hh:mm:ss): 2022/04/23 15:14:42\n",
      " Elapsed run time: 18.525 Seconds\n",
      "\n",
      "  Normal termination of simulation\n"
     ]
    }
   ],
   "source": [
    "# Run the model\n",
    "success, mfoutput = m.run_model(pause=False, report=True)\n",
    "if not success:\n",
    "    raise Exception('MODFLOW did not terminate normally.')"
   ]
  },
  {
   "cell_type": "markdown",
   "metadata": {
    "colab_type": "text",
    "id": "w9Tz7FRB-tsn"
   },
   "source": [
    "If the run was successful, you should have seen a window reporting the run time data. "
   ]
  },
  {
   "cell_type": "markdown",
   "metadata": {
    "colab_type": "text",
    "id": "fycMgCk7-tsn"
   },
   "source": [
    " <a name=\"IX\"></a> \n",
    "## IX. Read Head/Flow Data\n",
    "\n",
    "We will now make use of flopy's binary file reader and plotting capabilities to read and display the model output."
   ]
  },
  {
   "cell_type": "markdown",
   "metadata": {
    "colab_type": "text",
    "id": "3BgOzzHT-tso"
   },
   "source": [
    "### Read Head Data\n",
    "\n",
    "Head data from the my_model.hds file will be stored as a flopy head object."
   ]
  },
  {
   "cell_type": "code",
   "execution_count": 40,
   "metadata": {
    "colab": {},
    "colab_type": "code",
    "id": "c6Xhze2B-tsp"
   },
   "outputs": [
    {
     "name": "stdout",
     "output_type": "stream",
     "text": [
      "flopy head object: \n",
      " <flopy.utils.binaryfile.HeadFile object at 0x000001A8898C3C40>\n"
     ]
    }
   ],
   "source": [
    "#extract binary data from head file as flopy head object\n",
    "headobj = flopy.utils.binaryfile.HeadFile(modelname+'.hds')\n",
    "\n",
    "print(\"flopy head object: \\n\", headobj)"
   ]
  },
  {
   "cell_type": "markdown",
   "metadata": {
    "colab_type": "text",
    "id": "FGcXE0-K-tss"
   },
   "source": [
    "This head object has different attributes that can be extracted from it such as the times used in the model run, head data, databytes and more. For information on how to access these functions see: http://modflowpy.github.io/flopydoc/binaryfile.html\n",
    "\n",
    "For this model, we will extract the head data after our single stress period (totim=1.0)."
   ]
  },
  {
   "cell_type": "code",
   "execution_count": 41,
   "metadata": {
    "colab": {},
    "colab_type": "code",
    "id": "Mm_sQnvB-tss"
   },
   "outputs": [],
   "source": [
    "#extract head data from head object\n",
    "head = headobj.get_data(totim=1.0)"
   ]
  },
  {
   "cell_type": "code",
   "execution_count": 42,
   "metadata": {
    "colab": {},
    "colab_type": "code",
    "id": "XWj475Qg-tsu"
   },
   "outputs": [
    {
     "data": {
      "text/plain": [
       "array([[[906.6669 , 906.68524, 906.7593 , ..., 766.20953, 766.1696 ,\n",
       "         766.1632 ],\n",
       "        [906.5763 , 906.60345, 906.68414, ..., 766.1923 , 766.16547,\n",
       "         766.1716 ],\n",
       "        [906.4463 , 906.4742 , 906.5487 , ..., 766.1438 , 766.11835,\n",
       "         766.1153 ],\n",
       "        ...,\n",
       "        [840.0367 , 839.9023 , 839.58167, ..., 761.1937 , 761.15594,\n",
       "         761.1476 ],\n",
       "        [840.7041 , 840.51746, 840.14923, ..., 761.32007, 761.263  ,\n",
       "         761.25366],\n",
       "        [841.0007 , 840.8102 , 840.44684, ..., 761.383  , 761.32623,\n",
       "         761.30585]],\n",
       "\n",
       "       [[906.66455, 906.6829 , 906.757  , ..., 766.1542 , 766.12146,\n",
       "         766.1035 ],\n",
       "        [906.57404, 906.60114, 906.6819 , ..., 766.1234 , 766.0954 ,\n",
       "         766.08203],\n",
       "        [906.444  , 906.47186, 906.54645, ..., 766.0718 , 766.04926,\n",
       "         766.0411 ],\n",
       "        ...,\n",
       "        [840.0344 , 839.9    , 839.5794 , ..., 761.179  , 761.1361 ,\n",
       "         761.1124 ],\n",
       "        [840.7019 , 840.51526, 840.147  , ..., 761.3102 , 761.2482 ,\n",
       "         761.21387],\n",
       "        [840.9984 , 840.8079 , 840.4446 , ..., 761.3705 , 761.3004 ,\n",
       "         761.265  ]],\n",
       "\n",
       "       [[906.6623 , 906.68066, 906.7547 , ..., 766.1282 , 766.0947 ,\n",
       "         766.06464],\n",
       "        [906.5717 , 906.5988 , 906.67957, ..., 766.0952 , 766.06396,\n",
       "         766.03827],\n",
       "        [906.44165, 906.46954, 906.5441 , ..., 766.0427 , 766.01874,\n",
       "         766.0036 ],\n",
       "        ...,\n",
       "        [840.0322 , 839.8979 , 839.5772 , ..., 761.0635 , 761.0155 ,\n",
       "         760.988  ],\n",
       "        [840.6997 , 840.51306, 840.1447 , ..., 761.1746 , 761.1145 ,\n",
       "         761.0793 ],\n",
       "        [840.9962 , 840.8057 , 840.4424 , ..., 761.2278 , 761.161  ,\n",
       "         761.12573]],\n",
       "\n",
       "       ...,\n",
       "\n",
       "       [[906.2582 , 906.22705, 906.27295, ..., 765.9665 , 765.9499 ,\n",
       "         765.9416 ],\n",
       "        [905.9964 , 906.0582 , 906.1567 , ..., 765.9278 , 765.9118 ,\n",
       "         765.91034],\n",
       "        [905.8644 , 905.916  , 906.00946, ..., 765.85455, 765.83813,\n",
       "         765.83356],\n",
       "        ...,\n",
       "        [839.9919 , 839.8546 , 839.52374, ..., 760.94147, 760.89264,\n",
       "         760.8672 ],\n",
       "        [840.651  , 840.46173, 840.08844, ..., 761.033  , 760.97845,\n",
       "         760.9501 ],\n",
       "        [840.9458 , 840.755  , 840.3887 , ..., 761.0798 , 761.0227 ,\n",
       "         760.9932 ]],\n",
       "\n",
       "       [[906.2578 , 906.22687, 906.27277, ..., 765.96643, 765.94977,\n",
       "         765.93945],\n",
       "        [905.99664, 906.05835, 906.1566 , ..., 765.92773, 765.91174,\n",
       "         765.91266],\n",
       "        [905.86444, 905.9161 , 906.00946, ..., 765.85443, 765.838  ,\n",
       "         765.83356],\n",
       "        ...,\n",
       "        [839.9915 , 839.8542 , 839.52344, ..., 760.93567, 760.88794,\n",
       "         760.8631 ],\n",
       "        [840.65063, 840.4614 , 840.0882 , ..., 761.0258 , 760.9734 ,\n",
       "         760.9459 ],\n",
       "        [840.9455 , 840.7547 , 840.38837, ..., 761.07294, 761.018  ,\n",
       "         760.9897 ]],\n",
       "\n",
       "       [[906.2578 , 906.22687, 906.27277, ..., 765.96643, 765.9497 ,\n",
       "         765.93945],\n",
       "        [905.99664, 906.05835, 906.1566 , ..., 765.92773, 765.91174,\n",
       "         765.91266],\n",
       "        [905.86444, 905.9161 , 906.00946, ..., 765.85443, 765.838  ,\n",
       "         765.8335 ],\n",
       "        ...,\n",
       "        [839.99133, 839.854  , 839.5233 , ..., 760.93567, 760.88794,\n",
       "         760.8631 ],\n",
       "        [840.65045, 840.46124, 840.0881 , ..., 761.0258 , 760.9734 ,\n",
       "         760.9459 ],\n",
       "        [840.9453 , 840.7546 , 840.38824, ..., 761.07294, 761.018  ,\n",
       "         760.9897 ]]], dtype=float32)"
      ]
     },
     "execution_count": 42,
     "metadata": {},
     "output_type": "execute_result"
    }
   ],
   "source": [
    "head"
   ]
  },
  {
   "cell_type": "markdown",
   "metadata": {
    "colab_type": "text",
    "id": "w2kzCLhs-tsw"
   },
   "source": [
    "### Read Flow Data\n",
    "\n",
    "Flopy's binary budget data reader will be used to read in the budget data from my_model.cbc as a flopy budget object. (See: http://modflowpy.github.io/flopydoc/binaryfile.html#flopy.utils.binaryfile.CellBudgetFile for more info)"
   ]
  },
  {
   "cell_type": "code",
   "execution_count": 43,
   "metadata": {
    "colab": {},
    "colab_type": "code",
    "id": "8Iwx6e7i-tsx"
   },
   "outputs": [
    {
     "name": "stdout",
     "output_type": "stream",
     "text": [
      "flopy budget object: \n",
      " <flopy.utils.binaryfile.CellBudgetFile object at 0x000001A8898C3280>\n"
     ]
    }
   ],
   "source": [
    "#extract binary data from budget file as flopy budget object\n",
    "budgobj = flopy.utils.binaryfile.CellBudgetFile(modelname+'.cbc')\n",
    "\n",
    "print(\"flopy budget object: \\n\", budgobj)"
   ]
  },
  {
   "cell_type": "markdown",
   "metadata": {
    "colab_type": "text",
    "id": "uKNDrYb_-tsz"
   },
   "source": [
    "We can now extract the data from this by passing a string in the CellBudgetFile function's \"text\" argument to call which part of the data we want to get. Here we will access the flow data for the right face  and front face of each grid cell and save the data as variables 'frf' and 'fff' which are output as arrays."
   ]
  },
  {
   "cell_type": "code",
   "execution_count": 44,
   "metadata": {
    "colab": {},
    "colab_type": "code",
    "id": "S99JbvlX-ts0"
   },
   "outputs": [
    {
     "name": "stdout",
     "output_type": "stream",
     "text": [
      "Flow through Right Face of Grid Cells m^3/d \n",
      " [array([[[-2.32263207e-02, -9.36081931e-02, -1.33303612e-01, ...,\n",
      "          2.37463593e+00,  3.78309637e-01,  0.00000000e+00],\n",
      "        [-3.43027152e-02, -1.02039017e-01, -1.28737211e-01, ...,\n",
      "          1.59710121e+00, -3.64405215e-01,  0.00000000e+00],\n",
      "        [-3.52540575e-02, -9.42546353e-02, -1.25919878e-01, ...,\n",
      "          1.51111960e+00,  1.81747645e-01,  0.00000000e+00],\n",
      "        ...,\n",
      "        [ 1.69878885e-01,  4.05313373e-01,  6.05030358e-01, ...,\n",
      "          2.24422097e+00,  4.98051822e-01,  0.00000000e+00],\n",
      "        [ 2.35942915e-01,  4.65549707e-01,  6.62479579e-01, ...,\n",
      "          3.39344311e+00,  5.54458082e-01,  0.00000000e+00],\n",
      "        [ 2.40800396e-01,  4.59349483e-01,  6.85661018e-01, ...,\n",
      "          3.37276578e+00,  1.21264184e+00,  0.00000000e+00]],\n",
      "\n",
      "       [[-2.32205503e-02, -9.36103910e-02, -1.33304238e-01, ...,\n",
      "          2.28277863e+02,  1.28880203e+02,  0.00000000e+00],\n",
      "        [-3.43004055e-02, -1.02044687e-01, -1.28734753e-01, ...,\n",
      "          2.66845032e+02,  1.44849152e+02,  0.00000000e+00],\n",
      "        [-3.52519564e-02, -9.42571610e-02, -1.25916749e-01, ...,\n",
      "          2.17905945e+02,  8.04991531e+01,  0.00000000e+00],\n",
      "        ...,\n",
      "        [ 1.69877470e-01,  4.05326664e-01,  6.05026245e-01, ...,\n",
      "          9.71376953e+01,  8.03147354e+01,  0.00000000e+00],\n",
      "        [ 2.35949799e-01,  4.65559393e-01,  6.62479222e-01, ...,\n",
      "          9.72656479e+01,  9.92119522e+01,  0.00000000e+00],\n",
      "        [ 2.40803450e-01,  4.59347576e-01,  6.85662150e-01, ...,\n",
      "          1.58176437e+02,  1.52549957e+02,  0.00000000e+00]],\n",
      "\n",
      "       [[-2.32090075e-02, -9.36148092e-02, -1.33305490e-01, ...,\n",
      "          4.23025638e-02,  3.79870199e-02,  0.00000000e+00],\n",
      "        [-3.42957862e-02, -1.02056034e-01, -1.28729850e-01, ...,\n",
      "          3.95319387e-02,  3.24626826e-02,  0.00000000e+00],\n",
      "        [-3.52477469e-02, -9.42621976e-02, -1.25910506e-01, ...,\n",
      "          3.03629786e-02,  1.91009603e-02,  0.00000000e+00],\n",
      "        ...,\n",
      "        [ 1.69873148e-01,  4.05354977e-01,  6.05018198e-01, ...,\n",
      "          2.51631594e+00,  1.47891963e+00,  0.00000000e+00],\n",
      "        [ 2.35963389e-01,  4.65578914e-01,  6.62478626e-01, ...,\n",
      "          3.49869895e+00,  2.07812810e+00,  0.00000000e+00],\n",
      "        [ 2.40809202e-01,  4.59344357e-01,  6.85662150e-01, ...,\n",
      "          4.09557819e+00,  2.22720599e+00,  0.00000000e+00]],\n",
      "\n",
      "       ...,\n",
      "\n",
      "       [[ 1.06573439e+00, -1.98063004e+00, -5.19404316e+00, ...,\n",
      "          5.88052630e-01,  2.47413561e-01,  0.00000000e+00],\n",
      "        [-2.19468808e+00, -4.37476587e+00, -6.43015528e+00, ...,\n",
      "          6.25887334e-01,  5.16573153e-02,  0.00000000e+00],\n",
      "        [-1.84562564e+00, -4.07882166e+00, -6.36144590e+00, ...,\n",
      "          7.04604387e-01,  1.74222186e-01,  0.00000000e+00],\n",
      "        ...,\n",
      "        [ 1.83584599e-03,  4.42408957e-03,  6.40942808e-03, ...,\n",
      "          2.90311551e+00,  1.51471782e+00,  0.00000000e+00],\n",
      "        [ 2.53063161e-03,  4.99179261e-03,  7.03560840e-03, ...,\n",
      "          3.24626708e+00,  1.68629539e+00,  0.00000000e+00],\n",
      "        [ 2.55120033e-03,  4.89892019e-03,  7.17175985e-03, ...,\n",
      "          3.39407849e+00,  1.75243747e+00,  0.00000000e+00]],\n",
      "\n",
      "       [[ 2.08881833e-02, -3.10027432e-02, -6.53995648e-02, ...,\n",
      "          2.17532068e-02,  2.66549364e-02,  0.00000000e+00],\n",
      "        [-4.16660011e-02, -6.63888976e-02, -7.90639296e-02, ...,\n",
      "          2.08415370e-02, -2.35496252e-03,  0.00000000e+00],\n",
      "        [-3.48609164e-02, -6.30535558e-02, -7.96321779e-02, ...,\n",
      "          2.14244742e-02,  5.82987349e-03,  0.00000000e+00],\n",
      "        ...,\n",
      "        [ 1.83600490e-03,  4.42285743e-03,  6.40978478e-03, ...,\n",
      "          1.71304214e+02,  7.77561111e+01,  0.00000000e+00],\n",
      "        [ 2.53015594e-03,  4.99110622e-03,  7.03553623e-03, ...,\n",
      "          1.90350357e+02,  8.34508743e+01,  0.00000000e+00],\n",
      "        [ 2.55105714e-03,  4.89893276e-03,  7.17205228e-03, ...,\n",
      "          1.75326050e+02,  7.59752350e+01,  0.00000000e+00]],\n",
      "\n",
      "       [[ 2.08809990e-02, -3.10036931e-02, -6.53997362e-02, ...,\n",
      "          2.17614342e-02,  1.33833475e-02,  0.00000000e+00],\n",
      "        [-4.16614152e-02, -6.63862005e-02, -7.90634230e-02, ...,\n",
      "          2.08420325e-02, -1.19728735e-03,  0.00000000e+00],\n",
      "        [-3.48606147e-02, -6.30526617e-02, -7.96318576e-02, ...,\n",
      "          2.14284491e-02,  5.83168166e-03,  0.00000000e+00],\n",
      "        ...,\n",
      "        [ 1.83608651e-03,  4.42224229e-03,  6.40996173e-03, ...,\n",
      "          6.38999918e-04,  3.31864314e-04,  0.00000000e+00],\n",
      "        [ 2.52991915e-03,  4.99076210e-03,  7.03549851e-03, ...,\n",
      "          7.01102603e-04,  3.66956607e-04,  0.00000000e+00],\n",
      "        [ 2.55098613e-03,  4.89893835e-03,  7.17219897e-03, ...,\n",
      "          7.34312867e-04,  3.79282807e-04,  0.00000000e+00]]],\n",
      "      dtype=float32)] \n",
      " Flow through Front Face of Grid Cells m^3/d \n",
      " [array([[[ 1.14485443e-01,  1.03409052e-01,  9.49782357e-02, ...,\n",
      "          1.02383757e+00,  2.46302798e-01, -4.96412098e-01],\n",
      "        [ 1.64384514e-01,  1.63433194e-01,  1.71217561e-01, ...,\n",
      "          2.88548803e+00,  2.79950643e+00,  3.34565926e+00],\n",
      "        [ 2.07587615e-01,  2.09152341e-01,  2.15062171e-01, ...,\n",
      "          5.41091967e+00,  4.96499348e+00,  5.60752106e+00],\n",
      "        ...,\n",
      "        [-8.43767405e-01, -7.77703345e-01, -7.17467010e-01, ...,\n",
      "         -7.51288128e+00, -6.36365843e+00, -6.30725241e+00],\n",
      "        [-3.74871403e-01, -3.70013893e-01, -3.76214147e-01, ...,\n",
      "         -3.74001813e+00, -3.76069570e+00, -3.10251188e+00],\n",
      "        [ 0.00000000e+00,  0.00000000e+00,  0.00000000e+00, ...,\n",
      "          0.00000000e+00,  0.00000000e+00,  0.00000000e+00]],\n",
      "\n",
      "       [[ 1.14492945e-01,  1.03413090e-01,  9.49788019e-02, ...,\n",
      "          2.58031067e+02,  2.01391983e+02,  2.11139389e+02],\n",
      "        [ 1.64385289e-01,  1.63433731e-01,  1.71221271e-01, ...,\n",
      "          5.00406372e+02,  4.38850311e+02,  4.60549225e+02],\n",
      "        [ 2.07590699e-01,  2.09154382e-01,  2.15063334e-01, ...,\n",
      "          7.45498474e+02,  6.92935669e+02,  6.45395325e+02],\n",
      "        ...,\n",
      "        [-8.43763053e-01, -7.77690649e-01, -7.17458010e-01, ...,\n",
      "         -2.05928436e+02, -2.53862885e+02, -5.09236298e+02],\n",
      "        [-3.74862522e-01, -3.70008856e-01, -3.76220673e-01, ...,\n",
      "         -8.83263397e+01, -1.31376831e+02, -2.82882202e+02],\n",
      "        [ 0.00000000e+00,  0.00000000e+00,  0.00000000e+00, ...,\n",
      "          0.00000000e+00,  0.00000000e+00,  0.00000000e+00]],\n",
      "\n",
      "       [[ 1.14507951e-01,  1.03421167e-01,  9.49799418e-02, ...,\n",
      "          4.16621156e-02,  3.88914905e-02,  3.33671533e-02],\n",
      "        [ 1.64386794e-01,  1.63434833e-01,  1.71228677e-01, ...,\n",
      "          6.63230568e-02,  5.71540929e-02,  4.37923670e-02],\n",
      "        [ 2.07596883e-01,  2.09158435e-01,  2.15065688e-01, ...,\n",
      "          9.78729576e-02,  9.55779552e-02,  8.53115171e-02],\n",
      "        ...,\n",
      "        [-8.43753994e-01, -7.77663767e-01, -7.17439830e-01, ...,\n",
      "         -6.09184980e+00, -5.50194168e+00, -5.19428349e+00],\n",
      "        [-3.74844849e-01, -3.69999051e-01, -3.76233578e-01, ...,\n",
      "         -3.15913844e+00, -2.79184151e+00, -2.88079381e+00],\n",
      "        [ 0.00000000e+00,  0.00000000e+00,  0.00000000e+00, ...,\n",
      "          0.00000000e+00,  0.00000000e+00,  0.00000000e+00]],\n",
      "\n",
      "       ...,\n",
      "\n",
      "       [[ 8.10568905e+00,  6.72054720e+00,  5.65733719e+00, ...,\n",
      "          1.48814547e+00,  1.36683071e+00,  9.17141259e-01],\n",
      "        [ 4.25272083e+00,  5.66108656e+00,  7.25886583e+00, ...,\n",
      "          3.13687754e+00,  2.88843536e+00,  2.61816669e+00],\n",
      "        [ 4.87806225e+00,  6.15503645e+00,  8.15491199e+00, ...,\n",
      "          5.39381075e+00,  4.89784670e+00,  4.22622061e+00],\n",
      "        ...,\n",
      "        [-8.81370716e-03, -8.11892189e-03, -7.55121838e-03, ...,\n",
      "         -5.44350100e+00, -5.10034895e+00, -4.92877150e+00],\n",
      "        [-3.94234620e-03, -3.92177748e-03, -4.01464989e-03, ...,\n",
      "         -2.77839160e+00, -2.63058043e+00, -2.56443858e+00],\n",
      "        [ 0.00000000e+00,  0.00000000e+00,  0.00000000e+00, ...,\n",
      "          0.00000000e+00,  0.00000000e+00,  0.00000000e+00]],\n",
      "\n",
      "       [[ 1.76381752e-01,  1.13827556e-01,  7.84414113e-02, ...,\n",
      "          5.04416823e-02,  4.95300069e-02,  2.54813457e+00],\n",
      "        [ 8.92724171e-02,  9.60774943e-02,  9.94128361e-02, ...,\n",
      "          9.55597758e-02,  9.61427167e-02,  2.01923490e-01],\n",
      "        [ 1.00242019e-01,  1.06079578e-01,  1.14716232e-01, ...,\n",
      "          1.54176861e-01,  1.56967327e-01,  1.57376498e-01],\n",
      "        ...,\n",
      "        [-8.81418679e-03, -8.12003482e-03, -7.55178649e-03, ...,\n",
      "         -3.50676758e+02, -2.87288666e+02, -2.36275253e+02],\n",
      "        [-3.94292595e-03, -3.92202428e-03, -4.01419820e-03, ...,\n",
      "         -1.74289307e+02, -1.40409744e+02, -1.13902626e+02],\n",
      "        [ 0.00000000e+00,  0.00000000e+00,  0.00000000e+00, ...,\n",
      "          0.00000000e+00,  0.00000000e+00,  0.00000000e+00]],\n",
      "\n",
      "       [[ 1.76364437e-01,  1.13822013e-01,  7.84395114e-02, ...,\n",
      "          5.04399091e-02,  4.95205075e-02,  3.49398702e-02],\n",
      "        [ 8.92779827e-02,  9.60787833e-02,  9.94123295e-02, ...,\n",
      "          9.55682173e-02,  9.61546227e-02,  1.03183597e-01],\n",
      "        [ 1.00242436e-01,  1.06079854e-01,  1.14715964e-01, ...,\n",
      "          1.54289350e-01,  1.57094866e-01,  1.57507688e-01],\n",
      "        ...,\n",
      "        [-8.81442521e-03, -8.12059361e-03, -7.55207287e-03, ...,\n",
      "         -1.20484398e-03, -1.14274130e-03, -1.10764906e-03],\n",
      "        [-3.94321652e-03, -3.92214954e-03, -4.01397282e-03, ...,\n",
      "         -6.30501367e-04, -5.97291160e-04, -5.84964990e-04],\n",
      "        [ 0.00000000e+00,  0.00000000e+00,  0.00000000e+00, ...,\n",
      "          0.00000000e+00,  0.00000000e+00,  0.00000000e+00]]],\n",
      "      dtype=float32)]\n"
     ]
    }
   ],
   "source": [
    "frf = budgobj.get_data(text='flow right face', totim=1.0)\n",
    "fff = budgobj.get_data(text='flow front face', totim=1.0)\n",
    "\n",
    "print(\"Flow through Right Face of Grid Cells m^3/d \\n\", frf,\n",
    "     \"\\n Flow through Front Face of Grid Cells m^3/d \\n\", fff)"
   ]
  },
  {
   "cell_type": "markdown",
   "metadata": {
    "colab_type": "text",
    "id": "88VU5HnG-ts2"
   },
   "source": [
    "Here, it is good to check if results seem reasonable; for this steady-state model, it makes sense that  we see a constant value in the \"Flow Right Face\" output array as the higher head on the left side of the model induces flow from left to right. The \"Flow Front Face\" array, has very small positive and negative values in it, suggesting that there are potential numerical oscillations in our solution. However, these fluctuations are so small that the output may still be appropriate depending on the application/precision we are looking for. \n",
    "\n",
    "It is good to look for numerical nuances in modeling practice, but the data is much easier to visualize by plotting with flopy's plotting cababilities. "
   ]
  },
  {
   "cell_type": "markdown",
   "metadata": {
    "colab_type": "text",
    "id": "_njupWDf-ts3"
   },
   "source": [
    " <a name=\"X\"></a> \n",
    "## X. Plotting"
   ]
  },
  {
   "cell_type": "code",
   "execution_count": 45,
   "metadata": {
    "colab": {},
    "colab_type": "code",
    "id": "O3iu7UM_-ts4"
   },
   "outputs": [
    {
     "data": {
      "image/png": "[encoded data removed]",
      "text/plain": [
       "<Figure size 720x720 with 2 Axes>"
      ]
     },
     "metadata": {
      "needs_background": "light"
     },
     "output_type": "display_data"
    }
   ],
   "source": [
    "#plot results\n",
    "plt.figure(figsize=(10,10)) #create 10 x 10 figure\n",
    "modelmap = flopy.plot.map.PlotMapView(model=m, layer=8) #use modelmap to attach plot to model\n",
    "#grid = modelmap.plot_grid() #plot model grid\n",
    "riv_plot = modelmap.plot_bc(ftype='RIV')\n",
    "\n",
    "contour_levels = np.linspace(head[8].min(),head[8].max(),11) #set contour levels for contouring head\n",
    "head_contours = modelmap.contour_array(head, levels=contour_levels) #create head contours\n",
    "#flows = modelmap.plot_discharge(frf[0], fff[0], head=head) #create discharge arrows\n",
    "\n",
    "#display parameters\n",
    "plt.xlabel('Lx (m)',fontsize = 14)\n",
    "plt.ylabel('Ly (m)',fontsize = 14)\n",
    "plt.title('Steady-State Model, Flow(m^3/d) and Head(m) Results', fontsize = 15, fontweight = 'bold')\n",
    "plt.colorbar(head_contours,aspect=5)\n",
    "plt.show(modelmap)"
   ]
  },
  {
   "cell_type": "markdown",
   "metadata": {
    "colab_type": "text",
    "id": "-ShG7QiT-ts7"
   },
   "source": [
    "### 3D Surface Plot \n",
    "\n",
    "<strong> Note: </strong> This is not part of flopy's plotting, and uses a matplotlib function from a 3d projection toolkit. Flopy takes cell indexing where the top left of the grid is the (0,0) cell index while the Length & Width units start at 0 in the lower left of the grid. This seems a little wierd, but it makes it easy to match up an array of cell by cell numbers to their respective locations on the grid when assigning properties or observing output data. Flopy's plotting functions automatically flip the resultant head data to display on its proper grid, however, for the 3d plots below, you'll see the function np.flipud() is used to flip the data array to plot in the same direction."
   ]
  },
  {
   "cell_type": "code",
   "execution_count": 46,
   "metadata": {
    "colab": {},
    "colab_type": "code",
    "id": "JtuQ2kTL-ts7",
    "scrolled": true
   },
   "outputs": [
    {
     "name": "stderr",
     "output_type": "stream",
     "text": [
      "C:\\Users\\Owner\\AppData\\Local\\Temp/ipykernel_7940/2748869716.py:6: MatplotlibDeprecationWarning: Calling gca() with keyword arguments was deprecated in Matplotlib 3.4. Starting two minor releases later, gca() will take no keyword arguments. The gca() function should only be used to get the current axes, or if no axes exist, create new axes with default keyword arguments. To create a new axes with non-default arguments, use plt.axes() or plt.subplot().\n",
      "  ax = fig_3d.gca(projection='3d')\n"
     ]
    },
    {
     "data": {
      "image/png": "[encoded data removed]",
      "text/plain": [
       "<Figure size 864x360 with 2 Axes>"
      ]
     },
     "metadata": {
      "needs_background": "light"
     },
     "output_type": "display_data"
    }
   ],
   "source": [
    "#import 3d axes toolkit from matplotlib\n",
    "from mpl_toolkits.mplot3d import Axes3D\n",
    "\n",
    "#create 3d figure\n",
    "fig_3d = plt.figure(figsize=(12,5))\n",
    "ax = fig_3d.gca(projection='3d')\n",
    "\n",
    "#set X, Y, Z variables for 3d plot to be our model domain and head solution\n",
    "X = np.arange(0,Lx,dx)\n",
    "Y = np.arange(0,Ly,dy)\n",
    "X, Y = np.meshgrid(X, Y)\n",
    "Z = np.flipud(head[8])\n",
    "\n",
    "#create surface and labels\n",
    "surf = ax.plot_surface(X,Y,Z, cmap = 'viridis', linewidth=0, label='head')\n",
    "fig_3d.colorbar(surf,shrink=0.5,aspect=5).set_label('Head (m)',fontsize=10,fontweight='bold')\n",
    "ax.set_xlabel('Lx (m)', fontsize=15, fontweight='bold')\n",
    "ax.set_ylabel('Ly (m)', fontsize=15, fontweight='bold')\n",
    "ax.set_title('Steady-State Model Head Profile', fontsize=15, fontweight='bold')\n",
    "plt.show(surf)"
   ]
  },
  {
   "cell_type": "markdown",
   "metadata": {},
   "source": [
    " <a name=\"XI\"></a> \n",
    " ## XI. Calibration\n",
    "\n",
    "Now let's import observed heads into a dataframe and compare to observed heads."
   ]
  },
  {
   "cell_type": "code",
   "execution_count": 47,
   "metadata": {},
   "outputs": [
    {
     "name": "stdout",
     "output_type": "stream",
     "text": [
      "Mean Error is 4.373589651925223 feet\n",
      "Absolute Mean Error is 12.174344744001116 feet\n"
     ]
    },
    {
     "data": {
      "image/png": "[encoded data removed]",
      "text/plain": [
       "<Figure size 360x360 with 1 Axes>"
      ]
     },
     "metadata": {
      "needs_background": "light"
     },
     "output_type": "display_data"
    }
   ],
   "source": [
    "# read ob heads\n",
    "calheads = pd.read_csv('obheads.csv')\n",
    "# convert row, column, layer into Python indexing\n",
    "calheads['row'] = calheads['row']-1\n",
    "calheads['column'] = calheads['column']-1\n",
    "calheads['layer'] = calheads['layer']-1\n",
    "#create an empty list to append simulated heads \n",
    "simheads = []\n",
    "# iterate over the observed heads, pull the corresponding simulated head\n",
    "for index, values in calheads.iterrows():\n",
    "    simheads.append(head[values['layer'],values['row'],values['column']])\n",
    "# add simulated heads to the dataframe              \n",
    "calheads['sim'] = pd.Series(simheads)\n",
    "#print(calheads)\n",
    "\n",
    "#here we can investigate different layers\n",
    "calheads = calheads[calheads['layer'] >= 5]\n",
    "\n",
    "# plot simulated vs observed heads\n",
    "f = plt.figure()\n",
    "f.set_figwidth(5)\n",
    "f.set_figheight(5)\n",
    "plt.scatter(calheads['obhead'],calheads['sim'])\n",
    "plt.grid(color='gray', linestyle='--', linewidth=0.5)\n",
    "plt.xlim(700, 1000)\n",
    "plt.ylim(700, 1000)\n",
    "plt.xlabel('Observed Head (ft)')\n",
    "plt.ylabel('Simulated Head (ft)')\n",
    "plt.title('Calibration')\n",
    "\n",
    "# calculate some basic statistics\n",
    "\n",
    "# 1. Mean Error\n",
    "calheads['ME'] = calheads['obhead']-calheads['sim']\n",
    "print('Mean Error is ' + str(calheads['ME'].mean()) + ' feet')\n",
    "\n",
    "# 2. Absolute Mean Error\n",
    "calheads['AME'] = calheads['ME'].abs()\n",
    "print('Absolute Mean Error is ' + str(calheads['AME'].mean())+ ' feet')\n"
   ]
  },
  {
   "cell_type": "markdown",
   "metadata": {},
   "source": [
    "## Calibration results\n",
    "\n",
    "It is important to keep track of changes you have made and how those changes impacted calibration.\n",
    "\n",
    "- high k recharge 0.001; low k recharge 0.0001 - ME 9, AME 15\n",
    "- high k recharge 0.002; low k recharge 0.001 - ME -3, AME 17\n",
    "- high k recharge 0.001; low k recharge 0.001 - ME 5, AME 15\n",
    "- double hydraulic conductivity - ME 12 , AME 17\n",
    "- halve hydraulic conductivity - ME -1 , AME 16\n",
    "\n",
    "-cal so far done for all layers\n",
    "Try Hydraulic conductivity = 0.75X  ME= 2.3 AME=15.7\n",
    "Try Hydraulic conductivity = 0.25X  ME= -6.6 AME-18.2\n",
    "OK, hyd cond OK at 0.5x.\n",
    "\n",
    "Try Vert Hydraulic conductivity = 0.50x  ME= -2.2 AME=16.9\n",
    "Try Vert Hydraulic conductivity = 0.25x  ME= -3.2 AME=17.6 Walking away\n",
    "Try Vert Hydraulic conductivity = 0.75x  ME= -1.4 AME=16.7 (use this)\n",
    "\n",
    "simulated samples getting high, cut back a bit on low recharge =0.0005, ME= -0.6 AME=15.6\n",
    "simulated samples getting high, cut back a bit on recharge =0.0002, ME= -2.2 AME=15.2\n",
    "simulated samples getting high, cut back a bit on recharge =0.0001, ME= -2.9 AME=15.2\n",
    "Will use low recharge=0.0002\n",
    "\n",
    "simulated samples getting high, cut back a bit on high recharge =0.00075, ME= 5.4 AME=15.0\n",
    "simulated samples getting high, cut back a bit on high recharge =0.0005, ME= 9.3 AME=15.6\n",
    "Will ise 0.001\n",
    "\n",
    "Select layers\n",
    "Layers >= 2, ME=-0.5,  AME=14.6\n",
    "Layers >= 4, ME=-1.9,  AME=14.3\n",
    "\n",
    "Now simulated heads look too high, cut back on recharge\n",
    "Low=0.0001, High =0.00075, ME=2.5 AME=13.8\n",
    "Low=0.000075, High =0.0005, ME=7.2 AME=14.4\n",
    "\n",
    "Lastly, Lets try 5 layers ME=4.4   AME=12.2  -I like this"
   ]
  },
  {
   "cell_type": "code",
   "execution_count": 48,
   "metadata": {},
   "outputs": [
    {
     "ename": "NameError",
     "evalue": "name 'end' is not defined",
     "output_type": "error",
     "traceback": [
      "\u001b[1;31m---------------------------------------------------------------------------\u001b[0m",
      "\u001b[1;31mNameError\u001b[0m                                 Traceback (most recent call last)",
      "\u001b[1;32m~\\AppData\\Local\\Temp/ipykernel_7940/2685661624.py\u001b[0m in \u001b[0;36m<module>\u001b[1;34m\u001b[0m\n\u001b[1;32m----> 1\u001b[1;33m \u001b[0mend\u001b[0m\u001b[1;33m\u001b[0m\u001b[1;33m\u001b[0m\u001b[0m\n\u001b[0m",
      "\u001b[1;31mNameError\u001b[0m: name 'end' is not defined"
     ]
    }
   ],
   "source": [
    "end"
   ]
  },
  {
   "cell_type": "markdown",
   "metadata": {},
   "source": [
    " <a name=\"XII\"></a> \n",
    " ## XII. MT3DMS\n",
    " \n",
    "In the following code block, we develop run the solute transport modeling code MT3DMS (https://hydro.geo.ua.edu/mt3d/mt3dms2.htm). The packages are discussed in the FloPy documentation here: https://flopy.readthedocs.io/en/3.3.5/code.html. Let's walk through the process of building MT3DMS step-by-step."
   ]
  },
  {
   "cell_type": "markdown",
   "metadata": {},
   "source": [
    "First, Let's assign a name for our solute transport model and associated packages. Often, this is the same name as the MODFLOW model, but with *_mt* added at the end"
   ]
  },
  {
   "cell_type": "code",
   "execution_count": null,
   "metadata": {},
   "outputs": [],
   "source": [
    "modelname = \"my_model_mt\""
   ]
  },
  {
   "cell_type": "markdown",
   "metadata": {},
   "source": [
    "Next, let's create something that represents our MT3DMS model. In the following code, we assign the name of our MT3DMS model, the executable that we are going to use (it is located in the directory of this ipynb file on GitHub and should be automatically recognized by the code), and the name of the MODFLOW file that will serve the base of this solute transport solution. MT3DMS will actually take the flow simulation from MODFLOW and allow the addition/reaction of contaminants."
   ]
  },
  {
   "cell_type": "code",
   "execution_count": null,
   "metadata": {},
   "outputs": [],
   "source": [
    "mt = flopy.mt3d.Mt3dms(modelname=modelname,exe_name='MT3DMS',modflowmodel=m)\n"
   ]
  },
  {
   "cell_type": "markdown",
   "metadata": {},
   "source": [
    "Before moving on, let's do a quick exploration of what kind of file mt is (take a moment to run the code cell below). This is.... a *flopy.mt3d.mt.Mt3dms* data type? We haven't talked about this before, but we are actually now working with object oriented coding. Technically, the above code is not a function, but instead a class definition. When we run the code, we create an instance of this class (I call these instances \"objects\"). More details on this can be found at: https://docs.python.org/3/tutorial/classes.html. For this project, we don't need to concern ourselves with the precise definitions, but I did want to just give you a brief overview because this is so different than what we worked with earlier in the semester."
   ]
  },
  {
   "cell_type": "code",
   "execution_count": null,
   "metadata": {},
   "outputs": [],
   "source": [
    "type(mt)"
   ]
  },
  {
   "cell_type": "markdown",
   "metadata": {},
   "source": [
    "Now, it's time to create another object. This time, we are going to use the Block Transport package class (https://flopy.readthedocs.io/en/3.3.5/source/flopy.mt3d.mtbtn.html). This code defines both model properties and time discretization for the flow solution. In the following code block, we assign the model as *mt*, which is the MT3DMS object that we defined above. We are then adding details by assigning a porosity of 0.3 (this is a value that you may consider changing during calibration). *perlen* defines how long the simulation runs. In our case, we are running from 1950 to 2020, so for 70 years. This is because national road salt applications were estimated to begin in 1950 and are still applied through today. You may consider adjusting the start date of the simulation during your calibration process, although think about whether this is realistic and why you might need to do this. *timeprs* defines which times will be printed (this saves on memory to ensure that the simulated results are not saved for every time step. *dt0* defines the length of time that the simulation will run in the first MT3D time step. *ttsmult* defines a multiplier applied to a time step, and *ttsmax* defines the maximum value of your time step. Feel free to explore how different values change your solution, but be careful, adding too many stress periods can create long run-times.  "
   ]
  },
  {
   "cell_type": "code",
   "execution_count": null,
   "metadata": {},
   "outputs": [],
   "source": [
    "# reminder, all time units in the model must be in days\n",
    "btn = flopy.mt3d.Mt3dBtn(\n",
    "    model=mt,\n",
    "    prsity=0.3,\n",
    "    perlen=70*365, # simulation runs for 70 years\n",
    "    timprs=[10 * 365, 20*365, 30*365, 40*365, 50 * 365, 60*365, 70 * 365], # times that will be printed in 10 year intervals\n",
    "    dt0=365, # the first MTD time step will run for 365 days\n",
    "    ttsmult=1, # often a multipler is applied to each time step; we are not going to do that here, meaning that each time step will be for 365 days\n",
    "    ttsmax=365, # if we applied a multipler, this would set the max value of a time step\n",
    ")"
   ]
  },
  {
   "cell_type": "markdown",
   "metadata": {},
   "source": [
    "Next, we are going to create advection and dispersion objects. I am settling for defaults on these with one exception; I set *mixelm* to 0, which just changes the solution approach (this allows for a smoother, more rapid solution in our example). "
   ]
  },
  {
   "cell_type": "code",
   "execution_count": null,
   "metadata": {},
   "outputs": [],
   "source": [
    "adv = flopy.mt3d.Mt3dAdv(mt,mixelm=0)\n",
    "dsp = flopy.mt3d.Mt3dDsp(mt)"
   ]
  },
  {
   "cell_type": "markdown",
   "metadata": {},
   "source": [
    "How are we going to add chloride into our model? For this, we need to define the \"source and sink mixing class\". Most importantly, this is how we are going to add chloride input into our model via recharge. You are going to experiment with this, but briefly, \"crch\" requires an array of chloride concentrations in recharge. Here we assign a ubiquitous 100 mg/L. Your task will be to add something more realistic based on road networks.  "
   ]
  },
  {
   "cell_type": "code",
   "execution_count": null,
   "metadata": {},
   "outputs": [],
   "source": [
    "crch1 = 100*np.ones((nrow, ncol), dtype=float) # concentration in the recharge\n",
    "ssm = flopy.mt3d.Mt3dSsm(mt, crch=crch1)"
   ]
  },
  {
   "cell_type": "markdown",
   "metadata": {},
   "source": [
    "The rest of this code defines the solver settings with GCG package (let's use defaults), writes the model runs, runs those files, and saves the chloride as an object from the binary \"ucn\" package. From this object, we can extract the times and concentration arrays associated with this data."
   ]
  },
  {
   "cell_type": "code",
   "execution_count": null,
   "metadata": {
    "scrolled": true
   },
   "outputs": [],
   "source": [
    "\n",
    "gcg = flopy.mt3d.Mt3dGcg(mt)\n",
    "mt.write_input()\n",
    "mt.run_model()\n",
    "fname = \"MT3D001.UCN\"\n",
    "ucnobj = flopy.utils.UcnFile(fname)\n",
    "times = ucnobj.get_times()\n",
    "conc = ucnobj.get_alldata()\n"
   ]
  },
  {
   "cell_type": "markdown",
   "metadata": {},
   "source": [
    "Our concentration data is a 4D array. The first array is the time dimension and has seven entries for the example problem (this may change as your code evolves). The entries are the times that are specified when defining the btn class. The remaining entries are layer, row, and column, respectively."
   ]
  },
  {
   "cell_type": "code",
   "execution_count": null,
   "metadata": {},
   "outputs": [],
   "source": [
    "times"
   ]
  },
  {
   "cell_type": "code",
   "execution_count": null,
   "metadata": {},
   "outputs": [],
   "source": [
    "#start of simulation, 10 years, 50 years, 70 year\n",
    "np.shape(conc)"
   ]
  },
  {
   "cell_type": "markdown",
   "metadata": {},
   "source": [
    "Finally, we plot the chloride for the specified time and layer. In the below example, we plot \"conc[3,8,:,:]\", which is the concentration at 40 years, in Layer 9 (8 with Python indexing) which represents the basal sands overlying the bedrock, all rows and columns."
   ]
  },
  {
   "cell_type": "code",
   "execution_count": null,
   "metadata": {},
   "outputs": [],
   "source": [
    "t_map = 3\n",
    "plt.figure()\n",
    "sns.heatmap(conc[t_map,8,:,:], cmap = 'Reds')\n",
    "plt.xlabel(\"DISTANCE ALONG X-AXIS, IN FEET\")\n",
    "plt.ylabel(\"DISTANCE ALONG Y-AXIS, IN FEET\")\n",
    "plt.title(str(int(times[t_map]/365))+ \" years, Glasford aquifer\")\n"
   ]
  },
  {
   "cell_type": "code",
   "execution_count": null,
   "metadata": {},
   "outputs": [],
   "source": []
  }
 ],
 "metadata": {
  "colab": {
   "name": "Flopy Tutorial 1- Steady-State, Confined Aquifer.ipynb",
   "provenance": [],
   "toc_visible": true
  },
  "kernelspec": {
   "display_name": "Python 3 (ipykernel)",
   "language": "python",
   "name": "python3"
  },
  "language_info": {
   "codemirror_mode": {
    "name": "ipython",
    "version": 3
   },
   "file_extension": ".py",
   "mimetype": "text/x-python",
   "name": "python",
   "nbconvert_exporter": "python",
   "pygments_lexer": "ipython3",
   "version": "3.9.7"
  }
 },
 "nbformat": 4,
 "nbformat_minor": 1
}
