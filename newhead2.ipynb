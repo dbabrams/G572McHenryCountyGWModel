{
 "cells": [
  {
   "cell_type": "markdown",
   "metadata": {
    "colab_type": "text",
    "id": "aGqCJ4Bi-tqz"
   },
   "source": [
    "# FloPy McHenry Final Project 4/20"
   ]
  },
  {
   "cell_type": "markdown",
   "metadata": {},
   "source": [
    "https://flopy.readthedocs.io/en/3.3.5/code.html"
   ]
  },
  {
   "cell_type": "markdown",
   "metadata": {
    "colab_type": "text",
    "id": "e-P6TXXqJU05"
   },
   "source": [
    "# Introduction\n",
    "Flopy is a python package, developed to create and run MODFLOW groundwater flow models. The schematic below, illustrates how Flopy communicates with MODFLOW:\n",
    "\n",
    "<img src=\"https://i.imgur.com/n2Dj6QF.png\" title=\"Flopy to MODFLOW Flow Chart\" /></a>\n",
    "\n",
    "* <strong> <font size = 5> 1 </font> </strong> Aquifer properties are collected or estimated from some aquifer system, including dimensions, elevations, hydraulic conductivity, specific storage/yield and location/properties of wells, rivers, lakes or other hydrologic features. \n",
    "\n",
    "* <strong> <font size = 5> 2 </font> </strong> A model is created in a python script using the Flopy package to set up the different Packages MODFLOW uses to run its groundwater flow models, (DIS, BAS, LPF, RIV, WEL, ETC...), as python object. \n",
    "\n",
    "* <strong> <font size = 5> 3 </font> </strong> Flopy is called to write the MODFLOW input files from these objects. \n",
    "\n",
    "* <strong> <font size = 5> 4 </font> </strong> A Flopy function sends the files to a specified MODFLOW executable program that will be used to solve the groundwater flow model. \n",
    "\n",
    "* <strong> <font size = 5> 5 </font> </strong> The MODFLOW executable program outputs binary data into head and budget files. \n",
    "\n",
    "* <strong> <font size = 5> 6 </font> </strong> Flopy reads in binary head and budget data from the MODFLOW output files.\n",
    "\n",
    "* <strong> <font size = 5> 7 </font> </strong> Data is visualized using Flopy's plotting capabilities.        \n",
    "\n",
    "\n",
    "## Contents of script:\n",
    "\n",
    "* <strong><a href=\"#I\">I: Model Object</a></strong>\n",
    "\n",
    "\n",
    "#### Creating MODFLOW Packages in Flopy:\n",
    "* <strong><a href=\"#II\">II: DIS Package</a> </strong> \n",
    "    <ul>\n",
    "      <li> Discretizing time & space and setting up the MODFLOW DIS file.</li>  \n",
    "        </ul>\n",
    "    \n",
    "* <strong><a href=\"#III\">III: BAS Package</a> </strong>\n",
    "    <ul>\n",
    "      <li> Specifying cell activity and setting up the MODFLOW BAS file.</li>  \n",
    "        </ul>\n",
    "* <strong><a href=\"#IV\">IV: LPF Package</a> </strong>\n",
    "    <ul>\n",
    "      <li> Defining model properties and setting up the MODFLOW LPF file.</li>  \n",
    "        </ul>\n",
    "\n",
    "* <strong><a href=\"#V\">V: OC Package</a> </strong>\n",
    "    <ul>\n",
    "      <li> Specifying the data that the MODFLOW executable will record as output during the model run and setting up the MODFLOW OC package.</li>  \n",
    "        </ul>\n",
    "\n",
    "* <strong><a href=\"#VI\">VI: PCG Package</a> </strong>\n",
    "    <ul>\n",
    "      <li> Assigning the pre-conditioned conjugate gradient solver to the groundwater flow model by setting up the MODFLOW PCG package.</li>  \n",
    "        </ul>\n",
    "\n",
    "#### Writing Files and Running Model:\n",
    "\n",
    "* <strong><a href=\"#VII\">VII: Write MODFLOW Input Files</a> </strong>\n",
    "* <strong><a href=\"#VIII\">VIII: Run MODFLOW executable</a> </strong>\n",
    "\n",
    "#### Post Processing:\n",
    "* <strong><a href=\"#IX\">IX: Read MODFLOW output</a> </strong>\n",
    "* <strong><a href=\"#X\">X: Plot Results</a> </strong>\n",
    "* <strong><a href=\"#XI\">XI: Calibration</a> </strong>\n",
    "* <strong><a href=\"#XII\">XII: MT3DMS</a> </strong>\n",
    "    </li>\n",
    "<ol>\n",
    "\n"
   ]
  },
  {
   "cell_type": "markdown",
   "metadata": {
    "colab_type": "text",
    "id": "Ebx4wqUE-tq4"
   },
   "source": [
    "- First we will import the appropriate packages to run a modflow model in python and display the data"
   ]
  },
  {
   "cell_type": "code",
   "execution_count": 1,
   "metadata": {
    "colab": {
     "base_uri": "https://localhost:8080/",
     "height": 34
    },
    "colab_type": "code",
    "id": "UmQLU45S-tq5",
    "outputId": "8dc0b30f-cd0c-41f0-cf90-8777d8557b0b"
   },
   "outputs": [],
   "source": [
    "import flopy # if you get an error importing flopy, then install using: pip install flopy\n",
    "import numpy as np\n",
    "import matplotlib.pyplot as plt\n",
    "import matplotlib as mp\n",
    "import pandas as pd\n",
    "import seaborn as sns\n",
    "\n",
    "from simpledbf import Dbf5\n",
    "\n",
    "\n",
    "#jupyter specific--included to show plots in notebook\n",
    "%matplotlib inline "
   ]
  },
  {
   "cell_type": "markdown",
   "metadata": {
    "colab_type": "text",
    "id": "TYsgVFMC-tq9"
   },
   "source": [
    " <a name=\"I\"></a> \n",
    " ## I. Create Model Object\n",
    "\n",
    "- We define a Modflow model object using the following flopy function. The arguments are telling the 'model' what the modelname is and where the MODFLOW .exe file is to use to run the model on your computer. <strong> You will have to modify the exe_name variable to direct flopy to the modflow executable file on your computer!</strong> Note that the default model workspace is the location of your python notebook, so all MODFLOW files will be created there, but you may specify a different workspace if you'd like the files to be created somewhere else. (See: https://flopy.readthedocs.io/en/3.3.5/code.html for more options)"
   ]
  },
  {
   "cell_type": "code",
   "execution_count": 2,
   "metadata": {
    "colab": {},
    "colab_type": "code",
    "id": "RhU9t5Vg-tq9"
   },
   "outputs": [],
   "source": [
    "modelname = \"my_model\"\n",
    "m = flopy.modflow.Modflow(modelname, exe_name = 'mf2005')"
   ]
  },
  {
   "cell_type": "code",
   "execution_count": 3,
   "metadata": {},
   "outputs": [],
   "source": [
    "# define the function that converts data frame to array; reshapes it and saves as variable\n",
    "# 3D array of 10 layers by 205 rows by 225 columns\n",
    "def array_shaper(j,layer):\n",
    "    j = j.to_numpy()\n",
    "    j = np.reshape(j, (205,225,layer))\n",
    "    j = np.transpose(j, (2, 0, 1))\n",
    "    return j"
   ]
  },
  {
   "cell_type": "markdown",
   "metadata": {
    "colab_type": "text",
    "id": "Z5qFnrjJ-trA"
   },
   "source": [
    " <a name=\"II\"></a> \n",
    "## II. MODFLOW DIS package\n",
    "Now we attach the DIS package to our model. The DIS package specifies model discretization in space and time. It contains information regarding:\n",
    "- <strong> spatial discretization: </strong> (the number of rows, layers, and columns, as well as cell sizes)\n",
    "- <strong> temporal discretization: </strong> (number of stress periods, steady-state/transient model within a stress period, length of stress periods, and the number of time steps within stress periods)\n",
    "- length and time <strong> units  </strong>\n",
    "\n",
    "### Spatial Discretization\n",
    "- We define a 100 x 100 unit model domain, and discretize this into 10 rows and columns. "
   ]
  },
  {
   "cell_type": "code",
   "execution_count": 4,
   "metadata": {
    "colab": {},
    "colab_type": "code",
    "id": "lMGujmgg-trB"
   },
   "outputs": [],
   "source": [
    "#assign discretization variables\n",
    "\n",
    "nlay = 10\n",
    "nrow = 205\n",
    "ncol = 225\n",
    "dx = 625.\n",
    "dy = 625.\n",
    "Lx = dx*ncol\n",
    "Ly = dy*nrow\n",
    "#dz = (ztop - zbot) / nlay"
   ]
  },
  {
   "cell_type": "markdown",
   "metadata": {
    "colab_type": "text",
    "id": "4RVvBjto-trE"
   },
   "source": [
    "<img src=\"https://i.imgur.com/Abaeeyo.png\" title=\"discretization\" /></a>"
   ]
  },
  {
   "cell_type": "code",
   "execution_count": 5,
   "metadata": {},
   "outputs": [
    {
     "data": {
      "text/plain": [
       "<AxesSubplot:>"
      ]
     },
     "execution_count": 5,
     "metadata": {},
     "output_type": "execute_result"
    },
    {
     "data": {
      "image/png": "[encoded data removed]",
      "text/plain": [
       "<Figure size 432x288 with 2 Axes>"
      ]
     },
     "metadata": {
      "needs_background": "light"
     },
     "output_type": "display_data"
    }
   ],
   "source": [
    "top_raw = pd.read_csv('top_elevation.csv')\n",
    "ztop = array_shaper(top_raw,1)\n",
    "bottoms_raw = pd.read_csv('bottom_elevations.csv')\n",
    "zbot = array_shaper(bottoms_raw,10)\n",
    "sns.heatmap(zbot[9,:,:], cmap = 'rocket')"
   ]
  },
  {
   "cell_type": "markdown",
   "metadata": {
    "colab_type": "text",
    "id": "r_g1l4NG-trF"
   },
   "source": [
    "### Temporal Discretization\n",
    "\n",
    "To discretize time, we must first specify how many stress periods are involved in this model. This is done through flopy's variable 'nper'. As we are solving a steady-state model, we will only specify 1 stress period."
   ]
  },
  {
   "cell_type": "code",
   "execution_count": 6,
   "metadata": {
    "colab": {},
    "colab_type": "code",
    "id": "qGyoTItl-trG"
   },
   "outputs": [],
   "source": [
    "#specify number of stress periods\n",
    "nper = 1"
   ]
  },
  {
   "cell_type": "markdown",
   "metadata": {
    "colab_type": "text",
    "id": "MXtv1qBN-trJ"
   },
   "source": [
    "We then create a variable called \"steady\" as a list of boolean \"True/False\" flags, one for each stress period, indicating whether the finite difference solver should solve a steady-state or transient model. True=steady-state, False=Transient. Our list will only contain one boolean for the single, steady-state stress period."
   ]
  },
  {
   "cell_type": "code",
   "execution_count": 7,
   "metadata": {
    "colab": {
     "base_uri": "https://localhost:8080/",
     "height": 51
    },
    "colab_type": "code",
    "id": "72Nea-h5-trK",
    "outputId": "fc368da1-e3ef-4aa5-8b0e-d64eeab6d666",
    "scrolled": true
   },
   "outputs": [
    {
     "name": "stdout",
     "output_type": "stream",
     "text": [
      "steady-state data: \n",
      " [True]\n"
     ]
    }
   ],
   "source": [
    "#specify if stress period is transient or steady-state\n",
    "steady = [True]\n",
    "\n",
    "print(\"steady-state data: \\n\", steady)"
   ]
  },
  {
   "cell_type": "markdown",
   "metadata": {
    "colab_type": "text",
    "id": "emYj-jv_-trO"
   },
   "source": [
    "There are several other variables involved in the DIS package that allow the user to specify time-step properties of the stress period data (legnth of stress period, number of time steps per stress period, and time step multiplier). As this model is a single period, steady-state model, these options don't apply and hence we will not specify them."
   ]
  },
  {
   "cell_type": "markdown",
   "metadata": {
    "colab_type": "text",
    "id": "ZgOpDpMV-trP"
   },
   "source": [
    "### Create DIS object\n",
    "\n",
    "The spatial and temporal discretizations are used to create the flopy dis object which will later be used to create the MODFLOW \"dis\" package. "
   ]
  },
  {
   "cell_type": "code",
   "execution_count": 8,
   "metadata": {
    "colab": {},
    "colab_type": "code",
    "id": "mrGyylAl-trQ"
   },
   "outputs": [],
   "source": [
    "#create flopy discretization object, length and time are meters (2) and days (4)\n",
    "dis = flopy.modflow.ModflowDis(model=m, nlay=nlay, nrow=nrow, ncol=ncol, \n",
    "                               delr=dx, delc=dy, top=ztop, botm=zbot, \n",
    "                               itmuni = 4, lenuni = 2, \n",
    "                               nper=nper, steady=steady)"
   ]
  },
  {
   "cell_type": "code",
   "execution_count": 9,
   "metadata": {},
   "outputs": [
    {
     "data": {
      "text/plain": [
       "flopy.modflow.mfdis.ModflowDis"
      ]
     },
     "execution_count": 9,
     "metadata": {},
     "output_type": "execute_result"
    }
   ],
   "source": [
    "type(dis)"
   ]
  },
  {
   "cell_type": "code",
   "execution_count": 10,
   "metadata": {
    "colab": {
     "base_uri": "https://localhost:8080/",
     "height": 34
    },
    "colab_type": "code",
    "id": "TjJAK2nz-trT",
    "outputId": "3916bfaf-1d37-48a9-f525-e2d358d87e2b"
   },
   "outputs": [
    {
     "data": {
      "text/plain": [
       "10"
      ]
     },
     "execution_count": 10,
     "metadata": {},
     "output_type": "execute_result"
    }
   ],
   "source": [
    "m.dis.nlay"
   ]
  },
  {
   "cell_type": "markdown",
   "metadata": {
    "colab_type": "text",
    "id": "sWxtQ67b-trX"
   },
   "source": [
    "Confused about the arguments given to the flopy.modflow.ModflowDis() class assignment? \n",
    "Check out the Flopy documentation here: http://modflowpy.github.io/flopydoc/mfdis.html \n",
    "\n",
    "If you'd like to see the grid you've created, flopy has plotting capabilities to visualize \"ModelMap\" attributes such as the grid, which it pulls from the flopy \"dis\" class instance. Note that ModelMap uses matplotlib, so you will want to make sure you have that package imported at the top of your script as well!"
   ]
  },
  {
   "cell_type": "code",
   "execution_count": 11,
   "metadata": {
    "colab": {
     "base_uri": "https://localhost:8080/",
     "height": 301
    },
    "colab_type": "code",
    "id": "niUhwUK5-trZ",
    "outputId": "e1284cff-feb4-4509-a57d-60929512e4c1"
   },
   "outputs": [
    {
     "data": {
      "image/png": "[encoded data removed]",
      "text/plain": [
       "<Figure size 432x288 with 1 Axes>"
      ]
     },
     "metadata": {
      "needs_background": "light"
     },
     "output_type": "display_data"
    }
   ],
   "source": [
    "#use flopy to plot the grid of model 'm'\n",
    "modelmap = flopy.plot.map.PlotMapView(model=m, layer=0)\n",
    "grid = modelmap.plot_grid() \n",
    "plt.xlabel('Lx (m)',fontsize = 14)\n",
    "plt.ylabel('Ly (m)',fontsize = 14)\n",
    "plt.title('Grid', fontsize = 15, fontweight = 'bold')\n",
    "plt.show()"
   ]
  },
  {
   "cell_type": "markdown",
   "metadata": {
    "colab_type": "text",
    "id": "KCwlZfxG-tre"
   },
   "source": [
    " <a name=\"III\"></a> \n",
    "## III. MODFLOW BAS package\n",
    "\n",
    "Next, we attach the BAS package to our model. The BAS package specifies cell activity (how cells will participate in the model run) as well as starting heads to be used in the cells at the start of the groundwater flow simulation.\n",
    "\n",
    "### Define Cell Activity: IBOUND\n",
    "\n",
    "We assign the cell activity using a variable called <strong>IBOUND</strong>. Ibound is defined as an array of integers of form (nlay, nrow, ncol), or one for each cell with flags for the activity level:\n",
    "\n",
    "- <strong> >/= 1: active </strong> (cell has active finite difference equations calculating the head for this cell as well as flows between its neighbors) \n",
    "- <strong> = 0: inactive </strong> (cell has no active finite difference equations associated with it)\n",
    "- <strong> </= -1: constant head </strong>  (cell has active finite difference equation for flows between cells but not for head at the cell as it is kept constant throughout the simulation)\n",
    "\n",
    "For this model, the first and last column are set to be constant heads and the rest of the domain is set as active. "
   ]
  },
  {
   "cell_type": "code",
   "execution_count": 12,
   "metadata": {
    "colab": {
     "base_uri": "https://localhost:8080/",
     "height": 204
    },
    "colab_type": "code",
    "id": "v1mYp41--trg",
    "outputId": "f0f0c0dc-cee7-4976-a8db-09da83763f86"
   },
   "outputs": [
    {
     "name": "stdout",
     "output_type": "stream",
     "text": [
      "ibound values: \n",
      " [[[1 1 1 ... 1 1 1]\n",
      "  [1 1 1 ... 1 1 1]\n",
      "  [1 1 1 ... 1 1 1]\n",
      "  ...\n",
      "  [1 1 1 ... 1 1 1]\n",
      "  [1 1 1 ... 1 1 1]\n",
      "  [1 1 1 ... 1 1 1]]\n",
      "\n",
      " [[1 1 1 ... 1 1 1]\n",
      "  [1 1 1 ... 1 1 1]\n",
      "  [1 1 1 ... 1 1 1]\n",
      "  ...\n",
      "  [1 1 1 ... 1 1 1]\n",
      "  [1 1 1 ... 1 1 1]\n",
      "  [1 1 1 ... 1 1 1]]\n",
      "\n",
      " [[1 1 1 ... 1 1 1]\n",
      "  [1 1 1 ... 1 1 1]\n",
      "  [1 1 1 ... 1 1 1]\n",
      "  ...\n",
      "  [1 1 1 ... 1 1 1]\n",
      "  [1 1 1 ... 1 1 1]\n",
      "  [1 1 1 ... 1 1 1]]\n",
      "\n",
      " ...\n",
      "\n",
      " [[1 1 1 ... 1 1 1]\n",
      "  [1 1 1 ... 1 1 1]\n",
      "  [1 1 1 ... 1 1 1]\n",
      "  ...\n",
      "  [1 1 1 ... 1 1 1]\n",
      "  [1 1 1 ... 1 1 1]\n",
      "  [1 1 1 ... 1 1 1]]\n",
      "\n",
      " [[1 1 1 ... 1 1 1]\n",
      "  [1 1 1 ... 1 1 1]\n",
      "  [1 1 1 ... 1 1 1]\n",
      "  ...\n",
      "  [1 1 1 ... 1 1 1]\n",
      "  [1 1 1 ... 1 1 1]\n",
      "  [1 1 1 ... 1 1 1]]\n",
      "\n",
      " [[1 1 1 ... 1 1 1]\n",
      "  [1 1 1 ... 1 1 1]\n",
      "  [1 1 1 ... 1 1 1]\n",
      "  ...\n",
      "  [1 1 1 ... 1 1 1]\n",
      "  [1 1 1 ... 1 1 1]\n",
      "  [1 1 1 ... 1 1 1]]]\n"
     ]
    }
   ],
   "source": [
    "#create ibound as array of ints = 1\n",
    "ibound = np.ones((nlay, nrow, ncol), dtype=np.int32)\n",
    "\n",
    "\n",
    "print(\"ibound values: \\n\", ibound)"
   ]
  },
  {
   "cell_type": "markdown",
   "metadata": {
    "colab_type": "text",
    "id": "Jn6pjjh--trm"
   },
   "source": [
    "### Define Starting Heads\n",
    "\n",
    "Values for starting heads are given cell by cell with the variable <strong>strt</strong> defined as an array of floats of form (nlay, nrow, ncol). For this model the left and right boundaries are set to be constant heads in the IBOUND variable, so the starting heads assigned to these cells will be set throughout the model. Since we are interested in steady-state flow from a left boundary of h=10m and right boundary of h=0m we assign those conditions in the strt variable."
   ]
  },
  {
   "cell_type": "code",
   "execution_count": 13,
   "metadata": {
    "colab": {
     "base_uri": "https://localhost:8080/",
     "height": 204
    },
    "colab_type": "code",
    "id": "s5vtgQEq-trn",
    "outputId": "a4236f73-0a8f-45b2-af79-a8a07d19b674"
   },
   "outputs": [
    {
     "name": "stdout",
     "output_type": "stream",
     "text": [
      "starting head values: \n",
      " [array([[[980, 968, 978, ..., 866, 838, 854],\n",
      "        [976, 967, 977, ..., 907, 898, 936],\n",
      "        [973, 964, 967, ..., 921, 901, 903],\n",
      "        ...,\n",
      "        [844, 847, 856, ..., 784, 792, 821],\n",
      "        [852, 854, 859, ..., 776, 782, 837],\n",
      "        [853, 854, 857, ..., 783, 809, 840]]], dtype=int64), array([[[980, 968, 978, ..., 866, 838, 854],\n",
      "        [976, 967, 977, ..., 907, 898, 936],\n",
      "        [973, 964, 967, ..., 921, 901, 903],\n",
      "        ...,\n",
      "        [844, 847, 856, ..., 784, 792, 821],\n",
      "        [852, 854, 859, ..., 776, 782, 837],\n",
      "        [853, 854, 857, ..., 783, 809, 840]]], dtype=int64), array([[[980, 968, 978, ..., 866, 838, 854],\n",
      "        [976, 967, 977, ..., 907, 898, 936],\n",
      "        [973, 964, 967, ..., 921, 901, 903],\n",
      "        ...,\n",
      "        [844, 847, 856, ..., 784, 792, 821],\n",
      "        [852, 854, 859, ..., 776, 782, 837],\n",
      "        [853, 854, 857, ..., 783, 809, 840]]], dtype=int64), array([[[980, 968, 978, ..., 866, 838, 854],\n",
      "        [976, 967, 977, ..., 907, 898, 936],\n",
      "        [973, 964, 967, ..., 921, 901, 903],\n",
      "        ...,\n",
      "        [844, 847, 856, ..., 784, 792, 821],\n",
      "        [852, 854, 859, ..., 776, 782, 837],\n",
      "        [853, 854, 857, ..., 783, 809, 840]]], dtype=int64), array([[[980, 968, 978, ..., 866, 838, 854],\n",
      "        [976, 967, 977, ..., 907, 898, 936],\n",
      "        [973, 964, 967, ..., 921, 901, 903],\n",
      "        ...,\n",
      "        [844, 847, 856, ..., 784, 792, 821],\n",
      "        [852, 854, 859, ..., 776, 782, 837],\n",
      "        [853, 854, 857, ..., 783, 809, 840]]], dtype=int64), array([[[980, 968, 978, ..., 866, 838, 854],\n",
      "        [976, 967, 977, ..., 907, 898, 936],\n",
      "        [973, 964, 967, ..., 921, 901, 903],\n",
      "        ...,\n",
      "        [844, 847, 856, ..., 784, 792, 821],\n",
      "        [852, 854, 859, ..., 776, 782, 837],\n",
      "        [853, 854, 857, ..., 783, 809, 840]]], dtype=int64), array([[[980, 968, 978, ..., 866, 838, 854],\n",
      "        [976, 967, 977, ..., 907, 898, 936],\n",
      "        [973, 964, 967, ..., 921, 901, 903],\n",
      "        ...,\n",
      "        [844, 847, 856, ..., 784, 792, 821],\n",
      "        [852, 854, 859, ..., 776, 782, 837],\n",
      "        [853, 854, 857, ..., 783, 809, 840]]], dtype=int64), array([[[980, 968, 978, ..., 866, 838, 854],\n",
      "        [976, 967, 977, ..., 907, 898, 936],\n",
      "        [973, 964, 967, ..., 921, 901, 903],\n",
      "        ...,\n",
      "        [844, 847, 856, ..., 784, 792, 821],\n",
      "        [852, 854, 859, ..., 776, 782, 837],\n",
      "        [853, 854, 857, ..., 783, 809, 840]]], dtype=int64), array([[[980, 968, 978, ..., 866, 838, 854],\n",
      "        [976, 967, 977, ..., 907, 898, 936],\n",
      "        [973, 964, 967, ..., 921, 901, 903],\n",
      "        ...,\n",
      "        [844, 847, 856, ..., 784, 792, 821],\n",
      "        [852, 854, 859, ..., 776, 782, 837],\n",
      "        [853, 854, 857, ..., 783, 809, 840]]], dtype=int64), array([[[980, 968, 978, ..., 866, 838, 854],\n",
      "        [976, 967, 977, ..., 907, 898, 936],\n",
      "        [973, 964, 967, ..., 921, 901, 903],\n",
      "        ...,\n",
      "        [844, 847, 856, ..., 784, 792, 821],\n",
      "        [852, 854, 859, ..., 776, 782, 837],\n",
      "        [853, 854, 857, ..., 783, 809, 840]]], dtype=int64)]\n"
     ]
    }
   ],
   "source": [
    "#create strt as array of floats = 1\n",
    "strt = [ztop,ztop,ztop,ztop,ztop,ztop,ztop,ztop,ztop,ztop]\n",
    "\n",
    "#np.ones((nlay, nrow, ncol), dtype=np.float32)\n",
    "#set left side head to 10 m\n",
    "#strt[:, :, 0] = 10.\n",
    "#set right side head to 0 m\n",
    "#strt[:, :, -1] = 0.\n",
    "\n",
    "print(\"starting head values: \\n\", strt)"
   ]
  },
  {
   "cell_type": "markdown",
   "metadata": {
    "colab_type": "text",
    "id": "-i7QdIlz-tru"
   },
   "source": [
    "### Create BAS class\n",
    "\n",
    "We now use <strong>strt</strong> and <strong>IBOUND</strong> to make the 'bas' flopy class instance which will later be used to create the MODFLOW BAS package."
   ]
  },
  {
   "cell_type": "code",
   "execution_count": 14,
   "metadata": {
    "colab": {},
    "colab_type": "code",
    "id": "cgqQ_XDm-trw"
   },
   "outputs": [],
   "source": [
    "#create flopy bas class\n",
    "bas = flopy.modflow.ModflowBas(m, ibound=ibound, strt=strt)"
   ]
  },
  {
   "cell_type": "markdown",
   "metadata": {},
   "source": [
    "### Create RIV object\n",
    "\n",
    "Creating a MODFLOW river package."
   ]
  },
  {
   "cell_type": "code",
   "execution_count": 15,
   "metadata": {
    "scrolled": true
   },
   "outputs": [
    {
     "name": "stdout",
     "output_type": "stream",
     "text": [
      "{0: array([[    0.  ,    31.  ,   223.  ,   742.56, 17426.6 ,   739.56],\n",
      "       [    0.  ,    30.  ,   223.  ,   742.56, 26564.84,   739.56],\n",
      "       [    0.  ,    29.  ,   223.  ,   742.56, 28924.62,   739.56],\n",
      "       ...,\n",
      "       [    0.  ,   204.  ,   184.  ,   725.12, 11021.6 ,   724.12],\n",
      "       [    0.  ,   194.  ,   184.  ,   725.12,  7127.32,   724.12],\n",
      "       [    0.  ,   204.  ,   185.  ,   725.94,   622.98,   724.94]])}\n"
     ]
    }
   ],
   "source": [
    "rivs = pd.read_csv('rivers.csv')\n",
    "rivs = rivs[['layer','row','column','Stage','Conductanc','Bottom']]\n",
    "rivs['layer'] = rivs['layer']-1\n",
    "rivs['row'] = rivs['row']-1\n",
    "rivs['column'] = rivs['column']-1\n",
    "rivs = rivs.to_numpy()\n",
    "rivs = {0: rivs}\n",
    "print(rivs)"
   ]
  },
  {
   "cell_type": "code",
   "execution_count": 16,
   "metadata": {},
   "outputs": [],
   "source": [
    "riv = flopy.modflow.ModflowRiv(m, ipakcb=None, stress_period_data=rivs, dtype=None, extension='riv', options=None, unitnumber=None, filenames=None)"
   ]
  },
  {
   "cell_type": "markdown",
   "metadata": {
    "colab_type": "text",
    "id": "SypW_E9C-tr-"
   },
   "source": [
    " <a name=\"IV\"></a> \n",
    "## IV. MODFLOW LPF package"
   ]
  },
  {
   "cell_type": "markdown",
   "metadata": {
    "colab_type": "text",
    "id": "xkDrxDEm-tsA"
   },
   "source": [
    "The LPF package specifies Layer Properties associated with the flow in each cell. It holds information regarding horizontal and vertical hydraulic conductivity, layer confinement properties (confined/unconfined), specific storage, and specific yield among other flags for the model run for  which we will use flopy's default settings.\n",
    "\n",
    "### Define Hydraulic Conductivity\n",
    "\n",
    "Here we define \"hk\" as a variable for horizontal hydraulic conductivity of 1 m/d that will be the same in the x and y directions, and \"vka\" as a variable for vertical conductivity of 1 m/d. hk and vka are arrays of floats of form (nlay, nrow, ncol) with conductivity values for each cell. You may also a ratio of anisotropy in the y direction for the flopy LPF function, if hk should be anisotropic in the xy plane. http://modflowpy.github.io/flopydoc/mflpf.html has details regarding these options.\n"
   ]
  },
  {
   "cell_type": "code",
   "execution_count": 17,
   "metadata": {},
   "outputs": [
    {
     "data": {
      "text/html": [
       "<div>\n",
       "<style scoped>\n",
       "    .dataframe tbody tr th:only-of-type {\n",
       "        vertical-align: middle;\n",
       "    }\n",
       "\n",
       "    .dataframe tbody tr th {\n",
       "        vertical-align: top;\n",
       "    }\n",
       "\n",
       "    .dataframe thead th {\n",
       "        text-align: right;\n",
       "    }\n",
       "</style>\n",
       "<table border=\"1\" class=\"dataframe\">\n",
       "  <thead>\n",
       "    <tr style=\"text-align: right;\">\n",
       "      <th></th>\n",
       "      <th>row</th>\n",
       "      <th>column</th>\n",
       "      <th>node</th>\n",
       "      <th>Zone1</th>\n",
       "      <th>Kx1</th>\n",
       "      <th>Ky1</th>\n",
       "      <th>Kz1</th>\n",
       "      <th>Zone2</th>\n",
       "      <th>Kx2</th>\n",
       "      <th>Ky2</th>\n",
       "      <th>...</th>\n",
       "      <th>Ky8</th>\n",
       "      <th>Kz8</th>\n",
       "      <th>Zone9</th>\n",
       "      <th>Kx9</th>\n",
       "      <th>Ky9</th>\n",
       "      <th>Kz9</th>\n",
       "      <th>Zone10</th>\n",
       "      <th>Kx10</th>\n",
       "      <th>Ky10</th>\n",
       "      <th>Kz10</th>\n",
       "    </tr>\n",
       "  </thead>\n",
       "  <tbody>\n",
       "    <tr>\n",
       "      <th>0</th>\n",
       "      <td>1</td>\n",
       "      <td>1</td>\n",
       "      <td>0</td>\n",
       "      <td>73</td>\n",
       "      <td>2.52832</td>\n",
       "      <td>2.52832</td>\n",
       "      <td>0.043545</td>\n",
       "      <td>73</td>\n",
       "      <td>2.52832</td>\n",
       "      <td>2.52832</td>\n",
       "      <td>...</td>\n",
       "      <td>2.52832</td>\n",
       "      <td>0.043545</td>\n",
       "      <td>23</td>\n",
       "      <td>1.3507</td>\n",
       "      <td>1.3507</td>\n",
       "      <td>0.043406</td>\n",
       "      <td>23</td>\n",
       "      <td>1.3507</td>\n",
       "      <td>1.3507</td>\n",
       "      <td>0.043406</td>\n",
       "    </tr>\n",
       "    <tr>\n",
       "      <th>1</th>\n",
       "      <td>1</td>\n",
       "      <td>2</td>\n",
       "      <td>0</td>\n",
       "      <td>73</td>\n",
       "      <td>2.52832</td>\n",
       "      <td>2.52832</td>\n",
       "      <td>0.043545</td>\n",
       "      <td>73</td>\n",
       "      <td>2.52832</td>\n",
       "      <td>2.52832</td>\n",
       "      <td>...</td>\n",
       "      <td>2.52832</td>\n",
       "      <td>0.043545</td>\n",
       "      <td>23</td>\n",
       "      <td>1.3507</td>\n",
       "      <td>1.3507</td>\n",
       "      <td>0.043406</td>\n",
       "      <td>23</td>\n",
       "      <td>1.3507</td>\n",
       "      <td>1.3507</td>\n",
       "      <td>0.043406</td>\n",
       "    </tr>\n",
       "    <tr>\n",
       "      <th>2</th>\n",
       "      <td>1</td>\n",
       "      <td>3</td>\n",
       "      <td>0</td>\n",
       "      <td>73</td>\n",
       "      <td>2.52832</td>\n",
       "      <td>2.52832</td>\n",
       "      <td>0.043545</td>\n",
       "      <td>73</td>\n",
       "      <td>2.52832</td>\n",
       "      <td>2.52832</td>\n",
       "      <td>...</td>\n",
       "      <td>2.52832</td>\n",
       "      <td>0.043545</td>\n",
       "      <td>23</td>\n",
       "      <td>1.3507</td>\n",
       "      <td>1.3507</td>\n",
       "      <td>0.043406</td>\n",
       "      <td>23</td>\n",
       "      <td>1.3507</td>\n",
       "      <td>1.3507</td>\n",
       "      <td>0.043406</td>\n",
       "    </tr>\n",
       "    <tr>\n",
       "      <th>3</th>\n",
       "      <td>1</td>\n",
       "      <td>4</td>\n",
       "      <td>0</td>\n",
       "      <td>73</td>\n",
       "      <td>2.52832</td>\n",
       "      <td>2.52832</td>\n",
       "      <td>0.043545</td>\n",
       "      <td>73</td>\n",
       "      <td>2.52832</td>\n",
       "      <td>2.52832</td>\n",
       "      <td>...</td>\n",
       "      <td>2.52832</td>\n",
       "      <td>0.043545</td>\n",
       "      <td>23</td>\n",
       "      <td>1.3507</td>\n",
       "      <td>1.3507</td>\n",
       "      <td>0.043406</td>\n",
       "      <td>23</td>\n",
       "      <td>1.3507</td>\n",
       "      <td>1.3507</td>\n",
       "      <td>0.043406</td>\n",
       "    </tr>\n",
       "    <tr>\n",
       "      <th>4</th>\n",
       "      <td>1</td>\n",
       "      <td>5</td>\n",
       "      <td>0</td>\n",
       "      <td>73</td>\n",
       "      <td>2.52832</td>\n",
       "      <td>2.52832</td>\n",
       "      <td>0.043545</td>\n",
       "      <td>73</td>\n",
       "      <td>2.52832</td>\n",
       "      <td>2.52832</td>\n",
       "      <td>...</td>\n",
       "      <td>2.52832</td>\n",
       "      <td>0.043545</td>\n",
       "      <td>23</td>\n",
       "      <td>1.3507</td>\n",
       "      <td>1.3507</td>\n",
       "      <td>0.043406</td>\n",
       "      <td>23</td>\n",
       "      <td>1.3507</td>\n",
       "      <td>1.3507</td>\n",
       "      <td>0.043406</td>\n",
       "    </tr>\n",
       "  </tbody>\n",
       "</table>\n",
       "<p>5 rows × 43 columns</p>\n",
       "</div>"
      ],
      "text/plain": [
       "   row  column  node  Zone1      Kx1      Ky1       Kz1  Zone2      Kx2  \\\n",
       "0    1       1     0     73  2.52832  2.52832  0.043545     73  2.52832   \n",
       "1    1       2     0     73  2.52832  2.52832  0.043545     73  2.52832   \n",
       "2    1       3     0     73  2.52832  2.52832  0.043545     73  2.52832   \n",
       "3    1       4     0     73  2.52832  2.52832  0.043545     73  2.52832   \n",
       "4    1       5     0     73  2.52832  2.52832  0.043545     73  2.52832   \n",
       "\n",
       "       Ky2  ...      Ky8       Kz8  Zone9     Kx9     Ky9       Kz9  Zone10  \\\n",
       "0  2.52832  ...  2.52832  0.043545     23  1.3507  1.3507  0.043406      23   \n",
       "1  2.52832  ...  2.52832  0.043545     23  1.3507  1.3507  0.043406      23   \n",
       "2  2.52832  ...  2.52832  0.043545     23  1.3507  1.3507  0.043406      23   \n",
       "3  2.52832  ...  2.52832  0.043545     23  1.3507  1.3507  0.043406      23   \n",
       "4  2.52832  ...  2.52832  0.043545     23  1.3507  1.3507  0.043406      23   \n",
       "\n",
       "     Kx10    Ky10      Kz10  \n",
       "0  1.3507  1.3507  0.043406  \n",
       "1  1.3507  1.3507  0.043406  \n",
       "2  1.3507  1.3507  0.043406  \n",
       "3  1.3507  1.3507  0.043406  \n",
       "4  1.3507  1.3507  0.043406  \n",
       "\n",
       "[5 rows x 43 columns]"
      ]
     },
     "execution_count": 17,
     "metadata": {},
     "output_type": "execute_result"
    }
   ],
   "source": [
    "# read in dbf to pandas dataframe\n",
    "file = 'hydraulic_conductivity.dbf'\n",
    "dbf = Dbf5(file)\n",
    "df = dbf.to_dataframe()\n",
    "df.head()"
   ]
  },
  {
   "cell_type": "code",
   "execution_count": 18,
   "metadata": {},
   "outputs": [
    {
     "data": {
      "text/html": [
       "<div>\n",
       "<style scoped>\n",
       "    .dataframe tbody tr th:only-of-type {\n",
       "        vertical-align: middle;\n",
       "    }\n",
       "\n",
       "    .dataframe tbody tr th {\n",
       "        vertical-align: top;\n",
       "    }\n",
       "\n",
       "    .dataframe thead th {\n",
       "        text-align: right;\n",
       "    }\n",
       "</style>\n",
       "<table border=\"1\" class=\"dataframe\">\n",
       "  <thead>\n",
       "    <tr style=\"text-align: right;\">\n",
       "      <th></th>\n",
       "      <th>Zone1</th>\n",
       "      <th>Zone2</th>\n",
       "      <th>Zone3</th>\n",
       "      <th>Zone4</th>\n",
       "      <th>Zone5</th>\n",
       "      <th>Zone6</th>\n",
       "      <th>Zone7</th>\n",
       "      <th>Zone8</th>\n",
       "      <th>Zone9</th>\n",
       "      <th>Zone10</th>\n",
       "    </tr>\n",
       "  </thead>\n",
       "  <tbody>\n",
       "    <tr>\n",
       "      <th>0</th>\n",
       "      <td>73</td>\n",
       "      <td>73</td>\n",
       "      <td>73</td>\n",
       "      <td>73</td>\n",
       "      <td>73</td>\n",
       "      <td>73</td>\n",
       "      <td>73</td>\n",
       "      <td>73</td>\n",
       "      <td>23</td>\n",
       "      <td>23</td>\n",
       "    </tr>\n",
       "    <tr>\n",
       "      <th>1</th>\n",
       "      <td>73</td>\n",
       "      <td>73</td>\n",
       "      <td>73</td>\n",
       "      <td>73</td>\n",
       "      <td>73</td>\n",
       "      <td>73</td>\n",
       "      <td>74</td>\n",
       "      <td>73</td>\n",
       "      <td>23</td>\n",
       "      <td>23</td>\n",
       "    </tr>\n",
       "    <tr>\n",
       "      <th>2</th>\n",
       "      <td>73</td>\n",
       "      <td>73</td>\n",
       "      <td>73</td>\n",
       "      <td>73</td>\n",
       "      <td>73</td>\n",
       "      <td>73</td>\n",
       "      <td>74</td>\n",
       "      <td>73</td>\n",
       "      <td>23</td>\n",
       "      <td>23</td>\n",
       "    </tr>\n",
       "    <tr>\n",
       "      <th>3</th>\n",
       "      <td>73</td>\n",
       "      <td>73</td>\n",
       "      <td>73</td>\n",
       "      <td>73</td>\n",
       "      <td>73</td>\n",
       "      <td>73</td>\n",
       "      <td>74</td>\n",
       "      <td>73</td>\n",
       "      <td>23</td>\n",
       "      <td>23</td>\n",
       "    </tr>\n",
       "    <tr>\n",
       "      <th>4</th>\n",
       "      <td>73</td>\n",
       "      <td>73</td>\n",
       "      <td>73</td>\n",
       "      <td>73</td>\n",
       "      <td>73</td>\n",
       "      <td>73</td>\n",
       "      <td>74</td>\n",
       "      <td>73</td>\n",
       "      <td>23</td>\n",
       "      <td>23</td>\n",
       "    </tr>\n",
       "    <tr>\n",
       "      <th>...</th>\n",
       "      <td>...</td>\n",
       "      <td>...</td>\n",
       "      <td>...</td>\n",
       "      <td>...</td>\n",
       "      <td>...</td>\n",
       "      <td>...</td>\n",
       "      <td>...</td>\n",
       "      <td>...</td>\n",
       "      <td>...</td>\n",
       "      <td>...</td>\n",
       "    </tr>\n",
       "    <tr>\n",
       "      <th>46120</th>\n",
       "      <td>74</td>\n",
       "      <td>74</td>\n",
       "      <td>73</td>\n",
       "      <td>74</td>\n",
       "      <td>74</td>\n",
       "      <td>74</td>\n",
       "      <td>74</td>\n",
       "      <td>74</td>\n",
       "      <td>74</td>\n",
       "      <td>15</td>\n",
       "    </tr>\n",
       "    <tr>\n",
       "      <th>46121</th>\n",
       "      <td>74</td>\n",
       "      <td>74</td>\n",
       "      <td>73</td>\n",
       "      <td>74</td>\n",
       "      <td>74</td>\n",
       "      <td>74</td>\n",
       "      <td>74</td>\n",
       "      <td>74</td>\n",
       "      <td>74</td>\n",
       "      <td>15</td>\n",
       "    </tr>\n",
       "    <tr>\n",
       "      <th>46122</th>\n",
       "      <td>74</td>\n",
       "      <td>74</td>\n",
       "      <td>73</td>\n",
       "      <td>74</td>\n",
       "      <td>74</td>\n",
       "      <td>74</td>\n",
       "      <td>74</td>\n",
       "      <td>74</td>\n",
       "      <td>74</td>\n",
       "      <td>15</td>\n",
       "    </tr>\n",
       "    <tr>\n",
       "      <th>46123</th>\n",
       "      <td>74</td>\n",
       "      <td>74</td>\n",
       "      <td>73</td>\n",
       "      <td>74</td>\n",
       "      <td>74</td>\n",
       "      <td>74</td>\n",
       "      <td>74</td>\n",
       "      <td>74</td>\n",
       "      <td>74</td>\n",
       "      <td>15</td>\n",
       "    </tr>\n",
       "    <tr>\n",
       "      <th>46124</th>\n",
       "      <td>74</td>\n",
       "      <td>74</td>\n",
       "      <td>73</td>\n",
       "      <td>74</td>\n",
       "      <td>74</td>\n",
       "      <td>74</td>\n",
       "      <td>74</td>\n",
       "      <td>74</td>\n",
       "      <td>74</td>\n",
       "      <td>15</td>\n",
       "    </tr>\n",
       "  </tbody>\n",
       "</table>\n",
       "<p>46125 rows × 10 columns</p>\n",
       "</div>"
      ],
      "text/plain": [
       "       Zone1  Zone2  Zone3  Zone4  Zone5  Zone6  Zone7  Zone8  Zone9  Zone10\n",
       "0         73     73     73     73     73     73     73     73     23      23\n",
       "1         73     73     73     73     73     73     74     73     23      23\n",
       "2         73     73     73     73     73     73     74     73     23      23\n",
       "3         73     73     73     73     73     73     74     73     23      23\n",
       "4         73     73     73     73     73     73     74     73     23      23\n",
       "...      ...    ...    ...    ...    ...    ...    ...    ...    ...     ...\n",
       "46120     74     74     73     74     74     74     74     74     74      15\n",
       "46121     74     74     73     74     74     74     74     74     74      15\n",
       "46122     74     74     73     74     74     74     74     74     74      15\n",
       "46123     74     74     73     74     74     74     74     74     74      15\n",
       "46124     74     74     73     74     74     74     74     74     74      15\n",
       "\n",
       "[46125 rows x 10 columns]"
      ]
     },
     "execution_count": 18,
     "metadata": {},
     "output_type": "execute_result"
    }
   ],
   "source": [
    "# create dataframes of the 10 zones, Kx, Ky, and Kz\n",
    "\n",
    "zone = df[df.columns[pd.Series(df.columns).str.contains(\"Z\")]]\n",
    "x = df[df.columns[pd.Series(df.columns).str.contains(\"x\")]]\n",
    "y = df[df.columns[pd.Series(df.columns).str.contains(\"y\")]]\n",
    "z = df[df.columns[pd.Series(df.columns).str.contains(\"z\")]]\n",
    "\n",
    "zone"
   ]
  },
  {
   "cell_type": "code",
   "execution_count": 19,
   "metadata": {},
   "outputs": [],
   "source": [
    "# save function output to variables\n",
    "x_reshaped = array_shaper(x,10)\n",
    "z_reshaped = array_shaper(z,10)"
   ]
  },
  {
   "cell_type": "code",
   "execution_count": 20,
   "metadata": {},
   "outputs": [
    {
     "name": "stdout",
     "output_type": "stream",
     "text": [
      "(10, 205, 225)\n",
      "(10, 205, 225)\n"
     ]
    }
   ],
   "source": [
    "# check shape\n",
    "\n",
    "print(x_reshaped.shape)\n",
    "print(z_reshaped.shape)"
   ]
  },
  {
   "cell_type": "code",
   "execution_count": 21,
   "metadata": {},
   "outputs": [
    {
     "data": {
      "text/plain": [
       "<AxesSubplot:>"
      ]
     },
     "execution_count": 21,
     "metadata": {},
     "output_type": "execute_result"
    },
    {
     "data": {
      "image/png": "[encoded data removed]",
      "text/plain": [
       "<Figure size 432x288 with 2 Axes>"
      ]
     },
     "metadata": {
      "needs_background": "light"
     },
     "output_type": "display_data"
    }
   ],
   "source": [
    "x = z_reshaped[9,:,:]\n",
    "sns.heatmap(x, cmap = 'tab10')"
   ]
  },
  {
   "cell_type": "markdown",
   "metadata": {
    "colab_type": "text",
    "id": "t9eqiajw-tsG"
   },
   "source": [
    "### Define Specific Storage\n",
    "\n",
    "Specific storage is defined in a similar format to hydraulic conductivity with a value of $1 x 10^{-5} m^{-1}$ for each cell."
   ]
  },
  {
   "cell_type": "code",
   "execution_count": 22,
   "metadata": {
    "colab": {
     "base_uri": "https://localhost:8080/",
     "height": 204
    },
    "colab_type": "code",
    "id": "AaTXILZA-tsI",
    "outputId": "07473e24-e4e7-4a39-beae-8f70488af668"
   },
   "outputs": [
    {
     "name": "stdout",
     "output_type": "stream",
     "text": [
      "specific storage values: \n",
      " [[[1.e-05 1.e-05 1.e-05 ... 1.e-05 1.e-05 1.e-05]\n",
      "  [1.e-05 1.e-05 1.e-05 ... 1.e-05 1.e-05 1.e-05]\n",
      "  [1.e-05 1.e-05 1.e-05 ... 1.e-05 1.e-05 1.e-05]\n",
      "  ...\n",
      "  [1.e-05 1.e-05 1.e-05 ... 1.e-05 1.e-05 1.e-05]\n",
      "  [1.e-05 1.e-05 1.e-05 ... 1.e-05 1.e-05 1.e-05]\n",
      "  [1.e-05 1.e-05 1.e-05 ... 1.e-05 1.e-05 1.e-05]]\n",
      "\n",
      " [[1.e-05 1.e-05 1.e-05 ... 1.e-05 1.e-05 1.e-05]\n",
      "  [1.e-05 1.e-05 1.e-05 ... 1.e-05 1.e-05 1.e-05]\n",
      "  [1.e-05 1.e-05 1.e-05 ... 1.e-05 1.e-05 1.e-05]\n",
      "  ...\n",
      "  [1.e-05 1.e-05 1.e-05 ... 1.e-05 1.e-05 1.e-05]\n",
      "  [1.e-05 1.e-05 1.e-05 ... 1.e-05 1.e-05 1.e-05]\n",
      "  [1.e-05 1.e-05 1.e-05 ... 1.e-05 1.e-05 1.e-05]]\n",
      "\n",
      " [[1.e-05 1.e-05 1.e-05 ... 1.e-05 1.e-05 1.e-05]\n",
      "  [1.e-05 1.e-05 1.e-05 ... 1.e-05 1.e-05 1.e-05]\n",
      "  [1.e-05 1.e-05 1.e-05 ... 1.e-05 1.e-05 1.e-05]\n",
      "  ...\n",
      "  [1.e-05 1.e-05 1.e-05 ... 1.e-05 1.e-05 1.e-05]\n",
      "  [1.e-05 1.e-05 1.e-05 ... 1.e-05 1.e-05 1.e-05]\n",
      "  [1.e-05 1.e-05 1.e-05 ... 1.e-05 1.e-05 1.e-05]]\n",
      "\n",
      " ...\n",
      "\n",
      " [[1.e-05 1.e-05 1.e-05 ... 1.e-05 1.e-05 1.e-05]\n",
      "  [1.e-05 1.e-05 1.e-05 ... 1.e-05 1.e-05 1.e-05]\n",
      "  [1.e-05 1.e-05 1.e-05 ... 1.e-05 1.e-05 1.e-05]\n",
      "  ...\n",
      "  [1.e-05 1.e-05 1.e-05 ... 1.e-05 1.e-05 1.e-05]\n",
      "  [1.e-05 1.e-05 1.e-05 ... 1.e-05 1.e-05 1.e-05]\n",
      "  [1.e-05 1.e-05 1.e-05 ... 1.e-05 1.e-05 1.e-05]]\n",
      "\n",
      " [[1.e-05 1.e-05 1.e-05 ... 1.e-05 1.e-05 1.e-05]\n",
      "  [1.e-05 1.e-05 1.e-05 ... 1.e-05 1.e-05 1.e-05]\n",
      "  [1.e-05 1.e-05 1.e-05 ... 1.e-05 1.e-05 1.e-05]\n",
      "  ...\n",
      "  [1.e-05 1.e-05 1.e-05 ... 1.e-05 1.e-05 1.e-05]\n",
      "  [1.e-05 1.e-05 1.e-05 ... 1.e-05 1.e-05 1.e-05]\n",
      "  [1.e-05 1.e-05 1.e-05 ... 1.e-05 1.e-05 1.e-05]]\n",
      "\n",
      " [[1.e-05 1.e-05 1.e-05 ... 1.e-05 1.e-05 1.e-05]\n",
      "  [1.e-05 1.e-05 1.e-05 ... 1.e-05 1.e-05 1.e-05]\n",
      "  [1.e-05 1.e-05 1.e-05 ... 1.e-05 1.e-05 1.e-05]\n",
      "  ...\n",
      "  [1.e-05 1.e-05 1.e-05 ... 1.e-05 1.e-05 1.e-05]\n",
      "  [1.e-05 1.e-05 1.e-05 ... 1.e-05 1.e-05 1.e-05]\n",
      "  [1.e-05 1.e-05 1.e-05 ... 1.e-05 1.e-05 1.e-05]]]\n"
     ]
    },
    {
     "name": "stderr",
     "output_type": "stream",
     "text": [
      "C:\\Users\\Owner\\AppData\\Local\\Temp/ipykernel_3288/3281996141.py:2: DeprecationWarning: `np.float` is a deprecated alias for the builtin `float`. To silence this warning, use `float` by itself. Doing this will not modify any behavior and is safe. If you specifically wanted the numpy scalar type, use `np.float64` here.\n",
      "Deprecated in NumPy 1.20; for more details and guidance: https://numpy.org/devdocs/release/1.20.0-notes.html#deprecations\n",
      "  ss = np.ones((nlay,nrow,ncol), dtype=np.float)\n"
     ]
    }
   ],
   "source": [
    "#define specific storage\n",
    "ss = np.ones((nlay,nrow,ncol), dtype=np.float)\n",
    "ss[:,:,:] = 1e-5\n",
    "\n",
    "print(\"specific storage values: \\n\", ss)"
   ]
  },
  {
   "cell_type": "markdown",
   "metadata": {
    "colab_type": "text",
    "id": "eHzb7TBp-tsQ"
   },
   "source": [
    "### Define Aquifer Confinement Properties\n",
    "\n",
    "Layers may be specified in flopy with variable <strong> laytyp </strong>, an array of (nlay) integer flags to say whether a model is:\n",
    "\n",
    "- <strong> =0 Confined:</strong>  Aquifer layers will be treated as confined\n",
    "- <strong> >0 Convertible:</strong> Aquifer layers will be treated as confined if the water level is above the top of the aquifer cell and unconfined if the water level is below the top of the aquifer cell.\n",
    "\n",
    "This single-layer model will be treated as confined."
   ]
  },
  {
   "cell_type": "code",
   "execution_count": 23,
   "metadata": {
    "colab": {
     "base_uri": "https://localhost:8080/",
     "height": 51
    },
    "colab_type": "code",
    "id": "OWc1ue9W-tsQ",
    "outputId": "25c1863a-e5c2-42ba-8b8e-ce493a701cbc"
   },
   "outputs": [
    {
     "name": "stdout",
     "output_type": "stream",
     "text": [
      "layer type values: \n",
      " [0 0 0 0 0 0 0 0 0 0]\n"
     ]
    }
   ],
   "source": [
    "#define layer type as confined\n",
    "laytyp = np.zeros((nlay,), dtype=np.int32)\n",
    "\n",
    "print(\"layer type values: \\n\", laytyp)"
   ]
  },
  {
   "cell_type": "markdown",
   "metadata": {
    "colab_type": "text",
    "id": "AUAWWJh3-tsT"
   },
   "source": [
    "### Define LPF object\n",
    "We now use <strong>hk</strong>, <strong>vk</strong>,  <strong>ss</strong>, and <strong>laytyp</strong> to make the 'lpf' flopy object which will be used to create the MODFLOW LPF package. <strong>ipakcb</strong> is a flag to say whether we will save cell by cell buget data (flows etc) (ipakcb>0 = save data). (<strong>Note:</strong> Flopy claims that budget data saves by using the ipakcb default settings, but it seems that ipakcb must be explicitly specified in order to be saved.)"
   ]
  },
  {
   "cell_type": "code",
   "execution_count": 24,
   "metadata": {
    "colab": {},
    "colab_type": "code",
    "id": "wTt_as_r-tsT"
   },
   "outputs": [],
   "source": [
    "lpf = flopy.modflow.ModflowLpf(model=m, hk=x_reshaped, vka=.5*z_reshaped, ss=ss, laytyp=laytyp, ipakcb=1)"
   ]
  },
  {
   "cell_type": "markdown",
   "metadata": {},
   "source": [
    "### Create DRN class"
   ]
  },
  {
   "cell_type": "code",
   "execution_count": 25,
   "metadata": {},
   "outputs": [],
   "source": [
    "ztop2 = ztop[0,:,:]"
   ]
  },
  {
   "cell_type": "code",
   "execution_count": 26,
   "metadata": {},
   "outputs": [],
   "source": [
    "\n",
    "drains = []\n",
    "for index, value in np.ndenumerate(x_reshaped[0,:,:]):\n",
    "    if value<20:\n",
    "        drains.append([0,index[0],index[1],ztop2[index],5000])\n",
    "    \n",
    "drns = {0: drains}\n"
   ]
  },
  {
   "cell_type": "code",
   "execution_count": 27,
   "metadata": {},
   "outputs": [],
   "source": [
    "drn = flopy.modflow.ModflowDrn(m, ipakcb=None, stress_period_data=drns, dtype=None, extension='drn', options=None, unitnumber=None, filenames=None)"
   ]
  },
  {
   "cell_type": "markdown",
   "metadata": {
    "colab_type": "text",
    "id": "Cv4uiIrE-tr3"
   },
   "source": [
    "If you wish to visualize the ibound variable assigned to this bas package, flopy ModelMap may be also used to display ibound. "
   ]
  },
  {
   "cell_type": "code",
   "execution_count": 28,
   "metadata": {
    "colab": {
     "base_uri": "https://localhost:8080/",
     "height": 301
    },
    "colab_type": "code",
    "id": "Q8I20pkr-tr4",
    "outputId": "09d0d93d-95b3-4694-c795-8ae73c91f3f5",
    "scrolled": false
   },
   "outputs": [
    {
     "data": {
      "image/png": "[encoded data removed]",
      "text/plain": [
       "<Figure size 432x288 with 1 Axes>"
      ]
     },
     "metadata": {
      "needs_background": "light"
     },
     "output_type": "display_data"
    }
   ],
   "source": [
    "#plot grid and ibound\n",
    "modelmap = flopy.plot.PlotMapView(model=m, layer=0)\n",
    "#grid = modelmap.plot_grid()\n",
    "drn_plot = modelmap.plot_bc(ftype='DRN')\n",
    "riv_plot = modelmap.plot_bc(ftype='RIV')\n",
    "#ib = modelmap.plot_ibound()\n",
    "#add labels and legend\n",
    "plt.xlabel('Lx (m)',fontsize = 14)\n",
    "plt.ylabel('Ly (m)',fontsize = 14)\n",
    "plt.title('Ibound', fontsize = 15, fontweight = 'bold')\n",
    "plt.legend(handles=[mp.patches.Patch(color='green',label='River',ec='black'),\n",
    "                    mp.patches.Patch(color='yellow',label='Drain',ec='black')],\n",
    "                   bbox_to_anchor=(1.5,1.0))\n",
    "plt.show(modelmap)"
   ]
  },
  {
   "cell_type": "markdown",
   "metadata": {},
   "source": [
    "### Recharge"
   ]
  },
  {
   "cell_type": "code",
   "execution_count": 29,
   "metadata": {},
   "outputs": [],
   "source": [
    "recharge = 0*x_reshaped[0,:,:]\n",
    "for index, value in np.ndenumerate(x_reshaped[0,:,:]):\n",
    "    if value<20:\n",
    "        recharge[index] = 0.0005 # ft/day\n",
    "    else:\n",
    "        recharge[index] = 0.001 # ft/day\n",
    "        \n",
    "    \n",
    "recharge = {0: recharge}"
   ]
  },
  {
   "cell_type": "code",
   "execution_count": 30,
   "metadata": {},
   "outputs": [],
   "source": [
    "rch = flopy.modflow.ModflowRch(m,nrchop=3,ipakcb=None,rech=recharge,irch=0,extension='rch')"
   ]
  },
  {
   "cell_type": "markdown",
   "metadata": {},
   "source": [
    "## V. MODFLOW WELL Package\n",
    "\n"
   ]
  },
  {
   "cell_type": "code",
   "execution_count": 31,
   "metadata": {},
   "outputs": [
    {
     "name": "stdout",
     "output_type": "stream",
     "text": [
      "     Layer  row  col   flux\n",
      "9        0   89   35  -8816\n",
      "10       0   95   35  -1924\n",
      "11       0   95   36  -5771\n",
      "23       0   45   48 -31722\n",
      "24       0   45   48 -16284\n",
      "..     ...  ...  ...    ...\n",
      "298      0   94  221  -5916\n",
      "299      0   94  221  -5916\n",
      "302      0   36  222  -3791\n",
      "314      0   40  225 -20872\n",
      "315      0  102  225 -10045\n",
      "\n",
      "[108 rows x 4 columns]\n",
      "{0: array([[      0,      88,      34,   -8816],\n",
      "       [      0,      94,      34,   -1924],\n",
      "       [      0,      94,      35,   -5771],\n",
      "       [      0,      44,      47,  -31722],\n",
      "       [      0,      44,      47,  -16284],\n",
      "       [      0,     145,      50,  -49609],\n",
      "       [      0,     145,      53,  -28069],\n",
      "       [      0,     143,      54,  -22495],\n",
      "       [      0,     181,      75,    -791],\n",
      "       [      0,     146,      75, -112242],\n",
      "       [      0,     146,      75, -112242],\n",
      "       [      0,     146,      83,  -43486],\n",
      "       [      0,     146,      87,  -53236],\n",
      "       [      0,     146,      87,   -1692],\n",
      "       [      0,     144,      87,    -924],\n",
      "       [      0,     144,      87,   -1420],\n",
      "       [      0,     102,     110,  -59204],\n",
      "       [      0,     102,     111,  -59204],\n",
      "       [      0,     100,     111,  -59204],\n",
      "       [      0,      98,     117, -109951],\n",
      "       [      0,      98,     118, -109951],\n",
      "       [      0,      95,     118, -109951],\n",
      "       [      0,      16,     119,   -8851],\n",
      "       [      0,     112,     130,  -11324],\n",
      "       [      0,     123,     131,    -806],\n",
      "       [      0,     123,     131,   -2120],\n",
      "       [      0,     171,     133,  -23167],\n",
      "       [      0,     109,     134,   -1164],\n",
      "       [      0,     178,     135,  -91810],\n",
      "       [      0,     185,     138,   -1397],\n",
      "       [      0,     149,     138,   -9878],\n",
      "       [      0,      74,     139,   -2560],\n",
      "       [      0,      74,     140,   -2259],\n",
      "       [      0,      74,     140,    -583],\n",
      "       [      0,     150,     140,  -15179],\n",
      "       [      0,     186,     142,  -59556],\n",
      "       [      0,      42,     144,   -1377],\n",
      "       [      0,      72,     145,  -40868],\n",
      "       [      0,     202,     146,  -74658],\n",
      "       [      0,      50,     147,   -1046],\n",
      "       [      0,      71,     147,   -1963],\n",
      "       [      0,     123,     148,    -616],\n",
      "       [      0,     181,     149,  -41402],\n",
      "       [      0,      62,     149,   -1102],\n",
      "       [      0,      62,     149,    -650],\n",
      "       [      0,     196,     150,  -55309],\n",
      "       [      0,     161,     150,  -75089],\n",
      "       [      0,     187,     151,   -2793],\n",
      "       [      0,      93,     153,   -1925],\n",
      "       [      0,     142,     156,   -1242],\n",
      "       [      0,     158,     160,  -35514],\n",
      "       [      0,      72,     160,  -12288],\n",
      "       [      0,     112,     163,  -28290],\n",
      "       [      0,     112,     163,  -27458],\n",
      "       [      0,       2,     165,  -14839],\n",
      "       [      0,     138,     168,   -7653],\n",
      "       [      0,     144,     168, -102200],\n",
      "       [      0,     144,     168,  -53056],\n",
      "       [      0,      95,     169,    -510],\n",
      "       [      0,     164,     171,  -39736],\n",
      "       [      0,      63,     171,   -1185],\n",
      "       [      0,       9,     174,  -13241],\n",
      "       [      0,     185,     175,  -26632],\n",
      "       [      0,      16,     177,  -14132],\n",
      "       [      0,      64,     178,  -12492],\n",
      "       [      0,     142,     178,  -55588],\n",
      "       [      0,      73,     179,   -1224],\n",
      "       [      0,      88,     179,  -58594],\n",
      "       [      0,      63,     179,  -18651],\n",
      "       [      0,      62,     179,   -1352],\n",
      "       [      0,      88,     180,  -74383],\n",
      "       [      0,     160,     181,   -8162],\n",
      "       [      0,      65,     182,  -40509],\n",
      "       [      0,      70,     185,   -1721],\n",
      "       [      0,      70,     185,   -2072],\n",
      "       [      0,      70,     186,    -655],\n",
      "       [      0,     200,     188,  -84773],\n",
      "       [      0,     202,     189,  -39744],\n",
      "       [      0,     199,     189,   -7379],\n",
      "       [      0,      27,     191,   -2942],\n",
      "       [      0,     178,     192,  -46830],\n",
      "       [      0,      98,     192,  -22101],\n",
      "       [      0,      98,     192,  -43063],\n",
      "       [      0,     172,     193,  -68105],\n",
      "       [      0,     167,     197,  -51262],\n",
      "       [      0,      30,     199,   -3638],\n",
      "       [      0,      34,     199,  -33846],\n",
      "       [      0,      34,     199,  -33846],\n",
      "       [      0,     172,     199,  -12523],\n",
      "       [      0,      68,     203,    -567],\n",
      "       [      0,      80,     203,  -11335],\n",
      "       [      0,     172,     203,  -35400],\n",
      "       [      0,     171,     204,  -26739],\n",
      "       [      0,     133,     204,  -27458],\n",
      "       [      0,     135,     205,   -3880],\n",
      "       [      0,     135,     205,   -1940],\n",
      "       [      0,      51,     208,    -738],\n",
      "       [      0,      64,     209,  -21317],\n",
      "       [      0,     123,     210,   -4763],\n",
      "       [      0,     122,     210,   -3468],\n",
      "       [      0,     128,     215,  -13570],\n",
      "       [      0,     128,     215,  -12129],\n",
      "       [      0,      52,     218,  -30960],\n",
      "       [      0,      93,     220,   -5916],\n",
      "       [      0,      93,     220,   -5916],\n",
      "       [      0,      35,     221,   -3791],\n",
      "       [      0,      39,     224,  -20872],\n",
      "       [      0,     101,     224,  -10045]], dtype=int64)}\n"
     ]
    }
   ],
   "source": [
    "# Below ids the setup for well stress period 59\n",
    "\n",
    "Well_stress = pd.read_csv('newminwelldata.csv')\n",
    "Well_stress=Well_stress[['Layer', 'row', 'col', 'flux']]\n",
    "Well_stress = Well_stress[Well_stress.flux <-500]\n",
    "print (Well_stress)\n",
    "\n",
    "# Daniel, I think in your video you used the next 4 lines to remove column names before coverting to dictionary. \n",
    "# In this code they add -1s to dataframe, but wells plot and it runs (where we were last time).\n",
    "\n",
    "# Well_stress['Layer']=Well_stress['Layer']-1\n",
    "Well_stress['row']=Well_stress['row']-1\n",
    "Well_stress['col']=Well_stress['col']-1\n",
    "# Well_stress['flux']=Well_stress['flux']-1\n",
    "\n",
    "Well_stress=Well_stress.to_numpy()\n",
    "Well_stress = {0: Well_stress}\n",
    "print(Well_stress)\n",
    "\n",
    "# This seems to create dictionary without indeces, but does not run through well plotting routine.\n",
    "\n",
    "# Any suggestions?"
   ]
  },
  {
   "cell_type": "code",
   "execution_count": 32,
   "metadata": {},
   "outputs": [],
   "source": [
    "# Create flopy wel class \n",
    "# ModflowWel(model, ipakcb=None, stress_period_data=None, dtype=None, extension='wel', options=None, binary=False, unitnumber=None, filenames=None, add_package=True)\n",
    "\n",
    "wel = flopy.modflow.ModflowWel(m, ipakcb=None, stress_period_data=Well_stress, dtype=None, extension='wel', options=None, binary=False, unitnumber=None, filenames=None,)"
   ]
  },
  {
   "cell_type": "code",
   "execution_count": 33,
   "metadata": {},
   "outputs": [
    {
     "data": {
      "image/png": "[encoded data removed]",
      "text/plain": [
       "<Figure size 432x288 with 1 Axes>"
      ]
     },
     "metadata": {
      "needs_background": "light"
     },
     "output_type": "display_data"
    }
   ],
   "source": [
    "#CHECK WELL LOCATION\n",
    "#use flopy to plot grid, ibound, and wells\n",
    "modelmap = flopy.plot.PlotMapView(model=m, layer=0)\n",
    "# grid = modelmap.plot_grid()\n",
    "ib = modelmap.plot_ibound()\n",
    "wel = modelmap.plot_bc(ftype='WEL')\n",
    "#add labels and legend\n",
    "plt.xlabel('Lx (ft)',fontsize = 14)\n",
    "plt.ylabel('Ly (ft)',fontsize = 14)\n",
    "plt.title('Well and Boundary Conditions', fontsize = 15, fontweight = 'bold')\n",
    "plt.legend(handles=[mp.patches.Patch(color='red',label='Well',ec='black'),\n",
    "                   mp.patches.Patch(color='blue',label='Const Head',ec='black'),\n",
    "                   mp.patches.Patch(color='white',label='Active Cell',ec='black'),\n",
    "                   mp.patches.Patch(color='black',label='Inactive Cell',ec='black')],\n",
    "                   bbox_to_anchor=(1.5,1.0))\n",
    "plt.show(modelmap)"
   ]
  },
  {
   "cell_type": "markdown",
   "metadata": {
    "colab_type": "text",
    "id": "lN9NnaJp-tsW"
   },
   "source": [
    " <a name=\"V\"></a> \n",
    "## V. MODFLOW OC Package\n",
    "\n",
    "The OC package tells MODFLOW which attributes of the head and flow solutions should be printed and saved for each stress period during the model run. \n",
    "\n",
    "### Create Output Control Stress Period Data \n",
    "To designate what data to save, we create variable <strong> spd </strong> as a  dictionary of stress period data to be used as an argument for the flopy oc function. This takes the form: \n",
    "\n",
    "spd = {(stress period, time step): ['PRINT HEAD', 'PRINT BUDGET', 'SAVE HEAD', 'SAVE DRAWDOWN', 'SAVE IBOUND', 'SAVE BUDGET']} \n",
    "\n",
    "<strong> Note </strong> that the list of strings may be modified if you wish to only save some of the data. Here we will choose to record and save budget and head values for our steady-state model with a single stress period/time step as we specified in the 'dis' object."
   ]
  },
  {
   "cell_type": "code",
   "execution_count": 34,
   "metadata": {
    "colab": {
     "base_uri": "https://localhost:8080/",
     "height": 51
    },
    "colab_type": "code",
    "id": "ZhS76ZhR-tsW",
    "outputId": "d9d4519b-16d7-4d21-ca91-1985e547c3b4"
   },
   "outputs": [
    {
     "name": "stdout",
     "output_type": "stream",
     "text": [
      "oc stress period data: \n",
      " {(0, 0): ['print head', 'print budget', 'save head', 'save budget']}\n"
     ]
    }
   ],
   "source": [
    "#create oc stress period data. \n",
    "spd = {(0, 0): ['print head', 'print budget', 'save head', 'save budget']}\n",
    "\n",
    "print(\"oc stress period data: \\n\", spd)"
   ]
  },
  {
   "cell_type": "markdown",
   "metadata": {
    "colab_type": "text",
    "id": "csjXWIGa-tsY"
   },
   "source": [
    "### Define OC object\n",
    "We will use <strong>spd</strong> to make the 'oc' flopy object which will later be used to create the MODFLOW OC package."
   ]
  },
  {
   "cell_type": "code",
   "execution_count": 35,
   "metadata": {
    "colab": {},
    "colab_type": "code",
    "id": "bXAWNdCl-tsZ"
   },
   "outputs": [],
   "source": [
    "oc = flopy.modflow.ModflowOc(model=m, stress_period_data=spd, compact=True)"
   ]
  },
  {
   "cell_type": "markdown",
   "metadata": {
    "colab_type": "text",
    "collapsed": true,
    "id": "AkSlPEE0-tsc"
   },
   "source": [
    " <a name=\"VI\"></a> \n",
    "## VI. MODFLOW PCG Package\n",
    "\n",
    "Attaching the PCG Package to a MODFLOW model, tells MODFLOW to use the Preconditioned Conjugate Gradient Package to solve the finite difference equation. Seeing as this model is steady-state in a very simple domain, the PCG package should have little trouble solving the parabolic groundwater flow equation with its default settings. However, MODFLOW has numerous other solver packages (Newton-Raphson (NWT), Direct Solver (DE4), Strongly Implicit Procedure (SIP), etc) that may be applicable to other models. Additionally, you may want to tweak the solving criterion depending on your model. If you are interested in the nitty gritty of these methods, the MODFLOW-2005 manual is a good resource: https://pubs.usgs.gov/tm/2005/tm6A16/PDF/TM6A16.pdf. \n",
    "\n",
    "Additionally, MODFLOW online describes these solvers: https://water.usgs.gov/ogw/modflow/MODFLOW-2005-Guide/index.html?oc.htm\n",
    "\n",
    "And Flopy documents its communication with the PCG MODFLOW package:\n",
    "http://modflowpy.github.io/flopydoc/mfpcg.html\n"
   ]
  },
  {
   "cell_type": "markdown",
   "metadata": {
    "colab_type": "text",
    "id": "AhjNM62Q-tsc"
   },
   "source": [
    "### Define PCG object\n",
    "\n",
    "Here we will create the flopy pcg object which will be used to create the MODFLOW PCG package."
   ]
  },
  {
   "cell_type": "code",
   "execution_count": 36,
   "metadata": {
    "colab": {},
    "colab_type": "code",
    "id": "MiM8z4kP-tsd"
   },
   "outputs": [],
   "source": [
    "#pcg = flopy.modflow.ModflowPcg(model=m)\n",
    "pcg = flopy.modflow.ModflowPcg(model=m,mxiter=100,iter1=50,hclose=0.001,rclose=1,relax=0.98,damp=0.7)"
   ]
  },
  {
   "cell_type": "markdown",
   "metadata": {},
   "source": [
    "### Define LMT object\n",
    "Finally, we need to create a linkage package to allow the MODFLOW model to connect to a solute transport model"
   ]
  },
  {
   "cell_type": "code",
   "execution_count": 37,
   "metadata": {},
   "outputs": [],
   "source": [
    "lmt = flopy.modflow.ModflowLmt(m)\n"
   ]
  },
  {
   "cell_type": "markdown",
   "metadata": {
    "colab_type": "text",
    "id": "Bziadt8U-tsf"
   },
   "source": [
    " <a name=\"VII\"></a> \n",
    "## VII. Write MODFLOW Input Files\n",
    "\n",
    "Now that we have created all the flopy class instances for the packages we wish to attach to our model (dis, bas, lpf, oc, and pcg), we can use flopy to write the MODFLOW input files for our MODFLOW executable to read. This is done simply with:"
   ]
  },
  {
   "cell_type": "code",
   "execution_count": 38,
   "metadata": {
    "colab": {},
    "colab_type": "code",
    "id": "nRNxjocD-tsg"
   },
   "outputs": [],
   "source": [
    "#write MODFLOW input files\n",
    "m.write_input()"
   ]
  },
  {
   "cell_type": "markdown",
   "metadata": {
    "colab_type": "text",
    "id": "0xUnV9K_-tsi"
   },
   "source": [
    "Flopy should have created 6 new files in your working directory that look something like:\n",
    "\n",
    "<img src=\"https://i.imgur.com/AjODHeO.png\" title=\"modflow_files\" /></a>\n",
    "\n",
    "The file to pay attention to is the \"my_model.nam\" file. This file governs which packages will be attached to your MODFLOW file. Inside the name file it will list all the packages to be attached to your model as well as specify that BINARY DATA files that it will write as an output. (my_model.hds, my_model.cbc)\n",
    "\n",
    "<img src=\"https://i.imgur.com/8KOHV9T.png\" title=\"nam_file\" /></a>\n",
    "\n",
    "Another file to pay attention to, post run, is the LIST file. This will have additional information on how the packages are attached to your model as well as MODFLOW mass-balance budgets during the model run. "
   ]
  },
  {
   "cell_type": "markdown",
   "metadata": {
    "colab_type": "text",
    "id": "Mdj15LLe-tsj"
   },
   "source": [
    " <a name=\"VIII\"></a> \n",
    "## VIII. Run MODFLOW Model\n",
    "\n",
    "We can now run the MODFLOW model with the packages specified in the .nam file using the executable specified in the definition of our flopy model 'm':"
   ]
  },
  {
   "cell_type": "code",
   "execution_count": 39,
   "metadata": {
    "colab": {
     "base_uri": "https://localhost:8080/",
     "height": 341
    },
    "colab_type": "code",
    "id": "46RApn-U-tsk",
    "outputId": "76cea2e7-bc1f-48a6-8f27-038d56aaac4b"
   },
   "outputs": [
    {
     "name": "stdout",
     "output_type": "stream",
     "text": [
      "FloPy is using the following executable to run the model: .\\mf2005.EXE\n",
      "\n",
      "                                  MODFLOW-2005     \n",
      "    U.S. GEOLOGICAL SURVEY MODULAR FINITE-DIFFERENCE GROUND-WATER FLOW MODEL\n",
      "                             Version 1.12.00 2/3/2017                        \n",
      "\n",
      " Using NAME file: my_model.nam \n",
      " Run start date and time (yyyy/mm/dd hh:mm:ss): 2022/04/27 20:05:39\n",
      "\n",
      " Solving:  Stress period:     1    Time step:     1    Ground-Water Flow Eqn.\n",
      " Run end date and time (yyyy/mm/dd hh:mm:ss): 2022/04/27 20:05:56\n",
      " Elapsed run time: 16.949 Seconds\n",
      "\n",
      "  Normal termination of simulation\n"
     ]
    }
   ],
   "source": [
    "# Run the model\n",
    "success, mfoutput = m.run_model(pause=False, report=True)\n",
    "if not success:\n",
    "    raise Exception('MODFLOW did not terminate normally.')"
   ]
  },
  {
   "cell_type": "markdown",
   "metadata": {
    "colab_type": "text",
    "id": "w9Tz7FRB-tsn"
   },
   "source": [
    "If the run was successful, you should have seen a window reporting the run time data. "
   ]
  },
  {
   "cell_type": "markdown",
   "metadata": {
    "colab_type": "text",
    "id": "fycMgCk7-tsn"
   },
   "source": [
    " <a name=\"IX\"></a> \n",
    "## IX. Read Head/Flow Data\n",
    "\n",
    "We will now make use of flopy's binary file reader and plotting capabilities to read and display the model output."
   ]
  },
  {
   "cell_type": "markdown",
   "metadata": {
    "colab_type": "text",
    "id": "3BgOzzHT-tso"
   },
   "source": [
    "### Read Head Data\n",
    "\n",
    "Head data from the my_model.hds file will be stored as a flopy head object."
   ]
  },
  {
   "cell_type": "code",
   "execution_count": 40,
   "metadata": {
    "colab": {},
    "colab_type": "code",
    "id": "c6Xhze2B-tsp"
   },
   "outputs": [
    {
     "name": "stdout",
     "output_type": "stream",
     "text": [
      "flopy head object: \n",
      " <flopy.utils.binaryfile.HeadFile object at 0x0000021190B05A60>\n"
     ]
    }
   ],
   "source": [
    "#extract binary data from head file as flopy head object\n",
    "headobj = flopy.utils.binaryfile.HeadFile(modelname+'.hds')\n",
    "\n",
    "print(\"flopy head object: \\n\", headobj)"
   ]
  },
  {
   "cell_type": "markdown",
   "metadata": {
    "colab_type": "text",
    "id": "FGcXE0-K-tss"
   },
   "source": [
    "This head object has different attributes that can be extracted from it such as the times used in the model run, head data, databytes and more. For information on how to access these functions see: http://modflowpy.github.io/flopydoc/binaryfile.html\n",
    "\n",
    "For this model, we will extract the head data after our single stress period (totim=1.0)."
   ]
  },
  {
   "cell_type": "code",
   "execution_count": 41,
   "metadata": {
    "colab": {},
    "colab_type": "code",
    "id": "Mm_sQnvB-tss"
   },
   "outputs": [],
   "source": [
    "#extract head data from head object\n",
    "head = headobj.get_data(totim=1.0)"
   ]
  },
  {
   "cell_type": "code",
   "execution_count": 42,
   "metadata": {
    "colab": {},
    "colab_type": "code",
    "id": "XWj475Qg-tsu"
   },
   "outputs": [
    {
     "data": {
      "text/plain": [
       "array([[[920.2436 , 920.1382 , 920.1689 , ..., 770.1584 , 770.1042 ,\n",
       "         770.1175 ],\n",
       "        [920.0708 , 919.99146, 920.03314, ..., 770.1666 , 770.1413 ,\n",
       "         770.17725],\n",
       "        [919.8265 , 919.75745, 919.7661 , ..., 770.1261 , 770.0953 ,\n",
       "         770.0999 ],\n",
       "        ...,\n",
       "        [844.1644 , 847.0532 , 849.91205, ..., 757.90234, 757.88947,\n",
       "         757.9181 ],\n",
       "        [850.4557 , 851.19507, 852.0868 , ..., 758.0102 , 757.9763 ,\n",
       "         758.02   ],\n",
       "        [852.4137 , 852.6824 , 852.8188 , ..., 758.07495, 758.055  ,\n",
       "         758.069  ]],\n",
       "\n",
       "       [[920.2207 , 920.1152 , 920.146  , ..., 769.992  , 769.9565 ,\n",
       "         769.9367 ],\n",
       "        [920.0479 , 919.9685 , 920.01025, ..., 769.9623 , 769.93195,\n",
       "         769.9171 ],\n",
       "        [919.8036 , 919.7345 , 919.74316, ..., 769.9123 , 769.888  ,\n",
       "         769.8786 ],\n",
       "        ...,\n",
       "        [844.2351 , 847.06177, 849.8899 , ..., 757.85834, 757.8297 ,\n",
       "         757.8137 ],\n",
       "        [850.4338 , 851.17285, 852.06433, ..., 757.9804 , 757.9311 ,\n",
       "         757.9025 ],\n",
       "        [852.39124, 852.65985, 852.7966 , ..., 758.03735, 757.978  ,\n",
       "         757.9477 ]],\n",
       "\n",
       "       [[920.1979 , 920.0922 , 920.1231 , ..., 769.90027, 769.85706,\n",
       "         769.7855 ],\n",
       "        [920.025  , 919.9455 , 919.9874 , ..., 769.86523, 769.8201 ,\n",
       "         769.7582 ],\n",
       "        [919.78064, 919.7115 , 919.7203 , ..., 769.8187 , 769.78827,\n",
       "         769.7559 ],\n",
       "        ...,\n",
       "        [844.3029 , 847.0705 , 849.8685 , ..., 757.41956, 757.3889 ,\n",
       "         757.3669 ],\n",
       "        [850.4129 , 851.15137, 852.04236, ..., 757.5075 , 757.46515,\n",
       "         757.43365],\n",
       "        [852.36926, 852.6379 , 852.77515, ..., 757.5485 , 757.4973 ,\n",
       "         757.46747]],\n",
       "\n",
       "       ...,\n",
       "\n",
       "       [[915.68677, 915.18134, 914.95325, ..., 769.33026, 769.31915,\n",
       "         769.3135 ],\n",
       "        [914.8466 , 914.82275, 914.79   , ..., 769.28656, 769.27637,\n",
       "         769.2807 ],\n",
       "        [914.58203, 914.5883 , 914.5938 , ..., 769.19794, 769.18475,\n",
       "         769.1844 ],\n",
       "        ...,\n",
       "        [845.49927, 847.2643 , 849.372  , ..., 756.9579 , 756.9395 ,\n",
       "         756.93   ],\n",
       "        [849.9803 , 850.6666 , 851.49146, ..., 757.0135 , 756.9914 ,\n",
       "         756.98016],\n",
       "        [851.8685 , 852.13464, 852.2743 , ..., 757.0406 , 757.0175 ,\n",
       "         757.0058 ]],\n",
       "\n",
       "       [[915.6815 , 915.1809 , 914.9532 , ..., 769.33   , 769.31866,\n",
       "         769.3082 ],\n",
       "        [914.8488 , 914.82336, 914.78986, ..., 769.28625, 769.2761 ,\n",
       "         769.28595],\n",
       "        [914.5823 , 914.5884 , 914.5936 , ..., 769.197  , 769.1838 ,\n",
       "         769.1839 ],\n",
       "        ...,\n",
       "        [845.5093 , 847.26434, 849.36835, ..., 756.93634, 756.921  ,\n",
       "         756.9139 ],\n",
       "        [849.9767 , 850.6632 , 851.4885 , ..., 756.99023, 756.97284,\n",
       "         756.96466],\n",
       "        [851.8654 , 852.1316 , 852.2716 , ..., 757.019  , 757.0004 ,\n",
       "         756.99207]],\n",
       "\n",
       "       [[915.6813 , 915.1809 , 914.9532 , ..., 769.33   , 769.3186 ,\n",
       "         769.3082 ],\n",
       "        [914.84894, 914.82336, 914.78986, ..., 769.2862 , 769.27606,\n",
       "         769.2859 ],\n",
       "        [914.5823 , 914.5884 , 914.5936 , ..., 769.1969 , 769.1836 ,\n",
       "         769.1838 ],\n",
       "        ...,\n",
       "        [845.5143 , 847.26434, 849.3665 , ..., 756.93634, 756.92096,\n",
       "         756.9139 ],\n",
       "        [849.97485, 850.6615 , 851.4871 , ..., 756.99023, 756.9728 ,\n",
       "         756.96466],\n",
       "        [851.8639 , 852.13007, 852.27026, ..., 757.019  , 757.0004 ,\n",
       "         756.99207]]], dtype=float32)"
      ]
     },
     "execution_count": 42,
     "metadata": {},
     "output_type": "execute_result"
    }
   ],
   "source": [
    "head"
   ]
  },
  {
   "cell_type": "markdown",
   "metadata": {
    "colab_type": "text",
    "id": "w2kzCLhs-tsw"
   },
   "source": [
    "### Read Flow Data\n",
    "\n",
    "Flopy's binary budget data reader will be used to read in the budget data from my_model.cbc as a flopy budget object. (See: http://modflowpy.github.io/flopydoc/binaryfile.html#flopy.utils.binaryfile.CellBudgetFile for more info)"
   ]
  },
  {
   "cell_type": "code",
   "execution_count": 43,
   "metadata": {
    "colab": {},
    "colab_type": "code",
    "id": "8Iwx6e7i-tsx"
   },
   "outputs": [
    {
     "name": "stdout",
     "output_type": "stream",
     "text": [
      "flopy budget object: \n",
      " <flopy.utils.binaryfile.CellBudgetFile object at 0x0000021190B05FA0>\n"
     ]
    }
   ],
   "source": [
    "#extract binary data from budget file as flopy budget object\n",
    "budgobj = flopy.utils.binaryfile.CellBudgetFile(modelname+'.cbc')\n",
    "\n",
    "print(\"flopy budget object: \\n\", budgobj)"
   ]
  },
  {
   "cell_type": "markdown",
   "metadata": {
    "colab_type": "text",
    "id": "uKNDrYb_-tsz"
   },
   "source": [
    "We can now extract the data from this by passing a string in the CellBudgetFile function's \"text\" argument to call which part of the data we want to get. Here we will access the flow data for the right face  and front face of each grid cell and save the data as variables 'frf' and 'fff' which are output as arrays."
   ]
  },
  {
   "cell_type": "code",
   "execution_count": 44,
   "metadata": {
    "colab": {},
    "colab_type": "code",
    "id": "S99JbvlX-ts0"
   },
   "outputs": [
    {
     "name": "stdout",
     "output_type": "stream",
     "text": [
      "Flow through Right Face of Grid Cells m^3/d \n",
      " [array([[[ 2.66527712e-01, -7.77307302e-02,  2.36197785e-02, ...,\n",
      "          6.44973612e+00, -1.58595967e+00,  0.00000000e+00],\n",
      "        [ 2.00593293e-01, -1.05346389e-01,  1.12936109e-01, ...,\n",
      "          3.00747132e+00, -4.26928902e+00,  0.00000000e+00],\n",
      "        [ 1.74540475e-01, -2.19442304e-02,  1.15048036e-01, ...,\n",
      "          3.66303968e+00, -5.49212039e-01,  0.00000000e+00],\n",
      "        ...,\n",
      "        [-7.30382872e+00, -7.22799253e+00, -3.86576104e+00, ...,\n",
      "          1.53229070e+00, -3.40729928e+00,  0.00000000e+00],\n",
      "        [-1.86946273e+00, -2.25455594e+00, -1.60931146e+00, ...,\n",
      "          4.03147650e+00, -5.19542122e+00,  0.00000000e+00],\n",
      "        [-6.79173648e-01, -3.44923466e-01,  4.35176611e+00, ...,\n",
      "          2.36957383e+00, -1.65752089e+00,  0.00000000e+00]],\n",
      "\n",
      "       [[ 2.66728878e-01, -7.78549910e-02,  2.35675275e-02, ...,\n",
      "          4.96119934e+02,  2.84199402e+02,  0.00000000e+00],\n",
      "        [ 2.00732023e-01, -1.05535239e-01,  1.13040887e-01, ...,\n",
      "          5.77687073e+02,  3.21088715e+02,  0.00000000e+00],\n",
      "        [ 1.74652502e-01, -2.20156517e-02,  1.15196936e-01, ...,\n",
      "          4.71387238e+02,  1.84653244e+02,  0.00000000e+00],\n",
      "        ...,\n",
      "        [-7.14660597e+00, -7.15042162e+00, -3.86511421e+00, ...,\n",
      "          1.29589828e+02,  1.08437630e+02,  0.00000000e+00],\n",
      "        [-1.86864376e+00, -2.25395131e+00, -1.60999310e+00, ...,\n",
      "          1.54712692e+02,  1.65131042e+02,  0.00000000e+00],\n",
      "        [-6.79118633e-01, -3.45657736e-01,  4.21272850e+00, ...,\n",
      "          2.68078522e+02,  2.61239410e+02,  0.00000000e+00]],\n",
      "\n",
      "       [[ 2.67131418e-01, -7.81036168e-02,  2.34629363e-02, ...,\n",
      "          1.09297112e-01,  1.80910021e-01,  0.00000000e+00],\n",
      "        [ 2.01009601e-01, -1.05913162e-01,  1.13250576e-01, ...,\n",
      "          1.13945968e-01,  1.56654701e-01,  0.00000000e+00],\n",
      "        [ 1.74876630e-01, -2.21585669e-02,  1.15494944e-01, ...,\n",
      "          7.69840777e-02,  8.17073211e-02,  0.00000000e+00],\n",
      "        ...,\n",
      "        [-6.99719858e+00, -7.07435179e+00, -3.86384630e+00, ...,\n",
      "          3.21708918e+00,  2.36243510e+00,  0.00000000e+00],\n",
      "        [-1.86705041e+00, -2.25276494e+00, -1.61131692e+00, ...,\n",
      "          4.92937708e+00,  3.71387362e+00,  0.00000000e+00],\n",
      "        [-6.79011106e-01, -3.47080469e-01,  4.07946444e+00, ...,\n",
      "          6.27415562e+00,  3.77292418e+00,  0.00000000e+00]],\n",
      "\n",
      "       ...,\n",
      "\n",
      "       [[ 3.45728226e+01,  1.96935062e+01,  7.84679699e+00, ...,\n",
      "          7.86690474e-01,  3.37899774e-01,  0.00000000e+00],\n",
      "        [ 1.69229448e+00,  2.91147470e+00,  2.31876874e+00, ...,\n",
      "          7.96642542e-01, -3.06047261e-01,  0.00000000e+00],\n",
      "        [-4.48495656e-01, -4.77541983e-01, -3.47699732e-01, ...,\n",
      "          1.13433492e+00,  2.74872445e-02,  0.00000000e+00],\n",
      "        ...,\n",
      "        [-4.72064391e-02, -5.63700013e-02, -3.98310982e-02, ...,\n",
      "          2.18143058e+00,  1.13404882e+00,  0.00000000e+00],\n",
      "        [-1.83567610e-02, -2.20596269e-02, -1.73842721e-02, ...,\n",
      "          2.62768030e+00,  1.33528304e+00,  0.00000000e+00],\n",
      "        [-7.11733522e-03, -3.73510481e-03,  1.31661855e-02, ...,\n",
      "          2.74687934e+00,  1.39116704e+00,  0.00000000e+00]],\n",
      "\n",
      "       [[ 6.76119626e-01,  3.07617337e-01,  9.94534567e-02, ...,\n",
      "          2.96485871e-02,  5.41621223e-02,  0.00000000e+00],\n",
      "        [ 3.44106294e-02,  4.52334397e-02,  2.88603958e-02, ...,\n",
      "          2.64270213e-02, -5.03688492e-02,  0.00000000e+00],\n",
      "        [-8.26626923e-03, -7.10128760e-03, -4.19252319e-03, ...,\n",
      "          3.45742628e-02, -4.31562716e-04,  0.00000000e+00],\n",
      "        ...,\n",
      "        [-4.69393432e-02, -5.62714785e-02, -3.98391187e-02, ...,\n",
      "          1.10083778e+02,  4.46558762e+01,  0.00000000e+00],\n",
      "        [-1.83617976e-02, -2.20738631e-02, -1.73926875e-02, ...,\n",
      "          1.26612373e+02,  4.96832352e+01,  0.00000000e+00],\n",
      "        [-7.11875642e-03, -3.74471303e-03,  1.29873110e-02, ...,\n",
      "          1.18259361e+02,  4.48365097e+01,  0.00000000e+00]],\n",
      "\n",
      "       [[ 6.75851047e-01,  3.07601064e-01,  9.94659364e-02, ...,\n",
      "          2.97402553e-02,  2.70708520e-02,  0.00000000e+00],\n",
      "        [ 3.45022157e-02,  4.52625677e-02,  2.88663004e-02, ...,\n",
      "          2.64387205e-02, -2.56677084e-02,  0.00000000e+00],\n",
      "        [-8.25815368e-03, -7.09366193e-03, -4.19003470e-03, ...,\n",
      "          3.46233100e-02, -3.96829477e-04,  0.00000000e+00],\n",
      "        ...,\n",
      "        [-4.68061157e-02, -5.62221482e-02, -3.98431122e-02, ...,\n",
      "          4.10622917e-04,  1.90602092e-04,  0.00000000e+00],\n",
      "        [-1.83642469e-02, -2.20809542e-02, -1.73969343e-02, ...,\n",
      "          4.66350088e-04,  2.18490619e-04,  0.00000000e+00],\n",
      "        [-7.11947307e-03, -3.74955079e-03,  1.28980279e-02, ...,\n",
      "          4.95319720e-04,  2.23856652e-04,  0.00000000e+00]]],\n",
      "      dtype=float32)] \n",
      " Flow through Front Face of Grid Cells m^3/d \n",
      " [array([[[ 4.36805040e-01,  3.70870620e-01,  3.43254954e-01, ...,\n",
      "         -9.74956453e-01, -4.41722155e+00, -7.10055065e+00],\n",
      "        [ 6.17723703e-01,  5.91670871e-01,  6.75073028e-01, ...,\n",
      "          4.82033396e+00,  5.47590208e+00,  9.19597816e+00],\n",
      "        [ 7.45836377e-01,  7.13988602e-01,  7.04159439e-01, ...,\n",
      "          1.27017641e+01,  1.13926945e+01,  1.52558126e+01],\n",
      "        ...,\n",
      "        [-1.59063196e+01, -1.04719534e+01, -5.49851751e+00, ...,\n",
      "         -1.28250217e+01, -1.03258352e+01, -1.21139574e+01],\n",
      "        [-4.95057821e+00, -3.76028919e+00, -1.85065687e+00, ...,\n",
      "         -7.69741774e+00, -9.35932064e+00, -5.82142019e+00],\n",
      "        [ 0.00000000e+00,  0.00000000e+00,  0.00000000e+00, ...,\n",
      "          0.00000000e+00,  0.00000000e+00,  0.00000000e+00]],\n",
      "\n",
      "       [[ 4.36900735e-01,  3.70903850e-01,  3.43223631e-01, ...,\n",
      "          4.99426208e+02,  3.79376282e+02,  3.84915253e+02],\n",
      "        [ 6.17747188e-01,  5.91667652e-01,  6.75187171e-01, ...,\n",
      "          9.67753296e+02,  8.36175354e+02,  8.66518188e+02],\n",
      "        [ 7.45950997e-01,  7.14060247e-01,  7.04193234e-01, ...,\n",
      "          1.45609131e+03,  1.34238721e+03,  1.24108240e+03],\n",
      "        ...,\n",
      "        [-1.56721773e+01, -1.03942146e+01, -5.49774456e+00, ...,\n",
      "         -3.83220520e+02, -4.59168457e+02, -8.91471069e+02],\n",
      "        [-4.94914484e+00, -3.75961947e+00, -1.85132575e+00, ...,\n",
      "         -1.66883163e+02, -2.35934784e+02, -4.99369843e+02],\n",
      "        [ 0.00000000e+00,  0.00000000e+00,  0.00000000e+00, ...,\n",
      "          0.00000000e+00,  0.00000000e+00,  0.00000000e+00]],\n",
      "\n",
      "       [[ 4.37092125e-01,  3.70970309e-01,  3.43160778e-01, ...,\n",
      "          8.86589065e-02,  9.33077708e-02,  6.90524578e-02],\n",
      "        [ 6.17794037e-01,  5.91661036e-01,  6.75415635e-01, ...,\n",
      "          1.17601536e-01,  8.06396306e-02,  5.69225196e-03],\n",
      "        [ 7.46180356e-01,  7.14203477e-01,  7.04260767e-01, ...,\n",
      "          1.55850142e-01,  1.57746807e-01,  1.00772716e-01],\n",
      "        ...,\n",
      "        [-1.54479580e+01, -1.03178101e+01, -5.49622297e+00, ...,\n",
      "         -9.63687897e+00, -8.47263813e+00, -7.59325981e+00],\n",
      "        [-4.94634819e+00, -3.75830889e+00, -1.85262442e+00, ...,\n",
      "         -4.87395811e+00, -3.86766315e+00, -4.19413853e+00],\n",
      "        [ 0.00000000e+00,  0.00000000e+00,  0.00000000e+00, ...,\n",
      "          0.00000000e+00,  0.00000000e+00,  0.00000000e+00]],\n",
      "\n",
      "       ...,\n",
      "\n",
      "       [[ 5.20236549e+01,  2.85536652e+01,  1.58882017e+01, ...,\n",
      "          3.36182189e+00,  3.07185674e+00,  1.92366052e+00],\n",
      "        [ 1.70496616e+01,  1.86661243e+01,  1.93471889e+01, ...,\n",
      "          7.59053373e+00,  7.18681955e+00,  6.56898642e+00],\n",
      "        [ 1.46777830e+01,  1.74374485e+01,  2.09295368e+01, ...,\n",
      "          1.56723032e+01,  1.48298101e+01,  1.30743914e+01],\n",
      "        ...,\n",
      "        [-1.19845085e-01, -9.09954086e-02, -5.66850342e-02, ...,\n",
      "         -6.61564112e+00, -6.16939163e+00, -5.96815729e+00],\n",
      "        [-5.05012795e-02, -3.92618552e-02, -2.09373329e-02, ...,\n",
      "         -3.22295904e+00, -3.10376024e+00, -3.04787612e+00],\n",
      "        [ 0.00000000e+00,  0.00000000e+00,  0.00000000e+00, ...,\n",
      "          0.00000000e+00,  0.00000000e+00,  0.00000000e+00]],\n",
      "\n",
      "       [[ 1.12469673e+00,  4.82987791e-01,  2.20603898e-01, ...,\n",
      "          1.14195250e-01,  1.10973693e-01,  4.23209095e+00],\n",
      "        [ 3.60059202e-01,  3.17382306e-01,  2.65047580e-01, ...,\n",
      "          2.32660696e-01,  2.40807936e-01,  5.20804703e-01],\n",
      "        [ 3.01871985e-01,  3.00633252e-01,  2.94407308e-01, ...,\n",
      "          4.67162371e-01,  4.93321508e-01,  5.03311038e-01],\n",
      "        ...,\n",
      "        [-1.19480170e-01, -9.09026191e-02, -5.67050092e-02, ...,\n",
      "         -4.19620483e+02, -3.48446625e+02, -2.89706451e+02],\n",
      "        [-5.05148843e-02, -3.92718427e-02, -2.09426917e-02, ...,\n",
      "         -2.12362564e+02, -1.73786133e+02, -1.42902847e+02],\n",
      "        [ 0.00000000e+00,  0.00000000e+00,  0.00000000e+00, ...,\n",
      "          0.00000000e+00,  0.00000000e+00,  0.00000000e+00]],\n",
      "\n",
      "       [[ 1.12429368e+00,  4.82944876e-01,  2.20606372e-01, ...,\n",
      "          1.14223137e-01,  1.10921606e-01,  5.81830442e-02],\n",
      "        [ 3.60164851e-01,  3.17404479e-01,  2.65048265e-01, ...,\n",
      "          2.32866377e-01,  2.41050974e-01,  2.66321838e-01],\n",
      "        [ 3.01882535e-01,  3.00637335e-01,  2.94406593e-01, ...,\n",
      "          4.68886971e-01,  4.95148510e-01,  5.05160451e-01],\n",
      "        ...,\n",
      "        [-1.19298033e-01, -9.08561721e-02, -5.67149781e-02, ...,\n",
      "         -1.44175498e-03, -1.38602778e-03, -1.35813933e-03],\n",
      "        [-5.05215935e-02, -3.92768197e-02, -2.09454168e-02, ...,\n",
      "         -7.68203929e-04, -7.39234267e-04, -7.33868219e-04],\n",
      "        [ 0.00000000e+00,  0.00000000e+00,  0.00000000e+00, ...,\n",
      "          0.00000000e+00,  0.00000000e+00,  0.00000000e+00]]],\n",
      "      dtype=float32)]\n"
     ]
    }
   ],
   "source": [
    "frf = budgobj.get_data(text='flow right face', totim=1.0)\n",
    "fff = budgobj.get_data(text='flow front face', totim=1.0)\n",
    "\n",
    "print(\"Flow through Right Face of Grid Cells m^3/d \\n\", frf,\n",
    "     \"\\n Flow through Front Face of Grid Cells m^3/d \\n\", fff)"
   ]
  },
  {
   "cell_type": "markdown",
   "metadata": {
    "colab_type": "text",
    "id": "88VU5HnG-ts2"
   },
   "source": [
    "Here, it is good to check if results seem reasonable; for this steady-state model, it makes sense that  we see a constant value in the \"Flow Right Face\" output array as the higher head on the left side of the model induces flow from left to right. The \"Flow Front Face\" array, has very small positive and negative values in it, suggesting that there are potential numerical oscillations in our solution. However, these fluctuations are so small that the output may still be appropriate depending on the application/precision we are looking for. \n",
    "\n",
    "It is good to look for numerical nuances in modeling practice, but the data is much easier to visualize by plotting with flopy's plotting cababilities. "
   ]
  },
  {
   "cell_type": "markdown",
   "metadata": {
    "colab_type": "text",
    "id": "_njupWDf-ts3"
   },
   "source": [
    " <a name=\"X\"></a> \n",
    "## X. Plotting"
   ]
  },
  {
   "cell_type": "code",
   "execution_count": 45,
   "metadata": {
    "colab": {},
    "colab_type": "code",
    "id": "O3iu7UM_-ts4"
   },
   "outputs": [
    {
     "data": {
      "image/png": "[encoded data removed]",
      "text/plain": [
       "<Figure size 720x720 with 2 Axes>"
      ]
     },
     "metadata": {
      "needs_background": "light"
     },
     "output_type": "display_data"
    }
   ],
   "source": [
    "#plot results\n",
    "plt.figure(figsize=(10,10)) #create 10 x 10 figure\n",
    "modelmap = flopy.plot.map.PlotMapView(model=m, layer=8) #use modelmap to attach plot to model\n",
    "#grid = modelmap.plot_grid() #plot model grid\n",
    "riv_plot = modelmap.plot_bc(ftype='RIV')\n",
    "\n",
    "contour_levels = np.linspace(head[8].min(),head[8].max(),11) #set contour levels for contouring head\n",
    "head_contours = modelmap.contour_array(head, levels=contour_levels) #create head contours\n",
    "#flows = modelmap.plot_discharge(frf[0], fff[0], head=head) #create discharge arrows\n",
    "\n",
    "#display parameters\n",
    "plt.xlabel('Lx (m)',fontsize = 14)\n",
    "plt.ylabel('Ly (m)',fontsize = 14)\n",
    "plt.title('Steady-State Model, Flow(m^3/d) and Head(m) Results', fontsize = 15, fontweight = 'bold')\n",
    "plt.colorbar(head_contours,aspect=5)\n",
    "plt.show(modelmap)"
   ]
  },
  {
   "cell_type": "markdown",
   "metadata": {
    "colab_type": "text",
    "id": "-ShG7QiT-ts7"
   },
   "source": [
    "### 3D Surface Plot \n",
    "\n",
    "<strong> Note: </strong> This is not part of flopy's plotting, and uses a matplotlib function from a 3d projection toolkit. Flopy takes cell indexing where the top left of the grid is the (0,0) cell index while the Length & Width units start at 0 in the lower left of the grid. This seems a little wierd, but it makes it easy to match up an array of cell by cell numbers to their respective locations on the grid when assigning properties or observing output data. Flopy's plotting functions automatically flip the resultant head data to display on its proper grid, however, for the 3d plots below, you'll see the function np.flipud() is used to flip the data array to plot in the same direction."
   ]
  },
  {
   "cell_type": "code",
   "execution_count": 46,
   "metadata": {
    "colab": {},
    "colab_type": "code",
    "id": "JtuQ2kTL-ts7",
    "scrolled": true
   },
   "outputs": [
    {
     "name": "stderr",
     "output_type": "stream",
     "text": [
      "C:\\Users\\Owner\\AppData\\Local\\Temp/ipykernel_3288/2748869716.py:6: MatplotlibDeprecationWarning: Calling gca() with keyword arguments was deprecated in Matplotlib 3.4. Starting two minor releases later, gca() will take no keyword arguments. The gca() function should only be used to get the current axes, or if no axes exist, create new axes with default keyword arguments. To create a new axes with non-default arguments, use plt.axes() or plt.subplot().\n",
      "  ax = fig_3d.gca(projection='3d')\n"
     ]
    },
    {
     "data": {
      "image/png": "[encoded data removed]",
      "text/plain": [
       "<Figure size 864x360 with 2 Axes>"
      ]
     },
     "metadata": {
      "needs_background": "light"
     },
     "output_type": "display_data"
    }
   ],
   "source": [
    "#import 3d axes toolkit from matplotlib\n",
    "from mpl_toolkits.mplot3d import Axes3D\n",
    "\n",
    "#create 3d figure\n",
    "fig_3d = plt.figure(figsize=(12,5))\n",
    "ax = fig_3d.gca(projection='3d')\n",
    "\n",
    "#set X, Y, Z variables for 3d plot to be our model domain and head solution\n",
    "X = np.arange(0,Lx,dx)\n",
    "Y = np.arange(0,Ly,dy)\n",
    "X, Y = np.meshgrid(X, Y)\n",
    "Z = np.flipud(head[8])\n",
    "\n",
    "#create surface and labels\n",
    "surf = ax.plot_surface(X,Y,Z, cmap = 'viridis', linewidth=0, label='head')\n",
    "fig_3d.colorbar(surf,shrink=0.5,aspect=5).set_label('Head (m)',fontsize=10,fontweight='bold')\n",
    "ax.set_xlabel('Lx (m)', fontsize=15, fontweight='bold')\n",
    "ax.set_ylabel('Ly (m)', fontsize=15, fontweight='bold')\n",
    "ax.set_title('Steady-State Model Head Profile', fontsize=15, fontweight='bold')\n",
    "plt.show(surf)"
   ]
  },
  {
   "cell_type": "markdown",
   "metadata": {},
   "source": [
    " <a name=\"XI\"></a> \n",
    " ## XI. Calibration\n",
    "\n",
    "Now let's import observed heads into a dataframe and compare to observed heads."
   ]
  },
  {
   "cell_type": "code",
   "execution_count": 47,
   "metadata": {},
   "outputs": [
    {
     "name": "stdout",
     "output_type": "stream",
     "text": [
      "Mean Error is 2.747227044753086 feet\n",
      "Absolute Mean Error is 14.354819968894676 feet\n"
     ]
    },
    {
     "data": {
      "image/png": "[encoded data removed]",
      "text/plain": [
       "<Figure size 360x360 with 1 Axes>"
      ]
     },
     "metadata": {
      "needs_background": "light"
     },
     "output_type": "display_data"
    }
   ],
   "source": [
    "# read ob heads\n",
    "calheads = pd.read_csv('obheads.csv')\n",
    "# convert row, column, layer into Python indexing\n",
    "calheads['row'] = calheads['row']-1\n",
    "calheads['column'] = calheads['column']-1\n",
    "calheads['layer'] = calheads['layer']-1\n",
    "#create an empty list to append simulated heads \n",
    "simheads = []\n",
    "# iterate over the observed heads, pull the corresponding simulated head\n",
    "for index, values in calheads.iterrows():\n",
    "    simheads.append(head[values['layer'],values['row'],values['column']])\n",
    "# add simulated heads to the dataframe              \n",
    "calheads['sim'] = pd.Series(simheads)\n",
    "#print(calheads)\n",
    "\n",
    "#here we can investigate different layers\n",
    "calheads = calheads[calheads['layer'] >=2]\n",
    "\n",
    "# plot simulated vs observed heads\n",
    "f = plt.figure()\n",
    "f.set_figwidth(5)\n",
    "f.set_figheight(5)\n",
    "plt.scatter(calheads['obhead'],calheads['sim'])\n",
    "plt.grid(color='gray', linestyle='--', linewidth=0.5)\n",
    "plt.xlim(700, 1000)\n",
    "plt.ylim(700, 1000)\n",
    "plt.xlabel('Observed Head (ft)')\n",
    "plt.ylabel('Simulated Head (ft)')\n",
    "plt.title('Calibration')\n",
    "\n",
    "# calculate some basic statistics\n",
    "\n",
    "# 1. Mean Error\n",
    "calheads['ME'] = calheads['obhead']-calheads['sim']\n",
    "print('Mean Error is ' + str(calheads['ME'].mean()) + ' feet')\n",
    "\n",
    "# 2. Absolute Mean Error\n",
    "calheads['AME'] = calheads['ME'].abs()\n",
    "print('Absolute Mean Error is ' + str(calheads['AME'].mean())+ ' feet')\n"
   ]
  },
  {
   "cell_type": "markdown",
   "metadata": {},
   "source": [
    "## Calibration results\n",
    "\n",
    "It is important to keep track of changes you have made and how those changes impacted calibration.\n",
    "\n",
    "-initial ME=7.79, AME=15.47\n",
    "-3 Layers ME=6.22, AME=14.97\n",
    "-4 Layers ME=4.65, AME=14.06\n",
    "\n",
    "Slow recharge=.0005 ME=3.6, AME=14.27 Probably shifting head above 1-1 line\n",
    "Slow recharge=.00005ME=6.6, AME=15.12 Probably shifting large head above 1-1 line, walking\n",
    "\n",
    "Fast recharge=.0005 ME=-23, AME=27.6 Probably shifting head above 1-1 line, walking\n",
    "Fast recharge = .0008 ME=5.7, AME=14.2\n",
    "Fast recharge = .0005 ME=9.2, AME=14.7\n",
    "\n",
    "Horiz conduct x*.5 ME=-3.5, AME=15.9  walking\n",
    "Horiz conduct x*2 ME=-11.5, AME=16.5  walking, far above 1-1\n",
    "\n",
    "Vert cond=0.5*z ME=-2.7, AME=14.3\n",
    "Vert cond=0.25*z ME=-1.9, AME=14.5  above 1-1 line\n",
    "\n"
   ]
  },
  {
   "cell_type": "code",
   "execution_count": 48,
   "metadata": {},
   "outputs": [
    {
     "ename": "NameError",
     "evalue": "name 'end' is not defined",
     "output_type": "error",
     "traceback": [
      "\u001b[1;31m---------------------------------------------------------------------------\u001b[0m",
      "\u001b[1;31mNameError\u001b[0m                                 Traceback (most recent call last)",
      "\u001b[1;32m~\\AppData\\Local\\Temp/ipykernel_3288/2685661624.py\u001b[0m in \u001b[0;36m<module>\u001b[1;34m\u001b[0m\n\u001b[1;32m----> 1\u001b[1;33m \u001b[0mend\u001b[0m\u001b[1;33m\u001b[0m\u001b[1;33m\u001b[0m\u001b[0m\n\u001b[0m",
      "\u001b[1;31mNameError\u001b[0m: name 'end' is not defined"
     ]
    }
   ],
   "source": [
    "end"
   ]
  },
  {
   "cell_type": "markdown",
   "metadata": {},
   "source": [
    " <a name=\"XII\"></a> \n",
    " ## XII. MT3DMS\n",
    " \n",
    "In the following code block, we develop run the solute transport modeling code MT3DMS (https://hydro.geo.ua.edu/mt3d/mt3dms2.htm). The packages are discussed in the FloPy documentation here: https://flopy.readthedocs.io/en/3.3.5/code.html. Let's walk through the process of building MT3DMS step-by-step."
   ]
  },
  {
   "cell_type": "markdown",
   "metadata": {},
   "source": [
    "First, Let's assign a name for our solute transport model and associated packages. Often, this is the same name as the MODFLOW model, but with *_mt* added at the end"
   ]
  },
  {
   "cell_type": "code",
   "execution_count": null,
   "metadata": {},
   "outputs": [],
   "source": [
    "modelname = \"my_model_mt\""
   ]
  },
  {
   "cell_type": "markdown",
   "metadata": {},
   "source": [
    "Next, let's create something that represents our MT3DMS model. In the following code, we assign the name of our MT3DMS model, the executable that we are going to use (it is located in the directory of this ipynb file on GitHub and should be automatically recognized by the code), and the name of the MODFLOW file that will serve the base of this solute transport solution. MT3DMS will actually take the flow simulation from MODFLOW and allow the addition/reaction of contaminants."
   ]
  },
  {
   "cell_type": "code",
   "execution_count": null,
   "metadata": {},
   "outputs": [],
   "source": [
    "mt = flopy.mt3d.Mt3dms(modelname=modelname,exe_name='MT3DMS',modflowmodel=m)\n"
   ]
  },
  {
   "cell_type": "markdown",
   "metadata": {},
   "source": [
    "Before moving on, let's do a quick exploration of what kind of file mt is (take a moment to run the code cell below). This is.... a *flopy.mt3d.mt.Mt3dms* data type? We haven't talked about this before, but we are actually now working with object oriented coding. Technically, the above code is not a function, but instead a class definition. When we run the code, we create an instance of this class (I call these instances \"objects\"). More details on this can be found at: https://docs.python.org/3/tutorial/classes.html. For this project, we don't need to concern ourselves with the precise definitions, but I did want to just give you a brief overview because this is so different than what we worked with earlier in the semester."
   ]
  },
  {
   "cell_type": "code",
   "execution_count": null,
   "metadata": {},
   "outputs": [],
   "source": [
    "type(mt)"
   ]
  },
  {
   "cell_type": "markdown",
   "metadata": {},
   "source": [
    "Now, it's time to create another object. This time, we are going to use the Block Transport package class (https://flopy.readthedocs.io/en/3.3.5/source/flopy.mt3d.mtbtn.html). This code defines both model properties and time discretization for the flow solution. In the following code block, we assign the model as *mt*, which is the MT3DMS object that we defined above. We are then adding details by assigning a porosity of 0.3 (this is a value that you may consider changing during calibration). *perlen* defines how long the simulation runs. In our case, we are running from 1950 to 2020, so for 70 years. This is because national road salt applications were estimated to begin in 1950 and are still applied through today. You may consider adjusting the start date of the simulation during your calibration process, although think about whether this is realistic and why you might need to do this. *timeprs* defines which times will be printed (this saves on memory to ensure that the simulated results are not saved for every time step. *dt0* defines the length of time that the simulation will run in the first MT3D time step. *ttsmult* defines a multiplier applied to a time step, and *ttsmax* defines the maximum value of your time step. Feel free to explore how different values change your solution, but be careful, adding too many stress periods can create long run-times.  "
   ]
  },
  {
   "cell_type": "code",
   "execution_count": null,
   "metadata": {},
   "outputs": [],
   "source": [
    "# reminder, all time units in the model must be in days\n",
    "btn = flopy.mt3d.Mt3dBtn(\n",
    "    model=mt,\n",
    "    prsity=0.3,\n",
    "    perlen=70*365, # simulation runs for 70 years\n",
    "    timprs=[10 * 365, 20*365, 30*365, 40*365, 50 * 365, 60*365, 70 * 365], # times that will be printed in 10 year intervals\n",
    "    dt0=365, # the first MTD time step will run for 365 days\n",
    "    ttsmult=1, # often a multipler is applied to each time step; we are not going to do that here, meaning that each time step will be for 365 days\n",
    "    ttsmax=365, # if we applied a multipler, this would set the max value of a time step\n",
    ")"
   ]
  },
  {
   "cell_type": "markdown",
   "metadata": {},
   "source": [
    "Next, we are going to create advection and dispersion objects. I am settling for defaults on these with one exception; I set *mixelm* to 0, which just changes the solution approach (this allows for a smoother, more rapid solution in our example). "
   ]
  },
  {
   "cell_type": "code",
   "execution_count": null,
   "metadata": {},
   "outputs": [],
   "source": [
    "adv = flopy.mt3d.Mt3dAdv(mt,mixelm=0)\n",
    "dsp = flopy.mt3d.Mt3dDsp(mt)"
   ]
  },
  {
   "cell_type": "markdown",
   "metadata": {},
   "source": [
    "How are we going to add chloride into our model? For this, we need to define the \"source and sink mixing class\". Most importantly, this is how we are going to add chloride input into our model via recharge. You are going to experiment with this, but briefly, \"crch\" requires an array of chloride concentrations in recharge. Here we assign a ubiquitous 100 mg/L. Your task will be to add something more realistic based on road networks.  "
   ]
  },
  {
   "cell_type": "code",
   "execution_count": null,
   "metadata": {},
   "outputs": [],
   "source": [
    "crch1 = 100*np.ones((nrow, ncol), dtype=float) # concentration in the recharge\n",
    "ssm = flopy.mt3d.Mt3dSsm(mt, crch=crch1)"
   ]
  },
  {
   "cell_type": "markdown",
   "metadata": {},
   "source": [
    "The rest of this code defines the solver settings with GCG package (let's use defaults), writes the model runs, runs those files, and saves the chloride as an object from the binary \"ucn\" package. From this object, we can extract the times and concentration arrays associated with this data."
   ]
  },
  {
   "cell_type": "code",
   "execution_count": null,
   "metadata": {
    "scrolled": true
   },
   "outputs": [],
   "source": [
    "\n",
    "gcg = flopy.mt3d.Mt3dGcg(mt)\n",
    "mt.write_input()\n",
    "mt.run_model()\n",
    "fname = \"MT3D001.UCN\"\n",
    "ucnobj = flopy.utils.UcnFile(fname)\n",
    "times = ucnobj.get_times()\n",
    "conc = ucnobj.get_alldata()\n"
   ]
  },
  {
   "cell_type": "markdown",
   "metadata": {},
   "source": [
    "Our concentration data is a 4D array. The first array is the time dimension and has seven entries for the example problem (this may change as your code evolves). The entries are the times that are specified when defining the btn class. The remaining entries are layer, row, and column, respectively."
   ]
  },
  {
   "cell_type": "code",
   "execution_count": null,
   "metadata": {},
   "outputs": [],
   "source": [
    "times"
   ]
  },
  {
   "cell_type": "code",
   "execution_count": null,
   "metadata": {},
   "outputs": [],
   "source": [
    "#start of simulation, 10 years, 50 years, 70 year\n",
    "np.shape(conc)"
   ]
  },
  {
   "cell_type": "markdown",
   "metadata": {},
   "source": [
    "Finally, we plot the chloride for the specified time and layer. In the below example, we plot \"conc[3,8,:,:]\", which is the concentration at 40 years, in Layer 9 (8 with Python indexing) which represents the basal sands overlying the bedrock, all rows and columns."
   ]
  },
  {
   "cell_type": "code",
   "execution_count": null,
   "metadata": {},
   "outputs": [],
   "source": [
    "t_map = 3\n",
    "plt.figure()\n",
    "sns.heatmap(conc[t_map,8,:,:], cmap = 'Reds')\n",
    "plt.xlabel(\"DISTANCE ALONG X-AXIS, IN FEET\")\n",
    "plt.ylabel(\"DISTANCE ALONG Y-AXIS, IN FEET\")\n",
    "plt.title(str(int(times[t_map]/365))+ \" years, Glasford aquifer\")\n"
   ]
  },
  {
   "cell_type": "code",
   "execution_count": null,
   "metadata": {},
   "outputs": [],
   "source": []
  }
 ],
 "metadata": {
  "colab": {
   "name": "Flopy Tutorial 1- Steady-State, Confined Aquifer.ipynb",
   "provenance": [],
   "toc_visible": true
  },
  "kernelspec": {
   "display_name": "Python 3 (ipykernel)",
   "language": "python",
   "name": "python3"
  },
  "language_info": {
   "codemirror_mode": {
    "name": "ipython",
    "version": 3
   },
   "file_extension": ".py",
   "mimetype": "text/x-python",
   "name": "python",
   "nbconvert_exporter": "python",
   "pygments_lexer": "ipython3",
   "version": "3.9.7"
  }
 },
 "nbformat": 4,
 "nbformat_minor": 1
}
